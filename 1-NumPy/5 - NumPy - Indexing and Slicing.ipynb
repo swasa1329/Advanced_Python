{
 "cells": [
  {
   "cell_type": "markdown",
   "id": "d509d739",
   "metadata": {},
   "source": [
    "###### NumPy Indexing and Slicing"
   ]
  },
  {
   "cell_type": "code",
   "execution_count": null,
   "id": "39cbb97e",
   "metadata": {},
   "outputs": [],
   "source": [
    "To access and modify the contents of ndarray object in Numpy Library indexing or slicing \n",
    "can be done just like the Python's in-built container object.\n",
    "\n",
    "Note:- Items in the ndarray object always follow zero-based index."
   ]
  },
  {
   "cell_type": "markdown",
   "id": "3518753d",
   "metadata": {},
   "source": [
    "###### Numpy Array Indexing :-"
   ]
  },
  {
   "cell_type": "code",
   "execution_count": null,
   "id": "08c1d1a4",
   "metadata": {},
   "outputs": [],
   "source": [
    "In NumPy, each element in an array is associated with a number. \n",
    "\n",
    "The number is known as an array index."
   ]
  },
  {
   "attachments": {
    "image.png": {
     "image/png": "[encoded data removed]"
    }
   },
   "cell_type": "markdown",
   "id": "651f0e53",
   "metadata": {},
   "source": [
    "![image.png](attachment:image.png)"
   ]
  },
  {
   "cell_type": "code",
   "execution_count": null,
   "id": "53c577d1",
   "metadata": {},
   "outputs": [],
   "source": [
    "In the above array, 5 is the 3rd element. However, its index is 2.\n",
    "\n",
    "This is because the array indexing starts from 0, \n",
    "that is, the first element of the array has index 0, \n",
    "the second element has index 1, and so on."
   ]
  },
  {
   "cell_type": "markdown",
   "id": "b1de6cb4",
   "metadata": {},
   "source": [
    "###### Access Array Elements Using Index :-"
   ]
  },
  {
   "cell_type": "code",
   "execution_count": null,
   "id": "6ecf8225",
   "metadata": {},
   "outputs": [],
   "source": [
    "We can use indices to access individual elements of a NumPy array.\n",
    "\n",
    "Suppose we have a NumPy array:\n",
    "\n",
    "array1 = np.array([1, 3, 5, 7, 9])\n",
    "\n",
    "Now, we can use the index number to access array elements as:\n",
    "\n",
    "array1[0] - to access the first element, i.e. 1\n",
    "array1[2] - to access the third element, i.e. 5\n",
    "array1[4] - to access the fifth element, i.e. 9"
   ]
  },
  {
   "cell_type": "code",
   "execution_count": null,
   "id": "e61a6340",
   "metadata": {},
   "outputs": [],
   "source": [
    "# Example: Access Array Elements Using Index\n",
    "    \n",
    "import numpy as np\n",
    "\n",
    "array1 = np.array([1, 3, 5, 7, 9])\n",
    "\n",
    "# access numpy elements using index\n",
    "\n",
    "print(array1[0])    # prints 1\n",
    "print(array1[2])    # prints 5\n",
    "print(array1[4])    # prints 9"
   ]
  },
  {
   "cell_type": "code",
   "execution_count": null,
   "id": "91b6cf1d",
   "metadata": {},
   "outputs": [],
   "source": [
    "Note: \n",
    "----    \n",
    "Since the last element of array1 is at index 4, \n",
    "if we try to access the element beyond that, say index 5,\n",
    "        \n",
    "we will get an index error: IndexError: index 5 is out of bounds for axis 0 with size 5"
   ]
  },
  {
   "cell_type": "markdown",
   "id": "ef7dae6e",
   "metadata": {},
   "source": [
    "###### Modify Array Elements Using Index :-"
   ]
  },
  {
   "cell_type": "code",
   "execution_count": 6,
   "id": "922b80ff",
   "metadata": {
    "collapsed": true
   },
   "outputs": [
    {
     "name": "stdout",
     "output_type": "stream",
     "text": [
      "After modifying first element: [12  4  6  8 10]\n",
      "\n",
      "After modifying third element: [12  4 14  8 10]\n"
     ]
    }
   ],
   "source": [
    "# We can use indices to change the value of an element in a NumPy array. \n",
    "\n",
    "# Example,\n",
    "\n",
    "import numpy as np\n",
    "\n",
    "# create a numpy array\n",
    "\n",
    "n = np.array([2, 4, 6, 8, 10])\n",
    "\n",
    "# change the value of the first element\n",
    "\n",
    "n[0] = 12\n",
    "\n",
    "print(\"After modifying first element:\",n)    # prints [12 4 6 8 10]\n",
    "\n",
    "print()\n",
    "\n",
    "# change the value of the third element\n",
    "\n",
    "n[2] = 14\n",
    "\n",
    "print(\"After modifying third element:\",n)    # prints [12 4 14 8 10]\n",
    "\n",
    "# In the above example, we have modified elements of the numbers array using array indexing.\n",
    "\n",
    "# n[0] = 12 - modifies the first element of numbers and sets its value to 12\n",
    "\n",
    "# n[2] = 14 - modifies the third element of numbers and sets its value to 14"
   ]
  },
  {
   "cell_type": "markdown",
   "id": "69b96323",
   "metadata": {},
   "source": [
    "###### NumPy Negative Array Indexing :-"
   ]
  },
  {
   "cell_type": "code",
   "execution_count": null,
   "id": "a4c54340",
   "metadata": {},
   "outputs": [],
   "source": [
    "NumPy allows negative indexing for its array. \n",
    "\n",
    "The index of -1 refers to the last item, -2 to the second last item and so on."
   ]
  },
  {
   "attachments": {
    "image.png": {
     "image/png": "[encoded data removed]"
    }
   },
   "cell_type": "markdown",
   "id": "910d6f2c",
   "metadata": {},
   "source": [
    "![image.png](attachment:image.png)"
   ]
  },
  {
   "cell_type": "code",
   "execution_count": 11,
   "id": "d80b5bcf",
   "metadata": {
    "collapsed": true
   },
   "outputs": [
    {
     "name": "stdout",
     "output_type": "stream",
     "text": [
      "Negative Index :- 9\n",
      "\n",
      "Negative Index :- 7\n"
     ]
    }
   ],
   "source": [
    "import numpy as np\n",
    "\n",
    "# create a numpy array\n",
    "\n",
    "n1 = np.array([1, 3, 5, 7, 9])\n",
    "\n",
    "# access the last element\n",
    "\n",
    "print(\"Negative Index :-\", n1[-1])    # prints 9\n",
    "\n",
    "print()\n",
    "\n",
    "# access the second-to-last element\n",
    "\n",
    "print(\"Negative Index :-\", n1[-2])    # prints 7"
   ]
  },
  {
   "cell_type": "markdown",
   "id": "0898e94e",
   "metadata": {},
   "source": [
    "###### Modify Array Elements Using Negative Indexing :-"
   ]
  },
  {
   "cell_type": "code",
   "execution_count": 14,
   "id": "b0b0e6c3",
   "metadata": {},
   "outputs": [
    {
     "name": "stdout",
     "output_type": "stream",
     "text": [
      "[ 2  3  5  7 13]\n",
      "\n",
      "[ 2  3  5  7 13]\n"
     ]
    }
   ],
   "source": [
    "# Similar to regular indexing, we can also modify array elements using negative indexing. For example,\n",
    "\n",
    "import numpy as np\n",
    "\n",
    "# create a numpy array\n",
    "\n",
    "n2= np.array([2, 3, 5, 7, 11])\n",
    "\n",
    "# modify the last element\n",
    "\n",
    "n2[-1] = 13\n",
    "\n",
    "print(n2)    # Output: [2 3 5 7 13]\n",
    "\n",
    "# modify the second-to-last element\n",
    "\n",
    "print()\n",
    "\n",
    "numbers[-2] = 17\n",
    "\n",
    "print(n2)    # Output: [2 3 5 17 13]\n",
    "\n",
    "# Here, numbers[-1] = 13 modifies the last element to 13 and\n",
    "# numbers[-2] = 17 modifies the second-to-last element to 17."
   ]
  },
  {
   "cell_type": "code",
   "execution_count": null,
   "id": "a6230ddd",
   "metadata": {},
   "outputs": [],
   "source": [
    "Note: Unlike regular indexing, negative indexing starts from -1 (not 0) and\n",
    "      it starts counting from the end of the array."
   ]
  },
  {
   "cell_type": "markdown",
   "id": "ec99630c",
   "metadata": {},
   "source": [
    "###### Indexing with 1D Array's"
   ]
  },
  {
   "cell_type": "code",
   "execution_count": null,
   "id": "c737fd53",
   "metadata": {},
   "outputs": [],
   "source": [
    "import numpy as np\n",
    "x1=np.arange(1,16)\n",
    "print(x1)\n",
    "\n",
    "# We can retrieve any element by passing the index number. Just like Python's lists, NumPy's arrays are zero-indexed. \n",
    "# For instance, to find the element at the second index (3rd position) of the array, we can use the following syntax:\n",
    "\n",
    "print(x1[3])\n",
    "\n",
    "\n",
    "# We can also print a range of numbers using indexing. \n",
    "# To get the range, we need to pass the start index and one less than the end index, \n",
    "# separated by a colon, inside the square brackets that follow the array name. \n",
    "# For example, to get the elements from the first to seventh index, we can use the following syntax:\n",
    "\n",
    "print(x1[1:9])"
   ]
  },
  {
   "cell_type": "markdown",
   "id": "82c5ad8c",
   "metadata": {},
   "source": [
    "###### 2-D NumPy Array Indexing :-"
   ]
  },
  {
   "cell_type": "code",
   "execution_count": null,
   "id": "45e491fa",
   "metadata": {},
   "outputs": [],
   "source": [
    "Array indexing in NumPy allows us to access and manipulate elements in a 2-D array.\n",
    "\n",
    "To access an element of array1, we need to specify the row index and column index of the element.\n",
    "\n",
    "Suppose we have following 2-D array,\n",
    "\n",
    "array1 = np.array([[1, 3, 5], \n",
    "                   [7, 9, 2], \n",
    "                   [4, 6, 8]])\n",
    "\n",
    "Now, say we want to access the element in the third row and second column we specify the index as:\n",
    "\n",
    "array1[2, 1] # returns 6\n",
    "\n",
    "Since we know indexing starts from 0. So to access the element in the third row and second column,\n",
    "we need to use index 2 for the third row and index 1 for the second column respectively."
   ]
  },
  {
   "cell_type": "code",
   "execution_count": 16,
   "id": "6971c77f",
   "metadata": {},
   "outputs": [
    {
     "name": "stdout",
     "output_type": "stream",
     "text": [
      "Element of third row and second column :- 6\n"
     ]
    }
   ],
   "source": [
    "a1 = np.array([[1, 3, 5], \n",
    "               [7, 9, 2], \n",
    "               [4, 6, 8]])\n",
    "\n",
    "print(\"Element of third row and second column :-\", a1[2,1])"
   ]
  },
  {
   "cell_type": "code",
   "execution_count": 20,
   "id": "7dce6733",
   "metadata": {},
   "outputs": [
    {
     "name": "stdout",
     "output_type": "stream",
     "text": [
      "4th Element at 2nd Row: 15\n",
      "\n",
      "2nd Element at First Row: 3\n"
     ]
    }
   ],
   "source": [
    "# Example: 2-D NumPy Array Indexing\n",
    "    \n",
    "import numpy as np\n",
    "\n",
    "# create a 2D array \n",
    "\n",
    "a1 = np.array([[1, 3, 5, 7], \n",
    "                   [9, 11, 13, 15],\n",
    "                   [2, 4, 6, 8]])\n",
    "\n",
    "\n",
    "# access the element at the second row and fourth column\n",
    "\n",
    "e1 = a1[1, 3]  # returns 15\n",
    "\n",
    "print(\"4th Element at 2nd Row:\",e1)  \n",
    "\n",
    "print()\n",
    "# access the element at the first row and second column\n",
    "\n",
    "e2 = a1[0, 1]  # returns 3\n",
    "\n",
    "print(\"2nd Element at First Row:\",e2)  "
   ]
  },
  {
   "cell_type": "code",
   "execution_count": 22,
   "id": "0f8ec1b9",
   "metadata": {},
   "outputs": [
    {
     "name": "stdout",
     "output_type": "stream",
     "text": [
      "Second Row: [7 9 2]\n",
      "\n",
      "Third Column: [5 2 8]\n"
     ]
    }
   ],
   "source": [
    "# Access Row or Column of 2D Array Using Indexing\n",
    "# In NumPy, we can access specific rows or columns of a 2-D array using array indexing.\n",
    "\n",
    "# Example.\n",
    "\n",
    "import numpy as np\n",
    "\n",
    "# create a 2D array \n",
    "\n",
    "a1 = np.array([[1, 3, 5], \n",
    "                  [7, 9, 2], \n",
    "                  [4, 6, 8]])\n",
    "\n",
    "# access the second row of the array\n",
    "\n",
    "second_row = a1[1, :]\n",
    "\n",
    "print(\"Second Row:\", second_row)  # Output: [7 9 2]\n",
    "\n",
    "print()\n",
    "\n",
    "# access the third column of the array\n",
    "\n",
    "third_col = a1[:, 2]\n",
    "\n",
    "print(\"Third Column:\", third_col)  # Output: [5 2 8]"
   ]
  },
  {
   "cell_type": "code",
   "execution_count": null,
   "id": "d199b24d",
   "metadata": {},
   "outputs": [],
   "source": [
    "# Indexing a two-dimensional NumPy array is very similar to indexing a matrix. \n",
    "\n",
    "x2=np.array([[1,2,3],[5,6,7],[8,9,10]])\n",
    "\n",
    "print(\"2D Array Values:- \\n\", x2)\n",
    "\n",
    "# Like 1-D arrays, NumPy arrays with two dimensions also follow the zero-based index, \n",
    "# that is, in order to access the elements in the first row, we have to specify 0 as the row index. \n",
    "# Similarly to access elements in the first column, we need to specify 0 for the column index as well.\n",
    "\n",
    "print(\"First row and First Column Value in the Array:- \\n\", x2[0,0])\n",
    "print(\"Third row and Third Column Value in the Array:- \\n\", x2[2,2])\n",
    "\n",
    "# we can extract the whole row by passing only the row index to the square brackets. \n",
    "# For instance, the following script returns the first row from the nums2d array:\n",
    "\n",
    "print()\n",
    "print(\"First row Values in the Array:- \\n\", x2[0])\n",
    "print(\"Third row Values in the Array:- \\n\", x2[2])"
   ]
  },
  {
   "cell_type": "code",
   "execution_count": 34,
   "id": "da91b837",
   "metadata": {
    "collapsed": true
   },
   "outputs": [
    {
     "name": "stdout",
     "output_type": "stream",
     "text": [
      "Array Elements:-\n",
      " \n",
      " [[ 1  2  3]\n",
      " [ 5  6  7]\n",
      " [ 8  9 10]]\n",
      "\n",
      "First Column from 2D array:- [1 5 8] \n",
      "\n",
      "Second Column from 2D array:- [2 6 9] \n",
      "\n",
      "Third Column from 2D array:- [ 3  7 10] \n",
      "\n",
      "First 2 rows from 2D array:-\n",
      " [[1 2 3]\n",
      " [5 6 7]] \n",
      "\n",
      "Third Column from 2D array:- \n",
      "  [[ 1  2  3]\n",
      " [ 5  6  7]\n",
      " [ 8  9 10]] \n",
      "\n",
      "Third Column from 2D array:- \n",
      "  [[1]] \n",
      "\n",
      "Third Column from 2D array:- \n",
      "  [[1 2]\n",
      " [5 6]] \n",
      "\n",
      "Third Column from 2D array:- \n",
      "  [[1 2 3]] \n",
      "\n",
      "Third Column from 2D array:- \n",
      "  [[1 2 3]\n",
      " [5 6 7]] \n",
      "\n",
      "Third Column from 2D array:- \n",
      "  [[1 2]\n",
      " [5 6]\n",
      " [8 9]]\n"
     ]
    }
   ],
   "source": [
    "# To retrieve the first column only, we can use the following syntax:\n",
    "\n",
    "import numpy as np\n",
    "\n",
    "x2=np.array([[1,2,3],[5,6,7],[8,9,10]])\n",
    "print(\"Array Elements:-\\n \\n\", x2)\n",
    "\n",
    "print()\n",
    "\n",
    "print(\"First Column from 2D array:-\",x2[:,0],\"\\n\")\n",
    "print(\"Second Column from 2D array:-\",x2[:,1],\"\\n\")\n",
    "print(\"Third Column from 2D array:-\",x2[:,2],\"\\n\")\n",
    "\n",
    "print(\"First 2 rows from 2D array:-\\n\", x2[:2],\"\\n\")\n",
    "print(\"Third Column from 2D array:- \\n \",x2[:,:],\"\\n\")\n",
    "print(\"Third Column from 2D array:- \\n \",x2[:1,:1],\"\\n\")\n",
    "print(\"Third Column from 2D array:- \\n \",x2[:2,:2],\"\\n\")\n",
    "print(\"Third Column from 2D array:- \\n \",x2[:1,],\"\\n\")\n",
    "print(\"Third Column from 2D array:- \\n \",x2[:2,],\"\\n\")\n",
    "print(\"Third Column from 2D array:- \\n \",x2[:,:2])"
   ]
  },
  {
   "cell_type": "code",
   "execution_count": 35,
   "id": "e8bb092b",
   "metadata": {
    "collapsed": true
   },
   "outputs": [
    {
     "name": "stdout",
     "output_type": "stream",
     "text": [
      "Array Elements:- [[1 2 3 4]\n",
      " [3 4 5 6]]\n",
      "\n",
      "[3 5]\n"
     ]
    }
   ],
   "source": [
    "# Here, the array(1,2,3,4) is your index 0 and (3,4,5,6) is index 1 of the python numpy array. \n",
    "# Therefore, we have printed the second element from the zeroth index.\n",
    "# Taking one step forward, let’s say we need the 2nd element from the zeroth and first index of the array.\n",
    "# Let’s see how you can perform this operation:\n",
    "\n",
    "# Here colon represents all the rows, including zero. Now to get the 2nd element, \n",
    "# we’ll call index 2 from both of the rows which gives us the value 3 and 5 respectively.\n",
    "\n",
    "import numpy as np\n",
    "\n",
    "a=np.array([(1,2,3,4),(3,4,5,6)])\n",
    "\n",
    "print(\"Array Elements:-\", a)\n",
    "\n",
    "print()\n",
    "\n",
    "print(a[0:,2])"
   ]
  },
  {
   "cell_type": "code",
   "execution_count": 39,
   "id": "5957619d",
   "metadata": {
    "collapsed": true
   },
   "outputs": [
    {
     "name": "stdout",
     "output_type": "stream",
     "text": [
      "Array Elements:- \n",
      "\n",
      " [[ 8  9]\n",
      " [10 11]\n",
      " [12 13]]\n",
      "\n",
      "the second index of the third row of an array:- [ 9 11]\n"
     ]
    }
   ],
   "source": [
    "# Next, just to remove the confusion, let’s say we have one more row and \n",
    "# we don’t want to get its 2nd element printed just as the image above.\n",
    "# What we can do in such case?\n",
    "\n",
    "# Consider the below code:\n",
    "\n",
    "import numpy as np\n",
    "\n",
    "a=np.array([(8,9),(10,11),(12,13)])\n",
    "\n",
    "print(\"Array Elements:- \\n\\n\", a)\n",
    "\n",
    "print()\n",
    "\n",
    "print(\"the second index of the third row of an array:-\", a[0:2,1])\n",
    "\n",
    "# As we can see in the above code, only 9 and 11 gets printed. Now when we have written 0:2, \n",
    "# this does not include the second index of the third row of an array.\n",
    "# Therefore, only 9 and 11 gets printed else you will get all the elements i.e [9 11 13]."
   ]
  },
  {
   "attachments": {
    "image.png": {
     "image/png": "[encoded data removed]"
    }
   },
   "cell_type": "markdown",
   "id": "7e805dda",
   "metadata": {},
   "source": [
    "![image.png](attachment:image.png)"
   ]
  },
  {
   "cell_type": "code",
   "execution_count": 44,
   "id": "02b380df",
   "metadata": {
    "collapsed": true
   },
   "outputs": [
    {
     "name": "stdout",
     "output_type": "stream",
     "text": [
      "Array Elements :-\n",
      " \n",
      " [[ 1  2  3]\n",
      " [ 5  6  7]\n",
      " [ 8  9 10]\n",
      " [11 12 13]]\n",
      "\n",
      "Display all rows & columns:-\n",
      " \n",
      " [[ 1  2  3]\n",
      " [ 5  6  7]\n",
      " [ 8  9 10]\n",
      " [11 12 13]]\n",
      "\n",
      "Display first row:- [[1 2 3]]\n",
      "\n",
      "Display first two rows:-\n",
      " [[1 2 3]\n",
      " [5 6 7]]\n",
      "\n",
      "Display three rows:-\n",
      " [[ 1  2  3]\n",
      " [ 5  6  7]\n",
      " [ 8  9 10]]\n",
      "\n",
      "Display second row:-\n",
      " [[1 2 3]\n",
      " [5 6 7]]\n",
      "\n",
      "Display second row:-\n",
      " [[5 6 7]]\n",
      "\n",
      "Display third row:-\n",
      " [[ 8  9 10]]\n",
      "\n",
      "Display fourth row:-\n",
      " [[11 12 13]]\n",
      "\n",
      "Display first column:-\n",
      " [[ 1]\n",
      " [ 5]\n",
      " [ 8]\n",
      " [11]]\n",
      "\n",
      "Display second column:-\n",
      " [[ 2]\n",
      " [ 6]\n",
      " [ 9]\n",
      " [12]]\n",
      "\n",
      "Display third column:-\n",
      " [[ 3]\n",
      " [ 7]\n",
      " [10]\n",
      " [13]]\n",
      "\n",
      "Display first two values of second & third column :-\n",
      " [[ 6  7]\n",
      " [ 9 10]]\n",
      "\n",
      "Display first 3 rows & 3 columns:-\n",
      " [[ 1  2  3]\n",
      " [ 5  6  7]\n",
      " [ 8  9 10]]\n",
      "\n",
      "Display second & third values of second row:-\n",
      " [[6 7]]\n"
     ]
    }
   ],
   "source": [
    "n=np.array([[1,2,3],[5,6,7],[8,9,10],[11,12,13]])\n",
    "\n",
    "print(\"Array Elements :-\\n \\n\",n)\n",
    "print()\n",
    "print(\"Display all rows & columns:-\\n \\n\", n[:,:]) # 1st : represent Row's and 2nd : Represents Column's\n",
    "print()\n",
    "print(\"Display first row:-\", n[:1,:])\n",
    "print()\n",
    "print(\"Display first two rows:-\\n\", n[:2,:])\n",
    "print()\n",
    "print(\"Display three rows:-\\n\", n[:3,:])\n",
    "print()\n",
    "print(\"Display second row:-\\n\", n[0:2,:])\n",
    "print()\n",
    "print(\"Display second row:-\\n\", n[1:2,:])\n",
    "print()\n",
    "print(\"Display third row:-\\n\", n[2:3,:])\n",
    "print()\n",
    "print(\"Display fourth row:-\\n\", n[3:4,:])\n",
    "print()\n",
    "print(\"Display first column:-\\n\", n[:,:1])\n",
    "print()\n",
    "print(\"Display second column:-\\n\",n[:,1:2])\n",
    "print()\n",
    "print(\"Display third column:-\\n\", n[:,2:3])\n",
    "print()\n",
    "print(\"Display first two values of second & third column :-\\n\", n[1:3,1:3])\n",
    "print()\n",
    "print(\"Display first 3 rows & 3 columns:-\\n\",n[:3,:3])\n",
    "print()\n",
    "print(\"Display second & third values of second row:-\\n\", n[1:2,1:3])"
   ]
  },
  {
   "cell_type": "code",
   "execution_count": 49,
   "id": "863c47b2",
   "metadata": {
    "collapsed": true
   },
   "outputs": [
    {
     "name": "stdout",
     "output_type": "stream",
     "text": [
      "Dimension of the array:- 2\n",
      "\n",
      "Shape of the array:- (3, 3)\n",
      "\n",
      "The required Row and Columns:- \n",
      " [[3 2 1]\n",
      " [6 5 4]\n",
      " [9 8 7]]\n",
      "\n",
      "The required 1st Row :- \n",
      " [[3 2 1]]\n",
      "\n",
      "The required 2nd Row :- \n",
      " [[6 5 4]]\n",
      "\n",
      "The required 3rd Row :- \n",
      " [[9 8 7]]\n",
      "\n",
      "The required 1st Column :- \n",
      " [[3]\n",
      " [6]\n",
      " [9]]\n",
      "\n",
      "The required 2nd Column :- \n",
      " [[2]\n",
      " [5]\n",
      " [8]]\n",
      "\n",
      "The required 3rd Column :- \n",
      " [[1]\n",
      " [4]\n",
      " [7]]\n"
     ]
    }
   ],
   "source": [
    "import numpy as np\n",
    "\n",
    "x1=np.array([[3,2,1],[6,5,4],[9,8,7]])\n",
    "\n",
    "print(\"Dimension of the array:-\", x1.ndim)\n",
    "print()\n",
    "\n",
    "print(\"Shape of the array:-\", x1.shape)\n",
    "print()\n",
    "\n",
    "print(\"The required Row and Columns:- \\n\", x1[:,:])\n",
    "print()\n",
    "print(\"The required 1st Row :- \\n\", x1[:1,:])\n",
    "print()\n",
    "print(\"The required 2nd Row :- \\n\", x1[1:2,:])\n",
    "print()\n",
    "print(\"The required 3rd Row :- \\n\", x1[2:,:])\n",
    "print()\n",
    "print(\"The required 1st Column :- \\n\", x1[:,:1])\n",
    "print()\n",
    "print(\"The required 2nd Column :- \\n\", x1[:,1:2])\n",
    "print()\n",
    "print(\"The required 3rd Column :- \\n\", x1[:,2:])"
   ]
  },
  {
   "cell_type": "code",
   "execution_count": 51,
   "id": "a57daa8e",
   "metadata": {
    "collapsed": true
   },
   "outputs": [
    {
     "name": "stdout",
     "output_type": "stream",
     "text": [
      "Full Matrix of n1:- \n",
      " [[ 1  2  3]\n",
      " [ 5  6  7]\n",
      " [ 8  9 10]\n",
      " [11 12 13]]\n",
      "\n",
      "Full Matrix of n1:- \n",
      " [[11 12 13]]\n",
      "\n",
      "Full Matrix of n1:- \n",
      " [[1 2 3]\n",
      " [5 6 7]]\n",
      "\n",
      "Full Matrix of n1:- \n",
      " [[1 2]\n",
      " [5 6]]\n",
      "\n",
      "Full Matrix of n1:- \n",
      " [[ 5  6  7]\n",
      " [ 8  9 10]]\n",
      "\n",
      "Full Matrix of n1:- \n",
      " [[ 8  9 10]\n",
      " [11 12 13]]\n",
      "\n",
      "Full Matrix of n1:- \n",
      " [[ 2  3]\n",
      " [ 6  7]\n",
      " [ 9 10]\n",
      " [12 13]]\n",
      "\n",
      "Full Matrix of n1:- \n",
      " [[ 6  7]\n",
      " [ 9 10]]\n",
      "\n",
      "Full Matrix of n1:- \n",
      " [[2 3]\n",
      " [6 7]]\n",
      "\n",
      "Full Matrix of n1:- \n",
      " [[ 9 10]\n",
      " [12 13]]\n"
     ]
    }
   ],
   "source": [
    "n1=np.array([[1,2,3],[5,6,7],[8,9,10],[11,12,13]])\n",
    "\n",
    "print(\"Full Matrix of n1:- \\n\", n1)\n",
    "print()\n",
    "print(\"Full Matrix of n1:- \\n\", n1[3:,:])\n",
    "print()\n",
    "print(\"Full Matrix of n1:- \\n\", n1[:2,:])\n",
    "print()\n",
    "print(\"Full Matrix of n1:- \\n\", n1[:2,:2])\n",
    "print()\n",
    "print(\"Full Matrix of n1:- \\n\", n1[1:3,:])\n",
    "print()\n",
    "print(\"Full Matrix of n1:- \\n\", n1[2:,:])\n",
    "print()\n",
    "print(\"Full Matrix of n1:- \\n\", n1[:,1:])\n",
    "print()\n",
    "print(\"Full Matrix of n1:- \\n\", n1[1:3,1:])\n",
    "print()\n",
    "print(\"Full Matrix of n1:- \\n\", n1[:2,1:])\n",
    "print()\n",
    "print(\"Full Matrix of n1:- \\n\", n1[2:,1:])"
   ]
  },
  {
   "cell_type": "markdown",
   "id": "10bc1e95",
   "metadata": {},
   "source": [
    "###### 3-D NumPy Array Indexing :-"
   ]
  },
  {
   "cell_type": "code",
   "execution_count": null,
   "id": "0cee96b4",
   "metadata": {},
   "outputs": [],
   "source": [
    "We learned how to access elements in a 2D array. \n",
    "\n",
    "We can also access elements in higher dimensional arrays.\n",
    "\n",
    "To access an element of a 3D array, we use three indices separated by commas.\n",
    "\n",
    "- The first index refers to the slice\n",
    "- The second index refers to the row\n",
    "- The third index refers to the column.\n",
    "\n",
    "Note: In 3D arrays, slice is a 2D array that is obtained by taking a subset of the elements in one of the dimensions."
   ]
  },
  {
   "cell_type": "code",
   "execution_count": 45,
   "id": "a040e2d9",
   "metadata": {},
   "outputs": [
    {
     "name": "stdout",
     "output_type": "stream",
     "text": [
      "The value of the element:-  22\n"
     ]
    }
   ],
   "source": [
    "import numpy as np\n",
    "\n",
    "# create a 3D array with shape (2, 3, 4)\n",
    "\n",
    "a3 = np.array([[[1, 2, 3, 4], \n",
    "                [5, 6, 7, 8], \n",
    "                [9, 10, 11, 12]],\n",
    "                     \n",
    "                [[13, 14, 15, 16], \n",
    "                [17, 18, 19, 20], \n",
    "                [21, 22, 23, 24]]])\n",
    "\n",
    "# access a specific element of the array\n",
    "\n",
    "ele = a3[1, 2, 1]\n",
    "\n",
    "# print the value of the element\n",
    "\n",
    "print(\"The value of the element:- \", ele) "
   ]
  },
  {
   "cell_type": "code",
   "execution_count": null,
   "id": "88b95adf",
   "metadata": {},
   "outputs": [],
   "source": [
    "Here, we created a 3D array called array1 with shape (2, 3, 4). \n",
    "\n",
    "This array contains 2 2D arrays, each with 3 rows and 4 columns.\n",
    "\n",
    "Then, we used indexing to access a specific element of array1. Notice the code,\n",
    "\n",
    "array1[1, 2, 1]\n",
    "\n",
    "Here, array1[1, , ,] - access the second 2D array, i.e.\n",
    "\n",
    "[13, 14, 15, 16], \n",
    "[17, 18, 19, 20], \n",
    "[21, 22, 23, 24]\n",
    "\n",
    "array1[ ,2, ] - access the third row of the 2D array, i.e. [21, 22, 23, 24]\n",
    "\n",
    "array1[ , ,1] - access the second element of the third row, i.e. [22]"
   ]
  },
  {
   "cell_type": "markdown",
   "id": "3fca89d4",
   "metadata": {},
   "source": [
    "###### Numpy Array Slicing :-"
   ]
  },
  {
   "cell_type": "code",
   "execution_count": null,
   "id": "c764a0d3",
   "metadata": {},
   "outputs": [],
   "source": [
    "Array Slicing is the process of extracting a portion of an array.\n",
    "\n",
    "With slicing, we can easily access elements in the array. \n",
    "\n",
    "It can be done on one or more dimensions of a NumPy array.\n",
    "\n",
    "In NumPy array, Slicing is basically the way to extract a range of elements from an array. \n",
    "\n",
    "In NumPy, slicing in the array is performed in the same way as it is performed in the python list.\n",
    "\n",
    "In simpler words, if you have an array of say 100 elements, \n",
    "and you want to pick only a section of the values,\n",
    "then we can perform slicing and get the required set of values from the complete ndarray. "
   ]
  },
  {
   "cell_type": "code",
   "execution_count": null,
   "id": "ed759f6f",
   "metadata": {},
   "outputs": [],
   "source": [
    "# Syntax of NumPy Array Slicing\n",
    "\n",
    "Here's the syntax of array slicing in NumPy:\n",
    "\n",
    "array[start:stop:step]\n",
    "\n",
    "Here,\n",
    "\n",
    "start - index of the first element to be included in the slice\n",
    "stop - index of the last element (exclusive)\n",
    "step - step size between each element in the slice\n",
    "\n",
    "Note: When we slice arrays, the start index is inclusive but the stop index is exclusive.\n",
    "\n",
    "If we omit start, slicing starts from the first element\n",
    "If we omit stop, slicing continues up to the last element\n",
    "If we omit step, default step size is 1"
   ]
  },
  {
   "cell_type": "markdown",
   "id": "190595ac",
   "metadata": {},
   "source": [
    "###### 1D NumPy Array Slicing"
   ]
  },
  {
   "cell_type": "code",
   "execution_count": null,
   "id": "537ef79c",
   "metadata": {},
   "outputs": [],
   "source": [
    "# In NumPy, it's possible to access the portion of an array using the slicing operator :. \n",
    "\n",
    "# For example,\n",
    "\n",
    "import numpy as np\n",
    "\n",
    "# create a 1D array \n",
    "\n",
    "array1 = np.array([1, 3, 5, 7, 8, 9, 2, 4, 6])\n",
    "\n",
    "# slice array1 from index 2 to index 6 (exclusive)\n",
    "\n",
    "print(array1[2:6])  # [5 7 8 9]\n",
    "\n",
    "# slice array1 from index 0 to index 8 (exclusive) with a step size of 2\n",
    "\n",
    "print(array1[0:8:2])  # [1 5 8 2]\n",
    "\n",
    "# slice array1 from index 3 up to the last element\n",
    "\n",
    "print(array1[3:])  # [7 8 9 2 4 6]\n",
    "\n",
    "# items from start to end\n",
    "\n",
    "print(array1[:])   # [1 3 5 7 8 9 2 4 6]\n",
    "\n",
    "# In the above example, we have created the array named array1 with 9 elements.\n",
    "\n",
    "# Then, we used the slicing operator : to slice array elements.\n",
    "\n",
    "# array1[2:6] - slices array1 from index 2 to index 6, not including index 6\n",
    "\n",
    "# array1[0:8:2] - slices array1 from index 0 to index 8, not including index 8\n",
    "\n",
    "# array1[3:] - slices array1 from index 3 up to the last element\n",
    "\n",
    "# array1[:] - returns all items from beginning to end"
   ]
  },
  {
   "cell_type": "markdown",
   "id": "f5785fb0",
   "metadata": {},
   "source": [
    "###### Modify Array Elements Using Slicing :-"
   ]
  },
  {
   "cell_type": "code",
   "execution_count": null,
   "id": "b1686a82",
   "metadata": {},
   "outputs": [],
   "source": [
    "With slicing, we can also modify array elements using:\n",
    "\n",
    " - start parameter\n",
    " - stop parameter\n",
    " - start and stop parameter\n",
    " - start, stop, and step parameter"
   ]
  },
  {
   "cell_type": "markdown",
   "id": "a587a225",
   "metadata": {},
   "source": [
    "###### 1. Using start Parameter"
   ]
  },
  {
   "cell_type": "code",
   "execution_count": 53,
   "id": "baf0d03e",
   "metadata": {},
   "outputs": [
    {
     "name": "stdout",
     "output_type": "stream",
     "text": [
      "[ 2  4  6 20 20 20]\n"
     ]
    }
   ],
   "source": [
    "import numpy as np\n",
    "\n",
    "# create a numpy array\n",
    "n1 = np.array([2, 4, 6, 8, 10, 12])\n",
    "\n",
    "# modify elements from index 3 onwards\n",
    "\n",
    "n1[3:] = 20\n",
    "\n",
    "print(n1)\n",
    "\n",
    "# Here, numbers[3:] = 20 replaces all the elements from index 3 onwards with new value 20."
   ]
  },
  {
   "cell_type": "markdown",
   "id": "cbd197d5",
   "metadata": {},
   "source": [
    "###### 2. Using stop Parameter"
   ]
  },
  {
   "cell_type": "code",
   "execution_count": 54,
   "id": "a703fcbc",
   "metadata": {},
   "outputs": [
    {
     "name": "stdout",
     "output_type": "stream",
     "text": [
      "[40 40 40  8 10 12]\n"
     ]
    }
   ],
   "source": [
    "import numpy as np\n",
    "\n",
    "# create a numpy array\n",
    "n = np.array([2, 4, 6, 8, 10, 12])\n",
    "\n",
    "# modify the first 3 elements\n",
    "\n",
    "n[:3] = 40\n",
    "\n",
    "print(n)\n",
    "\n",
    "# Here, numbers[:3] = 20 replaces the first 3 elements with the new value 40."
   ]
  },
  {
   "cell_type": "markdown",
   "id": "d672b5cc",
   "metadata": {},
   "source": [
    "###### 3. Using start and stop parameter"
   ]
  },
  {
   "cell_type": "code",
   "execution_count": 55,
   "id": "b0c97f80",
   "metadata": {},
   "outputs": [
    {
     "name": "stdout",
     "output_type": "stream",
     "text": [
      "[ 2  4 22 22 22 12]\n"
     ]
    }
   ],
   "source": [
    "import numpy as np\n",
    "\n",
    "# create a numpy array\n",
    "\n",
    "numbers = np.array([2, 4, 6, 8, 10, 12])\n",
    "\n",
    "# modify elements from indices 2 to 5\n",
    "\n",
    "numbers[2:5] = 22\n",
    "\n",
    "print(numbers)\n",
    "\n",
    "# Here, numbers[2:5] = 22 selects elements from index 2 to index 4 and replaces them with new value 22."
   ]
  },
  {
   "cell_type": "markdown",
   "id": "e10f193b",
   "metadata": {},
   "source": [
    "###### 4. Using start, stop, and step parameter"
   ]
  },
  {
   "cell_type": "code",
   "execution_count": 56,
   "id": "364325bb",
   "metadata": {},
   "outputs": [
    {
     "name": "stdout",
     "output_type": "stream",
     "text": [
      "[ 2 16  6 16 10 12]\n"
     ]
    }
   ],
   "source": [
    "import numpy as np\n",
    "\n",
    "# create a numpy array\n",
    "n1 = np.array([2, 4, 6, 8, 10, 12])\n",
    "\n",
    "# modify every second element from indices 1 to 5\n",
    "\n",
    "n1[1:5:2] = 16\n",
    "\n",
    "print(n1)\n",
    "\n",
    "# modifies every second element from index 1 to index 5 with a new value 16."
   ]
  },
  {
   "cell_type": "markdown",
   "id": "6934c469",
   "metadata": {},
   "source": [
    "###### NumPy Array Negative Slicing"
   ]
  },
  {
   "cell_type": "code",
   "execution_count": 63,
   "id": "bd1da1eb",
   "metadata": {},
   "outputs": [
    {
     "name": "stdout",
     "output_type": "stream",
     "text": [
      "using the start parameter:- [ 8 10 12]\n",
      "\n",
      "Using the start and stop parametersnumbers:- [4 6 8]\n",
      "\n",
      "Using the start, stop, and step parameters:- [12  8  4]\n"
     ]
    }
   ],
   "source": [
    "# We can also use negative indices to perform negative slicing in NumPy arrays. \n",
    "# During negative slicing, elements are accessed from the end of the array.\n",
    "\n",
    "# Example :-\n",
    "\n",
    "import numpy as np\n",
    "\n",
    "# create a numpy array\n",
    "n = np.array([2, 4, 6, 8, 10, 12])\n",
    "\n",
    "# slice the last 3 elements of the array\n",
    "# using the start parameter\n",
    "\n",
    "print(\"using the start parameter:-\", n[-3:]) \n",
    "\n",
    "print()\n",
    "\n",
    "# slice elements from 2nd-to-last to 4th-to-last element\n",
    "# using the start and stop parameters\n",
    "\n",
    "print(\"Using the start and stop parametersnumbers:-\", n[-5:-2])\n",
    "print()\n",
    "\n",
    "# slice every other element of the array from the end\n",
    "# using the start, stop, and step parameters\n",
    "\n",
    "print(\"Using the start, stop, and step parameters:-\", n[-1::-2])\n",
    "\n",
    "# Here,\n",
    "\n",
    "# numbers[-3:] - slices last 3 elements of numbers\n",
    "# numbers[-5:-2] - slices numbers elements from 5th last to 2nd last(excluded)\n",
    "# numbers[-1::-2] - slices every other numbers elements from the end with step size 2"
   ]
  },
  {
   "cell_type": "markdown",
   "id": "9fe03d23",
   "metadata": {},
   "source": [
    "###### Reverse NumPy Array Using Negative Slicing"
   ]
  },
  {
   "cell_type": "code",
   "execution_count": 65,
   "id": "4271e2f7",
   "metadata": {},
   "outputs": [
    {
     "name": "stdout",
     "output_type": "stream",
     "text": [
      "Reveresed numbers using negative slicing:- [12 10  8  6  4  2]\n"
     ]
    }
   ],
   "source": [
    "# In NumPy, we can also reverse array elements using the negative slicing.\n",
    "\n",
    "import numpy as np\n",
    "\n",
    "# create a numpy array\n",
    "\n",
    "numbers = np.array([2, 4, 6, 8, 10, 12])\n",
    "\n",
    "# generate reversed array\n",
    "\n",
    "reversed_numbers = numbers[::-1]\n",
    "\n",
    "print(\"Reveresed numbers using negative slicing:-\", reversed_numbers)"
   ]
  },
  {
   "cell_type": "markdown",
   "id": "23753cea",
   "metadata": {},
   "source": [
    "###### 2D NumPy Array Slicing"
   ]
  },
  {
   "cell_type": "code",
   "execution_count": null,
   "id": "2cb2883f",
   "metadata": {},
   "outputs": [],
   "source": [
    "A 2D NumPy array can be thought of as a matrix, where each element has two indices, row index and column index.\n",
    "\n",
    "To slice a 2D NumPy array, we can use the same syntax as for slicing a 1D NumPy array. \n",
    "\n",
    "The only difference is that we need to specify a slice for each dimension of the array.\n",
    "\n",
    "** Syntax of 2D NumPy Array Slicing **\n",
    "\n",
    "array[row_start:row_stop:row_step, col_start:col_stop:col_step]\n",
    "\n",
    "Here,\n",
    "\n",
    "row_start,row_stop,row_step - specifies starting index, stopping index, and step size for the rows respectively\n",
    "\n",
    "col_start,col_stop,col_step - specifies starting index, stopping index, and step size for the columns respectively"
   ]
  },
  {
   "cell_type": "code",
   "execution_count": 66,
   "id": "1eb78177",
   "metadata": {},
   "outputs": [
    {
     "name": "stdout",
     "output_type": "stream",
     "text": [
      "[[ 1  3]\n",
      " [ 9 11]]\n"
     ]
    }
   ],
   "source": [
    "# Create a 2D array\n",
    "\n",
    "array1 = np.array([[1, 3, 5, 7], \n",
    "                   [9, 11, 13, 15]])\n",
    "\n",
    "print(array1[:2, :2])\n",
    "\n",
    "# Here, the , in [:2, :2] separates the rows of the array.\n",
    "\n",
    "# The first :2 returns first 2 rows i.e., entire array1. This results in :- [1  3]\n",
    "\n",
    "# The second :2 returns first 2 columns from the 2 rows. This results in :- [9 11]"
   ]
  },
  {
   "cell_type": "code",
   "execution_count": 67,
   "id": "d19bcd6b",
   "metadata": {},
   "outputs": [
    {
     "name": "stdout",
     "output_type": "stream",
     "text": [
      "First Two Rows and Columns: \n",
      " [[ 1  3]\n",
      " [ 9 11]]\n",
      "\n",
      "Last two Rows and Columns: \n",
      " [[13 15]\n",
      " [ 6  8]]\n"
     ]
    }
   ],
   "source": [
    "# 2D NumPy Array Slicing\n",
    "\n",
    "import numpy as np\n",
    "\n",
    "# create a 2D array \n",
    "array1 = np.array([[1, 3, 5, 7], \n",
    "                      [9, 11, 13, 15],\n",
    "                      [2, 4, 6, 8]])\n",
    "\n",
    "\n",
    "# slice the array to get the first two rows and columns\n",
    "\n",
    "subarray1 = array1[:2, :2]\n",
    "\n",
    "# slice the array to get the last two rows and columns\n",
    "\n",
    "subarray2 = array1[1:3, 2:4]\n",
    "\n",
    "# print the subarrays\n",
    "\n",
    "print(\"First Two Rows and Columns: \\n\",subarray1)\n",
    "print()\n",
    "print(\"Last two Rows and Columns: \\n\",subarray2)"
   ]
  },
  {
   "cell_type": "markdown",
   "id": "f966aaf0",
   "metadata": {},
   "source": [
    "###### Slicing Examples :- "
   ]
  },
  {
   "cell_type": "code",
   "execution_count": 1,
   "id": "9c0a0011",
   "metadata": {
    "collapsed": true
   },
   "outputs": [
    {
     "name": "stdout",
     "output_type": "stream",
     "text": [
      "The ndarray is :\n",
      "[0 1 2 3 4 5 6 7 8 9]\n",
      "After applying slice() Function:\n",
      "[2 4 6]\n"
     ]
    }
   ],
   "source": [
    "# Example 1:- \n",
    "\n",
    "import numpy as np \n",
    "\n",
    "a = np.arange(10) \n",
    "print(\"The ndarray is :\")\n",
    "print(a)\n",
    "\n",
    "s = slice(2,7,2) \n",
    "print(\"After applying slice() Function:\")\n",
    "print (a[s])\n",
    "\n",
    "# In the code example given below, we will prepare an ndarray object using arange() function. \n",
    "# Then we will define a slice object is defined with start, stop, and step values 2, 7, and 2 respectively. \n",
    "# After that this slice object is passed to the ndarray,\n",
    "# a part of it that is starting with index 2 up to 7 with a step value of 2 will be sliced. \n",
    "# By step value, we mean that from 2 to 7, starting from 2,\n",
    "# every third element will be picked, after 2 we jump 3, and include 4, then jump 5, and include 6.\n",
    "\n",
    "# We can also obtain the same result just by giving the slicing parameters\n",
    "# separated by a colon : like (start: stop: step) directly to the ndarray object."
   ]
  },
  {
   "cell_type": "code",
   "execution_count": 75,
   "id": "31941ec6",
   "metadata": {},
   "outputs": [
    {
     "name": "stdout",
     "output_type": "stream",
     "text": [
      "The array is :-  [ 0  1  2  3  4  5  6  7  8  9 10 11 12 13 14]\n",
      "\n",
      "The Eighth item in the array is :- 7\n"
     ]
    }
   ],
   "source": [
    "# Example 2: Slicing a single item\n",
    "    \n",
    "# Here, we will slice a single item from the ndarray object. \n",
    "# Slicing out a single array can be achieved very easily using indexing.\n",
    "\n",
    "import numpy as np \n",
    "\n",
    "a = np.arange(15)\n",
    "\n",
    "print(\"The array is :- \", a)\n",
    "\n",
    "print()\n",
    "# using the index directly\n",
    "\n",
    "b = a[7] \n",
    "\n",
    "print(\"The Eighth item in the array is :-\",b)"
   ]
  },
  {
   "cell_type": "code",
   "execution_count": 77,
   "id": "661f2e34",
   "metadata": {},
   "outputs": [
    {
     "name": "stdout",
     "output_type": "stream",
     "text": [
      "The array is :- [ 0  1  2  3  4  5  6  7  8  9 10 11 12 13 14 15 16 17 18 19]\n",
      "\n",
      "Slicing of items starting from the index:- [ 2  3  4  5  6  7  8  9 10 11 12 13 14 15 16 17 18 19]\n"
     ]
    }
   ],
   "source": [
    "# Example 3:\n",
    "\n",
    "# In the example given below, we will slice the items starting from a given index till the last index or the last element:\n",
    "\n",
    "import numpy as np\n",
    " \n",
    "a = np.arange(20) \n",
    "\n",
    "print(\"The array is :-\", a);\n",
    "\n",
    "print()\n",
    "\n",
    "print(\"Slicing of items starting from the index:-\",a[2:])"
   ]
  },
  {
   "cell_type": "code",
   "execution_count": 78,
   "id": "9a803dd8",
   "metadata": {},
   "outputs": [
    {
     "name": "stdout",
     "output_type": "stream",
     "text": [
      "The array is :- [ 0  1  2  3  4  5  6  7  8  9 10 11 12 13 14 15 16 17 18 19]\n",
      "\n",
      "Slicing of items starting from the index:- [2 3 4 5 6 7]\n"
     ]
    }
   ],
   "source": [
    "# Example 4: In the example given below, we will slice all the items between two given indexes:\n",
    "\n",
    "import numpy as np\n",
    " \n",
    "a = np.arange(20)\n",
    "\n",
    "print(\"The array is :-\",a);\n",
    "\n",
    "print()\n",
    "\n",
    "print(\"Slicing of items starting from the index:-\",a[2:8])"
   ]
  },
  {
   "cell_type": "code",
   "execution_count": null,
   "id": "6f2a1d02",
   "metadata": {},
   "outputs": [],
   "source": []
  }
 ],
 "metadata": {
  "kernelspec": {
   "display_name": "Python 3 (ipykernel)",
   "language": "python",
   "name": "python3"
  },
  "language_info": {
   "codemirror_mode": {
    "name": "ipython",
    "version": 3
   },
   "file_extension": ".py",
   "mimetype": "text/x-python",
   "name": "python",
   "nbconvert_exporter": "python",
   "pygments_lexer": "ipython3",
   "version": "3.11.2"
  }
 },
 "nbformat": 4,
 "nbformat_minor": 5
}
