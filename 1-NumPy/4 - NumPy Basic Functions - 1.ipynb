{
 "cells": [
  {
   "cell_type": "markdown",
   "id": "4f228f51",
   "metadata": {},
   "source": [
    "### 1. Create an NumPy Array using List"
   ]
  },
  {
   "cell_type": "code",
   "execution_count": 4,
   "id": "bf3d0ec8",
   "metadata": {},
   "outputs": [
    {
     "name": "stdout",
     "output_type": "stream",
     "text": [
      "ndarray created using list elements:- [10 20 30]\n"
     ]
    }
   ],
   "source": [
    "L1 = np.array([10,20,30]) # Create ndarray\n",
    "\n",
    "print(\"ndarray created using list elements:-\",L1)"
   ]
  },
  {
   "cell_type": "markdown",
   "id": "b5e9699c",
   "metadata": {},
   "source": [
    "### 2. Create a Multi-Dimensional Array"
   ]
  },
  {
   "cell_type": "code",
   "execution_count": 8,
   "id": "0c9402de",
   "metadata": {},
   "outputs": [
    {
     "name": "stdout",
     "output_type": "stream",
     "text": [
      "Creating Multi-Dimensional Array:-\n",
      "\n",
      " [[10 20 30]\n",
      " [40 50 60]]\n"
     ]
    }
   ],
   "source": [
    "MD = np.array([[10,20,30],[40,50,60]]) \n",
    "\n",
    "print (\"Creating Multi-Dimensional Array:-\\n\\n\", MD)"
   ]
  },
  {
   "cell_type": "markdown",
   "id": "acffc84a",
   "metadata": {},
   "source": [
    "### 3. Represent The Minimum Dimensions"
   ]
  },
  {
   "cell_type": "code",
   "execution_count": 26,
   "id": "0e927b32",
   "metadata": {
    "collapsed": true
   },
   "outputs": [
    {
     "name": "stdout",
     "output_type": "stream",
     "text": [
      "Creation of minimum dimensions of the array:- [[10 20 30 40]]\n",
      "\n",
      "Creation of minimum dimensions of the array:- [[[10 20 30 40]]]\n",
      "\n",
      "Creation of minimum dimensions of the array:-\n",
      "\n",
      " [[11 22 33]\n",
      " [45 90  6]]\n",
      "\n",
      "Creation of minimum dimensions of the array:-\n",
      "\n",
      " [[[121 222 333]\n",
      "  [455 900 600]]]\n"
     ]
    }
   ],
   "source": [
    "# Use ndmin funtion to specify how many minimum dimensions you wanted to create an array with. \n",
    "\n",
    "# Minimum dimension\n",
    "\n",
    "Dim = np.array([10, 20, 30,40], ndmin = 2) \n",
    "\n",
    "print(\"Creation of minimum dimensions of the array:-\", Dim)\n",
    "\n",
    "print()\n",
    "\n",
    "Dim1 = np.array([10, 20, 30,40], ndmin = 3) \n",
    "\n",
    "print(\"Creation of minimum dimensions of the array:-\", Dim1)\n",
    "\n",
    "print()\n",
    "\n",
    "Dim2 = np.array([[11,22,33], [45, 90, 6]], ndmin = 2) \n",
    "\n",
    "print(\"Creation of minimum dimensions of the array:-\\n\\n\", Dim2)\n",
    "\n",
    "print()\n",
    "\n",
    "Dim3 = np.array([[121,222,333], [455, 900, 600]], ndmin = 3) \n",
    "\n",
    "print(\"Creation of minimum dimensions of the array:-\\n\\n\", Dim3)"
   ]
  },
  {
   "cell_type": "markdown",
   "id": "5d34f0c0",
   "metadata": {},
   "source": [
    "### 4. Change The Data Type"
   ]
  },
  {
   "cell_type": "code",
   "execution_count": 33,
   "id": "b2945de3",
   "metadata": {
    "collapsed": true
   },
   "outputs": [
    {
     "name": "stdout",
     "output_type": "stream",
     "text": [
      "Array elements with dtype complex:- [10.+0.j 20.+0.j 30.+0.j]\n",
      "\n",
      "Array elements with dtype float:- [10. 20. 30.]\n",
      "\n",
      "Array elements with dtype int:- [15 25 35]\n"
     ]
    }
   ],
   "source": [
    "# We can also specify the type of the array elements using dtype param. \n",
    "\n",
    "# We need to specify the name of the data type along with the collection.\n",
    "\n",
    "\n",
    "#dtype parameter \n",
    "\n",
    "dt = np.array([10, 20, 30], dtype = complex) \n",
    "\n",
    "print(\"Array elements with dtype complex:-\", dt)\n",
    "\n",
    "print()\n",
    "\n",
    "dt1 = np.array([10, 20, 30], dtype = float) \n",
    "\n",
    "print(\"Array elements with dtype float:-\", dt1)\n",
    "\n",
    "print()\n",
    "\n",
    "dt2 = np.array([15.6, 25.5, 35.8], dtype = int) \n",
    "\n",
    "print(\"Array elements with dtype int:-\", dt2)"
   ]
  },
  {
   "cell_type": "markdown",
   "id": "f1d4cfac",
   "metadata": {},
   "source": [
    "### 5. Get The Data Type of Each Array Item"
   ]
  },
  {
   "cell_type": "code",
   "execution_count": 49,
   "id": "c2f7ba45",
   "metadata": {},
   "outputs": [
    {
     "name": "stdout",
     "output_type": "stream",
     "text": [
      "Each item is of the type :- int32\n",
      "\n",
      "Each item is of the type :- float64\n",
      "\n",
      "Each item is of the type :- complex128\n"
     ]
    }
   ],
   "source": [
    "# To check the data type of each array item, the dtype function is used. \n",
    "\n",
    "# Consider the following example to check the data type of the array items.\n",
    "\n",
    "# Finding the data type of each array item\n",
    "\n",
    "x = np.array([10,20,30])  \n",
    "\n",
    "print(\"Each item is of the type :-\", x.dtype)\n",
    "\n",
    "print()\n",
    "\n",
    "x1 = np.array([10.5,20.6,30.7])  \n",
    "\n",
    "print(\"Each item is of the type :-\", x1.dtype)\n",
    "\n",
    "print()\n",
    "\n",
    "x2 = np.array([10+5j,20.6+3j,30.7+4j])  \n",
    "\n",
    "print(\"Each item is of the type :-\", x2.dtype)"
   ]
  },
  {
   "cell_type": "markdown",
   "id": "479fa6d3",
   "metadata": {},
   "source": [
    "### 6. Get The Dimensions of Array"
   ]
  },
  {
   "cell_type": "code",
   "execution_count": 39,
   "id": "2fed4a5a",
   "metadata": {
    "collapsed": true
   },
   "outputs": [
    {
     "name": "stdout",
     "output_type": "stream",
     "text": [
      "Dimension of the given array :-  2\n",
      "\n",
      "Array Elements:-\n",
      "\n",
      "  [[ 1  2  3  4]\n",
      " [ 7  8  6  7]\n",
      " [ 9 10 11 12]]\n"
     ]
    }
   ],
   "source": [
    "# The ndim paramater of the array should use to find the dimensions of the array.\n",
    "\n",
    "# Get dimension of the array\n",
    "\n",
    "dim = np.array([[1, 2, 3, 4], [7, 8, 6, 7], [9, 10, 11, 12]]) \n",
    "\n",
    "print(\"Dimension of the given array :- \",dim.ndim) \n",
    "print()\n",
    "print(\"Array Elements:-\\n\\n \",dim)"
   ]
  },
  {
   "cell_type": "markdown",
   "id": "cc9d9e5d",
   "metadata": {},
   "source": [
    "### 7. Get The Size of Each Array Element"
   ]
  },
  {
   "cell_type": "code",
   "execution_count": 44,
   "id": "c0c6ac3a",
   "metadata": {},
   "outputs": [
    {
     "name": "stdout",
     "output_type": "stream",
     "text": [
      "Size of each item in bytes : 4\n",
      "\n",
      "Size of each item in bytes : 4\n"
     ]
    }
   ],
   "source": [
    "# The itemsize function is used to get the size of each array item.\n",
    "\n",
    "# It returns the number of bytes taken by each array element.\n",
    "\n",
    "# Finding the size of each item in the array  \n",
    "\n",
    "sz = np.array([10,20,30])\n",
    "\n",
    "print(\"Size of each item in bytes :\",sz.itemsize)  \n",
    "\n",
    "print()\n",
    "\n",
    "sz1 = np.array([[10,20,30],[15,25,45]])\n",
    "\n",
    "print(\"Size of each item in bytes :\",sz1.itemsize)  "
   ]
  },
  {
   "cell_type": "markdown",
   "id": "93296c38",
   "metadata": {},
   "source": [
    "### 8. Shape and Size of the array"
   ]
  },
  {
   "cell_type": "code",
   "execution_count": 51,
   "id": "e486ee8b",
   "metadata": {},
   "outputs": [
    {
     "name": "stdout",
     "output_type": "stream",
     "text": [
      "Array Size: 8\n",
      "\n",
      "Shape: (2, 4)\n"
     ]
    }
   ],
   "source": [
    "# To get the shape of the array and size of the array, \n",
    "\n",
    "# the size and shape() function associated with the NumPy array is used.\n",
    "\n",
    "# Get shape and size of array\n",
    "\n",
    "s = np.array([[10,20,30,40],[60,70,80,90]]) \n",
    "\n",
    "print(\"Array Size:\", s.size) \n",
    "\n",
    "print()\n",
    "\n",
    "print(\"Shape:\", s.shape)"
   ]
  },
  {
   "cell_type": "markdown",
   "id": "5d7a2914",
   "metadata": {},
   "source": [
    "### 9. NumPy Array Creation - Empty, Zeroes and Ones"
   ]
  },
  {
   "cell_type": "code",
   "execution_count": null,
   "id": "234ad0fa",
   "metadata": {},
   "outputs": [],
   "source": [
    "In Numpy, a new ndarray object can be constructed by the following given array creation routines or\n",
    "using a low-level ndarray constructor.\n",
    "\n",
    "1. numpy.empty\n",
    "\n",
    "2. numpy.zeroes\n",
    "\n",
    "3. numpy.ones"
   ]
  },
  {
   "cell_type": "markdown",
   "id": "f4057fa2",
   "metadata": {},
   "source": [
    "###### Empty Array - Using numpy.empty"
   ]
  },
  {
   "cell_type": "markdown",
   "id": "bc60f16f",
   "metadata": {},
   "source": [
    "This is used to create an uninitialized array of specified shape and dtype.\n",
    "\n",
    "The syntax to use this constructor is as follows:\n",
    "\n",
    "**numpy.empty(shape, dtype, order)**\n",
    "\n",
    "Following is a description of parameters by this constructor:\n",
    "\n",
    "shape: This parameter is used to indicate the desired shape of the specified array.\n",
    "\n",
    "dtype: This parameter indicates the data type of the array items. The default value of this parameter is float.\n",
    "\n",
    "order: The default order or value of this option is the c-style row-major order.\n",
    "       This parameter can be set to F for FORTRAN-style (column-major order)"
   ]
  },
  {
   "cell_type": "code",
   "execution_count": null,
   "id": "c8a48a62",
   "metadata": {},
   "outputs": [],
   "source": [
    "# Using numpy.empty Basic Example:\n",
    "    \n",
    "# The following code is used to create an empty array.\n",
    "# Also, elements in an array will show random values because they are not initialized:\n",
    "\n",
    "import numpy as np \n",
    "\n",
    "# an array with 4 rows and 3 columns\n",
    "\n",
    "em = np.empty([4,3], dtype = int) \n",
    "\n",
    "print(\"Creating an empty array:- \\n\\n\", em)\n",
    "\n",
    "print()\n",
    "\n",
    "import numpy as np  \n",
    "\n",
    "em1 = np.empty((3,2), dtype = int) \n",
    "\n",
    "print(\"Creating an empty array:-\\n\\n\", em1)"
   ]
  },
  {
   "cell_type": "markdown",
   "id": "0ca20920",
   "metadata": {},
   "source": [
    "**Note:-** \n",
    "    \n",
    "1. C - Contiguous order\n",
    "\n",
    "2. F - Fortran-contiguous order\n",
    "\n",
    "3. The difference between C and F is just whether the array is row major or column major\n",
    "\n",
    "4. C order means that operating row-rise on the array will be slightly quicker.\n",
    "\n",
    "5. F order means that column-wise operations will be faster.\n",
    "\n",
    "6. Specifying 'A' means that the created array is not required to have either order -\n",
    "   it is allowed to be discontiguous in memory."
   ]
  },
  {
   "cell_type": "markdown",
   "id": "f0935de7",
   "metadata": {},
   "source": [
    "###### Zero Value Array - Using numpy.zeroes"
   ]
  },
  {
   "cell_type": "markdown",
   "id": "63d09c63",
   "metadata": {},
   "source": [
    "This is used to return a new array of the specified size and \n",
    "each array item will be initialized with 0.\n",
    "\n",
    "This routine is used to create the numpy array with the specified shape \n",
    "where each numpy array item is initialized to 0.\n",
    "\n",
    "The syntax to use this constructor is as follows:\n",
    "\n",
    "**numpy.zeros(shape, dtype, order)**  \n",
    "\n",
    "Following is a description of parameters by this constructor:\n",
    "\n",
    "shape: This parameter is used to indicate the desired shape of the specified array.\n",
    "\n",
    "dtype: This parameter indicates the data type of the array items. The default value of this parameter is float.\n",
    "\n",
    "order: The default order or value of this option is the c-style row-major order. \n",
    "       This parameter can be set to F for FORTRAN-style (column-major order)."
   ]
  },
  {
   "cell_type": "code",
   "execution_count": 73,
   "id": "3a00f34f",
   "metadata": {
    "collapsed": true
   },
   "outputs": [
    {
     "name": "stdout",
     "output_type": "stream",
     "text": [
      "Array creation with zeroes:-\n",
      "\n",
      " [[0 0 0]\n",
      " [0 0 0]\n",
      " [0 0 0]]\n",
      "\n",
      "Array creation with zeroes:-\n",
      "\n",
      " [[0 0]\n",
      " [0 0]\n",
      " [0 0]]\n"
     ]
    }
   ],
   "source": [
    "# Using numpy.zeroes\n",
    "    \n",
    "# The below code example will create an array of dimension 3x3 with all elements initialized as 0.\n",
    "\n",
    "import numpy as np  \n",
    "\n",
    "zr = np.zeros((3,3), dtype = int)  \n",
    "\n",
    "print(\"Array creation with zeroes:-\\n\\n\", arr)  \n",
    "\n",
    "print()\n",
    "\n",
    "import numpy as np  \n",
    "\n",
    "zr1 = np.zeros((3,2), dtype = int)  \n",
    "\n",
    "print(\"Array creation with zeroes:-\\n\\n\", zr1)  "
   ]
  },
  {
   "cell_type": "markdown",
   "id": "094e5f9f",
   "metadata": {},
   "source": [
    "###### One Value Array - Using numpy.ones"
   ]
  },
  {
   "cell_type": "markdown",
   "id": "6435d928",
   "metadata": {},
   "source": [
    "This is used to return a new array of the specified size and each array item will be initialized as 1.\n",
    "\n",
    "The syntax to use this constructor is as follows:\n",
    "\n",
    "**numpy.ones(shape, dtype, order)**  \n",
    "\n",
    "Following is a description of parameters by this constructor:\n",
    "\n",
    "shape: This parameter is used to indicate the desired shape of the specified array.\n",
    "\n",
    "dtype: This parameter indicates the data type of the array items. The default value of this parameter is float.\n",
    "\n",
    "order: The default order or value of this option is the c-style row-major order.\n",
    "       This parameter can be set to F for FORTRAN-style (column-major order)"
   ]
  },
  {
   "cell_type": "code",
   "execution_count": 79,
   "id": "cf4bb199",
   "metadata": {
    "collapsed": true
   },
   "outputs": [
    {
     "name": "stdout",
     "output_type": "stream",
     "text": [
      "Array creation with one's:-\n",
      "\n",
      " [[1 1 1]\n",
      " [1 1 1]\n",
      " [1 1 1]]\n",
      "\n",
      "Array creation with one's:-\n",
      "\n",
      " [[1 1]\n",
      " [1 1]\n",
      " [1 1]]\n",
      "\n",
      "Array creation with one's:-\n",
      "\n",
      " [[1. 1.]\n",
      " [1. 1.]\n",
      " [1. 1.]]\n",
      "\n",
      "Array creation with one's:-\n",
      "\n",
      " [[1.+0.j 1.+0.j 1.+0.j]\n",
      " [1.+0.j 1.+0.j 1.+0.j]\n",
      " [1.+0.j 1.+0.j 1.+0.j]]\n"
     ]
    }
   ],
   "source": [
    "# Using numpy.ones\n",
    "    \n",
    "import numpy as np  \n",
    "\n",
    "n1 = np.ones((3,3), dtype = int) \n",
    "\n",
    "print(\"Array creation with one's:-\\n\\n\", n1)  \n",
    "\n",
    "print()\n",
    "\n",
    "import numpy as np  \n",
    "\n",
    "n2 = np.ones((3,2), dtype = int) \n",
    "\n",
    "print(\"Array creation with one's:-\\n\\n\", n2)  \n",
    "\n",
    "print()\n",
    "\n",
    "import numpy as np  \n",
    "\n",
    "n3 = np.ones((3,2), dtype = float) \n",
    "\n",
    "print(\"Array creation with one's:-\\n\\n\", n3)  \n",
    "\n",
    "print()\n",
    "\n",
    "import numpy as np  \n",
    "\n",
    "n4 = np.ones((3,3), dtype = complex) \n",
    "\n",
    "print(\"Array creation with one's:-\\n\\n\", n4)  "
   ]
  },
  {
   "cell_type": "markdown",
   "id": "a65fd0d7",
   "metadata": {},
   "source": [
    "### 10. NumPy Array Creation using existing data"
   ]
  },
  {
   "cell_type": "markdown",
   "id": "94830009",
   "metadata": {},
   "source": [
    "**Using numpy.asarray**\n",
    "\n",
    "The routine numpy.asarray is used for converting the Python sequence into ndarray. \n",
    "\n",
    "The numpy.asarray is somehow similar to numpy.array but it has fewer parameters than numpy.array. \n",
    "\n",
    "This function is mainly used to create an array by using the existing data \n",
    "that is in the form of lists, or tuples.\n",
    "\n",
    "Given below is the required syntax that is used for numpy.asarray:\n",
    "\n",
    "**numpy.asarray(sequence,  dtype, order)** \n",
    "\n",
    "Parameters:\n",
    "\n",
    "sequence: This parameter is used to indicate the python sequence that is to be converted into the python array.\n",
    "\n",
    "dtype: This parameter is used to indicate the data type of each item of the array.\n",
    "\n",
    "order: This parameter can be either set to C or F. The default value of this parameter is C."
   ]
  },
  {
   "cell_type": "code",
   "execution_count": 98,
   "id": "fbf77905",
   "metadata": {},
   "outputs": [
    {
     "name": "stdout",
     "output_type": "stream",
     "text": [
      "Creating an array using tuple elements:- [34  7  8 78]\n",
      "\n",
      "Type of the array elements:- <class 'numpy.ndarray'>\n",
      "\n",
      "List elements:- [1, 2, 3]\n",
      "\n",
      "Creating an array using List elements:- [1 2 3]\n",
      "\n",
      "Type of the array elements:-  <class 'numpy.ndarray'>\n"
     ]
    }
   ],
   "source": [
    "# Array using Tuple\n",
    "\n",
    "# In the example given below we will create an array using a tuple:\n",
    "\n",
    "import numpy as np  \n",
    "\n",
    "# python tuple\n",
    "\n",
    "l = (34,7,8,78)\n",
    "\n",
    "# creating array using the tuple\n",
    "\n",
    "t1 = np.asarray(l)\n",
    "\n",
    "print(\"Creating an array using tuple elements:-\", t1)  \n",
    "\n",
    "print()\n",
    "\n",
    "print(\"Type of the array elements:-\", type(t1)) \n",
    "\n",
    "print()\n",
    "\n",
    "# Creating array using List.\n",
    "\n",
    "# python list\n",
    "\n",
    "L1 = [1,2,3] \n",
    "\n",
    "print(\"List elements:-\", L1)\n",
    "\n",
    "print()\n",
    "\n",
    "# creating array from list \n",
    "\n",
    "a1 = np.asarray(L1)\n",
    "\n",
    "print(\"Creating an array using List elements:-\", a1) \n",
    "\n",
    "print()\n",
    "\n",
    "print(\"Type of the array elements:- \", type(a1)) "
   ]
  },
  {
   "cell_type": "markdown",
   "id": "be7a33c0",
   "metadata": {},
   "source": [
    "## 11. NumPy Array Creation from Numerical Ranges"
   ]
  },
  {
   "cell_type": "code",
   "execution_count": null,
   "id": "1c574a95",
   "metadata": {},
   "outputs": [],
   "source": [
    "Here, we will learn how the NumPy arrays can be created using some given specified numerical ranges.\n",
    "\n",
    "The Numpy library provides some functions to create an array from the given specified range. \n",
    "\n",
    "These functions are as follows:\n",
    "\n",
    "1. numpy.arange\n",
    "\n",
    "2. numpy.linspace\n",
    "\n",
    "3. numpy.logspace"
   ]
  },
  {
   "cell_type": "markdown",
   "id": "a8c8260a",
   "metadata": {},
   "source": [
    "###### numpy.arange"
   ]
  },
  {
   "cell_type": "markdown",
   "id": "a8f595f7",
   "metadata": {},
   "source": [
    "**Using numpy.arange**\n",
    "\n",
    "This function is used to create an array by using the evenly spaced values over any given interval.\n",
    "\n",
    "The syntax to use this function is as follows:\n",
    "\n",
    "**numpy.arrange(start, stop, step, dtype)**\n",
    "\n",
    "Parameters:\n",
    "\n",
    "The parameters of the above-mentioned function are as follows:\n",
    "\n",
    "start: This parameter mainly indicates the starting of an interval. The default value of this parameter is 0.\n",
    "\n",
    "stop: This parameter is used to represents the value at which the interval ends excluding this value.\n",
    "\n",
    "step: This parameter represents the number by which the interval values change.\n",
    "\n",
    "dtype: This parameter indicates the data type of the numpy array items."
   ]
  },
  {
   "cell_type": "code",
   "execution_count": 113,
   "id": "8c913e64",
   "metadata": {
    "collapsed": true
   },
   "outputs": [
    {
     "name": "stdout",
     "output_type": "stream",
     "text": [
      "Array elements using arange:- [ 0  1  2  3  4  5  6  7  8  9 10 11 12 13 14]\n",
      "\n",
      "Arange with Values:-  [2 3 4 5 6]\n",
      "\n",
      "Arange 1 to 10 values:-  [1 2 3 4 5 6 7 8 9]\n",
      "\n",
      "printing the float values: - [0. 1. 2. 3. 4. 5.]\n"
     ]
    }
   ],
   "source": [
    "# Example 1:- \n",
    "    \n",
    "import numpy as np \n",
    "\n",
    "x = np.arange(15) \n",
    "\n",
    "print(\"Array elements using arange:-\", x)\n",
    "\n",
    "print()\n",
    "\n",
    "# Example 2:- \n",
    "\n",
    "import numpy as np\n",
    "\n",
    "ar= np.arange(2,7)\n",
    "\n",
    "print(\"Arange with Values:- \", ar)\n",
    "\n",
    "print()\n",
    "\n",
    "# The above script will return a NumPy array of size 5 with the elements 2, 3, 4, 5, and 6.\n",
    "\n",
    "# Remember that the arange method returns an array that starts with the starting index and \n",
    "# ends at one index less than the end index.\n",
    "\n",
    "# Example 3:- \n",
    "\n",
    "a=np.arange(1,10)\n",
    "\n",
    "print(\"Arange 1 to 10 values:- \",a) # 10 is exclusive. so it is not included.\n",
    "\n",
    "print()\n",
    "\n",
    "# Example 4:- \n",
    "\n",
    "b=np.arange(6.0) # As we didnt specified starting point, it takes from 0\n",
    "\n",
    "print(\"printing the float values: -\", b)"
   ]
  },
  {
   "cell_type": "code",
   "execution_count": 122,
   "id": "6ec27c19",
   "metadata": {},
   "outputs": [
    {
     "name": "stdout",
     "output_type": "stream",
     "text": [
      "Arange with Step Value:-  [2 4 6]\n",
      "\n",
      "Result for step values 5:-  [ 1  6 11 16 21 26 31 36 41 46 51 56 61 66 71 76 81 86 91 96]\n",
      "\n",
      "A sequential array with steps of 3:\n",
      "\n",
      " [ 0  3  6  9 12 15 18]\n"
     ]
    }
   ],
   "source": [
    "# Step is the spacing between the values. \n",
    "\n",
    "# Example 1:- \n",
    "\n",
    "ar= np.arange(2,7,2)\n",
    "\n",
    "print(\"Arange with Step Value:- \", ar)\n",
    "\n",
    "print()\n",
    "\n",
    "# Example 2:- \n",
    "\n",
    "c=np.arange(1,100,5)\n",
    "\n",
    "print(\"Result for step values 5:- \", c)\n",
    "\n",
    "print()\n",
    "\n",
    "# Example 3:- \n",
    "\n",
    "# Create a Sequence of Integers using arange()\n",
    "\n",
    "# Create a sequence of integers from 0 to 20 with steps of 3\n",
    "\n",
    "ar= np.arange(0, 20, 3)\n",
    "\n",
    "print (\"A sequential array with steps of 3:\\n\\n\", ar)"
   ]
  },
  {
   "cell_type": "code",
   "execution_count": 120,
   "id": "4c4e53a5",
   "metadata": {},
   "outputs": [
    {
     "name": "stdout",
     "output_type": "stream",
     "text": [
      "Arange with Data Type int:-  [ 0  1  2  3  4  5  6  7  8  9 10 11 12 13 14 15 16 17 18 19]\n",
      "\n",
      "Arange with Data Type float:-  [0. 1. 2. 3. 4. 5. 6. 7. 8. 9.]\n",
      "\n",
      "Arange with Data Type complex:-  [0.+0.j 1.+0.j 2.+0.j 3.+0.j 4.+0.j 5.+0.j 6.+0.j 7.+0.j 8.+0.j 9.+0.j]\n",
      "\n",
      "Array elements using arange:- [0.+0.j 2.+0.j 4.+0.j 6.+0.j 8.+0.j]\n"
     ]
    }
   ],
   "source": [
    "# using this function where we will create an array with virtual numbers.\n",
    "\n",
    "# Example 1:- \n",
    "\n",
    "import numpy as np  \n",
    "\n",
    "d=np.arange(20,dtype=\"int\")\n",
    "print(\"Arange with Data Type int:- \", d)\n",
    "\n",
    "print()\n",
    "\n",
    "d1=np.arange(10,dtype='float')\n",
    "print(\"Arange with Data Type float:- \", d1)\n",
    "\n",
    "print()\n",
    "\n",
    "d2=np.arange(10,dtype='complex')\n",
    "print(\"Arange with Data Type complex:- \", d2)\n",
    "\n",
    "print()\n",
    "\n",
    "y = np.arange(0,10,2,complex)  \n",
    "\n",
    "print(\"Array elements using arange:-\", y)"
   ]
  },
  {
   "cell_type": "markdown",
   "id": "aa9fb7fb",
   "metadata": {},
   "source": [
    "###### NumPy.linspace"
   ]
  },
  {
   "cell_type": "markdown",
   "id": "18f4db89",
   "metadata": {},
   "source": [
    "1. It is similar to the arrange function. However, it doesn't allow us to specify the step size in the syntax.\n",
    "\n",
    "2. Instead of that, it only returns evenly separated values over a specified period. \n",
    "\n",
    "3. The system implicitly calculates the step size.\n",
    "\n",
    "4. The syntax is given below.\n",
    "\n",
    "    **numpy.linspace(start, stop, num, endpoint, retstep, dtype)**\n",
    "    <br>\n",
    "\n",
    "5. It accepts the following parameters:-\n",
    "\n",
    "   - start: It represents the starting value of the interval.\n",
    "    \n",
    "   - stop: It represents the stopping value of the interval.\n",
    "    \n",
    "   - num: The amount of evenly spaced samples over the interval to be generated. The default is 50.\n",
    "    \n",
    "   - endpoint: Its true value indicates that the stopping value is included in the interval.\n",
    "    \n",
    "   - rettstep: This has to be a boolean value. Represents the steps and samples between the consecutive numbers.\n",
    "    \n",
    "   - dtype: It represents the data type of the array items."
   ]
  },
  {
   "cell_type": "code",
   "execution_count": 123,
   "id": "a3a4de8f",
   "metadata": {},
   "outputs": [
    {
     "name": "stdout",
     "output_type": "stream",
     "text": [
      "The array in this range with linespace is  [20.  22.5 25.  27.5 30. ]\n"
     ]
    }
   ],
   "source": [
    "# Example 1:\n",
    "    \n",
    "# Here, using this function, we will get an array with numbers between 20 and 30,\n",
    "# and we will have evenly spaced 5 numbers from this range, hence, 20, 22.5, 25, 27.5 and 30 are picked.\n",
    "\n",
    "import numpy as np  \n",
    "\n",
    "# start=20, end=30, num=5\n",
    "\n",
    "arr = np.linspace(20, 30, 5) \n",
    "\n",
    "print(\"The array in this range with linespace is \",arr)  "
   ]
  },
  {
   "cell_type": "code",
   "execution_count": 125,
   "id": "d1e81566",
   "metadata": {
    "collapsed": true
   },
   "outputs": [
    {
     "name": "stdout",
     "output_type": "stream",
     "text": [
      "NumPy Array with Linspace 10:- [ 1.  2.  3.  4.  5.  6.  7.  8.  9. 10.]\n",
      "\n",
      "NumPy Array with Linspace 20:-\n",
      " \n",
      " [ 1.          1.47368421  1.94736842  2.42105263  2.89473684  3.36842105\n",
      "  3.84210526  4.31578947  4.78947368  5.26315789  5.73684211  6.21052632\n",
      "  6.68421053  7.15789474  7.63157895  8.10526316  8.57894737  9.05263158\n",
      "  9.52631579 10.        ]\n"
     ]
    }
   ],
   "source": [
    "# Example 2:\n",
    "\n",
    "# For instance, if the first index is 1, the last index is 10 and \n",
    "# we need 10 equally spaced elements within this range, we can use the linspace method as follows:\n",
    "\n",
    "import numpy as np  \n",
    "\n",
    "lin = np.linspace(1, 10, 10)\n",
    "\n",
    "print(\"NumPy Array with Linspace 10:-\",lin)\n",
    "\n",
    "print()\n",
    "\n",
    "lin = np.linspace(1, 10, 20)\n",
    "\n",
    "print(\"NumPy Array with Linspace 20:-\\n \\n\",lin)\n",
    "\n",
    "# Notice that the output might look like a matrix, but actually it is a one-dimensional array.\n",
    "\n",
    "# Because of the spacing issue, the elements have been displayed in multiple lines."
   ]
  },
  {
   "cell_type": "code",
   "execution_count": 126,
   "id": "496119e7",
   "metadata": {
    "collapsed": true
   },
   "outputs": [
    {
     "name": "stdout",
     "output_type": "stream",
     "text": [
      "Output evenly spaced values:- [  1.    25.75  50.5   75.25 100.  ]\n",
      "\n",
      "Output evenly spaced values with endpoint:- [  1.  12.  23.  34.  45.  56.  67.  78.  89. 100.]\n",
      "\n",
      "Output evenly spaced step value between array elements:- (array([  1.  ,  25.75,  50.5 ,  75.25, 100.  ]), 24.75)\n",
      "\n",
      "Output evenly spaced values with datatype:- [  1  25  50  75 100]\n",
      "\n",
      "Output 50 values as default value of Num is 50:-\n",
      " \n",
      " [ 1.          1.18367347  1.36734694  1.55102041  1.73469388  1.91836735\n",
      "  2.10204082  2.28571429  2.46938776  2.65306122  2.83673469  3.02040816\n",
      "  3.20408163  3.3877551   3.57142857  3.75510204  3.93877551  4.12244898\n",
      "  4.30612245  4.48979592  4.67346939  4.85714286  5.04081633  5.2244898\n",
      "  5.40816327  5.59183673  5.7755102   5.95918367  6.14285714  6.32653061\n",
      "  6.51020408  6.69387755  6.87755102  7.06122449  7.24489796  7.42857143\n",
      "  7.6122449   7.79591837  7.97959184  8.16326531  8.34693878  8.53061224\n",
      "  8.71428571  8.89795918  9.08163265  9.26530612  9.44897959  9.63265306\n",
      "  9.81632653 10.        ]\n"
     ]
    }
   ],
   "source": [
    "# Example 3:\n",
    "\n",
    "c = np.linspace(1, 100, num=5)\n",
    "print(\"Output evenly spaced values:-\", c)  # Here it will display 5 numbers that are evenly spaced between 1 to 100\n",
    "\n",
    "print()\n",
    "\n",
    "c1 = np.linspace(1, 100, num=10, endpoint=True)\n",
    "print(\"Output evenly spaced values with endpoint:-\", c1)  # Endpoint is false, it will exclude 100.\n",
    "\n",
    "print()\n",
    "\n",
    "c2 = np.linspace(1, 100, num=5, retstep=True)\n",
    "print(\"Output evenly spaced step value between array elements:-\", c2)  # Returns the step value\n",
    "\n",
    "print()\n",
    "\n",
    "c3 = np.linspace(1, 100, num=5, dtype=int)\n",
    "print(\"Output evenly spaced values with datatype:-\",c3)\n",
    "\n",
    "print()\n",
    "\n",
    "c4 = np.linspace(1,10)\n",
    "print(\"Output 50 values as default value of Num is 50:-\\n \\n\",c4)"
   ]
  },
  {
   "cell_type": "markdown",
   "id": "ca6346d7",
   "metadata": {},
   "source": [
    "###### numpy.logspace"
   ]
  },
  {
   "cell_type": "markdown",
   "id": "b5b49b7f",
   "metadata": {},
   "source": [
    "1. It creates an array by using the numbers that are evenly separated on a log scale.\n",
    "\n",
    "2. The syntax is given below.\n",
    "  \n",
    "    **numpy.logspace(start, stop, num, endpoint, base, dtype)**  \n",
    "    <br>\n",
    "\n",
    "3. It accepts the following parameters.\n",
    "\n",
    "   - start: It represents the starting value of the interval in the base.\n",
    "   - stop: It represents the stopping value of the interval in the base.\n",
    "   - num: The number of values between the range.\n",
    "   - endpoint: It is a boolean type value. It makes the value represented by stop as the last value of the interval.\n",
    "   - base: It represents the base of the log space.\n",
    "   - dtype: It represents the data type of the array items."
   ]
  },
  {
   "cell_type": "code",
   "execution_count": 133,
   "id": "bc93791b",
   "metadata": {},
   "outputs": [
    {
     "name": "stdout",
     "output_type": "stream",
     "text": [
      "NumPy array with Logspace:-\n",
      "\n",
      " [1.00000000e+20 2.15443469e+23 4.64158883e+26 1.00000000e+30]\n",
      "\n",
      "NumPy array with Logspace:- \n",
      "\n",
      " [2.43000000e+02 2.29941166e+06 2.17584115e+10 2.05891132e+14]\n"
     ]
    }
   ],
   "source": [
    "# Example:-\n",
    "    \n",
    "import numpy as np  \n",
    "\n",
    "a = np.logspace(20, 30, num = 4, endpoint = True)\n",
    "\n",
    "print(\"NumPy array with Logspace:-\\n\\n\",a) \n",
    "\n",
    "print()\n",
    "\n",
    "import numpy as np  \n",
    "\n",
    "arr = np.logspace(5, 30, num = 4,base = 3, endpoint = True)\n",
    "\n",
    "print(\"NumPy array with Logspace:- \\n\\n\",arr)  "
   ]
  },
  {
   "cell_type": "markdown",
   "id": "3b593fdd",
   "metadata": {},
   "source": [
    "## 12. Convert NumPy Array to Python List - tolist()"
   ]
  },
  {
   "cell_type": "code",
   "execution_count": null,
   "id": "dceef46c",
   "metadata": {},
   "outputs": [],
   "source": [
    "We can convert the Numpy array to the list by using tolist() method.\n",
    "\n",
    "We may have a list of data elements that have been converted from the array using this method.\n",
    "\n",
    "# Syntax of tolist()\n",
    "\n",
    "ndarray.tolist()\n",
    "\n",
    "Parameters: none\n",
    "    \n",
    "Returns: The possibly nested list of array elements.\n",
    "\n",
    "Before going to convert from NumPy array to Python list we have to import the required module,\n",
    "after that, we have to create an array and then use the tolist() method to convert array to list.\n",
    "After using this method we have to check the type of class using the type() method."
   ]
  },
  {
   "cell_type": "markdown",
   "id": "6257912f",
   "metadata": {},
   "source": [
    "###### Convert One Dimensional Array To List"
   ]
  },
  {
   "cell_type": "code",
   "execution_count": 135,
   "id": "1cf03174",
   "metadata": {},
   "outputs": [
    {
     "name": "stdout",
     "output_type": "stream",
     "text": [
      "Array: [10 20 30 40]\n",
      "<class 'numpy.ndarray'>\n",
      "\n",
      "list: [10, 20, 30, 40]\n",
      "<class 'list'>\n"
     ]
    }
   ],
   "source": [
    "# Example:-\n",
    "\n",
    "# create array\n",
    "\n",
    "array = np.array([10, 20, 30, 40])\n",
    "\n",
    "print(\"Array:\", array)\n",
    "\n",
    "print(type(array))\n",
    "\n",
    "print()\n",
    "\n",
    "# Convert list\n",
    "\n",
    "list = array.tolist()\n",
    "\n",
    "print(\"list:\", list)\n",
    "\n",
    "print(type(list))"
   ]
  },
  {
   "cell_type": "code",
   "execution_count": null,
   "id": "53d9130d",
   "metadata": {},
   "outputs": [],
   "source": [
    "Convert Multi Dimensional Array to list"
   ]
  },
  {
   "cell_type": "code",
   "execution_count": 141,
   "id": "d8a790b8",
   "metadata": {},
   "outputs": [
    {
     "name": "stdout",
     "output_type": "stream",
     "text": [
      "Array:- \n",
      "\n",
      " [[10 20 30 40]\n",
      " [50 60 70 80]\n",
      " [60 40 20 10]]\n",
      "\n",
      "<class 'numpy.ndarray'>\n",
      "\n",
      "List:- \n",
      "\n",
      " [[10, 20, 30, 40], [50, 60, 70, 80], [60, 40, 20, 10]]\n",
      "\n",
      "<class 'numpy.ndarray'>\n"
     ]
    }
   ],
   "source": [
    "# Example:-\n",
    "\n",
    "# create array\n",
    "\n",
    "array = np.array([[10, 20, 30, 40],\n",
    "                  [50, 60, 70, 80],\n",
    "                  [60, 40 ,20 ,10]])  \n",
    "\n",
    "print(\"Array:- \\n\\n\", array)\n",
    "\n",
    "print()\n",
    "\n",
    "print(type(array))\n",
    "\n",
    "print()\n",
    "  \n",
    "# Convert list\n",
    "\n",
    "list = array.tolist()\n",
    "\n",
    "print(\"List:- \\n\\n\", list)\n",
    "\n",
    "print()\n",
    "\n",
    "print(type(array))"
   ]
  },
  {
   "cell_type": "code",
   "execution_count": null,
   "id": "f0037558",
   "metadata": {},
   "outputs": [],
   "source": []
  }
 ],
 "metadata": {
  "kernelspec": {
   "display_name": "Python 3 (ipykernel)",
   "language": "python",
   "name": "python3"
  },
  "language_info": {
   "codemirror_mode": {
    "name": "ipython",
    "version": 3
   },
   "file_extension": ".py",
   "mimetype": "text/x-python",
   "name": "python",
   "nbconvert_exporter": "python",
   "pygments_lexer": "ipython3",
   "version": "3.11.2"
  }
 },
 "nbformat": 4,
 "nbformat_minor": 5
}
