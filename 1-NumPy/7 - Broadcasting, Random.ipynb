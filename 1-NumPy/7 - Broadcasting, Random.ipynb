{
 "cells": [
  {
   "cell_type": "markdown",
   "id": "91efc95c",
   "metadata": {},
   "source": [
    "###### Broadcasting:- "
   ]
  },
  {
   "cell_type": "code",
   "execution_count": null,
   "id": "2d9e6c82",
   "metadata": {},
   "outputs": [],
   "source": [
    "Sometimes while doing mathematical operations we need to consider arrays of different shapes. \n",
    "\n",
    "With the help of Numpy library, one is allowed to perform operations on arrays of different shapes. \n",
    "\n",
    "Suppose you want to add two matrices and both matrices have the same shape that is 3x3 and 3x3 \n",
    "then matrices can be added very easily. \n",
    "\n",
    "But what if you want to add matrices one with shape 3x3 and second with shape 2x2 then it will lead to an error.\n",
    "To resolve this problem there comes the concept of Broadcasting in NumPy."
   ]
  },
  {
   "cell_type": "code",
   "execution_count": null,
   "id": "fb101238",
   "metadata": {},
   "outputs": [],
   "source": [
    "In Numpy, the term broadcasting refers to how Numpy handles array of different dimensions\n",
    "while performing any arithmetic operation.\n",
    "\n",
    "In broadcasting, Numpy generally broadcasts the smaller array across the larger array in order to have compatible shapes.\n",
    "\n",
    "When we perform arithmetic operations in case of multi-dimensional arrays, it is done on corresponding elements. \n",
    "So in the case, if two arrays are having the same shape, then performing arithmetic operations is super easy."
   ]
  },
  {
   "cell_type": "code",
   "execution_count": null,
   "id": "21bff564",
   "metadata": {},
   "outputs": [],
   "source": [
    "# Example 1: Adding two 1-d Arrays of the same shape\n",
    "    \n",
    "# In the example given below,we will add two one-dimensional arrays with the same shape:\n",
    "\n",
    "import numpy as np\n",
    "\n",
    "a = np.array([1,2,3,4])\n",
    "\n",
    "b = np.array([2,7,8,9])\n",
    "\n",
    "print(\"Shape of array a:-\",a.shape)\n",
    "\n",
    "print(\"\\nShape of array b:-\",b.shape)\n",
    "\n",
    "c = a+b;\n",
    "\n",
    "print(\"\\nAdding two 1-d Arrays of the same shape:-\", c)\n",
    "\n",
    "print(\"==================================================\")\n",
    "\n",
    "import numpy as np \n",
    "\n",
    "x = np.array([1,2,3,4]) \n",
    "\n",
    "y = np.array([10,20,30,40])\n",
    "\n",
    "print(\"Shape of array x:-\",x.shape)\n",
    "\n",
    "print(\"\\nShape of array y:-\",y.shape)\n",
    "\n",
    "z = x * y\n",
    "\n",
    "print(\"\\nMultiplication of two 1-d Arrays of the same shape:-\", z)"
   ]
  },
  {
   "cell_type": "code",
   "execution_count": null,
   "id": "17564c4c",
   "metadata": {},
   "outputs": [],
   "source": [
    "# Example 2: Adding two 1-d Arrays of different shape.\n",
    "\n",
    "# In the example given below we will add two one-dimensional arrays \n",
    "# with different shapes and will check what we get in the output:\n",
    "\n",
    "import numpy as np  \n",
    "\n",
    "a = np.array([4,5,6,7]) \n",
    "\n",
    "b = np.array([1,3,5,7,9,11,14])  \n",
    "\n",
    "print(\"Shape of array a:-\",a.shape)\n",
    "\n",
    "print(\"\\nShape of array b:-\",b.shape)\n",
    "\n",
    "c = a+b;  \n",
    "\n",
    "print(\"Adding two 1-d Arrays of different shape:-\",c) "
   ]
  },
  {
   "cell_type": "code",
   "execution_count": null,
   "id": "342f366a",
   "metadata": {},
   "outputs": [],
   "source": [
    "As it is clear that, whenever we will apply arithmetic operations on arrays with \n",
    "different shapes then it will result in an error.\n",
    "\n",
    "Therefore, in NumPy, such operations can only be performed by using the concept of broadcasting. \n",
    "\n",
    "In broadcasting, generally, the smaller array is broadcast to the larger array \n",
    "in order to make their shapes compatible with each other."
   ]
  },
  {
   "attachments": {
    "image.png": {
     "image/png": "[encoded data removed]"
    }
   },
   "cell_type": "markdown",
   "id": "4db7dd70",
   "metadata": {},
   "source": [
    "![image.png](attachment:image.png)\n",
    "\n",
    "In the above figure, we have two matrices, one is of 3x3 and another one is of 1x3. \n",
    "\n",
    "In broadcastng, the 1x3 matrix, which is the smaller one, \n",
    "broadcast or stretch itself in order to get compatible with 3x3. \n",
    "\n",
    "And how does it stretches by creating additional fields\n",
    "copying the 1st row two more times to take the shape of a 3x3 matrix."
   ]
  },
  {
   "cell_type": "markdown",
   "id": "4e42ac18",
   "metadata": {},
   "source": [
    "###### Rules for NumPy Broadcasting:- "
   ]
  },
  {
   "cell_type": "markdown",
   "id": "3b439e8a",
   "metadata": {},
   "source": [
    "**The concept of broadcasting in NumPy is only possible, if the following cases are satisfied:-**\n",
    "\n",
    "1. The smaller dimension ndarray can be appended with '1' in its shape.\n",
    "\n",
    "2. The size of each output dimension should be the maximum of the input sizes in the dimension.\n",
    "\n",
    "3. It is important to note that input can be used in the calculation only\n",
    "   if its size in a particular dimension matches the output size or its value is exactly 1.\n",
    "\n",
    "4. Suppose the input size is 1, then the first data entry should be used for the calculation along the dimension.\n",
    "\n",
    "**The concept of broadcasting in NumPy can be applied to the arrays, only if the following rules are satisfied:-**\n",
    "\n",
    "1. All the arrays in the input must have the same shape.\n",
    "\n",
    "2. Arrays having the same number of dimensions, and the length of each dimension is either a common length or 1.\n",
    "\n",
    "3. Those arrays with the fewer dimension can be appended with '1' in its shape."
   ]
  },
  {
   "cell_type": "code",
   "execution_count": null,
   "id": "ed21a677",
   "metadata": {},
   "outputs": [],
   "source": [
    "There are the following two rules for broadcasting in NumPy.\n",
    "\n",
    "1. Make the two arrays have the same number of dimensions.\n",
    "\n",
    "   - If the numbers of dimensions of the two arrays are different, \n",
    "     add new dimensions with size 1 to the head of the array with the smaller dimension.\n",
    "\n",
    "2. Make each dimension of the two arrays the same size.\n",
    "\n",
    "   - If the sizes of each dimension of the two arrays do not match,\n",
    "     dimensions with size 1 are stretched to the size of the other array.\n",
    "    \n",
    "   - If there is a dimension whose size is not 1 in either of the two arrays, \n",
    "     it cannot be broadcasted, and an error is raised.\n",
    "\n",
    "Note that the number of dimensions of ndarray can be obtained\n",
    "with the ndim attribute and the shape with the shape attribute."
   ]
  },
  {
   "cell_type": "code",
   "execution_count": null,
   "id": "58f917c2",
   "metadata": {},
   "outputs": [],
   "source": [
    "Rules of Broadcasting:-\n",
    "    \n",
    "Broadcasting in NumPy follows a strict set of rules to determine the interaction between the two arrays:\n",
    "\n",
    "Rule 1: If the two arrays differ in their number of dimensions, \n",
    "        the shape of the one with fewer dimensions is padded with ones on its leading (left) side.\n",
    "        \n",
    "Rule 2: If the shape of the two arrays does not match in any dimension, \n",
    "        the array with shape equal to 1 in that dimension is stretched to match the other shape.\n",
    "        \n",
    "Rule 3: If in any dimension, the sizes disagree and neither is equal to 1, an error is raised."
   ]
  },
  {
   "cell_type": "code",
   "execution_count": null,
   "id": "f97d7c66",
   "metadata": {},
   "outputs": [],
   "source": [
    "# Example 1\n",
    "\n",
    "# Let's look at adding a two-dimensional array to a one-dimensional array:-\n",
    "\n",
    "M = np.ones((2, 3))\n",
    "\n",
    "a = np.arange(3)\n",
    "\n",
    "print(\"First array elements:- \\n \\n\", M)\n",
    "\n",
    "print()\n",
    "\n",
    "print(\"Second array elements:-\", a)\n",
    "\n",
    "print()\n",
    "\n",
    "# Let's consider an operation on these two arrays. The shape of the arrays are:- \n",
    "\n",
    "print(\"Shape of first array:-\", M.shape) # -> (2, 3)\n",
    "print()\n",
    "print(\"Shape of second array:-\",a.shape) # -> (3,)\n",
    "print()\n",
    "\n",
    "# We see by rule 1 that the array a has fewer dimensions, so we pad it on the left with ones:\n",
    "\n",
    "    # M.shape -> (2, 3)\n",
    "    # a.shape -> (1, 3)\n",
    "\n",
    "# By rule 2, we now see that the first dimension disagrees, so we stretch this dimension to match:\n",
    "\n",
    "    # M.shape -> (2, 3)\n",
    "    # a.shape -> (2, 3)\n",
    "\n",
    "# The shapes match, and we see that the final shape will be (2, 3):\n",
    "\n",
    "c = M+a\n",
    "\n",
    "print(\"Adding a two-dimensional array to a one-dimensional array:-\\n\\n\", c)\n",
    "print()\n",
    "print(\"Shape of the final array:-\",c.shape) # -> (2,3)\n",
    "\n",
    "# array([[ 1.,  2.,  3.],\n",
    "#        [ 1.,  2.,  3.]])"
   ]
  },
  {
   "cell_type": "code",
   "execution_count": null,
   "id": "3ee08ad8",
   "metadata": {},
   "outputs": [],
   "source": [
    "# Example 2:-\n",
    "\n",
    "# Let's take a look at an example where both arrays need to be broadcast:\n",
    "\n",
    "a = np.arange(3).reshape((3, 1))\n",
    "\n",
    "b = np.arange(3)\n",
    "\n",
    "print(\"First array elements:- \\n \\n\", a)\n",
    "\n",
    "print()\n",
    "\n",
    "print(\"Second array elements:-\", b)\n",
    "\n",
    "print()\n",
    "\n",
    "# Again, we'll start by writing out the shape of the arrays:\n",
    "\n",
    "print(\"Shape of first array:-\", a.shape) # -> (3, 1)\n",
    "print()\n",
    "\n",
    "print(\"Shape of second array:-\",a.shape) # -> (3,)\n",
    "print()\n",
    "\n",
    "# Rule 1 says, we must pad the shape of b with ones:\n",
    "\n",
    "    # a.shape -> (3, 1)\n",
    "    # b.shape -> (1, 3)\n",
    "\n",
    "# And rule 2 tells us that, we upgrade each of these ones to match the corresponding size of the other array:\n",
    "\n",
    "    # a.shape -> (3, 3)\n",
    "    # b.shape -> (3, 3)\n",
    "\n",
    "# Because the result matches, these shapes are compatible. We can see this here:\n",
    "\n",
    "c = a + b\n",
    "\n",
    "print(\"Adding a two-dimensional array to a one-dimensional array:-\\n\\n\", c)\n",
    "print()\n",
    "print(\"Shape of the final array:-\",c.shape) # -> (3,3)"
   ]
  },
  {
   "cell_type": "code",
   "execution_count": null,
   "id": "f34f7860",
   "metadata": {},
   "outputs": [],
   "source": [
    "# Example 3\n",
    "\n",
    "# Now let's take a look at an example in which the two arrays are not compatible:\n",
    "\n",
    "M = np.ones((3, 2))\n",
    "a = np.arange(3)\n",
    "\n",
    "print(\"First array elements:- \\n \\n\", M)\n",
    "\n",
    "print()\n",
    "\n",
    "print(\"Second array elements:-\", a)\n",
    "\n",
    "print()\n",
    "\n",
    "# This is just a slightly different situation than in the first example: the matrix M is transposed. \n",
    "# How does this affect the calculation? \n",
    "\n",
    "# The shape of the arrays are\n",
    "\n",
    "print(\"Shape of first array:-\", M.shape) # -> (3, 2)\n",
    "print()\n",
    "\n",
    "print(\"Shape of second array:-\",a.shape) # -> (3,)\n",
    "print()\n",
    "\n",
    "# Again, rule 1 tells us that we must pad the shape of a with ones:\n",
    "\n",
    "    # M.shape -> (3, 2)\n",
    "    # a.shape -> (1, 3)\n",
    "\n",
    "# By rule 2, the first dimension of a is stretched to match that of M:\n",
    "\n",
    "    # M.shape -> (3, 2)\n",
    "    # a.shape -> (3, 3)\n",
    "    \n",
    "# Now we hit rule 3–the final shapes do not match, so these two arrays are incompatible,\n",
    "# as we can observe by attempting this operation:\n",
    "\n",
    "c = M + a\n",
    "\n",
    "print(\"Adding a two-dimensional array to a one-dimensional array:-\\n\\n\", c)\n",
    "print() \n",
    "\n",
    "# ----------------------------------------------------------------------------\n",
    "# ValueError                                Traceback (most recent call last)\n",
    "# <ipython-input-13-9e16e9f98da6> in <module>()\n",
    "# ----> 1 M + a\n",
    "\n",
    "# ValueError: operands could not be broadcast together with shapes (3,2) (3,) \n",
    "# -----------------------------------------------------------------------------\n",
    "\n",
    "# Note the potential confusion here:\n",
    "  # We could imagine making a and M compatible by, say, padding a's shape with ones on the\n",
    "  # right rather than the left. But this is not how the broadcasting rules work! \n",
    "  # That sort of flexibility might be useful in some cases,\n",
    "  # but it would lead to potential areas of ambiguity. \n",
    "  # If right-side padding is what you'd like, you can do this explicitly by reshaping the array"
   ]
  },
  {
   "cell_type": "code",
   "execution_count": null,
   "id": "22c51fb6",
   "metadata": {},
   "outputs": [],
   "source": [
    "# Example:-1\n",
    "    \n",
    "import numpy as np  \n",
    "\n",
    "a = np.array([[1,2,3,4],[2,4,5,6],[10,20,39,3]])\n",
    "\n",
    "b = np.array([2,4,6,8]) \n",
    "\n",
    "print(\"\\nprinting array a:-\\n\",a)  \n",
    " \n",
    "print(\"\\nprinting array b:-\\n\",b)  \n",
    "  \n",
    "c = a + b; \n",
    "\n",
    "print(\"\\nAdding arrays a and b:-\\n\", c)"
   ]
  },
  {
   "attachments": {
    "image.png": {
     "image/png": "[encoded data removed]"
    }
   },
   "cell_type": "markdown",
   "id": "0d8bccff",
   "metadata": {},
   "source": [
    "![image.png](attachment:image.png)"
   ]
  },
  {
   "cell_type": "code",
   "execution_count": null,
   "id": "e7d975fa",
   "metadata": {},
   "outputs": [],
   "source": [
    "# Example:-2\n",
    "\n",
    "import numpy as np \n",
    "\n",
    "a = np.array([[0.0,0.0,0.0],[10.0,10.0,10.0],[20.0,20.0,20.0],[30.0,30.0,30.0]])\n",
    "\n",
    "b = np.array([1.0,2.0,3.0])  \n",
    "\n",
    "print(\"printing First array a:-\\n\",a)  \n",
    " \n",
    "print(\"\\nprinting Second array b:-\\n\",b)\n",
    "\n",
    "print(\"\\nShape of array a:-\",a.shape)\n",
    "\n",
    "print(\"\\nShape of array b:-\",b.shape)\n",
    "  \n",
    "c = a + b; \n",
    "\n",
    "print(\"\\nAdding arrays a and b:-\\n\", c)"
   ]
  },
  {
   "cell_type": "code",
   "execution_count": null,
   "id": "83021f26",
   "metadata": {},
   "outputs": [],
   "source": [
    "import numpy as np  \n",
    "\n",
    "a = np.array([[1,2,3,4],[11,10,8,6],[10,20,39,3]])  \n",
    "\n",
    "b = np.array([4,8,10,12])\n",
    "  \n",
    "print(\"The array a is :\")  \n",
    "print(a)  \n",
    "print(\"\\n The array b is :\")  \n",
    "print(b) \n",
    "\n",
    "print(\"\\nShape of array a:-\",a.shape)\n",
    "\n",
    "print(\"\\nShape of array b:-\",b.shape)\n",
    "\n",
    "c = a + b;  \n",
    "\n",
    "print(\"\\n After addition of array a and b resultant array is:-\",c) "
   ]
  },
  {
   "cell_type": "markdown",
   "id": "48761f87",
   "metadata": {},
   "source": [
    "# NumPy Random Method"
   ]
  },
  {
   "cell_type": "markdown",
   "id": "8cad15e4",
   "metadata": {},
   "source": [
    "- In NumPy, we have a module called random which provides functions for generating random numbers.\n",
    "\n",
    "- This module contains the functions which are used for generating random numbers.\n",
    "\n",
    "- The random is a module present in the NumPy library. \n",
    "\n",
    "- This module contains the functions which are used for generating random numbers. \n",
    "\n",
    "- This module contains some simple random data generation methods, \n",
    "  some permutation and distribution functions, and random generator functions."
   ]
  },
  {
   "cell_type": "markdown",
   "id": "86c438a3",
   "metadata": {},
   "source": [
    "## NumPy random.rand() "
   ]
  },
  {
   "cell_type": "markdown",
   "id": "6334548f",
   "metadata": {},
   "source": [
    "- NumPy random.rand() function in Python is used to return random values \n",
    "  from a uniform distribution in a specified shape.\n",
    "\n",
    "- This function creates an array of the given shape and\n",
    "  it fills with random samples from the uniform distribution.\n",
    "\n",
    "- This function takes a tuple, to specify the size of an array, \n",
    "  which behavior same as the other NumPy functions like the \n",
    "  numpy.ones() function and numpy.zeros() function.\n",
    "\n",
    "**Syntax of NumPy random.rand():-** random.rand(d0, d1, ..., dn)\n",
    "    \n",
    "**Parameters:-** \n",
    "\n",
    "- d0, d1, …, dn – The dimension of the returned array and it must be int type.\n",
    "- If no argument is specified a single Python float is returned.\n",
    "\n",
    "**Return Value:-**\n",
    "\n",
    "- It returns a random array of specified shapes, \n",
    "  filled with random values of float type from a uniform distribution over [0,1]."
   ]
  },
  {
   "cell_type": "code",
   "execution_count": null,
   "id": "6fdf9c05",
   "metadata": {},
   "outputs": [],
   "source": [
    "The random.rand() is a numpy library function that returns an array of random samples \n",
    "from the uniform distribution over [0,1]. \n",
    "\n",
    "It allows dimensions as an argument and returns an array of specified dimensions.\n",
    "\n",
    "If we don’t provide any argument, it will return the float value.\n",
    "\n",
    "This function returns the random number without passing any parameter. \n",
    "\n",
    "We might get different random numbers when you run the same code multiple times. "
   ]
  },
  {
   "cell_type": "markdown",
   "id": "f980d324",
   "metadata": {},
   "source": [
    "###### Example 1:- Generating random values using random.rand() function"
   ]
  },
  {
   "cell_type": "code",
   "execution_count": null,
   "id": "ea3acbae",
   "metadata": {},
   "outputs": [],
   "source": [
    "import numpy as np\n",
    "\n",
    "# Use random.rand() function\n",
    "arr = np.random.rand()\n",
    "\n",
    "print(\"Printing random values using random.rand() function:-\",arr)\n",
    "\n",
    "print()\n",
    "\n",
    "# Alternatively use the np.random.seed() function avoid the above problem. \n",
    "# It will return the same result with every execution by setting the seed() value.\n",
    "\n",
    "# Use numpy.random.seed() function\n",
    "\n",
    "np.random.seed(0)\n",
    "\n",
    "arr1 = np.random.rand()\n",
    "\n",
    "print(\"Printing random values using random.rand() & Seed() function:-\",arr1)"
   ]
  },
  {
   "cell_type": "markdown",
   "id": "283c946f",
   "metadata": {},
   "source": [
    "###### Example 2:- Get 1-D NumPy Array of Random Values"
   ]
  },
  {
   "cell_type": "code",
   "execution_count": null,
   "id": "0155f36d",
   "metadata": {},
   "outputs": [],
   "source": [
    "# Pass the shape of the array as an argument into random.rand() function \n",
    "# to create a one-dimensional NumPy array of random values.\n",
    "# This function will return an array of a given dimension. \n",
    "# The below example returns 6 random values with shape 1,6 (1 row and 6 columns).\n",
    "\n",
    "# Get 1-dimensional array of random values\n",
    "\n",
    "arr = np.random.rand(6)\n",
    "\n",
    "print(\"Getting 1-dimensional array of random values:-\", arr)"
   ]
  },
  {
   "cell_type": "markdown",
   "id": "425e4d37",
   "metadata": {},
   "source": [
    "###### Example 3:- Get 2-D NumPy Array of Random Values"
   ]
  },
  {
   "cell_type": "code",
   "execution_count": null,
   "id": "216bcc69",
   "metadata": {},
   "outputs": [],
   "source": [
    "# To get random values of two-dimensional arrays, \n",
    "# pass (tuple of ints) the shape of the array with value 2 or more for rows.\n",
    "# It returns the two-dimensional array of specified shape.\n",
    "\n",
    "arr = np.random.rand(2,5)\n",
    "\n",
    "print(\"Getting 2-Dimensional array of random values:-\\n\\n\",arr)"
   ]
  },
  {
   "cell_type": "markdown",
   "id": "824ad06e",
   "metadata": {},
   "source": [
    "###### Example 4:- Get 3-D NumPy Array of Random Values"
   ]
  },
  {
   "cell_type": "code",
   "execution_count": null,
   "id": "cafef9dd",
   "metadata": {},
   "outputs": [],
   "source": [
    "# Let’s generate a three-dimensional random array with a specified shape. \n",
    "# Similarly, you can also generate any random arrays of any size using \n",
    "# the numpy.random.rand() function.\n",
    "\n",
    "# Generate 3-dimensional array of random values\n",
    "\n",
    "arr = np.random.rand(5,2,4)\n",
    "\n",
    "print(\"Getting 3-Dimensional array of random values:-\\n\\n\",arr)"
   ]
  },
  {
   "cell_type": "markdown",
   "id": "4984ab8e",
   "metadata": {},
   "source": [
    "###### Example 5:- # Generate Random Float in NumPy"
   ]
  },
  {
   "cell_type": "code",
   "execution_count": null,
   "id": "df52e09f",
   "metadata": {},
   "outputs": [],
   "source": [
    "# We can also generate a random floating-point number between 0 and 1.\n",
    "\n",
    "# For that we use the random.rand() function.\n",
    "\n",
    "import numpy as np\n",
    "\n",
    "rn = np.random.rand()\n",
    "\n",
    "print(\"Generate random float-point number between 0 and 1:-\", rn)\n",
    "\n",
    "# Here, random.rand() generates a random floating-point number between 0 and 1.\n",
    "\n",
    "# Since the number is generated randomly, the output value can vary each time the code is run."
   ]
  },
  {
   "cell_type": "markdown",
   "id": "5f48dbd7",
   "metadata": {},
   "source": [
    "###### Example 8:- Generate random numbers or values in a given shape"
   ]
  },
  {
   "cell_type": "code",
   "execution_count": null,
   "id": "d8a2fe4e",
   "metadata": {},
   "outputs": [],
   "source": [
    "# This function of random module is used to generate random numbers or values in a given shape.\n",
    "\n",
    "import numpy as np  \n",
    "\n",
    "a=np.random.rand(5,2) \n",
    "\n",
    "print(\"Generate random numbers or values in a given shape:-\\n\",a)\n",
    "\n",
    "print()\n",
    "\n",
    "import numpy as np  \n",
    "\n",
    "b=np.random.randn(2,2)  \n",
    "\n",
    "print(\"Generate random numbers or values in a given shape:-\\n\",b)"
   ]
  },
  {
   "cell_type": "markdown",
   "id": "6e8ef0bb",
   "metadata": {},
   "source": [
    "### NumPy random.randn()"
   ]
  },
  {
   "cell_type": "markdown",
   "id": "46b92c25",
   "metadata": {},
   "source": [
    "- NumPy random.randn() function in Python is used to return random values\n",
    "  from the normal distribution in a specified shape. \n",
    "\n",
    "- This function creates an array of the given shape and \n",
    "  it fills with random samples from the normal standard distribution. \n",
    "\n",
    "- This function takes a single integer or sequence of integers \n",
    "  to specify the size of an array similar to other NumPy functions\n",
    "  like the numpy.ones() and numpy.zeros() functions. \n",
    "\n",
    "**# Syntax of NumPy random.randn():-**random.rand(d0, d1, ..., dn) \n",
    "\n",
    "**Parameters:-**\n",
    "\n",
    " - d0, d1, …, dn – The dimension of the returned array and it must be int type. \n",
    " - If no argument is specified a single Python float is returned.\n",
    "\n",
    "**Return Value:-**\n",
    "    \n",
    " - It returns a random array of specified shapes,\n",
    "   filled with random values of float type from the standard normal distribution."
   ]
  },
  {
   "cell_type": "code",
   "execution_count": null,
   "id": "a8f6bfd5",
   "metadata": {},
   "outputs": [],
   "source": [
    "The random.randn() is a numpy library function that returns\n",
    "an array of random samples from the standard normal distribution. \n",
    "\n",
    "It allows specified dimensions as an argument and returns an array of specified dimensions. \n",
    "\n",
    "If we don’t provide any argument, it will return the float value. \n",
    "\n",
    "The np.random.randn() function returns all the samples in float form,\n",
    "which are from the univariate “normal” (Gaussian) distribution of mean 0 and variance 1."
   ]
  },
  {
   "cell_type": "markdown",
   "id": "37acc2f8",
   "metadata": {},
   "source": [
    "**Note:**\n",
    "\n",
    " - The dimensions of the returned array must be non-negative. \n",
    "   If you provide a negative argument, then it will return an error.\n",
    "   <br>\n",
    "   \n",
    " - This function returns the random number without passing any parameter. \n",
    "   You might get different random numbers when you run the same code multiple times."
   ]
  },
  {
   "cell_type": "markdown",
   "id": "1bb773c9",
   "metadata": {},
   "source": [
    "###### Example 1:- Use random.randn() function"
   ]
  },
  {
   "cell_type": "code",
   "execution_count": null,
   "id": "1e5e3f20",
   "metadata": {},
   "outputs": [],
   "source": [
    "import numpy as np\n",
    "\n",
    "arr = np.random.randn()\n",
    "\n",
    "print(\"Generating random values using random.randn() function:-\", arr)"
   ]
  },
  {
   "cell_type": "markdown",
   "id": "5c6b2e25",
   "metadata": {},
   "source": [
    "###### Example 2:- Get 1-D NumPy Array of Random Values"
   ]
  },
  {
   "cell_type": "code",
   "execution_count": null,
   "id": "9cc192ed",
   "metadata": {},
   "outputs": [],
   "source": [
    "# To pass the integer as a shape of the array into random.randn() function, \n",
    "# let’s create a one-dimensional NumPy array of random values.\n",
    "# This function will return an array of a given dimension.\n",
    "\n",
    "import numpy as np\n",
    "\n",
    "arr = np.random.randn(6)\n",
    "\n",
    "print(\"Getting 1-dimensional array of random values:-\\n\", arr)"
   ]
  },
  {
   "cell_type": "markdown",
   "id": "fa498472",
   "metadata": {},
   "source": [
    "###### Example 3:- Get 2-D NumPy Array of Random Values"
   ]
  },
  {
   "cell_type": "code",
   "execution_count": null,
   "id": "269c9ac4",
   "metadata": {},
   "outputs": [],
   "source": [
    "# While constructing two-dimensional random arrays, \n",
    "# pass the shape(sequence of ints) of the array to this function. \n",
    "# It returns the two-dimensional array of the specified shape of random values.\n",
    "\n",
    "import numpy as np\n",
    "\n",
    "arr = np.random.randn(2,5)\n",
    "\n",
    "print(\"Getting 2-dimensional array of random values:-\\n\\n\", arr)"
   ]
  },
  {
   "cell_type": "markdown",
   "id": "fb1ebf0c",
   "metadata": {},
   "source": [
    "###### Example 4:- Get 3-D NumPy Array of Random Values"
   ]
  },
  {
   "cell_type": "code",
   "execution_count": null,
   "id": "523e9b36",
   "metadata": {},
   "outputs": [],
   "source": [
    "# This function can be generated a three-dimensional random array \n",
    "# with a specified shape. \n",
    "# Similarly, we can also generate any random samples of arrays of any size \n",
    "# using the numpy.random.randn() function.\n",
    "\n",
    "import numpy as np\n",
    "\n",
    "arr = np.random.randn(5,2,4)\n",
    "\n",
    "print(\"Getting 3-dimensional array of random values:-\\n\\n\", arr)"
   ]
  },
  {
   "cell_type": "markdown",
   "id": "3ec7e82d",
   "metadata": {},
   "source": [
    "###### Example 5:- Specify Negative Integer as Parameter"
   ]
  },
  {
   "cell_type": "code",
   "execution_count": null,
   "id": "7565e8b1",
   "metadata": {},
   "outputs": [],
   "source": [
    "# If we provide a negative integer as a parameter\n",
    "# to specify the size of an array, it will give the ValueError.\n",
    "\n",
    "import numpy as np\n",
    "\n",
    "arr = np.random.randn(-2)\n",
    "\n",
    "print(\"Negative Integer as parameter:-\", arr)\n",
    "\n",
    "# Output : ValueError: negative dimensions are not allowed"
   ]
  },
  {
   "cell_type": "markdown",
   "id": "cd37d6ba",
   "metadata": {},
   "source": [
    "###### Example 6:- Random integers between 0-9"
   ]
  },
  {
   "cell_type": "code",
   "execution_count": null,
   "id": "cb3fe589",
   "metadata": {},
   "outputs": [],
   "source": [
    "import numpy as np\n",
    "\n",
    "rn = np.random.randint(0, 10)\n",
    "\n",
    "print(\"Generate random integer from 0 to 9:-\", rn)\n",
    "\n",
    "# In this example, we have used the random module to generate a random number. \n",
    "\n",
    "# The random.randint() function takes two arguments,\n",
    "\n",
    "   # 0 - a lower bound (inclusive)\n",
    "   # 10 - an upper bound (exclusive)\n",
    "\n",
    "# Here, random.randint() returns a random integer between 0 and 9.\n",
    "\n",
    "# Since the output will be a randomly generated integer between 0 and 9, \n",
    "# we will see different outputs each time the code is run."
   ]
  },
  {
   "cell_type": "code",
   "execution_count": null,
   "id": "55850ded",
   "metadata": {},
   "outputs": [],
   "source": [
    "from numpy import random\n",
    "\n",
    "rn = random.randint(0, 10)\n",
    "\n",
    "print(\"Generate random integer from 0 to 9:-\", rn)\n",
    "\n",
    "# Here, the syntax is slightly different, but the output will be the same as above, \n",
    "\n",
    "# we will get a random integer between 0 and 9."
   ]
  },
  {
   "cell_type": "markdown",
   "id": "3f2c403f",
   "metadata": {},
   "source": [
    "###### Example 7:- Generating random values "
   ]
  },
  {
   "cell_type": "code",
   "execution_count": null,
   "id": "eacaae7c",
   "metadata": {},
   "outputs": [],
   "source": [
    "import numpy as np\n",
    "\n",
    "# generate single int from 10 to 15 (exclusive)\n",
    "\n",
    "print(\"Generating single int from 10 to 15:-\",np.random.randint(10,15))\n",
    "\n",
    "print()\n",
    "\n",
    "# generate 5 random ints from 10 to 15 (exclusive)\n",
    "\n",
    "print(\"Generating 5 random ints from 10 to 15:-\",np.random.randint(10,15, size=5))\n",
    "\n",
    "print()\n",
    "\n",
    "# generate a single int from 0 to 100 (exclusive)\n",
    "\n",
    "print(\"Generating a single int from 0 to 100:-\",np.random.randint(0,100))\n",
    "\n",
    "print()\n",
    "\n",
    "# generate 5 random ints from 0 to 100 (exclusive)\n",
    "\n",
    "print(\"Generating 5 random ints from 0 to 100:-\", np.random.randint(0,100, size=5))"
   ]
  },
  {
   "cell_type": "code",
   "execution_count": null,
   "id": "6bf9698f",
   "metadata": {},
   "outputs": [],
   "source": [
    "# Finally, to create an array of random integers, the randint method exists for such a case.\n",
    "# The randint method takes the lower bound, upper bound, and the number of integers to return. \n",
    "# For instance, if you want to create an array of 5 random integers between 50 and 100, we can use this method as follows:\n",
    "\n",
    "import numpy as np\n",
    "\n",
    "random = np.random.randint(50, 100, 5)\n",
    "\n",
    "random1 = np.random.randint(20, 30, 5)\n",
    "\n",
    "print(\"Matrix with randint() function:-\\n \\n \",random)\n",
    "\n",
    "print(\"Matrix with randint() function:-\\n \\n \",random1)"
   ]
  },
  {
   "cell_type": "markdown",
   "id": "ba697545",
   "metadata": {},
   "source": [
    "### NumPy Random choice()"
   ]
  },
  {
   "cell_type": "markdown",
   "id": "46aa2fc4",
   "metadata": {},
   "source": [
    "- NumPy random.choice() function in Python is used\n",
    "  to return a random sample from a given 1-D array. \n",
    "\n",
    "- It creates an array and fills it with random samples. \n",
    "\n",
    "- If we pass numpy.arange() to the NumPy random.choice() function, \n",
    "  it will randomly select the single element from the sequence and return it. \n",
    "\n",
    "- For example, pass the number as a choice(7),\n",
    "  then the function randomly selects one number in the range [0,6]. \n",
    "\n",
    "- Using this function we will get a different single random element for every execution of the same code."
   ]
  },
  {
   "cell_type": "markdown",
   "id": "3dba7952",
   "metadata": {},
   "source": [
    "###### Example :- Get the single element from random choice"
   ]
  },
  {
   "cell_type": "code",
   "execution_count": null,
   "id": "5c5125b3",
   "metadata": {},
   "outputs": [],
   "source": [
    "import numpy as np\n",
    "\n",
    "arr = np.random.choice(7)\n",
    "\n",
    "print(\"Get the single element from random choice:-\", arr)"
   ]
  },
  {
   "cell_type": "code",
   "execution_count": null,
   "id": "5c20fe42",
   "metadata": {},
   "outputs": [],
   "source": [
    "# Choose Random Number from NumPy Array\n",
    "\n",
    "# To choose a random number from a NumPy array, we can use the random.choice() function.\n",
    "\n",
    "import numpy as np\n",
    "\n",
    "# create an array of integers from 1 to 5\n",
    "\n",
    "array1 = np.array([1, 2, 3, 4, 5])\n",
    "\n",
    "# choose a random number from array1\n",
    "\n",
    "rc = np.random.choice(array1)\n",
    "\n",
    "print(\"Choose a random number from array1:-\",rc)\n",
    "\n",
    "# In the above example, the np.random.choice(array1) function chooses a random number from the array1 array.\n",
    "\n",
    "# It is important to note that the output will be a single random number from array1, \n",
    "# which will be different each time the code is run."
   ]
  },
  {
   "cell_type": "code",
   "execution_count": null,
   "id": "58ab16a7",
   "metadata": {},
   "outputs": [],
   "source": []
  }
 ],
 "metadata": {
  "kernelspec": {
   "display_name": "Python 3 (ipykernel)",
   "language": "python",
   "name": "python3"
  },
  "language_info": {
   "codemirror_mode": {
    "name": "ipython",
    "version": 3
   },
   "file_extension": ".py",
   "mimetype": "text/x-python",
   "name": "python",
   "nbconvert_exporter": "python",
   "pygments_lexer": "ipython3",
   "version": "3.11.2"
  }
 },
 "nbformat": 4,
 "nbformat_minor": 5
}
