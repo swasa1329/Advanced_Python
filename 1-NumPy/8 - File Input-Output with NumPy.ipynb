{
 "cells": [
  {
   "cell_type": "markdown",
   "id": "93536e5e",
   "metadata": {},
   "source": [
    "###### File Input/Output with NumPy"
   ]
  },
  {
   "cell_type": "markdown",
   "id": "79c7c4e6",
   "metadata": {},
   "source": [
    "- Numpy is a data science package for Python that is used for numerical data manipulation and analysis.\n",
    "  <br>\n",
    "- Sometimes, we need to store our data in an external file that \n",
    "  we can put on a computer disk for long term storage. \n",
    "  These long-term files that store Numpy array data are .npy and .npz files. \n",
    "  We can create .npy and .npz files with Numpy save and Numpy savez.\n",
    "  <br>\n",
    "- Later though, if we want to work with those stored arrays again, \n",
    "  we need to re-load those array files from those .npy or .npz files back into our working environment.\n",
    "  <br>\n",
    "- How do we do this? We do it with Numpy load.\n",
    "  <br>\n",
    "  \n",
    "- So essentially, we put Numpy array data in long-term storage with Numpy save, \n",
    "  and we can load it back into our working environment later with Numpy load."
   ]
  },
  {
   "cell_type": "markdown",
   "id": "d14a31a8",
   "metadata": {},
   "source": [
    "###### NumPy File Operations"
   ]
  },
  {
   "attachments": {
    "image.png": {
     "image/png": "[encoded data removed]"
    }
   },
   "cell_type": "markdown",
   "id": "e05d91e6",
   "metadata": {},
   "source": [
    "The NumPy objects can be saved to a disk file and loaded from it. \n",
    "\n",
    "Below mentioned are most commonly used functions to achieve this:-\n",
    "\n",
    "![image.png](attachment:image.png)"
   ]
  },
  {
   "cell_type": "markdown",
   "id": "b04caa2d",
   "metadata": {},
   "source": [
    "###### numpy.save() function"
   ]
  },
  {
   "cell_type": "markdown",
   "id": "92b35e80",
   "metadata": {},
   "source": [
    "**The NumPy save() function is used to save an array to a binary file in NumPy .npy format.**\n",
    "\n",
    "**Syntax:-** numpy.save(file, arr)\n",
    "    \n",
    "**Parameters:-**\n",
    "    \n",
    "**file:-** Required. Specify file or filename to which the data is saved. \n",
    "           If file is a file-object, then the filename is unchanged. \n",
    "           If file is a string or Path, a .npy extension will be appended to the filename if it does not already have one.\n",
    "        \n",
    "**arr:-** Required. Specify array data to be saved.\n",
    "\n",
    "**Note:-** The .npy extension is automatically appended to the file name if it's not already present."
   ]
  },
  {
   "cell_type": "code",
   "execution_count": 16,
   "id": "7d8d88b5",
   "metadata": {
    "collapsed": true
   },
   "outputs": [
    {
     "name": "stdout",
     "output_type": "stream",
     "text": [
      "NumPy version:-  1.25.2 \n",
      "\n",
      "Array Elements:-\n",
      "\n",
      " [[[0 1 2]\n",
      "  [3 4 5]]]\n",
      "\n",
      "Shape of the Array:- (1, 2, 3)\n",
      "\n",
      "Type of the data:- int8\n",
      "\n",
      "Binary File with extension .npy has been saved \n",
      "\n",
      "================================================\n",
      "Array Elements:- [10 20 30 40 50 60]\n",
      "\n",
      "Shape of the Array:- (6,)\n",
      "\n",
      "Type of the data:- int32\n",
      "\n",
      "Binary File with extension .npy has been saved\n"
     ]
    }
   ],
   "source": [
    "# Example 1:-\n",
    "\n",
    "import numpy as np\n",
    "\n",
    "print(\"NumPy version:- \", np.__version__,\"\\n\")\n",
    "\n",
    "a = np.arange(6, dtype=np.int8).reshape(1, 2, 3)\n",
    "\n",
    "print(\"Array Elements:-\\n\\n\", a)\n",
    "\n",
    "print(\"\\nShape of the Array:-\", a.shape)\n",
    "\n",
    "print(\"\\nType of the data:-\", a.dtype)\n",
    "\n",
    "print()\n",
    "\n",
    "np.save('x',a)\n",
    "\n",
    "print(\"Binary File with extension .npy has been saved \\n\")\n",
    "\n",
    "print(\"--------------------------------------------------\")\n",
    "\n",
    "# Specify the file path, either as a string or as a pathlib.Path object, \n",
    "# as the first argument and the ndarray to be saved as the second argument.\n",
    "\n",
    "# Example 2:-\n",
    "\n",
    "import numpy as np\n",
    "\n",
    "arr = np.array([10, 20, 30, 40, 50, 60])\n",
    "\n",
    "print(\"Array Elements:-\", arr)\n",
    "\n",
    "print(\"\\nShape of the Array:-\", arr.shape)\n",
    "\n",
    "print(\"\\nType of the data:-\", arr.dtype)\n",
    "\n",
    "print()\n",
    "\n",
    "#saving arr in binary file - test.npy\n",
    "np.save(\"test\", arr)\n",
    "\n",
    "print(\"Binary File with extension .npy has been saved\")"
   ]
  },
  {
   "cell_type": "markdown",
   "id": "2ca8fe34",
   "metadata": {},
   "source": [
    "###### Savez()-Save Multiple NumPy Array Files"
   ]
  },
  {
   "cell_type": "markdown",
   "id": "102739e7",
   "metadata": {},
   "source": [
    "- To save multiple NumPy arrays into a single file, we use the savez() function.\n",
    "\n",
    "- The savez() function is similar to the save() function, \n",
    "  but it can save multiple arrays at once in the .npz format.\n",
    "\n",
    "  **Syntax:-** np.savez(file, *args, **kwds)\n",
    "\n",
    "  **Parameters:-**\n",
    "  - file** - name of the file where the arrays will be saved\n",
    "  - *args - list of arrays to be saved (comma-separated)\n",
    "  - **kwds - keyword arguments to give custom names of the files to be saved"
   ]
  },
  {
   "cell_type": "code",
   "execution_count": null,
   "id": "fd95fce7",
   "metadata": {},
   "outputs": [],
   "source": [
    "import numpy as np\n",
    "\n",
    "# create two NumPy arrays\n",
    "\n",
    "array1 = np.array([2, 6, 10])\n",
    "\n",
    "array2 = np.array([4, 8, 12])\n",
    "\n",
    "# save the two arrays into a single file\n",
    "\n",
    "np.savez('file2.npz', file1 = array1, file2 = array2)\n",
    "\n",
    "# In this example, we have used the np.savez() function to save \n",
    "# the two NumPy arrays array1 and array2 into a single file named file2.npz.\n",
    "\n",
    "# The file1 and file2 are the names given to the arrays using keyword arguments."
   ]
  },
  {
   "cell_type": "markdown",
   "id": "959e7787",
   "metadata": {},
   "source": [
    "###### numpy.load() function"
   ]
  },
  {
   "cell_type": "code",
   "execution_count": null,
   "id": "756aa7ab",
   "metadata": {},
   "outputs": [],
   "source": [
    "**The NumPy load() function is used to load arrays from .npy files.**\n",
    "\n",
    "**Syntax:-** numpy.save(file, mmap_mode=None)\n",
    "    \n",
    "**Parameters:-**\n",
    "    \n",
    "**File:-** Required. Specify the file to read. File-like objects must support the seek() and read() methods.\n",
    "\n",
    "**mmap_mode:-** Optional. It can take value from {None, 'r+', 'r', 'w+', 'c'}. Default is None. "
   ]
  },
  {
   "cell_type": "markdown",
   "id": "37b6d348",
   "metadata": {},
   "source": [
    "###### Example 1:- Load Single NumPy Array File"
   ]
  },
  {
   "cell_type": "code",
   "execution_count": 20,
   "id": "141c11ae",
   "metadata": {},
   "outputs": [
    {
     "name": "stdout",
     "output_type": "stream",
     "text": [
      "Displaying the content of file.npy file:-\n",
      " [[ 2  4  6]\n",
      " [ 8 10 12]]\n",
      "------------------------------------------------\n",
      "Displaying the content of test.npy file:-\n",
      " [10 20 30 40 50 60]\n"
     ]
    }
   ],
   "source": [
    "import numpy as np\n",
    "\n",
    "array1 = np.array([[2, 4, 6], \n",
    "                  [8, 10, 12]])\n",
    "\n",
    "# save the array to a file\n",
    "np.save('file1.npy', array1)\n",
    "\n",
    "# load the saved NumPy array\n",
    "x = np.load('file1.npy')\n",
    "\n",
    "# display the loaded array\n",
    "print(\"Displaying the content of file.npy file:-\\n\", x)\n",
    "\n",
    "print(\"------------------------------------------------\")\n",
    "\n",
    "import numpy as np\n",
    "\n",
    "arr = np.array([10, 20, 30, 40, 50, 60])\n",
    "\n",
    "#saving arr in binary file - test.npy\n",
    "np.save(\"test\", arr)\n",
    "\n",
    "#loading array from test.npy\n",
    "x = np.load(\"test.npy\")\n",
    "\n",
    "#displaying the content of y\n",
    "print(\"Displaying the content of test.npy file:-\\n\", x)"
   ]
  },
  {
   "cell_type": "markdown",
   "id": "74ac2af0",
   "metadata": {},
   "source": [
    "###### Example 2:- Load Multiple NumPy Array File"
   ]
  },
  {
   "cell_type": "code",
   "execution_count": 24,
   "id": "526887c0",
   "metadata": {},
   "outputs": [
    {
     "name": "stdout",
     "output_type": "stream",
     "text": [
      "File Elements:- NpzFile 'file2.npz' with keys: file1, file2\n",
      "\n",
      "First Array elements of the file:- [ 2  6 10]\n",
      "\n",
      "Second Array elements of the file:- [ 4  8 12]\n"
     ]
    }
   ],
   "source": [
    "import numpy as np\n",
    "\n",
    "# create two NumPy arrays\n",
    "\n",
    "array1 = np.array([2, 6, 10])\n",
    "\n",
    "array2 = np.array([4, 8, 12])\n",
    "\n",
    "# save the two arrays into a single file\n",
    "\n",
    "np.savez('file2.npz', file1 = array1, file2 = array2)\n",
    "\n",
    "# load the saved arrays \n",
    "load_data = np.load('file2.npz')\n",
    "\n",
    "print(\"File Elements:-\",load_data)\n",
    "print()\n",
    "# retrieve the arrays using their names\n",
    "\n",
    "a1 = load_data['file1']\n",
    "a2 = load_data['file2']\n",
    "\n",
    "# display the loaded arrays\n",
    "\n",
    "print(\"First Array elements of the file:-\", a1)\n",
    "print()\n",
    "print(\"Second Array elements of the file:-\", a2)\n",
    "\n",
    "# In the above example, first we loaded the saved arrays from the file using the np.load() function.\n",
    "\n",
    "# Then, we retrieved the arrays using their names file1 and file2 as: data['file1'] and data['file2'], respectively.\n",
    "\n",
    "# Finally, we displayed the loaded arrays."
   ]
  },
  {
   "cell_type": "markdown",
   "id": "29e78d0a",
   "metadata": {},
   "source": [
    "###### Delimiters"
   ]
  },
  {
   "cell_type": "markdown",
   "id": "34777a30",
   "metadata": {},
   "source": [
    "• Text files (txt, csv etc) will have some way to indicate new column ofdata, rows separated by newlines\n",
    "\n",
    "• Range of these, with common examples:-\n",
    "    \n",
    "   - Single white space\n",
    "   - Tab\n",
    "   - Comma\n",
    "   - Colon\n",
    "    \n",
    "• Need to be aware of these as you read and write your ownfiles.\n",
    "\n",
    "• A delimiter is a character or a string of characters that separates individual values on a line."
   ]
  },
  {
   "cell_type": "markdown",
   "id": "8c0e0208",
   "metadata": {},
   "source": [
    "### numpy.savetxt() function"
   ]
  },
  {
   "cell_type": "markdown",
   "id": "d4f7c424",
   "metadata": {},
   "source": [
    "- The NumPy savetxt() function is used to save an array to a text file.\n",
    "\n",
    "  **Syntax:-** numpy.savetxt(fname, X)\n",
    "     \n",
    "  **Parameters:-**\n",
    "\n",
    "   **fname** - Required. Specify the filename to which the data is saved. \n",
    "                  If the filename ends in .gz, the file is automatically saved in compressed gzip format. \n",
    "                  \n",
    "   **X** -     Required. Specify data to be saved in the file (1D or 2D array_like)."
   ]
  },
  {
   "cell_type": "code",
   "execution_count": 26,
   "id": "1eccee94",
   "metadata": {},
   "outputs": [],
   "source": [
    "# Example 1:-\n",
    "    \n",
    "import numpy as np\n",
    "\n",
    "data = np.array([[1, 2, 3], [4, 5, 6], [7, 8, 9]])\n",
    "\n",
    "# Write data to a text file\n",
    "np.savetxt('output.txt', data, fmt='%d', delimiter='\\t')\n",
    "\n",
    "# In this example, the NumPy array data is written to output.txt. \n",
    "# The fmt parameter specifies the format of the data (integer %d in this case),\n",
    "# and the delimiter parameter sets the delimiter between values (tab \\t in this case)."
   ]
  },
  {
   "cell_type": "markdown",
   "id": "9877c6e6",
   "metadata": {},
   "source": [
    "###### .CSV files"
   ]
  },
  {
   "cell_type": "code",
   "execution_count": null,
   "id": "5b295243",
   "metadata": {},
   "outputs": [],
   "source": [
    ".CSV files or comma separated values files are a type of text files that have values separated by commas. \n",
    "\n",
    "A CSV file stores tabular data in a text file. \n",
    "\n",
    "CSV files can be loaded in NumPy arrays and their data can be analyzed using these functions."
   ]
  },
  {
   "cell_type": "code",
   "execution_count": 34,
   "id": "a014e1c9",
   "metadata": {},
   "outputs": [
    {
     "name": "stdout",
     "output_type": "stream",
     "text": [
      "Given array values:- \n",
      " [[8 2 3]\n",
      " [4 5 6]\n",
      " [7 8 9]]\n",
      "\n",
      "Array values has been saved in Test1.csv file\n"
     ]
    }
   ],
   "source": [
    "# Example 2:-\n",
    "\n",
    "import numpy as np\n",
    "\n",
    "x=np.array([[8,2,3],[4,5,6],[7,8,9]])\n",
    "\n",
    "print(\"Given array values:- \\n\",x)\n",
    "\n",
    "print()\n",
    "\n",
    "np.savetxt(\"Test1.csv\", x,delimiter=\",\")\n",
    "\n",
    "# np.savetxt(\"Test1.csv\", x, fmt='%d', delimiter=\",\")\n",
    "\n",
    "print(\"Array values has been saved in Test1.csv file\")"
   ]
  },
  {
   "cell_type": "code",
   "execution_count": 84,
   "id": "da287c0c",
   "metadata": {},
   "outputs": [
    {
     "name": "stdout",
     "output_type": "stream",
     "text": [
      "\n",
      "Given Array:- \n",
      "\n",
      " [['Jacob' 'Pete' 'Messi']\n",
      " ['Scott' 'John' 'Finn']\n",
      " ['Bob' 'Morely' 'Lincon']]\n",
      "\n",
      "Array values has been saved in Names.csv file\n"
     ]
    }
   ],
   "source": [
    "# Example 3\n",
    "\n",
    "import numpy as np\n",
    "\n",
    "y=np.array([['Jacob','Pete','Messi'],['Scott','John','Finn'],['Bob','Morely','Lincon']])\n",
    "\n",
    "print()\n",
    "\n",
    "print(\"Given Array:- \\n\\n\",y)\n",
    "\n",
    "np.savetxt(\"Names.csv\", y,fmt='%s')\n",
    "\n",
    "print()\n",
    "\n",
    "print(\"Array values has been saved in Names.csv file\")"
   ]
  },
  {
   "cell_type": "markdown",
   "id": "f4ac7b44",
   "metadata": {},
   "source": [
    "#### numpy.loadtxt() function"
   ]
  },
  {
   "cell_type": "markdown",
   "id": "988d4f13",
   "metadata": {},
   "source": [
    "- The NumPy loadtxt() function is used to load data from a text file. \n",
    "\n",
    "- Each row in the text file must have the same number of values.\n",
    "\n",
    "  **Syntax:-** numpy.loadtxt(fname, dtype=<class 'float'>)\n",
    "    \n",
    "  **Parameters:-** \n",
    "  \n",
    "     1. **fname** - Required. Specify File, filename, or generator to read.\n",
    "                 If the filename extension is .gz or .bz2, the file is first decompressed. \n",
    "                 Note that generators should return byte strings.\n",
    "          <br>     \n",
    "     2. **dtype** - Optional. Specify data-type of the resulting array. Default: float."
   ]
  },
  {
   "cell_type": "markdown",
   "id": "345d1aca",
   "metadata": {},
   "source": [
    "**To import Text files into Numpy Arrays, we have two functions in Numpy:**\n",
    "\n",
    "  **1. numpy.loadtxt()** – Used to load text file data\n",
    "\n",
    "  **2. numpy.genfromtxt()** – Used to load data from a text file, with missing values handled as defined.\n",
    "\n",
    "  **Note:** numpy.loadtxt() is equivalent function to numpy.genfromtxt( ) when no data is missing."
   ]
  },
  {
   "cell_type": "code",
   "execution_count": 41,
   "id": "f0fd60e9",
   "metadata": {},
   "outputs": [
    {
     "name": "stdout",
     "output_type": "stream",
     "text": [
      "Displaying the file contents:-\n",
      " [10. 20. 30. 40. 50. 60.]\n"
     ]
    }
   ],
   "source": [
    "# Example 1:- \n",
    "\n",
    "import numpy as np\n",
    "\n",
    "arr = np.array([10, 20, 30, 40, 50, 60])\n",
    "\n",
    "#saving arr in text file - test.out\n",
    "\n",
    "np.savetxt(\"test.out\", arr)\n",
    "\n",
    "#loading array from test.out\n",
    "\n",
    "y = np.loadtxt(\"test.out\")\n",
    "\n",
    "#displaying the content of y\n",
    "\n",
    "print(\"Displaying the file contents:-\\n\", y)"
   ]
  },
  {
   "cell_type": "code",
   "execution_count": null,
   "id": "a42c6dee",
   "metadata": {},
   "outputs": [],
   "source": [
    "Scenario:- \n",
    "    \n",
    "We have 100 lines (or rows) of data in our text file,\n",
    "each of which comprises two floating-point numbers separated by a space.\n",
    "\n",
    "The first number on each row represents the weight, and the second number represents the height \n",
    "of an individual.\n",
    "\n",
    "Here’s a little glimpse from the file:\n",
    "\n",
    "110.90 146.03\n",
    "44.83 211.82\n",
    "97.13 209.30\n",
    "105.64 164.21\n",
    "\n",
    "This file is stored as `weight_height_1.txt`.\n",
    "Our task is to read the file and parse the data in a way that we can represent in a NumPy array."
   ]
  },
  {
   "cell_type": "code",
   "execution_count": 43,
   "id": "88179b26",
   "metadata": {
    "collapsed": true
   },
   "outputs": [
    {
     "name": "stdout",
     "output_type": "stream",
     "text": [
      "Shape of the file data:-  (100, 2) \n",
      "\n",
      "Type of the file data:-  float64 \n",
      "\n",
      "Load data from the Text File:- \n",
      "\n",
      " [[110.9  146.03]\n",
      " [ 44.83 211.82]\n",
      " [ 97.13 209.3 ]\n",
      " [ 69.87 207.73]\n",
      " [ 48.73 158.87]\n",
      " [ 99.25 195.41]\n",
      " [ 50.15 184.07]\n",
      " [ 64.86 220.5 ]\n",
      " [108.96 192.7 ]\n",
      " [ 88.13 220.3 ]\n",
      " [101.98 137.2 ]\n",
      " [ 45.99 158.41]\n",
      " [ 74.95 182.4 ]\n",
      " [ 61.29 173.22]\n",
      " [ 93.91 162.94]\n",
      " [ 59.19 208.28]\n",
      " [115.93 145.7 ]\n",
      " [ 66.32 189.89]\n",
      " [ 97.96 216.69]\n",
      " [ 54.05 137.74]\n",
      " [ 62.62 205.15]\n",
      " [ 84.12 177.03]\n",
      " [ 81.61 181.1 ]\n",
      " [111.97 160.98]\n",
      " [119.25 173.58]\n",
      " [ 93.2  183.02]\n",
      " [105.3  157.19]\n",
      " [114.57 185.62]\n",
      " [ 95.58 189.92]\n",
      " [ 68.19 221.31]\n",
      " [100.91 155.55]\n",
      " [ 72.93 150.38]\n",
      " [116.68 137.15]\n",
      " [ 86.51 172.15]\n",
      " [ 59.85 155.53]\n",
      " [ 56.46 164.25]\n",
      " [ 65.47 204.84]\n",
      " [ 56.09 205.31]\n",
      " [ 98.38 142.48]\n",
      " [ 64.46 167.56]\n",
      " [113.99 173.27]\n",
      " [ 52.1  219.39]\n",
      " [ 84.48 176.72]\n",
      " [ 95.34 155.51]\n",
      " [ 99.88 181.25]\n",
      " [ 63.8  159.63]\n",
      " [ 41.92 176.16]\n",
      " [ 63.07 157.79]\n",
      " [ 77.09 180.87]\n",
      " [ 91.26 153.32]\n",
      " [ 87.44 209.17]\n",
      " [ 53.87 219.3 ]\n",
      " [ 54.66 173.83]\n",
      " [ 47.32 202.23]\n",
      " [115.15 201.19]\n",
      " [ 91.6  221.95]\n",
      " [ 42.11 185.02]\n",
      " [110.49 217.96]\n",
      " [101.3  215.61]\n",
      " [ 57.94 167.5 ]\n",
      " [100.15 218.22]\n",
      " [ 44.42 145.09]\n",
      " [ 68.37 140.14]\n",
      " [103.26 155.49]\n",
      " [ 55.3  204.32]\n",
      " [103.96 174.8 ]\n",
      " [ 67.85 188.95]\n",
      " [ 63.53 205.42]\n",
      " [ 89.49 201.77]\n",
      " [ 82.63 179.34]\n",
      " [ 42.17 179.28]\n",
      " [ 82.18 167.17]\n",
      " [ 65.77 170.38]\n",
      " [101.1  138.12]\n",
      " [ 63.12 196.3 ]\n",
      " [ 47.3  145.01]\n",
      " [ 69.8  180.72]\n",
      " [ 84.89 139.97]\n",
      " [ 57.64 163.09]\n",
      " [ 87.3  197.18]\n",
      " [ 77.29 193.82]\n",
      " [ 74.83 186.8 ]\n",
      " [ 46.83 188.95]\n",
      " [ 80.93 199.38]\n",
      " [108.46 213.82]\n",
      " [ 68.01 159.03]\n",
      " [ 42.3  145.1 ]\n",
      " [ 63.7  176.42]\n",
      " [119.5  138.08]\n",
      " [ 49.72 138.55]\n",
      " [ 91.95 200.34]\n",
      " [ 66.21 205.44]\n",
      " [ 98.02 161.27]\n",
      " [ 41.24 161.29]\n",
      " [107.37 207.46]\n",
      " [ 75.16 140.53]\n",
      " [114.36 145.99]\n",
      " [ 53.55 174.11]\n",
      " [ 78.67 158.74]\n",
      " [105.64 164.21]]\n"
     ]
    }
   ],
   "source": [
    "# Example 2:- Loading & Displaying contents from the text file\n",
    "\n",
    "import numpy as np\n",
    "\n",
    "x=np.loadtxt(\"weight_height_1.txt\")\n",
    "\n",
    "print(\"Shape of the file data:- \", x.shape,\"\\n\")\n",
    "\n",
    "print(\"Type of the file data:- \", x.dtype,\"\\n\")\n",
    "\n",
    "print(\"Load data from the Text File:- \\n\\n\", x)\n",
    "\n",
    "# The function returns an n-dimensional NumPy array of values found in the text.\n",
    "\n",
    "# Here our text had 100 rows with each row having two float values, \n",
    "# so the returned object data will be a NumPy array of shape (100, 2) with the float data type."
   ]
  },
  {
   "cell_type": "code",
   "execution_count": 45,
   "id": "425c2fd2",
   "metadata": {
    "collapsed": true
   },
   "outputs": [
    {
     "name": "stdout",
     "output_type": "stream",
     "text": [
      "Load data from the Text File:- \n",
      "\n",
      " [[110.9  146.03]\n",
      " [ 44.83 211.82]\n",
      " [ 97.13 209.3 ]\n",
      " [ 69.87 207.73]\n",
      " [ 48.73 158.87]\n",
      " [ 99.25 195.41]\n",
      " [ 50.15 184.07]\n",
      " [ 64.86 220.5 ]\n",
      " [108.96 192.7 ]\n",
      " [ 88.13 220.3 ]\n",
      " [101.98 137.2 ]\n",
      " [ 45.99 158.41]\n",
      " [ 74.95 182.4 ]\n",
      " [ 61.29 173.22]\n",
      " [ 93.91 162.94]\n",
      " [ 59.19 208.28]\n",
      " [115.93 145.7 ]\n",
      " [ 66.32 189.89]\n",
      " [ 97.96 216.69]\n",
      " [ 54.05 137.74]\n",
      " [ 62.62 205.15]\n",
      " [ 84.12 177.03]\n",
      " [ 81.61 181.1 ]\n",
      " [111.97 160.98]\n",
      " [119.25 173.58]\n",
      " [ 93.2  183.02]\n",
      " [105.3  157.19]\n",
      " [114.57 185.62]\n",
      " [ 95.58 189.92]\n",
      " [ 68.19 221.31]\n",
      " [100.91 155.55]\n",
      " [ 72.93 150.38]\n",
      " [116.68 137.15]\n",
      " [ 86.51 172.15]\n",
      " [ 59.85 155.53]\n",
      " [ 56.46 164.25]\n",
      " [ 65.47 204.84]\n",
      " [ 56.09 205.31]\n",
      " [ 98.38 142.48]\n",
      " [ 64.46 167.56]\n",
      " [113.99 173.27]\n",
      " [ 52.1  219.39]\n",
      " [ 84.48 176.72]\n",
      " [ 95.34 155.51]\n",
      " [ 99.88 181.25]\n",
      " [ 63.8  159.63]\n",
      " [ 41.92 176.16]\n",
      " [ 63.07 157.79]\n",
      " [ 77.09 180.87]\n",
      " [ 91.26 153.32]\n",
      " [ 87.44 209.17]\n",
      " [ 53.87 219.3 ]\n",
      " [ 54.66 173.83]\n",
      " [ 47.32 202.23]\n",
      " [115.15 201.19]\n",
      " [ 91.6  221.95]\n",
      " [ 42.11 185.02]\n",
      " [110.49 217.96]\n",
      " [101.3  215.61]\n",
      " [ 57.94 167.5 ]\n",
      " [100.15 218.22]\n",
      " [ 44.42 145.09]\n",
      " [ 68.37 140.14]\n",
      " [103.26 155.49]\n",
      " [ 55.3  204.32]\n",
      " [103.96 174.8 ]\n",
      " [ 67.85 188.95]\n",
      " [ 63.53 205.42]\n",
      " [ 89.49 201.77]\n",
      " [ 82.63 179.34]\n",
      " [ 42.17 179.28]\n",
      " [ 82.18 167.17]\n",
      " [ 65.77 170.38]\n",
      " [101.1  138.12]\n",
      " [ 63.12 196.3 ]\n",
      " [ 47.3  145.01]\n",
      " [ 69.8  180.72]\n",
      " [ 84.89 139.97]\n",
      " [ 57.64 163.09]\n",
      " [ 87.3  197.18]\n",
      " [ 77.29 193.82]\n",
      " [ 74.83 186.8 ]\n",
      " [ 46.83 188.95]\n",
      " [ 80.93 199.38]\n",
      " [108.46 213.82]\n",
      " [ 68.01 159.03]\n",
      " [ 42.3  145.1 ]\n",
      " [ 63.7  176.42]\n",
      " [119.5  138.08]\n",
      " [ 49.72 138.55]\n",
      " [ 91.95 200.34]\n",
      " [ 66.21 205.44]\n",
      " [ 98.02 161.27]\n",
      " [ 41.24 161.29]\n",
      " [107.37 207.46]\n",
      " [ 75.16 140.53]\n",
      " [114.36 145.99]\n",
      " [ 53.55 174.11]\n",
      " [ 78.67 158.74]\n",
      " [105.64 164.21]]\n"
     ]
    }
   ],
   "source": [
    "# Example 3:- Loading & Displaying contents with delimiter from the text file\n",
    "\n",
    "import numpy as np\n",
    "\n",
    "x=np.loadtxt(\"weight_height_2.txt\", delimiter=\",\")\n",
    "\n",
    "print(\"Load data from the Text File:- \\n\\n\", x)"
   ]
  },
  {
   "cell_type": "code",
   "execution_count": null,
   "id": "77b61568",
   "metadata": {},
   "outputs": [],
   "source": [
    "Unless specified otherwise, the np.loadtxt function of the NumPy package assumes \n",
    "the values in the passed text file to be floating-point values by default.\n",
    "\n",
    "So if you pass a text file that has characters other than numbers, \n",
    "the function will throw an error, stating it was expecting floating-point values.\n",
    "\n",
    "We can overcome this by specifying the data type of the values in the\n",
    "text file using the datatype parameter."
   ]
  },
  {
   "cell_type": "code",
   "execution_count": null,
   "id": "e683c95d",
   "metadata": {},
   "outputs": [],
   "source": [
    "Let’s look at a new file ‘./weight_height_4.txt’, \n",
    "\n",
    "which has only 1 column for the date of birth of individuals in the dd-mm-yyyy format:\n",
    "\n",
    "13-2-1991\n",
    "17-12-1990\n",
    "18-12-1986\n",
    "…\n",
    "\n",
    "So we’ll call the loadtxt method with “-” as the delimiter:"
   ]
  },
  {
   "cell_type": "code",
   "execution_count": 54,
   "id": "647f0b12",
   "metadata": {},
   "outputs": [
    {
     "name": "stdout",
     "output_type": "stream",
     "text": [
      "Data type of the values in the file:- float64 \n",
      "\n",
      "Displaying the file contents:-\n",
      "\n",
      " [[  13.    2. 1991.]\n",
      " [  17.   12. 1990.]\n",
      " [  18.   12. 1986.]\n",
      " [   3.   13. 1998.]\n",
      " [  28.   10. 1983.]]\n"
     ]
    }
   ],
   "source": [
    "# Example 4:- Loading & Displaying contents with delimiter from the text file\n",
    "\n",
    "import numpy as np\n",
    "\n",
    "a = np.loadtxt(\"weight_height_4.txt\", delimiter=\"-\")\n",
    "\n",
    "print(\"Data type of the values in the file:-\", a.dtype,\"\\n\")\n",
    "\n",
    "print(\"Displaying the file contents:-\\n\\n\", a[:5])"
   ]
  },
  {
   "cell_type": "code",
   "execution_count": null,
   "id": "ac520de6",
   "metadata": {},
   "outputs": [],
   "source": [
    "We can alter this behavior by passing the value ‘int’ to the ‘dtype’ parameter. \n",
    "This will ask the function to store the extracted values as integers, \n",
    "and hence the data type of the array will also be int."
   ]
  },
  {
   "cell_type": "code",
   "execution_count": 55,
   "id": "4378a7e8",
   "metadata": {},
   "outputs": [
    {
     "name": "stdout",
     "output_type": "stream",
     "text": [
      "Data type of the values in the file:- int32 \n",
      "\n",
      "Displaying the file contents:-\n",
      "\n",
      " [[  13    2 1991]\n",
      " [  17   12 1990]\n",
      " [  18   12 1986]\n",
      " [   3   13 1998]\n",
      " [  28   10 1983]]\n"
     ]
    }
   ],
   "source": [
    "import numpy as np\n",
    "\n",
    "x=np.loadtxt(\"weight_height_4.txt\", delimiter=\"-\",dtype=\"int\")\n",
    "\n",
    "print(\"Data type of the values in the file:-\", x.dtype,\"\\n\")\n",
    "\n",
    "print(\"Displaying the file contents:-\\n\\n\", x[:5])"
   ]
  },
  {
   "cell_type": "markdown",
   "id": "55ff826e",
   "metadata": {},
   "source": [
    "###### Ignoring Headers"
   ]
  },
  {
   "cell_type": "code",
   "execution_count": null,
   "id": "87891507",
   "metadata": {},
   "outputs": [],
   "source": [
    "In some cases (especially CSV files), the first line of the text file may have ‘headers’ \n",
    "describing what each column in the following rows represents.\n",
    "\n",
    "While reading data from such text files, \n",
    "we may want to ignore the first line, because we cannot (and should not) store them in our NumPy array.\n",
    "\n",
    "In such a case, we can use the ‘skiprows’ parameter and pass the value 1, \n",
    "asking the function to ignore the first 1 line(s) of the text file.\n",
    "\n",
    "Let’s try this on a CSV file – ‘weight_height.csv’:\n",
    "\n",
    "Weight (in Kg),      height (in cm)\n",
    "73.847017017515,     241.893563180437\n",
    "68.7819040458903,    162.310472521300\n",
    "74.1101053917849,    212.7408555565\n",
    "…\n",
    "Now we want to ignore the header line, i.e., the first line of the file:"
   ]
  },
  {
   "cell_type": "code",
   "execution_count": 57,
   "id": "d319ee32",
   "metadata": {},
   "outputs": [
    {
     "name": "stdout",
     "output_type": "stream",
     "text": [
      "Data type of the values in the file:- float64 \n",
      "\n",
      "Displaying the file contents:-\n",
      "\n",
      " [[110.9  146.03]\n",
      " [ 44.83 211.82]\n",
      " [ 97.13 209.3 ]\n",
      " [ 69.87 207.73]\n",
      " [ 48.73 158.87]]\n"
     ]
    }
   ],
   "source": [
    "import numpy as np\n",
    "\n",
    "x=np.loadtxt(\"weight_height.csv\", delimiter=\",\", skiprows=1)\n",
    "\n",
    "print(\"Data type of the values in the file:-\", x.dtype,\"\\n\")\n",
    "\n",
    "print(\"Displaying the file contents:-\\n\\n\", x[:5])"
   ]
  },
  {
   "cell_type": "code",
   "execution_count": null,
   "id": "2235b4e1",
   "metadata": {},
   "outputs": [],
   "source": [
    "# To display selected column data from the file"
   ]
  },
  {
   "cell_type": "code",
   "execution_count": 75,
   "id": "58278200",
   "metadata": {},
   "outputs": [
    {
     "name": "stdout",
     "output_type": "stream",
     "text": [
      "Ankit\n",
      "Bunty\n",
      "Rinku\n",
      "Chaitu\n",
      "Pandu\n"
     ]
    }
   ],
   "source": [
    "import numpy as np\n",
    "  \n",
    "# only column 1 data is imported into numpy array from text file\n",
    "\n",
    "data = np.loadtxt(\"Columns.txt\", usecols=1, skiprows=1, dtype='str')\n",
    "  \n",
    "for each in data:\n",
    "    print(each)"
   ]
  },
  {
   "cell_type": "code",
   "execution_count": 79,
   "id": "88f39728",
   "metadata": {},
   "outputs": [
    {
     "name": "stdout",
     "output_type": "stream",
     "text": [
      "['1' 'Ankit']\n",
      "['2' 'Bunty']\n",
      "['3' 'Rinku']\n",
      "['4' 'Chaitu']\n",
      "['5' 'Pandu']\n"
     ]
    }
   ],
   "source": [
    "# To display multiple columns data from the file\n",
    "\n",
    "import numpy as np\n",
    "  \n",
    "# only column 1 data is imported into numpy array from text file\n",
    "\n",
    "data = np.loadtxt(\"Columns.txt\", usecols=[0,1], skiprows=1, dtype='str')\n",
    "  \n",
    "for each in data:\n",
    "    print(each)"
   ]
  },
  {
   "cell_type": "markdown",
   "id": "04b04950",
   "metadata": {},
   "source": [
    "###### numpy genfromtxt()"
   ]
  },
  {
   "cell_type": "code",
   "execution_count": null,
   "id": "0a0b3ee8",
   "metadata": {},
   "outputs": [],
   "source": [
    "We use Numpy genfromtxt() to load the data from the text files.\n",
    "\n",
    "We can also specify, how to handle the missing values if there are any.\n",
    "\n",
    "numpy.genfromtxt represents the function that reads the input data or file, \n",
    "which contains various data types, into an array format."
   ]
  },
  {
   "cell_type": "markdown",
   "id": "2cf01802",
   "metadata": {},
   "source": [
    "**Syntax:-** numpy.genfromtxt(fname, dtype= , comments: , delimiter = , skiprows = , skip_header = , autostrip =)\n",
    "    \n",
    "**Parameters:-**\n",
    "\n",
    "   1. **fname** is the filename of the input data or file we pass through the genfromtxt function. \n",
    "       It can be given in a filename, list, or path to read.\n",
    "\n",
    "   2. **dtype** is the data type declaration when we want the output array of the genfromtxt function\n",
    "      in that particular data type. If we declare the dtype as ‘None’ it will automatically generate a\n",
    "      data type depending on the values of that column.\n",
    "\n",
    "   3. **comments** indicate the starting characters in a line of the given input data. \n",
    "      We can discard the values or feelings that come after our declared comment.\n",
    "\n",
    "   4. **delimiter** is the string value we declared to split the input values. \n",
    "      For CSV files, we give delimiter as ‘,’ (comma) to separate the values in the file.\n",
    "\n",
    "   5. **skiprows** is used to skip particular rows or a set of rows in the given input file.\n",
    "\n",
    "   6. **skip_header** is used when we want to skip the input file’s starting rows or lines.\n",
    "\n",
    "   7. **autostrip**, it can be declared to automatically remove the white spaces present in between the values in our data file."
   ]
  },
  {
   "cell_type": "code",
   "execution_count": 91,
   "id": "d9e36e65",
   "metadata": {},
   "outputs": [
    {
     "name": "stdout",
     "output_type": "stream",
     "text": [
      "['Jacob Pete Messi' 'Scott John Finn' 'Bob Morely Lincon'\n",
      " 'Bob1 Morely1 Lincon1' 'Bob2 Morely2 Lincon2' 'Bob3 Morely3 Lincon3'\n",
      " 'Bob4 Morely4 Lincon4' 'Bob5 Morely5 Lincon5' 'Bob6 Morely6 Lincon6'\n",
      " 'Bob7 Morely7 Lincon7' 'Bob8 Morely8 Lincon8' 'Bob9 Morely9 Lincon9'\n",
      " 'Bob10 Morely10 Lincon10' 'Bob11 Morely11 Lincon11'\n",
      " 'Bob12 Morely12 Lincon12' 'Bob13 Morely13 Lincon13'\n",
      " 'Bob14 Morely14 Lincon14' 'Bob15 Morely15 Lincon15']\n"
     ]
    }
   ],
   "source": [
    "# Example 1:-\n",
    "\n",
    "import numpy as np\n",
    "\n",
    "arr = np.genfromtxt(\"data.csv\",delimiter=\",\", dtype=str)\n",
    "\n",
    "print(arr)"
   ]
  },
  {
   "cell_type": "code",
   "execution_count": 92,
   "id": "8b8c1493",
   "metadata": {},
   "outputs": [
    {
     "name": "stdout",
     "output_type": "stream",
     "text": [
      "[['Jacob' 'Pete' 'Messi']\n",
      " ['Scott' 'John' 'Finn']\n",
      " ['Bob' 'Morely' 'Lincon']\n",
      " ['Bob1' 'Morely1' 'Lincon1']\n",
      " ['Bob2' 'Morely2' 'Lincon2']\n",
      " ['Bob3' 'Morely3' 'Lincon3']\n",
      " ['Bob4' 'Morely4' 'Lincon4']\n",
      " ['Bob5' 'Morely5' 'Lincon5']\n",
      " ['Bob6' 'Morely6' 'Lincon6']\n",
      " ['Bob7' 'Morely7' 'Lincon7']\n",
      " ['Bob8' 'Morely8' 'Lincon8']\n",
      " ['Bob9' 'Morely9' 'Lincon9']\n",
      " ['Bob10' 'Morely10' 'Lincon10']\n",
      " ['Bob11' 'Morely11' 'Lincon11']\n",
      " ['Bob12' 'Morely12' 'Lincon12']\n",
      " ['Bob13' 'Morely13' 'Lincon13']\n",
      " ['Bob14' 'Morely14' 'Lincon14']\n",
      " ['Bob15' 'Morely15' 'Lincon15']]\n"
     ]
    }
   ],
   "source": [
    "# Example 2:- Space as a delimter\n",
    "\n",
    "import numpy as np\n",
    "\n",
    "arr = np.genfromtxt(\"data.csv\",delimiter=\" \", dtype=str)\n",
    "\n",
    "print(arr)"
   ]
  },
  {
   "cell_type": "markdown",
   "id": "188df16d",
   "metadata": {},
   "source": [
    "### Handling Missing Values"
   ]
  },
  {
   "cell_type": "code",
   "execution_count": null,
   "id": "c9a8e741",
   "metadata": {},
   "outputs": [],
   "source": [
    "One of the strengths of genfromtxt is its ability to handle missing data. \n",
    "\n",
    "we can specify the filling_values parameter to replace missing data with a specific value.\n",
    "\n",
    "The genfromtxt() function converts missing values and character strings in numeric columns to nan. \n",
    "\n",
    "But if we specify dtype as int, it converts the missing or other non numeric values to -1. \n",
    "\n",
    "We can also convert these missing values and character strings in the data files \n",
    "to some specific value using the parameter filling_values. "
   ]
  },
  {
   "cell_type": "code",
   "execution_count": 172,
   "id": "953ae2c2",
   "metadata": {},
   "outputs": [
    {
     "name": "stdout",
     "output_type": "stream",
     "text": [
      "[['Jacob ' 'Pete ' 'Messi']\n",
      " ['Scott ' 'John ' '']\n",
      " ['Bob ' 'Morely' ' Lincon']\n",
      " ['Bob1 ' 'Morely1 ' 'Lincon1']\n",
      " ['Bob2' 'Morely2' 'Lincon2']\n",
      " ['Bob3' 'Morely3' '']\n",
      " ['Bob4' 'Morely4' 'Lincon4']\n",
      " ['Bob5' 'Morely5' 'Lincon5']\n",
      " ['Bob6' 'Morely6' 'Lincon6']]\n"
     ]
    }
   ],
   "source": [
    "import numpy as np\n",
    "\n",
    "data1 = np.genfromtxt('Strings.csv', delimiter=',', dtype='str',missing_values = \"\",filling_values=999)\n",
    "\n",
    "print(data1)"
   ]
  },
  {
   "cell_type": "code",
   "execution_count": 167,
   "id": "dbfb0859",
   "metadata": {},
   "outputs": [
    {
     "name": "stdout",
     "output_type": "stream",
     "text": [
      "[[10 20 30]\n",
      " [45 55 -1]\n",
      " [75 85 95]\n",
      " [75 85 -1]\n",
      " [75 85 95]\n",
      " [75 85 95]]\n"
     ]
    }
   ],
   "source": [
    "import numpy as np\n",
    "\n",
    "data = np.genfromtxt('numbers.csv', delimiter=',', dtype='int',missing_values = \"\",filling_values='-1')\n",
    "\n",
    "print(data)"
   ]
  },
  {
   "cell_type": "markdown",
   "id": "7dd88e97",
   "metadata": {},
   "source": [
    "###### Comparing genfromtxt and loadtxt"
   ]
  },
  {
   "cell_type": "code",
   "execution_count": null,
   "id": "79b05dc3",
   "metadata": {},
   "outputs": [],
   "source": [
    "While both genfromtxt and loadtxt can be used to read CSV files, they have different strengths. \n",
    "\n",
    "genfromtxt is more flexible and can handle missing data,\n",
    "while loadtxt is simpler and faster, but less flexible.\n",
    "\n",
    "Choose the one that best fits your needs.\n",
    "\n",
    "If your data is clean and well-structured, loadtxt might be the better choice for its simplicity and speed. \n",
    "\n",
    "If your data has missing values or requires more complex handling, genfromtxt would be more suitable."
   ]
  }
 ],
 "metadata": {
  "kernelspec": {
   "display_name": "Python 3 (ipykernel)",
   "language": "python",
   "name": "python3"
  },
  "language_info": {
   "codemirror_mode": {
    "name": "ipython",
    "version": 3
   },
   "file_extension": ".py",
   "mimetype": "text/x-python",
   "name": "python",
   "nbconvert_exporter": "python",
   "pygments_lexer": "ipython3",
   "version": "3.11.2"
  }
 },
 "nbformat": 4,
 "nbformat_minor": 5
}
