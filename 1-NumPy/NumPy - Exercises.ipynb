{
 "cells": [
  {
   "cell_type": "code",
   "execution_count": null,
   "metadata": {},
   "outputs": [],
   "source": [
    "1. Import numpy as np and get the version?"
   ]
  },
  {
   "cell_type": "code",
   "execution_count": 5,
   "metadata": {},
   "outputs": [
    {
     "name": "stdout",
     "output_type": "stream",
     "text": [
      "Latest Version of NumPy:-  1.19.2\n"
     ]
    }
   ],
   "source": [
    "import numpy as np\n",
    "print('Latest Version of NumPy:- ',np.__version__)"
   ]
  },
  {
   "cell_type": "code",
   "execution_count": null,
   "metadata": {},
   "outputs": [],
   "source": [
    "2. Create a 1D array of numbers from 0 to 49?"
   ]
  },
  {
   "cell_type": "code",
   "execution_count": 3,
   "metadata": {},
   "outputs": [
    {
     "name": "stdout",
     "output_type": "stream",
     "text": [
      "1D array of numbers from 0 to 49:- \n",
      " [ 0  1  2  3  4  5  6  7  8  9 10 11 12 13 14 15 16 17 18 19 20 21 22 23\n",
      " 24 25 26 27 28 29 30 31 32 33 34 35 36 37 38 39 40 41 42 43 44 45 46 47\n",
      " 48 49]\n"
     ]
    }
   ],
   "source": [
    "import numpy as np\n",
    "x=np.arange(50)\n",
    "print('1D array of numbers from 0 to 49:- \\n',x)"
   ]
  },
  {
   "cell_type": "code",
   "execution_count": null,
   "metadata": {},
   "outputs": [],
   "source": [
    "3. Create an empty array of 10 0's and replace the 4th object with the number 5?"
   ]
  },
  {
   "cell_type": "code",
   "execution_count": 94,
   "metadata": {},
   "outputs": [
    {
     "name": "stdout",
     "output_type": "stream",
     "text": [
      "Print 10 Zeros:- \n",
      " [0. 0. 0. 0. 0. 0. 0. 0. 0. 0.]\n",
      "Replacing the 4th element with the number 5:- \n",
      " [0. 0. 0. 5. 0. 0. 0. 0. 0. 0.]\n"
     ]
    }
   ],
   "source": [
    "import numpy as np\n",
    "x1=np.zeros(10)\n",
    "print('Print 10 Zeros:- \\n',x1)\n",
    "x1[3]=5\n",
    "print('Replacing the 4th element with the number 5:- \\n',x1)"
   ]
  },
  {
   "cell_type": "code",
   "execution_count": 95,
   "metadata": {},
   "outputs": [],
   "source": [
    "4. Create a 1D array of numbers from 0 to 19?\n",
    "   \n",
    "    - Extract all odd numbers from the array? \n",
    "    \n",
    "    - Replace all odd numbers in array with -1?"
   ]
  },
  {
   "cell_type": "code",
   "execution_count": 99,
   "metadata": {},
   "outputs": [
    {
     "name": "stdout",
     "output_type": "stream",
     "text": [
      "1D array of numbers from 0 to 19, x4 :- \n",
      " [ 0  1  2  3  4  5  6  7  8  9 10 11 12 13 14 15 16 17 18 19]\n",
      "\n",
      "Odd Numbers between 0 and 19, x5 :- \n",
      " [ 1  3  5  7  9 11 13 15 17 19]\n",
      "\n",
      "Replace all odd numbers in array with -1 in x5:- \n",
      " [-1 -1 -1 -1 -1 -1 -1 -1 -1 -1]\n"
     ]
    }
   ],
   "source": [
    "import numpy as np\n",
    "x4 = np.arange(0,20)\n",
    "print('1D array of numbers from 0 to 19, x4 :- \\n',x4)\n",
    "print()\n",
    "x5=np.arange(1,20,2)\n",
    "print('Odd Numbers between 0 and 19, x5 :- \\n',x5)\n",
    "print()\n",
    "x5[:]=-1 \n",
    "print('Replace all odd numbers in array with -1 in x5:- \\n',x5)\n",
    "print()"
   ]
  },
  {
   "cell_type": "code",
   "execution_count": 57,
   "metadata": {},
   "outputs": [],
   "source": [
    " 5. Create an array of ten 1's and store it as a variable named 'a_master'. \n",
    "    Copy the same array into another variable named 'a_copy'?"
   ]
  },
  {
   "cell_type": "code",
   "execution_count": 56,
   "metadata": {},
   "outputs": [
    {
     "name": "stdout",
     "output_type": "stream",
     "text": [
      "Ten ones and store in a variable named a_master:- \n",
      " [1. 1. 1. 1. 1. 1. 1. 1. 1. 1.]\n",
      "\n",
      "Copying the same array into another variable named:- a_copy \n",
      " [1. 1. 1. 1. 1. 1. 1. 1. 1. 1.]\n"
     ]
    }
   ],
   "source": [
    "import numpy as np\n",
    "\n",
    "a_master= np.ones(10)\n",
    "print('Ten ones and store in a variable named a_master:- \\n', a_master)\n",
    "print()\n",
    "a_copy =np.copy(a_master)\n",
    "print('Copying the same array into another variable named:- a_copy \\n', a_copy)"
   ]
  },
  {
   "cell_type": "code",
   "execution_count": null,
   "metadata": {},
   "outputs": [],
   "source": [
    "6. Create an array containing fifty 1's and broadcast/change all the one's to the value 100?"
   ]
  },
  {
   "cell_type": "code",
   "execution_count": 100,
   "metadata": {},
   "outputs": [
    {
     "name": "stdout",
     "output_type": "stream",
     "text": [
      "[1. 1. 1. 1. 1. 1. 1. 1. 1. 1. 1. 1. 1. 1. 1. 1. 1. 1. 1. 1. 1. 1. 1. 1.\n",
      " 1. 1. 1. 1. 1. 1. 1. 1. 1. 1. 1. 1. 1. 1. 1. 1. 1. 1. 1. 1. 1. 1. 1. 1.\n",
      " 1. 1.]\n",
      "[100. 100. 100. 100. 100. 100. 100. 100. 100. 100. 100. 100. 100. 100.\n",
      " 100. 100. 100. 100. 100. 100. 100. 100. 100. 100. 100. 100. 100. 100.\n",
      " 100. 100. 100. 100. 100. 100. 100. 100. 100. 100. 100. 100. 100. 100.\n",
      " 100. 100. 100. 100. 100. 100. 100. 100.]\n"
     ]
    }
   ],
   "source": [
    "import numpy as np\n",
    "x7=np.ones(50)\n",
    "print(x7)\n",
    "x7[:]=100\n",
    "print(x7)"
   ]
  },
  {
   "cell_type": "code",
   "execution_count": null,
   "metadata": {},
   "outputs": [],
   "source": [
    "7. Create an array of integers starting from 21 until 31 and name it as array1\n",
    "\n",
    "   Create an array of integers starting from 11 until 21 and name it array2\n",
    "\n",
    "   Calculate the difference between array1 and array2?"
   ]
  },
  {
   "cell_type": "code",
   "execution_count": 73,
   "metadata": {},
   "outputs": [
    {
     "name": "stdout",
     "output_type": "stream",
     "text": [
      "An array of integers starting from 21 until 31 and named it as array1 :- \n",
      " [21 22 23 24 25 26 27 28 29 30 31]\n",
      "\n",
      "An array of integers starting from 11 until 21 and named it as array2 :- \n",
      " [11 12 13 14 15 16 17 18 19 20 21]\n",
      "\n",
      "The difference between array1 and array2 :- \n",
      " [10 10 10 10 10 10 10 10 10 10 10]\n"
     ]
    }
   ],
   "source": [
    "import numpy as np\n",
    "array1=np.arange(21,32)\n",
    "print('An array of integers starting from 21 until 31 and named it as array1 :- \\n',array1)\n",
    "print()\n",
    "array2=np.arange(11,22)\n",
    "print('An array of integers starting from 11 until 21 and named it as array2 :- \\n',array2)\n",
    "print()\n",
    "x7=array1-array2\n",
    "print('The difference between array1 and array2 :- \\n',x7)"
   ]
  },
  {
   "cell_type": "code",
   "execution_count": null,
   "metadata": {},
   "outputs": [],
   "source": [
    "8. Create a 3×3 numpy array of all True’s ? \n",
    "\n",
    "   HINT:- np.full((n, n), True, dtype=bool)  or np.ones((n,n), dtype=bool)"
   ]
  },
  {
   "cell_type": "code",
   "execution_count": 92,
   "metadata": {},
   "outputs": [
    {
     "name": "stdout",
     "output_type": "stream",
     "text": [
      "[[ True  True  True]\n",
      " [ True  True  True]\n",
      " [ True  True  True]]\n"
     ]
    }
   ],
   "source": [
    "x8=np.ones((3,3),dtype=bool)\n",
    "print(x8)"
   ]
  },
  {
   "cell_type": "code",
   "execution_count": 88,
   "metadata": {},
   "outputs": [
    {
     "name": "stdout",
     "output_type": "stream",
     "text": [
      "[[ True  True  True]\n",
      " [ True  True  True]\n",
      " [ True  True  True]]\n"
     ]
    }
   ],
   "source": [
    "x8=np.full((3, 3), True, dtype=bool)\n",
    "print(x8)"
   ]
  },
  {
   "cell_type": "code",
   "execution_count": null,
   "metadata": {},
   "outputs": [],
   "source": [
    "9. Create an array of all even integers from 2 to 10 with arange() method and name it a1\n",
    "\n",
    "   Create an array of all even integers from 22 to 30 with arange() method and name it a2\n",
    "\n",
    "   a) Use the 2 arrays as rows and create a matrix [ Hint - Use stack function from numpy ]\n",
    "\n",
    "   b) Use the 2 arrays as columns and create a matrix [ Hint - Use column_stack function from numpy ]"
   ]
  },
  {
   "cell_type": "code",
   "execution_count": 110,
   "metadata": {},
   "outputs": [
    {
     "name": "stdout",
     "output_type": "stream",
     "text": [
      "an array of all even integers from 2 to 10:- \n",
      " [ 2  4  6  8 10]\n",
      "an array of all even integers from 22 to 30:- \n",
      " [22 24 26 28 30]\n",
      "Use the 2 arrays as rows and create a matrix :- \n",
      " [[ 2  4  6  8 10]\n",
      " [22 24 26 28 30]]\n",
      "Use the 2 arrays as columns and create a matrix :- \n",
      " [[ 2 22]\n",
      " [ 4 24]\n",
      " [ 6 26]\n",
      " [ 8 28]\n",
      " [10 30]]\n"
     ]
    }
   ],
   "source": [
    "a1=np.arange(2,11,2)\n",
    "print('an array of all even integers from 2 to 10:- \\n',a1)\n",
    "a2=np.arange(22,31,2)\n",
    "print('an array of all even integers from 22 to 30:- \\n',a2)\n",
    "x6=np.row_stack((a1,a2))\n",
    "print('Use the 2 arrays as rows and create a matrix :- \\n',x6)\n",
    "x7=np.column_stack((a1,a2))\n",
    "print('Use the 2 arrays as columns and create a matrix :- \\n',x7)"
   ]
  },
  {
   "cell_type": "code",
   "execution_count": null,
   "metadata": {},
   "outputs": [],
   "source": [
    "10. Convert a 1D array to a 2D array with 2 rows using reshape() method? "
   ]
  },
  {
   "cell_type": "code",
   "execution_count": 112,
   "metadata": {},
   "outputs": [
    {
     "name": "stdout",
     "output_type": "stream",
     "text": [
      "[1 2 3 4 5 6]\n",
      "[[1 2 3]\n",
      " [4 5 6]]\n"
     ]
    }
   ],
   "source": [
    "x8=np.arange(1,7)\n",
    "print(x8)\n",
    "x9=x8.reshape(2,3)\n",
    "print(x9)"
   ]
  },
  {
   "cell_type": "code",
   "execution_count": null,
   "metadata": {},
   "outputs": [],
   "source": [
    "11. Create a 5x6 matrix with values ranging from 0 to 49 with arange() & reshape() methods \n",
    "    and retrieve the value intersecting at 2nd row and 3rd column? "
   ]
  },
  {
   "cell_type": "code",
   "execution_count": 121,
   "metadata": {},
   "outputs": [
    {
     "name": "stdout",
     "output_type": "stream",
     "text": [
      "[ 1  2  3  4  5  6  7  8  9 10 11 12 13 14 15 16 17 18 19 20 21 22 23 24\n",
      " 25 26 27 28 29 30]\n",
      "[[ 1  2  3  4  5  6]\n",
      " [ 7  8  9 10 11 12]\n",
      " [13 14 15 16 17 18]\n",
      " [19 20 21 22 23 24]\n",
      " [25 26 27 28 29 30]]\n",
      "[[9]]\n",
      "[2 3]\n"
     ]
    }
   ],
   "source": [
    "n1=np.arange(1,31)\n",
    "print(n1)\n",
    "n2=n1.reshape(5,6)\n",
    "print(n2)\n",
    "n3=n2[1:2,2:3]\n",
    "print(n3)\n",
    "print(n1[1:3])"
   ]
  },
  {
   "cell_type": "code",
   "execution_count": null,
   "metadata": {},
   "outputs": [],
   "source": [
    "12. Create an identity matrix of shape 10x10 and replace the 0's with the value 50."
   ]
  },
  {
   "cell_type": "code",
   "execution_count": 193,
   "metadata": {},
   "outputs": [
    {
     "name": "stdout",
     "output_type": "stream",
     "text": [
      "\n",
      "[[ 1. 50. 50. 50. 50. 50. 50. 50. 50. 50.]\n",
      " [50.  1. 50. 50. 50. 50. 50. 50. 50. 50.]\n",
      " [50. 50.  1. 50. 50. 50. 50. 50. 50. 50.]\n",
      " [50. 50. 50.  1. 50. 50. 50. 50. 50. 50.]\n",
      " [50. 50. 50. 50.  1. 50. 50. 50. 50. 50.]\n",
      " [50. 50. 50. 50. 50.  1. 50. 50. 50. 50.]\n",
      " [50. 50. 50. 50. 50. 50.  1. 50. 50. 50.]\n",
      " [50. 50. 50. 50. 50. 50. 50.  1. 50. 50.]\n",
      " [50. 50. 50. 50. 50. 50. 50. 50.  1. 50.]\n",
      " [50. 50. 50. 50. 50. 50. 50. 50. 50.  1.]]\n"
     ]
    }
   ],
   "source": [
    "#n4=np.eye(10)\n",
    "n4=np.identity(10)\n",
    "#print(\"Identity Matrix:- \\n\", n4)\n",
    "print()\n",
    "\n",
    "n5=np.where(n4==0)\n",
    "for i in n5:\n",
    "    n4[n5]=np.random.randint(50,51)\n",
    "print(n4)"
   ]
  },
  {
   "cell_type": "code",
   "execution_count": 1,
   "metadata": {},
   "outputs": [
    {
     "name": "stdout",
     "output_type": "stream",
     "text": [
      "Identity Matrix:- \n",
      " [[1. 0. 0. 0. 0. 0. 0. 0. 0. 0.]\n",
      " [0. 1. 0. 0. 0. 0. 0. 0. 0. 0.]\n",
      " [0. 0. 1. 0. 0. 0. 0. 0. 0. 0.]\n",
      " [0. 0. 0. 1. 0. 0. 0. 0. 0. 0.]\n",
      " [0. 0. 0. 0. 1. 0. 0. 0. 0. 0.]\n",
      " [0. 0. 0. 0. 0. 1. 0. 0. 0. 0.]\n",
      " [0. 0. 0. 0. 0. 0. 1. 0. 0. 0.]\n",
      " [0. 0. 0. 0. 0. 0. 0. 1. 0. 0.]\n",
      " [0. 0. 0. 0. 0. 0. 0. 0. 1. 0.]\n",
      " [0. 0. 0. 0. 0. 0. 0. 0. 0. 1.]]\n",
      "\n",
      "\n",
      "\n",
      "\n",
      "\n",
      "\n",
      "\n",
      "\n",
      "[[ 1. 50. 50. 50. 50. 50. 50. 50. 50. 50.]\n",
      " [50.  1. 50. 50. 50. 50. 50. 50. 50. 50.]\n",
      " [50. 50.  1. 50. 50. 50. 50. 50. 50. 50.]\n",
      " [50. 50. 50.  1.  0.  0.  0.  0.  0.  0.]\n",
      " [50. 50. 50. 50.  1.  0.  0.  0.  0.  0.]\n",
      " [50. 50. 50. 50.  0.  1.  0.  0.  0.  0.]\n",
      " [50. 50. 50. 50.  0.  0.  1.  0.  0.  0.]\n",
      " [50. 50. 50. 50.  0.  0.  0.  1.  0.  0.]\n",
      " [50. 50. 50. 50.  0.  0.  0.  0.  1.  0.]\n",
      " [50. 50. 50. 50.  0.  0.  0.  0.  0.  1.]]\n"
     ]
    }
   ],
   "source": [
    "import numpy as np\n",
    "\n",
    "n4=np.eye(10)\n",
    "print(\"Identity Matrix:- \\n\", n4)\n",
    "print()\n",
    "\n",
    "n4[:1,1:]=50\n",
    "#print(n4)\n",
    "print()\n",
    "n4[1:,:1]=50\n",
    "#print(n4)\n",
    "print()\n",
    "n4[1:,:1]=50\n",
    "#print(n4)\n",
    "print()\n",
    "n4[2:,1:2]=50\n",
    "#print(n4)\n",
    "print()\n",
    "n4[1:2,2:]=50\n",
    "#print(n4)\n",
    "print()\n",
    "n4[3:,2:3]=50\n",
    "#print(n4)\n",
    "print()\n",
    "n4[2:3,3:]=50\n",
    "#print(n4)\n",
    "print()\n",
    "n4[4:,3:4]=50\n",
    "print(n4)"
   ]
  },
  {
   "cell_type": "code",
   "execution_count": null,
   "metadata": {},
   "outputs": [],
   "source": [
    "13. Get the common items between two python numpy arrays?\n",
    "\n",
    "     a = np.array([1,2,3,2,3,4,3,4,5,6])\n",
    "     b = np.array([7,2,10,2,7,4,9,4,9,8])\n",
    "        \n",
    "     Desired Output: array([2, 4])\n",
    "    \n",
    "     HINT : intersect1d()"
   ]
  },
  {
   "cell_type": "code",
   "execution_count": 154,
   "metadata": {},
   "outputs": [
    {
     "name": "stdout",
     "output_type": "stream",
     "text": [
      "the common items between two python numpy arrays:- \n",
      " [2 4]\n"
     ]
    }
   ],
   "source": [
    "import numpy as np\n",
    "a = np.array([1,2,3,2,3,4,3,4,5,6])\n",
    "b = np.array([7,2,10,2,7,4,9,4,9,8])\n",
    "print('the common items between two python numpy arrays:- \\n',np.intersect1d(a,b))"
   ]
  },
  {
   "cell_type": "code",
   "execution_count": null,
   "metadata": {},
   "outputs": [],
   "source": [
    "14. How to reverse the rows of a 2D array?\n",
    "\n",
    "    x = np.arange(9).reshape(3,3)"
   ]
  },
  {
   "cell_type": "code",
   "execution_count": 198,
   "metadata": {},
   "outputs": [
    {
     "name": "stdout",
     "output_type": "stream",
     "text": [
      "[0 1 2 3 4 5 6 7 8]\n",
      "Reverse of x:-\n",
      " [8 7 6 5 4 3 2 1 0]\n",
      "\n",
      "Flip of x:-\n",
      " [8 7 6 5 4 3 2 1 0]\n",
      "\n",
      "Matrix:-Z \n",
      " [[0 1 2]\n",
      " [3 4 5]\n",
      " [6 7 8]]\n",
      "\n",
      "Reverse of z:-\n",
      " [[6 7 8]\n",
      " [3 4 5]\n",
      " [0 1 2]]\n",
      "\n",
      "Flip of z:-\n",
      " [[8 7 6]\n",
      " [5 4 3]\n",
      " [2 1 0]]\n"
     ]
    }
   ],
   "source": [
    "import numpy as np\n",
    "x=np.arange(9)\n",
    "print(x)\n",
    "y =x[::-1]\n",
    "print('Reverse of x:-\\n',y)\n",
    "print()\n",
    "k=np.flip(x)\n",
    "print('Flip of x:-\\n',k)\n",
    "print()\n",
    "\n",
    "z= x.reshape(3,3)\n",
    "print('Matrix:-Z \\n',z)\n",
    "print()\n",
    "\n",
    "M=z[::-1]\n",
    "print('Reverse of z:-\\n',M)\n",
    "print()\n",
    "N=np.flip(z)\n",
    "print('Flip of z:-\\n',N)"
   ]
  },
  {
   "cell_type": "code",
   "execution_count": 175,
   "metadata": {},
   "outputs": [
    {
     "name": "stdout",
     "output_type": "stream",
     "text": [
      "Reversed Array :  [11  8  2  4  3  9 18  2  4  1  6]\n"
     ]
    }
   ],
   "source": [
    "import numpy as np\n",
    "arr = np.array([6, 1, 4, 2, 18, 9, 3, 4, 2, 8, 11])\n",
    "reversedArr = np.flip(arr)\n",
    "print('Reversed Array : ', reversedArr)"
   ]
  },
  {
   "cell_type": "code",
   "execution_count": null,
   "metadata": {},
   "outputs": [],
   "source": [
    "`15. How to reverse the columns of a 2D array?\n",
    "\n",
    "     x = np.arange(9).reshape(3,3)"
   ]
  },
  {
   "cell_type": "code",
   "execution_count": 199,
   "metadata": {},
   "outputs": [
    {
     "name": "stdout",
     "output_type": "stream",
     "text": [
      "[[0 1 2]\n",
      " [3 4 5]\n",
      " [6 7 8]]\n"
     ]
    }
   ],
   "source": [
    "import numpy as np\n",
    "x=np.arange(9).reshape(3,3)\n",
    "print(x)"
   ]
  },
  {
   "cell_type": "code",
   "execution_count": null,
   "metadata": {},
   "outputs": [],
   "source": [
    "16. Use NumPy to generate a random set of 10 numbers between 0 and 1?\n",
    "\n",
    "    Display a boolean array output where all values > 0.2 are True, rest are marked as False?"
   ]
  },
  {
   "cell_type": "code",
   "execution_count": 236,
   "metadata": {},
   "outputs": [
    {
     "name": "stdout",
     "output_type": "stream",
     "text": [
      "[-0.42873014  0.96410167 -1.81428131 -1.35138591  0.20927387  1.33841884\n",
      " -0.47755088  0.34894414 -0.60796529 -0.42843043]\n",
      "False\n",
      "True\n",
      "False\n",
      "False\n",
      "True\n",
      "True\n",
      "False\n",
      "True\n",
      "False\n",
      "False\n"
     ]
    }
   ],
   "source": [
    "import numpy as np    \n",
    "r1=np.random.normal(0,1,10)\n",
    "print(r1)\n",
    "\n",
    "for i in r1:\n",
    "    r2=i>0.2\n",
    "    print(r2)"
   ]
  },
  {
   "cell_type": "code",
   "execution_count": null,
   "metadata": {},
   "outputs": [],
   "source": [
    "17. Use NumPy to generate an array matrix of 5x2 random numbers sampled from a standard normal distribution"
   ]
  },
  {
   "cell_type": "code",
   "execution_count": 230,
   "metadata": {},
   "outputs": [
    {
     "name": "stdout",
     "output_type": "stream",
     "text": [
      "Matrix with randn() function:-\n",
      " \n",
      "  [[-0.29348888  0.73888736]\n",
      " [-0.13835665 -0.5634486 ]\n",
      " [ 1.5476944  -1.19563326]\n",
      " [ 0.87171708  1.12860507]\n",
      " [ 1.72978341  0.19577412]]\n"
     ]
    }
   ],
   "source": [
    "import numpy as np\n",
    "random = np.random.randn(5, 2)\n",
    "\n",
    "print(\"Matrix with randn() function:-\\n \\n \",random)"
   ]
  },
  {
   "cell_type": "code",
   "execution_count": null,
   "metadata": {},
   "outputs": [],
   "source": [
    "18. Create an array of 30 linearly spaced points between 0 and 100: ?"
   ]
  },
  {
   "cell_type": "code",
   "execution_count": 238,
   "metadata": {},
   "outputs": [
    {
     "name": "stdout",
     "output_type": "stream",
     "text": [
      "Array of 30 linearly spaced points between 0 and 100:- \n",
      " [  0.           3.44827586   6.89655172  10.34482759  13.79310345\n",
      "  17.24137931  20.68965517  24.13793103  27.5862069   31.03448276\n",
      "  34.48275862  37.93103448  41.37931034  44.82758621  48.27586207\n",
      "  51.72413793  55.17241379  58.62068966  62.06896552  65.51724138\n",
      "  68.96551724  72.4137931   75.86206897  79.31034483  82.75862069\n",
      "  86.20689655  89.65517241  93.10344828  96.55172414 100.        ]\n"
     ]
    }
   ],
   "source": [
    "import numpy as np\n",
    "x1 = np.linspace(0, 100, 30)\n",
    "print('Array of 30 linearly spaced points between 0 and 100:- \\n',x1)"
   ]
  },
  {
   "cell_type": "markdown",
   "metadata": {},
   "source": [
    "###### Ignore 19 question"
   ]
  },
  {
   "cell_type": "code",
   "execution_count": 240,
   "metadata": {},
   "outputs": [],
   "source": [
    "19. How to drop all missing values from a numpy array?\n",
    "\n",
    "    Input: np.array([1,2,3,np.nan,5,6,7,np.nan])\n",
    "\n",
    "    Desired Output: array([ 1.,  2.,  3.,  5.,  6.,  7.])"
   ]
  },
  {
   "cell_type": "code",
   "execution_count": 246,
   "metadata": {},
   "outputs": [
    {
     "name": "stdout",
     "output_type": "stream",
     "text": [
      "y1:-  [ 1.  2.  3. nan  5.  6.  7. nan]\n",
      "y2:-  [ True  True  True False  True  True  True False]\n",
      "y3:-  [1. 2. 3. 5. 6. 7.]\n"
     ]
    }
   ],
   "source": [
    "import numpy as np\n",
    "\n",
    "y1= np.array([1,2,3,np.nan,5,6,7,np.nan])\n",
    "print('y1:- ',y1)\n",
    "\n",
    "y2= np.array([True,True,True,False,True,True,True,False])\n",
    "print('y2:- ',y2)\n",
    "\n",
    "y3=y1[y2]\n",
    "print('y3:- ',y3)"
   ]
  },
  {
   "cell_type": "markdown",
   "metadata": {},
   "source": [
    "###### Numpy Indexing and Selections"
   ]
  },
  {
   "cell_type": "code",
   "execution_count": null,
   "metadata": {},
   "outputs": [],
   "source": [
    "20. Using the below given Matrix, generate the output for the below questions:-"
   ]
  },
  {
   "cell_type": "code",
   "execution_count": 253,
   "metadata": {},
   "outputs": [
    {
     "name": "stdout",
     "output_type": "stream",
     "text": [
      "[[  1   2   3   4   5   6   7   8   9  10]\n",
      " [ 11  12  13  14  15  16  17  18  19  20]\n",
      " [ 21  22  23  24  25  26  27  28  29  30]\n",
      " [ 31  32  33  34  35  36  37  38  39  40]\n",
      " [ 41  42  43  44  45  46  47  48  49  50]\n",
      " [ 51  52  53  54  55  56  57  58  59  60]\n",
      " [ 61  62  63  64  65  66  67  68  69  70]\n",
      " [ 71  72  73  74  75  76  77  78  79  80]\n",
      " [ 81  82  83  84  85  86  87  88  89  90]\n",
      " [ 91  92  93  94  95  96  97  98  99 100]]\n",
      "\n",
      "a:Retrieve the last 2 rows and first 3 column values of the above matrix:- \n",
      " [[81 82 83]\n",
      " [91 92 93]]\n"
     ]
    }
   ],
   "source": [
    "# 1. Retrieve the last 2 rows and first 3 column values of the above matrix:\n",
    "\n",
    "import numpy as np\n",
    "a = np.arange(1,101).reshape(10,10)\n",
    "print(a)\n",
    "print()\n",
    "print('a:Retrieve the last 2 rows and first 3 column values of the above matrix:- \\n',a[8:,:3])"
   ]
  },
  {
   "cell_type": "code",
   "execution_count": 303,
   "metadata": {},
   "outputs": [
    {
     "name": "stdout",
     "output_type": "stream",
     "text": [
      "Shape of matrix:- \n",
      " 10\n",
      "Identify the rows :- \n",
      " [[  1   2   3   4   5   6   7   8   9  10  11  12  13  14  15  16  17  18\n",
      "   19  20]\n",
      " [ 21  22  23  24  25  26  27  28  29  30  31  32  33  34  35  36  37  38\n",
      "   39  40]\n",
      " [ 41  42  43  44  45  46  47  48  49  50  51  52  53  54  55  56  57  58\n",
      "   59  60]\n",
      " [ 61  62  63  64  65  66  67  68  69  70  71  72  73  74  75  76  77  78\n",
      "   79  80]\n",
      " [ 81  82  83  84  85  86  87  88  89  90  91  92  93  94  95  96  97  98\n",
      "   99 100]]\n"
     ]
    }
   ],
   "source": [
    "print('Shape of matrix:- \\n',a.shape[0])\n",
    "print('Identify the rows :- \\n',a.reshape(5,-1))"
   ]
  },
  {
   "cell_type": "code",
   "execution_count": 302,
   "metadata": {},
   "outputs": [
    {
     "name": "stdout",
     "output_type": "stream",
     "text": [
      "b) Retrieve the value 55 from the above matrix :- \n",
      " [[55]]\n"
     ]
    }
   ],
   "source": [
    "# b) Retrieve the value 55 from the above matrix using index & selection technique?\n",
    "\n",
    "print ('b) Retrieve the value 55 from the above matrix :- \\n',a[5:6,4:5])\n"
   ]
  },
  {
   "cell_type": "code",
   "execution_count": 256,
   "metadata": {},
   "outputs": [
    {
     "name": "stdout",
     "output_type": "stream",
     "text": [
      "c) Retrieve the values from the 3rd column :- \n",
      " [[ 3]\n",
      " [13]\n",
      " [23]\n",
      " [33]\n",
      " [43]\n",
      " [53]\n",
      " [63]\n",
      " [73]\n",
      " [83]\n",
      " [93]]\n"
     ]
    }
   ],
   "source": [
    "# c) Retrieve the values from the 3rd column in the above matrix?\n",
    "\n",
    "print('c) Retrieve the values from the 3rd column :- \\n',a[:,2:3])\n"
   ]
  },
  {
   "cell_type": "code",
   "execution_count": 257,
   "metadata": {},
   "outputs": [
    {
     "name": "stdout",
     "output_type": "stream",
     "text": [
      "d) Retrieve the values from the 4th row :- \n",
      " [[31 32 33 34 35 36 37 38 39 40]]\n"
     ]
    }
   ],
   "source": [
    "# d) Retrieve the values from the 4th row in the above matrix?\n",
    "\n",
    "print('d) Retrieve the values from the 4th row :- \\n',a[3:4,:])"
   ]
  },
  {
   "cell_type": "code",
   "execution_count": 263,
   "metadata": {},
   "outputs": [
    {
     "name": "stdout",
     "output_type": "stream",
     "text": [
      "e) Retrieve values from the 2nd & 4th rows :- \n",
      " [[11 12 13 14 15 16 17 18 19 20]]\n",
      "e) Retrieve values from the 2nd & 4th rows :- \n",
      " [[31 32 33 34 35 36 37 38 39 40]]\n"
     ]
    }
   ],
   "source": [
    "# e) Retrieve values from the 2nd & 4th rows in the above matrix?\n",
    "\n",
    "print('e) Retrieve values from the 2nd & 4th rows :- \\n',a[1:2,:])\n",
    "\n",
    "print('e) Retrieve values from the 2nd & 4th rows :- \\n',a[3:4,:])"
   ]
  },
  {
   "cell_type": "code",
   "execution_count": 306,
   "metadata": {},
   "outputs": [
    {
     "name": "stdout",
     "output_type": "stream",
     "text": [
      "f) Calculate sum of all the values in the matrix:- \n",
      " 5050\n",
      "f) Calculate sum of all the Row values in the matrix:- \n",
      " [ 55 155 255 355 455 555 655 755 855 955]\n",
      "f) Calculate sum of all the Column values in the matrix:- \n",
      " [460 470 480 490 500 510 520 530 540 550]\n"
     ]
    }
   ],
   "source": [
    "#f) Calculate sum of all the values in the matrix?\n",
    "\n",
    "print('f) Calculate sum of all the values in the matrix:- \\n',a.sum())\n",
    "print('f) Calculate sum of all the Row values in the matrix:- \\n',a.sum(axis=1))\n",
    "print('f) Calculate sum of all the Column values in the matrix:- \\n',a.sum(axis=0))"
   ]
  },
  {
   "cell_type": "code",
   "execution_count": 270,
   "metadata": {},
   "outputs": [
    {
     "name": "stdout",
     "output_type": "stream",
     "text": [
      "g) Calculate standard deviation of all the values:- \n",
      " 28.86607004772212\n"
     ]
    }
   ],
   "source": [
    "# g) Calculate standard deviation of all the values in the matrix?\n",
    "\n",
    "print('g) Calculate standard deviation of all the values:- \\n',np.std(a))"
   ]
  },
  {
   "cell_type": "code",
   "execution_count": null,
   "metadata": {},
   "outputs": [],
   "source": [
    "# h) Calculate the variance of all values in the matrix?\n",
    "\n",
    "print('h) Calculate the variance of all values:- \\n',)"
   ]
  },
  {
   "cell_type": "code",
   "execution_count": 271,
   "metadata": {},
   "outputs": [
    {
     "name": "stdout",
     "output_type": "stream",
     "text": [
      "i) Calculate the mean of all values :- \n",
      " 50.5\n"
     ]
    }
   ],
   "source": [
    "# i) Calculate the mean of all values in the matrix?\n",
    "\n",
    "print('i) Calculate the mean of all values :- \\n',np.mean(a))"
   ]
  },
  {
   "cell_type": "code",
   "execution_count": 269,
   "metadata": {},
   "outputs": [
    {
     "name": "stdout",
     "output_type": "stream",
     "text": [
      "j) Retrieve the largest number from the matrix :- \n",
      " 100\n"
     ]
    }
   ],
   "source": [
    "# j) Retrieve the largest number from the matrix.\n",
    "\n",
    "print('j) Retrieve the largest number from the matrix :- \\n',a.max())"
   ]
  },
  {
   "cell_type": "code",
   "execution_count": 268,
   "metadata": {},
   "outputs": [
    {
     "name": "stdout",
     "output_type": "stream",
     "text": [
      "k) Retrieve the smallest number from the matrix :- \n",
      " 1\n"
     ]
    }
   ],
   "source": [
    "# k) Retrieve the smallest number from the matrix.\n",
    "\n",
    "print('k) Retrieve the smallest number from the matrix :- \\n',a.min())"
   ]
  },
  {
   "cell_type": "code",
   "execution_count": null,
   "metadata": {},
   "outputs": [],
   "source": [
    "a) Retrieve the last 2 rows and first 3 column values of the above matrix using index & selection technique>\n",
    "\n",
    "b) Retrieve the value 55 from the above matrix using index & selection technique?\n",
    "\n",
    "c) Retrieve the values from the 3rd column in the above matrix?\n",
    "\n",
    "d) Retrieve the values from the 4th row in the above matrix?\n",
    "\n",
    "e) Retrieve values from the 2nd & 4th rows in the above matrix?\n",
    "\n",
    "f) Calculate sum of all the values in the matrix?\n",
    "\n",
    "g) Calculate standard deviation of all the values in the matrix?\n",
    "\n",
    "h) Calculate the variance of all values in the matrix?\n",
    "\n",
    "i) Calculate the mean of all values in the matrix?\n",
    "\n",
    "j) Retrieve the largest number from the matrix\n",
    "\n",
    "k) Retrieve the smallest number from the matrix"
   ]
  }
 ],
 "metadata": {
  "kernelspec": {
   "display_name": "Python 3 (ipykernel)",
   "language": "python",
   "name": "python3"
  },
  "language_info": {
   "codemirror_mode": {
    "name": "ipython",
    "version": 3
   },
   "file_extension": ".py",
   "mimetype": "text/x-python",
   "name": "python",
   "nbconvert_exporter": "python",
   "pygments_lexer": "ipython3",
   "version": "3.9.7"
  }
 },
 "nbformat": 4,
 "nbformat_minor": 4
}
