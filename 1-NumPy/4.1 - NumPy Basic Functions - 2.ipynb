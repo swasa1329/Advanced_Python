{
 "cells": [
  {
   "cell_type": "markdown",
   "id": "d07ac22a",
   "metadata": {},
   "source": [
    "# NumPy Functions"
   ]
  },
  {
   "cell_type": "markdown",
   "id": "687878bf",
   "metadata": {},
   "source": [
    "###### 1. NumPy append() function"
   ]
  },
  {
   "cell_type": "markdown",
   "id": "bcf31bc1",
   "metadata": {},
   "source": [
    "The \"append\" word simply means to add something to the existing data at the end or at the last.\n",
    "\n",
    " - In the NumPy library, the append() function is mainly used to append or add something to an existing array.\n",
    "\n",
    " - This function always append the values at the end of the array and that too along the mentioned axis.\n",
    "\n",
    " - The append() function is mainly used to merge two arrays and return a new array as a result.\n",
    "\n",
    " - During this operation, the original array remains unchanged."
   ]
  },
  {
   "cell_type": "markdown",
   "id": "b8f18d20",
   "metadata": {},
   "source": [
    "**Syntax of numpy.append():** <span style=\"color: red;\">**numpy.append(a, values, axis=None)**</span>\n",
    "\n",
    "**Parameters:-**\n",
    "\n",
    "1. **a** - This parameter indicates the ndarray to which the new values will be appended and a new array will be created.\n",
    "\n",
    "2. **values** - This parameter is mainly used to define the values that are needed to append to the copy of a (the existing         \n",
    "            ndarray). It is important to note here that these values must be of the correct shape just like the original     \n",
    "            ndarray, only excluding the axis. In the case if the axis is not defined, then the values can be in any shape and \n",
    "            will be flattened before the use.\n",
    "\n",
    "3. **axis** - This is an optional parameter and is used to define the axis along which the values are appended. \n",
    "              When the axis is not given then in that case both ndarray and values are flattened before use.\n",
    "\n",
    "4. **Returned Values**:- The append() function returns the copy of the ndarray along with the values appended to its axis."
   ]
  },
  {
   "cell_type": "code",
   "execution_count": null,
   "id": "b5cdcc45",
   "metadata": {},
   "outputs": [],
   "source": [
    "# Example:-1\n",
    "\n",
    "import numpy as np  \n",
    "\n",
    "x = np.array([[1, 2, 3], [7, 8, 9]])  \n",
    "y = np.array([[11, 12, 13], [14, 15, 16]])  \n",
    "\n",
    "print(\"The first array items:\\n\",x)\n",
    "print()\n",
    "print(\"The second array items:\\n\",y)\n",
    "print()\n",
    "\n",
    "z = np.append(x,y)  \n",
    "print(\"The resultant array after appending x & y is :-\",z )\n",
    "\n",
    "print(\"===============================================\")\n",
    "print()\n",
    "\n",
    "import numpy as np  \n",
    "\n",
    "a=np.array([[10, 20, 30], [40, 50, 60], [70, 80, 90]]) \n",
    "\n",
    "b=np.array([[11, 21, 31], [42, 52, 62], [73, 83, 93]])  \n",
    "\n",
    "print(\"The first array items:\\n\",a)\n",
    "print()\n",
    "print(\"The second array items:\\n\",b)\n",
    "print()\n",
    "\n",
    "c=np.append(a,b) \n",
    "\n",
    "print(\"The resultant array after appending a & b is :-\",c )"
   ]
  },
  {
   "cell_type": "code",
   "execution_count": null,
   "id": "9517ed48",
   "metadata": {},
   "outputs": [],
   "source": [
    "# Example 2: With axis=0\n",
    "\n",
    "import numpy as np  \n",
    "\n",
    "a1=np.array([[1, 2, 3], [7, 8, 9]])  \n",
    "b1=np.array([[10, 20, 30], [40, 50, 60]])  \n",
    "\n",
    "print(\"The first array items:\\n\",a)\n",
    "print()\n",
    "print(\"The second array items:\\n\",b)\n",
    "print()\n",
    "\n",
    "c1=np.append(a1,b1,axis=0) \n",
    "print(\"The resultant array appears vertically (axis=0) after appending a1 & b1 is:- \\n\",c1) \n",
    "\n",
    "print(\"===============================================\")\n",
    "print()\n",
    "\n",
    "import numpy as np  \n",
    "\n",
    "a2=np.array([[10, 20, 30], [40, 50, 60], [70, 80, 90]])  \n",
    "b2=np.array([[11, 21, 31], [42, 52, 62], [73, 83, 93]])  \n",
    "\n",
    "print(\"The first array items:\\n\",a)\n",
    "print()\n",
    "print(\"The second array items:\\n\",b)\n",
    "print()\n",
    "\n",
    "c2=np.append(a2,b2,axis=0)  \n",
    "print(\"The resultant array appears vertically (axis=0) after appending a2 & b2 is:- \\n\\n\",c2) \n",
    "\n",
    "# In the output, values of both arrays, i.e., 'a' and 'b', have been shown vertically in a single array,\n",
    "# and the original array remained the same."
   ]
  },
  {
   "cell_type": "code",
   "execution_count": 29,
   "id": "b6d356d9",
   "metadata": {
    "collapsed": true
   },
   "outputs": [
    {
     "name": "stdout",
     "output_type": "stream",
     "text": [
      "The first array items:\n",
      " [[1 2 3]\n",
      " [7 8 9]]\n",
      "\n",
      "The second array items:\n",
      " [[11 21 31]\n",
      " [42 52 62]]\n",
      "\n",
      "The resultant array appears horizontally (axis=1) after appending a3 & b3 is:- \n",
      "\n",
      " [[ 1  2  3 11 21 31]\n",
      " [ 7  8  9 42 52 62]]\n",
      "============================================================================\n",
      "\n",
      "The first array items:\n",
      " [[1 2 3]\n",
      " [7 8 9]]\n",
      "\n",
      "The second array items:\n",
      " [[11 21 31]\n",
      " [42 52 62]]\n",
      "\n",
      "The resultant array appears horizontally (axis=1) after appending a4 & b4 is:- \n",
      "\n",
      " [[10 20 30 11 21 31]\n",
      " [40 50 60 42 52 62]\n",
      " [70 80 90 73 83 93]]\n"
     ]
    }
   ],
   "source": [
    "# Example 3: With axis=1\n",
    "\n",
    "import numpy as np\n",
    "\n",
    "a3=np.array([[1, 2, 3], [7, 8, 9]])  \n",
    "b3=np.array([[11, 21, 31], [42, 52, 62]])  \n",
    "\n",
    "print(\"The first array items:\\n\",a3)\n",
    "print()\n",
    "print(\"The second array items:\\n\",b3)\n",
    "print()\n",
    "\n",
    "c3=np.append(a3,b3,axis=1)\n",
    "print(\"The resultant array appears horizontally (axis=1) after appending a3 & b3 is:- \\n\\n\",c3) \n",
    "\n",
    "print(\"============================================================================\")\n",
    "print()\n",
    "\n",
    "import numpy as np  \n",
    "\n",
    "print(\"The first array items:\\n\",a3)\n",
    "print()\n",
    "print(\"The second array items:\\n\",b3)\n",
    "print()\n",
    "\n",
    "a4=np.array([[10, 20, 30], [40, 50, 60], [70, 80, 90]])  \n",
    "b4=np.array([[11, 21, 31], [42, 52, 62], [73, 83, 93]])  \n",
    "\n",
    "c4=np.append(a4,b4,axis=1) \n",
    "print(\"The resultant array appears horizontally (axis=1) after appending a4 & b4 is:- \\n\\n\",c4) "
   ]
  },
  {
   "cell_type": "markdown",
   "id": "66dc236c",
   "metadata": {},
   "source": [
    "###### 2. NumPy concatenate() function"
   ]
  },
  {
   "cell_type": "markdown",
   "id": "ede9a098",
   "metadata": {},
   "source": [
    "1. The concatenate() function is mainly used in order to combine two or more NumPy arrays together. \n",
    "\n",
    "2. Hence we can say that the concatenate() function can be used to join a sequence of arrays along an existing axis.\n",
    "\n",
    "3. With the help of this function, we can concatenate arrays together either horizontally or vertically.\n",
    "\n",
    "4. Concatenation of two numpy arrays simply means their stacking.\n",
    "\n",
    "5. This function joins two or more arrays having same shape and along the specified axis."
   ]
  },
  {
   "cell_type": "markdown",
   "id": "93b98af4",
   "metadata": {},
   "source": [
    "**Syntax of numpy.concatenate():-** <span style=\"color: red;\">**numpy.concatenate((a1, a2, ...), axis=0, out=None)**</span>  \n",
    "\n",
    "**Parameters:-**\n",
    "\n",
    "1. **(a1, a2 , ...)**:- This parameter indicates the sequence of array like structures or arrays. \n",
    "                     Here a1, a2, ... are the arrays having the same shape, which are to be concatenated together.\n",
    "\n",
    "2. **axis**:- This parameter is used to define the axis along which the array will be concatenated. The default value of this parameter is 0.\n",
    "\n",
    "3. **out**:- It is an optional parameter, which if provided then it simply indicates the destination\n",
    "             where the result will be placed. If no out argument is specified then the shape must be correct, and should match   \n",
    "             with that of what concatenate would have returned.\n",
    "\n",
    "4. **Returned Values**:- The concatenate() function will return the concatenated array as a result."
   ]
  },
  {
   "cell_type": "code",
   "execution_count": 1,
   "id": "5f46809b",
   "metadata": {},
   "outputs": [
    {
     "name": "stdout",
     "output_type": "stream",
     "text": [
      "The first array items:\n",
      " [[1 2]\n",
      " [3 4]]\n",
      "\n",
      "The second array items:\n",
      " [[12 30]]\n",
      "\n",
      "The resultant array after concatenation of x & y is:- \n",
      "\n",
      " [[ 1  2]\n",
      " [ 3  4]\n",
      " [12 30]]\n"
     ]
    }
   ],
   "source": [
    "# Example 1:\n",
    "\n",
    "import numpy as np  \n",
    "\n",
    "x=np.array([[10,20],[30,40]])  \n",
    "\n",
    "print(\"The first array items:\\n\",x)\n",
    "print()\n",
    "\n",
    "y=np.array([[120,300]])  \n",
    "\n",
    "print(\"The second array items:\\n\",y)\n",
    "print()\n",
    "\n",
    "z=np.concatenate((x,y))  \n",
    "\n",
    "print(\"The resultant array after concatenation of x & y is:- \\n\\n\",z) "
   ]
  },
  {
   "cell_type": "code",
   "execution_count": 2,
   "id": "efcd6065",
   "metadata": {
    "collapsed": true
   },
   "outputs": [
    {
     "name": "stdout",
     "output_type": "stream",
     "text": [
      "The first array items:\n",
      " [[5 4]\n",
      " [6 8]]\n",
      "\n",
      "The second array items:\n",
      " [[13  5]\n",
      " [72  9]]\n",
      "\n",
      "The resultant array appears vertically (axis=0) after concatnation of x1 & x2 is:- \n",
      "\n",
      " [[ 5  4]\n",
      " [ 6  8]\n",
      " [13  5]\n",
      " [72  9]]\n",
      "\n",
      "The resultant array appears vertically (axis=0) after concatnation of x1 & x2 is:- \n",
      "\n",
      " [[ 10  20]\n",
      " [ 30  40]\n",
      " [120 300]]\n"
     ]
    }
   ],
   "source": [
    "# Example 2: With axis=0\n",
    "\n",
    "import numpy as np\n",
    "\n",
    "x1 = np.array([[5, 4], [6, 8]]) \n",
    "print(\"The first array items:\\n\",x1)\n",
    "print()\n",
    "\n",
    "x2 = np.array([[13, 5], [72, 9]]) \n",
    "print(\"The second array items:\\n\",x2)\n",
    "print()\n",
    "\n",
    "cc= np.concatenate((x1, x2), axis = 0) \n",
    "\n",
    "print(\"The resultant array appears vertically (axis=0) after concatnation of x1 & x2 is:- \\n\\n\",cc)\n",
    "print()\n",
    "\n",
    "# Example 3: With axis=0\n",
    "\n",
    "import numpy as np  \n",
    "\n",
    "x=np.array([[10,20],[30,40]])  \n",
    "\n",
    "y=np.array([[120,300]])  \n",
    "\n",
    "z=np.concatenate((x,y), axis=0)  \n",
    "print(\"The resultant array appears vertically (axis=0) after concatnation of x & y is:- \\n\\n\",z) "
   ]
  },
  {
   "cell_type": "code",
   "execution_count": 6,
   "id": "4109251a",
   "metadata": {
    "collapsed": true
   },
   "outputs": [
    {
     "name": "stdout",
     "output_type": "stream",
     "text": [
      "The first array items:\n",
      " [[5 4]\n",
      " [6 8]]\n",
      "\n",
      "The second array items:\n",
      " [[13  5]\n",
      " [72  9]]\n",
      "\n",
      "The resultant array appears vertically (axis=0) after concatnation of y1 & y2 is:- \n",
      "\n",
      " [[ 5  4 13  5]\n",
      " [ 6  8 72  9]]\n",
      "The resultant array appears vertically (axis=0) after concatnation of x & y is:- \n",
      "\n",
      " [[10 20 40 80]\n",
      " [30 40 15 30]]\n"
     ]
    }
   ],
   "source": [
    "# Example 4: With axis=1\n",
    "\n",
    "import numpy as np\n",
    "\n",
    "y1 = np.array([[5, 4], [6, 8]]) \n",
    "print(\"The first array items:\\n\",y1)\n",
    "print()\n",
    "\n",
    "y2 = np.array([[13, 5], [72, 9]]) \n",
    "print(\"The second array items:\\n\",y2)\n",
    "print()\n",
    "\n",
    "cc1= np.concatenate((y1, y2), axis = 1) \n",
    "\n",
    "print(\"The resultant array appears vertically (axis=0) after concatnation of y1 & y2 is:- \\n\\n\",cc1)  \n",
    "\n",
    "# Example 5: With axis=1\n",
    "\n",
    "import numpy as np  \n",
    "\n",
    "x=np.array([[10,20],[30,40]])  \n",
    "\n",
    "y=np.array([[40,80],[15,30]])  \n",
    "\n",
    "z=np.concatenate((x,y), axis=1)  \n",
    "print(\"The resultant array appears vertically (axis=0) after concatnation of x & y is:- \\n\\n\",z) "
   ]
  },
  {
   "cell_type": "code",
   "execution_count": 10,
   "id": "9114af15",
   "metadata": {},
   "outputs": [
    {
     "name": "stdout",
     "output_type": "stream",
     "text": [
      "The resultant array appears vertically (axis=0) after concatnation of x & y is:- \n",
      "\n",
      " [[ 10  20 120]\n",
      " [ 30  40 300]]\n"
     ]
    }
   ],
   "source": [
    "import numpy as np  \n",
    "\n",
    "x=np.array([[10,20],[30,40]])  \n",
    "\n",
    "y=np.array([[120,300]])  \n",
    "\n",
    "# z=np.concatenate((x,y), axis=1) # Displays the below given error:- \n",
    "# ValueError: all the input array dimensions except for the concatenation axis must match exactly,\n",
    "# but along dimension 0, the array at index 0 has size 2 and the array at index 1 has size 1\n",
    "\n",
    "z=np.concatenate((x,y.T), axis=1)  \n",
    "print(\"The resultant array appears vertically (axis=0) after concatnation of x & y is:- \\n\\n\",z) \n",
    "\n",
    "# In the above example, the '.T' used to change the rows into columns and columns into rows."
   ]
  },
  {
   "cell_type": "markdown",
   "id": "61363e72",
   "metadata": {},
   "source": [
    "###### 3. Transpose() function"
   ]
  },
  {
   "cell_type": "markdown",
   "id": "201afa9e",
   "metadata": {},
   "source": [
    "1. The transpose() function in the numpy library is mainly used to reverse or permute \n",
    "   the axes of an array and then it will return the modified array.\n",
    "\n",
    "2. The main task of this function is to change the column elements into the row elements and\n",
    "   the column elements into the row elements.\n",
    "\n",
    "3. This function has no effect on 1-D arrays and thus it is used for 2-D arrays.\n",
    "\n",
    "**Syntax of numpy.transpose():** <span style=\"color: red;\">**numpy.transpose(a, axes=None)**</span>  \n",
    " \n",
    "**Parameters:**\n",
    "\n",
    "**a**:- This parameter indicates the input array\n",
    "\n",
    "**axes**:- It is basically an optional parameter, but if you will pass this paramter\n",
    "           then remember you should pass (0, 1) or (1, 0). Like we have array of shape (4, 3) \n",
    "           to change it (3, 4) you should pass (1, 0) where 1 as 4 and 0 as 3.\n",
    "\n",
    "**Returned Values**:- The transpose() function will return the input array with its permuted axes."
   ]
  },
  {
   "cell_type": "code",
   "execution_count": 16,
   "id": "c0c789cb",
   "metadata": {
    "collapsed": true
   },
   "outputs": [
    {
     "name": "stdout",
     "output_type": "stream",
     "text": [
      "Before Transpose array is :\n",
      " [[6 2 4]\n",
      " [8 5 6]\n",
      " [7 1 9]]\n",
      "\n",
      "After Transpose the array is:\n",
      " [[6 8 7]\n",
      " [2 5 1]\n",
      " [4 6 9]]\n",
      "\n",
      "Before Transpose array is :\n",
      " [[0 1 2]\n",
      " [3 4 5]]\n",
      "\n",
      "After Transpose the array is:\n",
      " [[6 8 7]\n",
      " [2 5 1]\n",
      " [4 6 9]]\n"
     ]
    }
   ],
   "source": [
    "# Example 1:\n",
    "    \n",
    "import numpy as np \n",
    "\n",
    "a = np.array([[6, 2, 4], [8, 5, 6], [7, 1, 9]]) \n",
    "\n",
    "print(\"Before Transpose array is :\\n\",a) \n",
    "print()\n",
    "\n",
    "x=np.transpose(a)\n",
    "\n",
    "print(\"After Transpose the array is:\\n\",x) \n",
    "print()\n",
    "\n",
    "# Example 2: Transpose() with arange() & reshape() functions\n",
    "\n",
    "import numpy as np  \n",
    "\n",
    "a= np.arange(6).reshape((2,3)) \n",
    "\n",
    "print(\"Before Transpose array is :\\n\",a) \n",
    "print()\n",
    "\n",
    "b=np.transpose(a)  \n",
    "\n",
    "print(\"After Transpose the array is:\\n\",x) "
   ]
  },
  {
   "cell_type": "code",
   "execution_count": 19,
   "id": "e349f863",
   "metadata": {
    "collapsed": true
   },
   "outputs": [
    {
     "name": "stdout",
     "output_type": "stream",
     "text": [
      "Before Transpose :\n",
      " [[ 6 28]\n",
      " [ 8 56]\n",
      " [ 7 19]]\n",
      "\n",
      "After Transpose :\n",
      " [[ 6  8  7]\n",
      " [28 56 19]]\n",
      "\n",
      "Before Transpose :\n",
      " [[1 2]\n",
      " [4 5]\n",
      " [7 8]]\n",
      "\n",
      "After Transpose :\n",
      " [[1 4 7]\n",
      " [2 5 8]]\n"
     ]
    }
   ],
   "source": [
    "# Example 3:- Now we will use transpose() function along with the axis parameter:\n",
    "\n",
    "import numpy as np \n",
    "\n",
    "a = np.array([[6, 28], [8, 56], [7, 19]]) \n",
    "\n",
    "print(\"Before Transpose :\\n\",a) \n",
    "print()\n",
    "\n",
    "x=np.transpose(a,(1,0))\n",
    "\n",
    "print(\"After Transpose :\\n\",x) \n",
    "print()\n",
    "\n",
    "# Example 4:\n",
    "    \n",
    "import numpy as np  \n",
    "\n",
    "a= np.array([[1, 2], [4, 5], [7, 8]])  \n",
    "\n",
    "print(\"Before Transpose :\\n\",a) \n",
    "print()\n",
    "\n",
    "b=np.transpose(a, (1,0))  \n",
    "\n",
    "print(\"After Transpose :\\n\",b) "
   ]
  },
  {
   "cell_type": "markdown",
   "id": "c267f41e",
   "metadata": {},
   "source": [
    "# NumPy Mathematical Functions:-"
   ]
  },
  {
   "cell_type": "code",
   "execution_count": null,
   "id": "998dc5f2",
   "metadata": {},
   "outputs": [],
   "source": [
    "Numpy provides a wide range of mathematical functions that can be performed on arrays.\n",
    "\n",
    "Let's explore three different types of math functions in NumPy:\n",
    "\n",
    "1. Trigonometric Functions\n",
    "\n",
    "2. Arithmetic Functions\n",
    "\n",
    "3. Rounding Functions"
   ]
  },
  {
   "cell_type": "markdown",
   "id": "db2496a0",
   "metadata": {},
   "source": [
    "###### 1. Trigonometric Functions"
   ]
  },
  {
   "attachments": {
    "image.png": {
     "image/png": "[encoded data removed]"
    }
   },
   "cell_type": "markdown",
   "id": "a72f1f9a",
   "metadata": {},
   "source": [
    "NumPy provides a set of standard trigonometric functions to \n",
    "calculate the trigonometric ratios (sine, cosine, tangent, etc.)\n",
    "\n",
    "Here's a list of commonly used trigonometric functions in NumPy.\n",
    "\n",
    "![image.png](attachment:image.png)"
   ]
  },
  {
   "cell_type": "code",
   "execution_count": 53,
   "id": "39987a9c",
   "metadata": {
    "collapsed": true
   },
   "outputs": [
    {
     "name": "stdout",
     "output_type": "stream",
     "text": [
      "Angles: [0 1 2]\n",
      "\n",
      "Sine values: [0.         0.84147098 0.90929743]\n",
      "\n",
      "Cos values: [ 1.          0.54030231 -0.41614684]\n",
      "\n",
      "tan values: [ 0.          1.55740772 -2.18503986]\n",
      "\n",
      "=======================================================\n",
      "Inverse Sine values: [0.         1.57079633        nan]\n",
      "\n",
      "Inverse Cos values: [1.57079633 0.                nan]\n",
      "\n",
      "Inverse tan values: [0.         0.78539816 1.10714872]\n"
     ]
    },
    {
     "name": "stderr",
     "output_type": "stream",
     "text": [
      "C:\\Users\\HP\\AppData\\Local\\Temp\\ipykernel_18152\\1721147071.py:37: RuntimeWarning: invalid value encountered in arcsin\n",
      "  inverse_sine = np.arcsin(angles)\n",
      "C:\\Users\\HP\\AppData\\Local\\Temp\\ipykernel_18152\\1721147071.py:45: RuntimeWarning: invalid value encountered in arccos\n",
      "  inverse_cos = np.arccos(angles)\n"
     ]
    }
   ],
   "source": [
    "# Examples for sin & arc sin:- \n",
    "\n",
    "import numpy as np\n",
    "\n",
    "# array of angles in radians\n",
    "\n",
    "angles = np.array([0, 1, 2])\n",
    "\n",
    "print(\"Angles:\", angles)\n",
    "print()\n",
    "\n",
    "# compute the sine of the angles\n",
    "\n",
    "sine_values = np.sin(angles)\n",
    "\n",
    "print(\"Sine values:\", sine_values)\n",
    "print()\n",
    "\n",
    "# compute the cos of the angles\n",
    "\n",
    "cos_values = np.cos(angles)\n",
    "\n",
    "print(\"Cos values:\", cos_values)\n",
    "print()\n",
    "\n",
    "# compute the tan of the angles\n",
    "\n",
    "tan_values = np.tan(angles)\n",
    "\n",
    "print(\"tan values:\", tan_values)\n",
    "print()\n",
    "\n",
    "print(\"=======================================================\")\n",
    "\n",
    "# compute the inverse sine of the angles\n",
    "\n",
    "inverse_sine = np.arcsin(angles)\n",
    "\n",
    "print(\"Inverse Sine values:\", inverse_sine)\n",
    "\n",
    "print()\n",
    "\n",
    "# compute the inverse cos of the angles\n",
    "\n",
    "inverse_cos = np.arccos(angles)\n",
    "\n",
    "print(\"Inverse Cos values:\", inverse_cos)\n",
    "\n",
    "print()\n",
    "\n",
    "# compute the inverse tan of the angles\n",
    "\n",
    "inverse_tan = np.arctan(angles)\n",
    "\n",
    "print(\"Inverse tan values:\", inverse_tan)\n",
    "\n",
    "# In this example, the sin(),cos(),tan() and \n",
    "# arcsin(),arccos(),arctan() functions calculate the sine,cos,tan and inverse sine,cos,tan values,\n",
    "# respectively,for each element in the angles array.\n",
    "\n",
    "# The resulting values are in radians."
   ]
  },
  {
   "cell_type": "code",
   "execution_count": 55,
   "id": "1579ffca",
   "metadata": {
    "collapsed": true
   },
   "outputs": [
    {
     "name": "stdout",
     "output_type": "stream",
     "text": [
      "Initial angle in radian: 1.57079633\n",
      "\n",
      "Angle in degrees: 90.0000001836389\n",
      "\n",
      "Angle in radians (after conversion): 1.57079633\n"
     ]
    }
   ],
   "source": [
    "# Examples for degrees() and radians().\n",
    "\n",
    "import numpy as np\n",
    "\n",
    "# define an angle in radians\n",
    "\n",
    "angle =  1.57079633\n",
    "\n",
    "print(\"Initial angle in radian:\", angle)\n",
    "print()\n",
    "\n",
    "# convert the angle to degrees\n",
    "\n",
    "angle_degree = np.degrees(angle)\n",
    "\n",
    "print(\"Angle in degrees:\", angle_degree)\n",
    "print()\n",
    "\n",
    "# convert the angle back to radians\n",
    "\n",
    "angle_radian = np.radians(angle_degree)\n",
    "\n",
    "print(\"Angle in radians (after conversion):\", angle_radian)"
   ]
  },
  {
   "cell_type": "markdown",
   "id": "ff1a8698",
   "metadata": {},
   "source": [
    "###### 2. Arithmetic Functions"
   ]
  },
  {
   "attachments": {
    "image.png": {
     "image/png": "[encoded data removed]"
    }
   },
   "cell_type": "markdown",
   "id": "5065c730",
   "metadata": {},
   "source": [
    "NumPy provides a wide range of arithmetic functions to perform on arrays.\n",
    "\n",
    "Here's a list of various arithmetic functions along with their associated operators:\n",
    "\n",
    "![image.png](attachment:image.png)"
   ]
  },
  {
   "cell_type": "code",
   "execution_count": 65,
   "id": "725890e9",
   "metadata": {
    "collapsed": true
   },
   "outputs": [
    {
     "name": "stdout",
     "output_type": "stream",
     "text": [
      "Using the add() function: [ 30  70 110 150]\n",
      "\n",
      "Using the subtract() function: [-10 -10 -10 -10]\n",
      "\n",
      "Using the multiply() function: [ 200 1200 3000 5600]\n",
      "\n",
      "Using the divide() function: [0.5        0.75       0.83333333 0.875     ]\n",
      "\n",
      "Using the power() function: [1661992960          0          0          0]\n",
      "\n",
      "Using the mod() function: [10 30 50 70]\n"
     ]
    }
   ],
   "source": [
    "# Examples:- \n",
    "\n",
    "import numpy as np\n",
    "\n",
    "first_array = np.array([10, 30, 50, 70])\n",
    "\n",
    "second_array = np.array([20, 40, 60, 80])\n",
    "\n",
    "# using the add() function\n",
    "\n",
    "res1 = np.add(first_array, second_array)\n",
    "\n",
    "print(\"Using the add() function:\",res1)\n",
    "\n",
    "print()\n",
    "\n",
    "# using the subtract() function\n",
    "\n",
    "res2 = np.subtract(first_array, second_array)\n",
    "\n",
    "print(\"Using the subtract() function:\",res2)\n",
    "\n",
    "print()\n",
    "\n",
    "# using the multiply() function\n",
    "\n",
    "res3 = np.multiply(first_array, second_array)\n",
    "\n",
    "print(\"Using the multiply() function:\",res3)\n",
    "\n",
    "print()\n",
    "\n",
    "# using the divide() function\n",
    "\n",
    "res4 = np.divide(first_array, second_array)\n",
    "\n",
    "print(\"Using the divide() function:\",res4)\n",
    "\n",
    "print()\n",
    "\n",
    "# using the power() function\n",
    "\n",
    "res5 = np.power(first_array, second_array)\n",
    "\n",
    "print(\"Using the power() function:\",res5)\n",
    "\n",
    "print()\n",
    "\n",
    "# using the mod() function\n",
    "\n",
    "res6 = np.mod(first_array, second_array)\n",
    "\n",
    "print(\"Using the mod() function:\",res6)"
   ]
  },
  {
   "cell_type": "markdown",
   "id": "dce2c8ef",
   "metadata": {},
   "source": [
    "###### 3. Rounding Functions"
   ]
  },
  {
   "attachments": {
    "image.png": {
     "image/png": "[encoded data removed]"
    }
   },
   "cell_type": "markdown",
   "id": "5ad9f08d",
   "metadata": {},
   "source": [
    "We use rounding functions to round the values in an array to a specified number of decimal places.\n",
    "\n",
    "Here's a list of commonly used NumPy rounding functions:\n",
    "\n",
    "![image.png](attachment:image.png)"
   ]
  },
  {
   "cell_type": "markdown",
   "id": "648b3935",
   "metadata": {},
   "source": [
    "###### 1. round()"
   ]
  },
  {
   "cell_type": "markdown",
   "id": "3b866070",
   "metadata": {},
   "source": [
    "- Python NumPy round() is a built-in function used to return the rounded values \n",
    "  of the source array to the nearest integer. \n",
    "\n",
    "- It also takes the decimal values to be rounded. \n",
    "\n",
    "- If the decimal places to be rounded are specified, \n",
    "  then it returns an array that contains a float number \n",
    "  that will be rounded to the decimal places provided as input. \n",
    "\n",
    "- If the decimal places to be rounded are not specified, \n",
    "  it is considered as 0, and it will round to the nearest integer."
   ]
  },
  {
   "cell_type": "markdown",
   "id": "8209b072",
   "metadata": {},
   "source": [
    "**Syntax of NumPy round():-** <span style=\"color: red;\">**numpy.round(array, decimals = 0)**</span>  \n",
    "\n",
    "**Parameters of round():-** This function allows mainly two parameters.\n",
    "\n",
    "**array  :**    It is an input array in which we wanted to perform the round-off function.\n",
    "<br>\n",
    "\n",
    "**decimals :**  The number of decimals to be rounded. It is optional, and if it is not specified, it defaults to 0, \n",
    "                it will round to the nearest integer, and the return type will also be an integer."
   ]
  },
  {
   "cell_type": "code",
   "execution_count": 66,
   "id": "14973880",
   "metadata": {},
   "outputs": [
    {
     "name": "stdout",
     "output_type": "stream",
     "text": [
      "[1.23 2.35 3.46 4.57]\n"
     ]
    }
   ],
   "source": [
    "import numpy as np\n",
    "\n",
    "numbers = np.array([1.23456, 2.34567, 3.45678, 4.56789])\n",
    "\n",
    "# round the array to two decimal places\n",
    "\n",
    "rounded_array = np.round(numbers, 2)\n",
    "\n",
    "print(rounded_array)\n",
    "\n",
    "# Here, we used the round() function to round the values of array numbers. Notice the line,\n",
    "\n",
    "# np.round(numbers, 2), We've given two arguments to the round() function.\n",
    "\n",
    "# 1- numbers - the array whose values are to be rounded\n",
    "# 2- denotes the number of decimal places to which the array is rounded\n",
    "\n",
    "numbers = np.array([1.23456, 2.34567, 3.45678, 4.56789])\n",
    "\n",
    "# round the array to two decimal places\n",
    "\n",
    "rounded_array = np.round(numbers, 2)\n",
    "\n",
    "print(rounded_array)"
   ]
  },
  {
   "cell_type": "code",
   "execution_count": 72,
   "id": "7594f1e7",
   "metadata": {
    "collapsed": true
   },
   "outputs": [
    {
     "name": "stdout",
     "output_type": "stream",
     "text": [
      "Getting the rounding values of an elements:- [2. 2. 3. 3.]\n",
      "\n",
      "Getting the rounding values of specified decimals is 2:- [1.57 2.08 2.8  3.15]\n",
      "\n",
      "Getting the rounding values of specified decimals is 3:- [1.573 2.084 2.795 3.146]\n",
      "\n",
      "Getting the rounding values of specified decimals is -1:- [157280    460    720  20840   2800  31460]\n",
      "\n",
      "Getting the rounding values of specified decimals is -2:- [157300    500    700  20800   2800  31500]\n",
      "\n",
      "Getting the rounding values of specified decimals is -3:- [157000      0   1000  21000   3000  31000]\n"
     ]
    }
   ],
   "source": [
    "# Example 1: Get the rounding values of an elements\n",
    "\n",
    "arr=np.array([1.57279, 2.0843,  2.795,3.1465])\n",
    "\n",
    "arr1 = np.round(arr)\n",
    "\n",
    "print(\"Getting the rounding values of an elements:-\", arr1)\n",
    "print()\n",
    "\n",
    "#  Example 2: Get the rounding values of specified decimals is 2\n",
    "\n",
    "arr=np.array([1.57279, 2.0843,  2.795,3.1465])\n",
    "\n",
    "arr2 = np.round(arr,decimals = 2)\n",
    "\n",
    "print(\"Getting the rounding values of specified decimals is 2:-\", arr2)\n",
    "print()\n",
    "\n",
    "# Example 3: Get the rounding values of specified decimals is 3\n",
    "\n",
    "arr=np.array([1.57279, 2.0843,  2.795,3.1465])\n",
    "\n",
    "arr3 = np.round(arr,decimals = 3)\n",
    "\n",
    "print(\"Getting the rounding values of specified decimals is 3:-\", arr3)\n",
    "print()\n",
    "\n",
    "# Example 4: Get the rounding values of specified decimals is -1\n",
    "\n",
    "arr=np.array([157279,456, 723, 20843,  2795, 31465])\n",
    "\n",
    "arr4 = np.round(arr,decimals = -1)\n",
    "\n",
    "print(\"Getting the rounding values of specified decimals is -1:-\", arr4)\n",
    "print()\n",
    "\n",
    "# Example 5: Get the rounding values of specified decimals is -2\n",
    "\n",
    "arr=np.array([157279,456, 723, 20843,  2795, 31465])\n",
    "\n",
    "arr5 = np.round(arr,decimals = -2)\n",
    "\n",
    "print(\"Getting the rounding values of specified decimals is -2:-\", arr5)\n",
    "print()\n",
    "\n",
    "# Example 6: Get the rounding values of specified decimals is -3\n",
    "\n",
    "arr=np.array([157279,456, 723, 20843,  2795, 31465])\n",
    "\n",
    "arr6 = np.round(arr,decimals = -3)\n",
    "\n",
    "print(\"Getting the rounding values of specified decimals is -3:-\", arr6)   "
   ]
  },
  {
   "cell_type": "markdown",
   "id": "887a1ee0",
   "metadata": {},
   "source": [
    "###### 2. numpy.ceil()"
   ]
  },
  {
   "cell_type": "markdown",
   "id": "a306fe8b",
   "metadata": {},
   "source": [
    "- The numpy.ceil() function is used to return the ceil of the elements of an array.\n",
    "\n",
    "- The ceil value of any scalar value x is the smallest integer i in a way such that i >= x. \n",
    "\n",
    "- For example, the ceil value for 5.6 will be 6. \n",
    "  In simpler words we can say, the nearest larger integer value is the ceil value.\n",
    "\n",
    "**Syntax of numpy.ceil():** <span style=\"color: red;\">**numpy.ceil(array)**</span> \n",
    "    \n",
    "**Note:** In the above syntax, the parameter array is used to indicate the array elements\n",
    "          whose ceil values are to be calculated.\n",
    "\n",
    "**Returned Values:** This method will return an array containing the ceil values."
   ]
  },
  {
   "cell_type": "code",
   "execution_count": 21,
   "id": "69f639b8",
   "metadata": {},
   "outputs": [
    {
     "name": "stdout",
     "output_type": "stream",
     "text": [
      "the output after applying ceil() is:- [2. 3. 1.]\n"
     ]
    }
   ],
   "source": [
    "# Example 1: Array with positive values\n",
    "\n",
    "import numpy as np\n",
    "\n",
    "x = [1.90,2.3,0.6788]\n",
    "\n",
    "y = np.ceil(x)\n",
    "\n",
    "print(\"the output after applying ceil() is:-\",y)"
   ]
  },
  {
   "cell_type": "code",
   "execution_count": 22,
   "id": "eb7b1180",
   "metadata": {
    "collapsed": true
   },
   "outputs": [
    {
     "name": "stdout",
     "output_type": "stream",
     "text": [
      "the output after applying ceil() is:- [-1. -2. -0. 13.]\n"
     ]
    }
   ],
   "source": [
    "# Example 2: Array with negative values.\n",
    "    \n",
    "# In this example, we will check the output if an array contains negative values. \n",
    "# When we find the ceil value for a negative number, \n",
    "# then the larger integer number for let's say -1.9 will not be -2, but it will be -1. \n",
    "# Because -1 is a larger value than -1.9, whereas -2 is less than -1.9 value.\n",
    "\n",
    "import numpy as np\n",
    "\n",
    "x = [-1.90,-2.3,-0.6788,12.34]\n",
    "\n",
    "y = np.ceil(x)\n",
    "\n",
    "print(\"the output after applying ceil() is:-\",y)"
   ]
  },
  {
   "cell_type": "code",
   "execution_count": 25,
   "id": "53d2ff13",
   "metadata": {},
   "outputs": [
    {
     "name": "stdout",
     "output_type": "stream",
     "text": [
      "Input array: [0.23, 0.09, 1.2, 1.24, 9.99]\n",
      "Output array: [ 1.  1.  2.  2. 10.]\n",
      "\n",
      "Input array: [145.23, 0.12, 12.34, 123]\n",
      "Output array: [146.   1.  13. 123.]\n"
     ]
    }
   ],
   "source": [
    "# Example 3:\n",
    "\n",
    "import numpy as np  \n",
    "  \n",
    "a1 = [0.23, 0.09, 1.2, 1.24, 9.99]  \n",
    "  \n",
    "print(\"Input array:\",a1)  \n",
    "  \n",
    "a2 = np.ceil(a1)  \n",
    "  \n",
    "print(\"Output array:\",a2)  \n",
    "\n",
    "print()\n",
    "  \n",
    "a3 = [145.23, 0.12, 12.34, 123]  \n",
    "  \n",
    "a4=np.ceil(a3)  \n",
    "  \n",
    "print(\"Input array:\",a3)  \n",
    "  \n",
    "print(\"Output array:\",a4)  "
   ]
  },
  {
   "cell_type": "markdown",
   "id": "ef48b097",
   "metadata": {},
   "source": [
    "###### 3. numpy.floor()"
   ]
  },
  {
   "cell_type": "markdown",
   "id": "46967b0b",
   "metadata": {},
   "source": [
    "- The numpy.floor() is used to return the floor value of the elements of an array. \n",
    "\n",
    "- The floor value of any given scalar value x is the largest integer value, such that i <= x.\n",
    "\n",
    "- For example, the floor value for 2.3 will be 2.\n",
    "\n",
    "**Syntax of numpy.floor():** <span style=\"color: red;\">**numpy.floor(array)**</span>\n",
    "    \n",
    "- The parameter named array is used to denote the array whose floor value needs to be calculated.\n",
    "\n",
    "**Returned values:** This method will return an array that contains floor values only.\n",
    "\n",
    "**Note:** \n",
    "\n",
    "- In some spreadsheet programs value will be calculated through \"floor-towards-zero\" way that means floor(-2.8) == -2. \n",
    "  <br>\n",
    "- But in case of Numpy, the definition of floor is the opposite, floor(-2.8) == -3, \n",
    "  so we always pick the closest lower integer value to ind the floor."
   ]
  },
  {
   "cell_type": "code",
   "execution_count": 36,
   "id": "9aa82c84",
   "metadata": {
    "collapsed": true
   },
   "outputs": [
    {
     "name": "stdout",
     "output_type": "stream",
     "text": [
      "The array is : [0.23, -1.7, 1.34, -2.334]\n",
      "\n",
      "After applying the floor() method: [ 0. -2.  1. -3.]\n",
      "\n",
      "The Input array is: [1.23, 0.22, -0.111, -2.555, -3.86, 5.0, 6.9]\n",
      "\n",
      "The output array is:- [ 1.  0. -1. -3. -4.  5.  6.]\n"
     ]
    }
   ],
   "source": [
    "# Example 1: \n",
    "\n",
    "import numpy as np\n",
    "\n",
    "a = [0.23,-1.7,1.34,-2.334]\n",
    "\n",
    "print(\"The array is :\",a)\n",
    "print()\n",
    "\n",
    "y = np.floor(a)\n",
    "\n",
    "print(\"After applying the floor() method:\",y)\n",
    "\n",
    "print()\n",
    "\n",
    "# Example 2: \n",
    "\n",
    "import numpy as np\n",
    "\n",
    "a1 = [1.23,0.22,-0.111,-2.555,-3.86,5.0,6.9]\n",
    "\n",
    "print(\"The Input array is:\",a1)\n",
    "print()\n",
    "\n",
    "a2 = np.floor(a1)\n",
    "\n",
    "print(\"The output array is:-\",a2)"
   ]
  },
  {
   "cell_type": "markdown",
   "id": "5499b885",
   "metadata": {},
   "source": [
    "**Difference between ceil() & floor() methods:-**\n",
    "\n",
    "- ceil() function returns the integer value just greater than the given rational value.\n",
    "  <br>\n",
    "  \n",
    "- floor() function returns the integer value just lesser than the given rational value."
   ]
  },
  {
   "cell_type": "code",
   "execution_count": 32,
   "id": "6f5a7609",
   "metadata": {},
   "outputs": [
    {
     "name": "stdout",
     "output_type": "stream",
     "text": [
      "After applying the ceil() method: 79.0\n",
      "\n",
      "After applying the floor() method: 78.0\n"
     ]
    }
   ],
   "source": [
    "x = np.ceil(78.38)\n",
    "print(\"After applying the ceil() method:\",x)\n",
    "\n",
    "print()\n",
    "\n",
    "y = np.floor(78.38)\n",
    "print(\"After applying the floor() method:\",y)"
   ]
  },
  {
   "cell_type": "markdown",
   "id": "cc56f4c6",
   "metadata": {},
   "source": [
    "###### 4 numpy.trunc()"
   ]
  },
  {
   "cell_type": "markdown",
   "id": "441b6b92",
   "metadata": {},
   "source": [
    "- The numpy.trunc() function of Python is used to return the truncated value of the input array elements.\n",
    "\n",
    "- It is important to note that the truncated value t of input value x should be the nearest integer\n",
    "  which is closer to zero rather than to x\n",
    "\n",
    "- With the help of this function, the fractional part of any signed number is discarded.\n",
    "\n",
    "**Syntax of numpy.trunc():** <span style=\"color: red;\">**numpy.trunc(array)**</span> \n",
    "    \n",
    "**Note:** In the above syntax, the array is used to indicate the array elements whose truncated values are to be returned.\n",
    "\n",
    "**Returned Values:** This method mainly returns an array containing the truncated values."
   ]
  },
  {
   "cell_type": "code",
   "execution_count": 39,
   "id": "63727929",
   "metadata": {},
   "outputs": [
    {
     "name": "stdout",
     "output_type": "stream",
     "text": [
      "After applying trunc() method:- [1.2, -0.344, 5.89]\n",
      "\n",
      "The Input array is :- [123.22, 23.4, 0.89]\n",
      "\n",
      "The Output array is : [123.  23.   0.]\n"
     ]
    }
   ],
   "source": [
    "# Example 1:\n",
    "\n",
    "import numpy as np\n",
    "\n",
    "x = [1.2,-0.344,5.89]\n",
    "\n",
    "y = np.trunc(x)\n",
    "\n",
    "print(\"After applying trunc() method:-\", x)\n",
    "print()\n",
    "\n",
    "# Example 2:\n",
    "\n",
    "import numpy as np\n",
    "\n",
    "a = [123.22,23.4,0.89]\n",
    "\n",
    "print(\"The Input array is :-\",a)\n",
    "print()\n",
    "\n",
    "x = np.trunc(a)\n",
    "print(\"The Output array is :\",x)"
   ]
  },
  {
   "cell_type": "markdown",
   "id": "d5207f71",
   "metadata": {},
   "source": [
    "###### 5. numpy.fix()"
   ]
  },
  {
   "cell_type": "markdown",
   "id": "25ec4ea7",
   "metadata": {},
   "source": [
    "- The numpy.fix() function is used to round the array values to the nearest integers towards zero.\n",
    "\n",
    "- The rounded values returned by this function are in floats.\n",
    "\n",
    "**Syntax of numpy.fix():** <span style=\"color: red;\">**numpy.fix(array, b = None)**</span>  \n",
    "    \n",
    "**Parameters:**\n",
    "\n",
    "1. array: This parameter is used to indicate the array whose elements are to be rounded.\n",
    "\n",
    "2. b: This parameter is used to provide an ndarray (which is optional) which represents \n",
    "   the location into which the result will be stored.\n",
    "\n",
    "**Returned Values:** This function always returns an array containing the rounded values."
   ]
  },
  {
   "cell_type": "code",
   "execution_count": 42,
   "id": "12ed9721",
   "metadata": {},
   "outputs": [
    {
     "name": "stdout",
     "output_type": "stream",
     "text": [
      "The Input array is :- [0.289, 0.089, 1.2, 1.566, 9.909]\n",
      "\n",
      "The Output array is :- [0. 0. 1. 1. 9.]\n"
     ]
    }
   ],
   "source": [
    "# Example 1:\n",
    "\n",
    "import numpy as np  \n",
    "  \n",
    "a = [0.289, 0.089, 1.2, 1.566, 9.909]  \n",
    "  \n",
    "print(\"The Input array is :-\",a)  \n",
    "print()\n",
    "\n",
    "b = np.fix(a)  \n",
    "  \n",
    "print(\"The Output array is :-\",b)"
   ]
  },
  {
   "cell_type": "code",
   "execution_count": null,
   "id": "026b1d64",
   "metadata": {},
   "outputs": [],
   "source": []
  }
 ],
 "metadata": {
  "kernelspec": {
   "display_name": "Python 3 (ipykernel)",
   "language": "python",
   "name": "python3"
  },
  "language_info": {
   "codemirror_mode": {
    "name": "ipython",
    "version": 3
   },
   "file_extension": ".py",
   "mimetype": "text/x-python",
   "name": "python",
   "nbconvert_exporter": "python",
   "pygments_lexer": "ipython3",
   "version": "3.11.2"
  }
 },
 "nbformat": 4,
 "nbformat_minor": 5
}
