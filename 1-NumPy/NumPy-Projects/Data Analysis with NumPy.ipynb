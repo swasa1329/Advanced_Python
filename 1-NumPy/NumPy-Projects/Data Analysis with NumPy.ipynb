{
 "cells": [
  {
   "cell_type": "markdown",
   "metadata": {},
   "source": [
    "#### NUMPY PROJECT - WINE QUALITY"
   ]
  },
  {
   "cell_type": "markdown",
   "metadata": {},
   "source": [
    "- In this Project, we’ll walk through using NumPy to analyze data on wine quality. \n",
    "  <br>\n",
    "- The data contains information on various attributes of wines, such as pH and fixed acidity,<br>\n",
    "  along with a quality score between 0 and 10 for each wine. \n",
    "<br>\n",
    "\n",
    "- The quality score is the average of at least 3 human taste testers. "
   ]
  },
  {
   "cell_type": "markdown",
   "metadata": {},
   "source": [
    "###### CSV File - winequality-red.csv"
   ]
  },
  {
   "cell_type": "markdown",
   "metadata": {},
   "source": [
    "- The data is in what we are going to call ssv (semicolon separated values) format — <br>\n",
    "  each record is separated by a semicolon (;), and rows are separated by a new line. \n",
    "  <br>\n",
    "\n",
    "- There are 1600 rows in the file, including a header row, and 12 columns."
   ]
  },
  {
   "cell_type": "markdown",
   "metadata": {},
   "source": [
    "###### Reading CSV data"
   ]
  },
  {
   "cell_type": "markdown",
   "metadata": {},
   "source": [
    "1. We can use NumPy to directly read csv or other files into arrays. \n",
    "   <br>\n",
    "2. We can do this using the 'numpy.genfromtxt' function.\n",
    "   <br>\n",
    "3. We can use it to read in our initial data on red wines. \n",
    "   <br>\n",
    "4. In the below code, we:\n",
    "\n",
    "    - Use the genfromtxt function to read in the winequality-red.csv file.\n",
    "    - Specify the keyword argument delimiter=\";\" so that the fields are parsed properly.\n",
    "    - Specify the keyword argument skip_header=1 so that the header row is skipped."
   ]
  },
  {
   "cell_type": "code",
   "execution_count": 2,
   "metadata": {},
   "outputs": [],
   "source": [
    "import numpy as np"
   ]
  },
  {
   "cell_type": "code",
   "execution_count": 11,
   "metadata": {},
   "outputs": [
    {
     "name": "stdout",
     "output_type": "stream",
     "text": [
      "Values in winequality file:-\n",
      "\n",
      " [[ 7.4    0.7    0.    ...  0.56   9.4    5.   ]\n",
      " [ 7.8    0.88   0.    ...  0.68   9.8    5.   ]\n",
      " [ 7.8    0.76   0.04  ...  0.65   9.8    5.   ]\n",
      " ...\n",
      " [ 6.3    0.51   0.13  ...  0.75  11.     6.   ]\n",
      " [ 5.9    0.645  0.12  ...  0.71  10.2    5.   ]\n",
      " [ 6.     0.31   0.47  ...  0.66  11.     6.   ]]\n"
     ]
    }
   ],
   "source": [
    "wines=np.genfromtxt(\"winequality-red.csv\",delimiter=\";\",skip_header=1)\n",
    "\n",
    "print(\"Values in winequality file:-\\n\\n\",wines)\n",
    "\n",
    "# wines1=np.genfromtxt(\"winequality-red.csv\",delimiter=\";\",dtype=str) # With Header values\n",
    "\n",
    "# print(\"Values in winequality file:-\\n\\n\",wines1)"
   ]
  },
  {
   "cell_type": "markdown",
   "metadata": {},
   "source": [
    "###### Indexing"
   ]
  },
  {
   "cell_type": "markdown",
   "metadata": {},
   "source": [
    "- We can use array indexing to select individual elements, groups of elements, or entire rows & columns.\n",
    "  <br>\n",
    "- One important thing to keep in mind is that just like python lists, NumPy is zero-indexed, <br>\n",
    "  meaning that   the index of the first row is '0', and the index of the first column is '0'.\n",
    "  <br>\n",
    "  \n",
    "- Ex:- If we want to work with the fourth row, we would use the index 3.<br>\n",
    "  if we want to work with the second row,we would use index 1 and so on. "
   ]
  },
  {
   "cell_type": "code",
   "execution_count": 12,
   "metadata": {},
   "outputs": [
    {
     "name": "stdout",
     "output_type": "stream",
     "text": [
      "the value at row 3,column 4:- 2.3\n",
      "\n",
      "the value at row 0,column 0:- 7.4\n"
     ]
    }
   ],
   "source": [
    "print(\"the value at row 3,column 4:-\",wines[2,3])\n",
    "\n",
    "print()\n",
    "\n",
    "print(\"the value at row 0,column 0:-\",wines[0,0])"
   ]
  },
  {
   "cell_type": "markdown",
   "metadata": {},
   "source": [
    "- Let’s select the element at row 3 and column 4. In the above code,\n",
    "  we pass in the index 2 as the row index, and the index 3 as the column index.\n",
    "  This retrieves the value from the fourth column of the third row.\n",
    "\n",
    "    **Note:-** \n",
    "    \n",
    "   - Since we’re working with a 2-dimensional array in NumPy, we specify 2 indexes to retrieve an element.\n",
    "\n",
    "   - The first index is the row, or axis 1, index, and the second index is the column, or axis 2, index. \n",
    "    \n",
    "   - Any element in wines can be retrieved using 2 indexes."
   ]
  },
  {
   "cell_type": "markdown",
   "metadata": {},
   "source": [
    "###### Slicing"
   ]
  },
  {
   "cell_type": "markdown",
   "metadata": {},
   "source": [
    "- If we instead want to select the first three items from the fourth column,\n",
    "  we can do it using a colon (:). \n",
    "  <br>\n",
    "- A colon indicates that we want to select all the elements \n",
    "  from the starting index up to but not including the ending index. \n",
    "  <br>\n",
    "  \n",
    "- This is also known as a slice:"
   ]
  },
  {
   "cell_type": "code",
   "execution_count": 17,
   "metadata": {
    "collapsed": true
   },
   "outputs": [
    {
     "name": "stdout",
     "output_type": "stream",
     "text": [
      "Retrieving first 3 items from fourth column:-\n",
      " [1.9 2.6 2.3]\n",
      "\n",
      "Retrieving all the elements from the beginning up to element 3:-\n",
      "\n",
      " [[7.400e+00 7.000e-01 0.000e+00 1.900e+00 7.600e-02 1.100e+01 3.400e+01\n",
      "  9.978e-01 3.510e+00 5.600e-01 9.400e+00 5.000e+00]\n",
      " [7.800e+00 8.800e-01 0.000e+00 2.600e+00 9.800e-02 2.500e+01 6.700e+01\n",
      "  9.968e-01 3.200e+00 6.800e-01 9.800e+00 5.000e+00]\n",
      " [7.800e+00 7.600e-01 4.000e-02 2.300e+00 9.200e-02 1.500e+01 5.400e+01\n",
      "  9.970e-01 3.260e+00 6.500e-01 9.800e+00 5.000e+00]]\n"
     ]
    }
   ],
   "source": [
    "W = wines[0:3,3]\n",
    "\n",
    "print(\"Retrieving first 3 items from fourth column:-\\n\",W)\n",
    "\n",
    "print()\n",
    "\n",
    "# Just like with list slicing, it’s possible to omit the 0 to just retrieve all the elements\n",
    "# from the beginning up to element 3:\n",
    "\n",
    "print(\"Retrieving all the elements from the beginning up to element 3:-\\n\\n\", wines[:3])"
   ]
  },
  {
   "cell_type": "code",
   "execution_count": 20,
   "metadata": {},
   "outputs": [
    {
     "name": "stdout",
     "output_type": "stream",
     "text": [
      "Retrieving the entire 4th column values:- [1.9 2.6 2.3 ... 2.3 2.  3.6]\n"
     ]
    }
   ],
   "source": [
    "# We can select an entire column by specifying that we want all the elements,\n",
    "# from the first to the last. \n",
    "# We specify this by just using the colon (:), \n",
    "# with no starting or ending indices. \n",
    "\n",
    "# The below code will select the entire fourth column:\n",
    "\n",
    "print(\"Retrieving the entire 4th column values:-\", wines[:,3])"
   ]
  },
  {
   "cell_type": "code",
   "execution_count": 38,
   "metadata": {},
   "outputs": [
    {
     "name": "stdout",
     "output_type": "stream",
     "text": [
      "Retrieving 3rd row values:- \n",
      " [11.2    0.28   0.56   1.9    0.075 17.    60.     0.998  3.16   0.58\n",
      " 75.     6.   ]\n"
     ]
    }
   ],
   "source": [
    "# Extracting an entire row:\n",
    "\n",
    "print(\"Retrieving 3rd row values:- \\n\",wines[3,:])"
   ]
  },
  {
   "cell_type": "code",
   "execution_count": 25,
   "metadata": {},
   "outputs": [
    {
     "name": "stdout",
     "output_type": "stream",
     "text": [
      "row and column values:- \n",
      " [ 2.3    0.092 15.    54.     0.997  3.26 ]\n"
     ]
    }
   ],
   "source": [
    "# Extracting both row and column values\n",
    "\n",
    "print(\"row and column values:- \\n\",wines[2,3:9])"
   ]
  },
  {
   "cell_type": "code",
   "execution_count": 27,
   "metadata": {},
   "outputs": [
    {
     "name": "stdout",
     "output_type": "stream",
     "text": [
      "Extracting all rows and columns:-\n",
      "\n",
      " [[ 7.4    0.7    0.    ...  0.56   9.4    5.   ]\n",
      " [ 7.8    0.88   0.    ...  0.68   9.8    5.   ]\n",
      " [ 7.8    0.76   0.04  ...  0.65   9.8    5.   ]\n",
      " ...\n",
      " [ 6.3    0.51   0.13  ...  0.75  11.     6.   ]\n",
      " [ 5.9    0.645  0.12  ...  0.71  10.2    5.   ]\n",
      " [ 6.     0.31   0.47  ...  0.66  11.     6.   ]]\n"
     ]
    }
   ],
   "source": [
    "# If we take our indexing to the extreme, \n",
    "# we can select the entire array using two colons \n",
    "# to select all the rows and columns in wines.\n",
    "\n",
    "print(\"Extracting all rows and columns:-\\n\\n\", wines[:,:])"
   ]
  },
  {
   "cell_type": "markdown",
   "metadata": {},
   "source": [
    "###### Assigning values"
   ]
  },
  {
   "cell_type": "code",
   "execution_count": 29,
   "metadata": {},
   "outputs": [
    {
     "name": "stdout",
     "output_type": "stream",
     "text": [
      "original value:- 200.0 \n",
      "\n",
      "changed value:- 200.0\n"
     ]
    }
   ],
   "source": [
    "# We can also use indexing to assign values to certain elements in arrays.\n",
    "\n",
    "# We can do this by assigning directly to the indexed value. \n",
    "\n",
    "print(\"original value:-\",wines[1,1],\"\\n\")\n",
    "\n",
    "wines[1,1]=200\n",
    "\n",
    "print(\"changed value:-\",wines[1,1])"
   ]
  },
  {
   "cell_type": "code",
   "execution_count": 31,
   "metadata": {},
   "outputs": [
    {
     "name": "stdout",
     "output_type": "stream",
     "text": [
      "original column values:- [75. 75. 75. ... 75. 75. 75.] \n",
      "\n",
      "changed column values:- [75. 75. 75. ... 75. 75. 75.]\n"
     ]
    }
   ],
   "source": [
    "# We can do the same for slices. To overwrite an entire column:-\n",
    "\n",
    "print(\"original column values:-\",wines[:,10],\"\\n\")\n",
    "\n",
    "wines[:,10]=75\n",
    "\n",
    "print(\"changed column values:-\",wines[:,10])"
   ]
  },
  {
   "cell_type": "code",
   "execution_count": 36,
   "metadata": {},
   "outputs": [
    {
     "name": "stdout",
     "output_type": "stream",
     "text": [
      "original row values:- \n",
      " [75. 75. 75. 75. 75. 75. 75. 75. 75. 75. 75. 75.] \n",
      "\n",
      "changed row values:- [90. 90. 90. 90. 90. 90. 90. 90. 90. 90. 90. 90.]\n"
     ]
    }
   ],
   "source": [
    "# To overwrite an entire row values:- \n",
    "\n",
    "print(\"original row values:- \\n\",wines[4,:],\"\\n\")\n",
    "\n",
    "wines[4,:]=90\n",
    "\n",
    "print(\"changed row values:-\",wines[4,:])"
   ]
  },
  {
   "cell_type": "markdown",
   "metadata": {},
   "source": [
    "## 1-Dimensional NumPy Arrays"
   ]
  },
  {
   "cell_type": "markdown",
   "metadata": {},
   "source": [
    "- So far, we’ve worked with 2-dimensional arrays, such as wines.\n",
    "  <br>  \n",
    "- However, NumPy is a package for working with multidimensional arrays.\n",
    "  <br>\n",
    "- One of the most common types of multidimensional arrays is the 1-dimensional array, or vector.\n",
    "  <br>\n",
    "- As we may have noticed above, when we sliced wines, we retrieved a 1-dimensional array.\n",
    "  <br>\n",
    "- A 1-dimensional array only needs a single index to retrieve an element.\n",
    "  <br>\n",
    "- Each row and column in a 2-dimensional array is a 1-dimensional array.\n",
    "  <br> \n",
    "- Just like a list of lists is analogous to a 2-dimensional array, \n",
    "  a single list is analogous to a 1-dimensional array. \n",
    "  <br>  \n",
    "\n",
    "- If we slice wines and only retrieve the third row, we get a 1-dimensional array:-"
   ]
  },
  {
   "cell_type": "code",
   "execution_count": 44,
   "metadata": {},
   "outputs": [
    {
     "name": "stdout",
     "output_type": "stream",
     "text": [
      "Extracting 3rd row values:- \n",
      " [11.2    0.28   0.56   1.9    0.075 17.    60.     0.998  3.16   0.58\n",
      " 75.     6.   ]\n",
      "\n",
      "Displaying fifth value from w1:- 17.0\n",
      "\n",
      "Displaying fifth value from w1:- 3.16\n"
     ]
    }
   ],
   "source": [
    "w1=wines[3,:]\n",
    "\n",
    "print(\"Extracting 3rd row values:- \\n\", w1)\n",
    "\n",
    "print()\n",
    "\n",
    "# We can retrieve individual elements from \"w1\" using a single index. \n",
    "\n",
    "# The below code will display the fifth item in \"w1\":\n",
    "\n",
    "print(\"Displaying fifth value from w1:-\", w1[5])\n",
    "print()\n",
    "\n",
    "# The below code will display the eigth item in \"w1\":\n",
    "\n",
    "print(\"Displaying fifth value from w1:-\", w1[8])"
   ]
  },
  {
   "cell_type": "markdown",
   "metadata": {},
   "source": [
    "# Data types"
   ]
  },
  {
   "cell_type": "code",
   "execution_count": 45,
   "metadata": {},
   "outputs": [
    {
     "name": "stdout",
     "output_type": "stream",
     "text": [
      "Data type of the values in the file:- float64\n"
     ]
    }
   ],
   "source": [
    "print(\"Data type of the values in the file:-\", wines.dtype)"
   ]
  },
  {
   "cell_type": "code",
   "execution_count": 49,
   "metadata": {},
   "outputs": [
    {
     "name": "stdout",
     "output_type": "stream",
     "text": [
      "Values in the file are appearing in float:-\n",
      " [[7.40e+00 7.00e-01 0.00e+00 ... 5.60e-01 7.50e+01 5.00e+00]\n",
      " [7.80e+00 2.00e+02 0.00e+00 ... 6.80e-01 7.50e+01 5.00e+00]\n",
      " [7.80e+00 7.60e-01 4.00e-02 ... 6.50e-01 7.50e+01 5.00e+00]\n",
      " ...\n",
      " [6.30e+00 5.10e-01 1.30e-01 ... 7.50e-01 7.50e+01 6.00e+00]\n",
      " [5.90e+00 6.45e-01 1.20e-01 ... 7.10e-01 7.50e+01 5.00e+00]\n",
      " [6.00e+00 3.10e-01 4.70e-01 ... 6.60e-01 7.50e+01 6.00e+00]]\n"
     ]
    }
   ],
   "source": [
    "print(\"Values in the file are appearing in float:-\\n\",wines)"
   ]
  },
  {
   "cell_type": "markdown",
   "metadata": {},
   "source": [
    "###### Data type Conversion"
   ]
  },
  {
   "cell_type": "markdown",
   "metadata": {},
   "source": [
    "- We can use the numpy.ndarray.astype method to convert an array to a different type. \n",
    "  <br>\n",
    "  \n",
    "- The method will actually copy the array, and return a new array with the specified data type."
   ]
  },
  {
   "cell_type": "code",
   "execution_count": 53,
   "metadata": {},
   "outputs": [
    {
     "name": "stdout",
     "output_type": "stream",
     "text": [
      "Converting float to int data type:-\n",
      "\n",
      " [[  7   0   0 ...   0  75   5]\n",
      " [  7 200   0 ...   0  75   5]\n",
      " [  7   0   0 ...   0  75   5]\n",
      " ...\n",
      " [  6   0   0 ...   0  75   6]\n",
      " [  5   0   0 ...   0  75   5]\n",
      " [  6   0   0 ...   0  75   6]]\n"
     ]
    }
   ],
   "source": [
    "print(\"Converting float to int data type:-\\n\\n\", wines.astype(int))"
   ]
  },
  {
   "cell_type": "markdown",
   "metadata": {},
   "source": [
    "###### NumPy Array Operations"
   ]
  },
  {
   "cell_type": "markdown",
   "metadata": {},
   "source": [
    "- NumPy makes it simple to perform mathematical operations on arrays. \n",
    "\n",
    "- This is one of the primary advantages of NumPy, and makes it quite easy to do computations.\n",
    "\n",
    "  **Single array math**\n",
    "\n",
    "  - If you do any of the basic mathematical operations (/, *, -, +, ^) with an array and a value, <br>\n",
    "    it will apply the operation to each of the elements in the array."
   ]
  },
  {
   "cell_type": "code",
   "execution_count": 61,
   "metadata": {
    "collapsed": true
   },
   "outputs": [
    {
     "name": "stdout",
     "output_type": "stream",
     "text": [
      "Original values in quality score:- [35. 35. 35. ... 36. 35. 36.]\n",
      "\n",
      "Adding 10 points to quality score:- [45. 45. 45. ... 46. 45. 46.]\n",
      "\n",
      "Multiplying each qualit score by 2:- [105. 105. 105. ... 108. 105. 108.]\n"
     ]
    }
   ],
   "source": [
    "# Here, we want to add 10 points to each quality score, because we’re drunk and feeling generous.\n",
    "# Here’s how we’d do that:\n",
    "\n",
    "print(\"Original values in quality score:-\", wines[:,11])\n",
    "\n",
    "print(\"\\nAdding 10 points to quality score:-\", wines[:,11]+10)\n",
    "\n",
    "# wines[:,11] = wines[:,11]+10\n",
    "\n",
    "# wines[:,11]\n",
    "\n",
    "print(\"\\nMultiplying each qualit score by 2:-\", wines[:,11]*3)"
   ]
  },
  {
   "cell_type": "markdown",
   "metadata": {},
   "source": [
    "**Multi array math:-**\n",
    "\n",
    "- It's also possible to do mathematical operations between arrays. \n",
    "  This will apply the operation to pairs of elements. \n",
    "\n",
    "  For example, if we add the quality column to itself, here's what we get:"
   ]
  },
  {
   "cell_type": "code",
   "execution_count": 65,
   "metadata": {},
   "outputs": [
    {
     "name": "stdout",
     "output_type": "stream",
     "text": [
      "Adding quality score column to itself:- [70. 70. 70. ... 72. 70. 72.]\n",
      "\n",
      "Multiplying alcohol by quality score:- [2625. 2625. 2625. ... 2700. 2625. 2700.]\n"
     ]
    }
   ],
   "source": [
    "print(\"Adding quality score column to itself:-\", wines[:,11]+wines[:,11])\n",
    "\n",
    "print()\n",
    "\n",
    "# We can also use this to multiply arrays. \n",
    "\n",
    "# Here, we want to pick a wine that maximizes alcohol content and quality.\n",
    "# We'd multiply alcohol by quality, and select the wine with the highest score:\n",
    "\n",
    "print(\"Multiplying alcohol by quality score:-\", wines[:,10]*wines[:,11])"
   ]
  },
  {
   "cell_type": "markdown",
   "metadata": {},
   "source": [
    "###### NumPy Array Methods"
   ]
  },
  {
   "cell_type": "markdown",
   "metadata": {},
   "source": [
    "- In addition to the common mathematical operations, </br>\n",
    "  NumPy also has several methods that, we can use for more complex calculations on arrays."
   ]
  },
  {
   "cell_type": "code",
   "execution_count": 76,
   "metadata": {
    "collapsed": true
   },
   "outputs": [
    {
     "name": "stdout",
     "output_type": "stream",
     "text": [
      "Sum of all the elements in quality column:- 57067.0\n",
      "\n",
      "Sum of all the elements in alcohol column:- 119940.0\n",
      "\n",
      "Sum of elements for each column:-\n",
      " [ 13385.7       1132.405      523.29      4147.65       229.783\n",
      "  25463.       74358.        1682.80014   5380.96      1141.82\n",
      " 119940.       57067.     ]\n",
      "\n",
      "Shape of Sum of elements for each column:- (12,)\n",
      "\n",
      "Sum of elements for each row:-\n",
      " [170.1438  417.3748  194.899   ... 194.48174 200.01547 186.49249]\n",
      "\n",
      "Shape of Sum of elements for each row:- (1599,)\n"
     ]
    }
   ],
   "source": [
    "print(\"Sum of all the elements in quality column:-\", wines[:,11].sum())\n",
    "\n",
    "print(\"\\nSum of all the elements in alcohol column:-\", wines[:,10].sum())\n",
    "\n",
    "print(\"\\nSum of elements for each column:-\\n\", wines.sum(axis=0))\n",
    "\n",
    "# We can verify that we did the sum correctly by checking the shape. \n",
    "# The shape should be 12, corresponding to the number of columns:\n",
    "    \n",
    "print(\"\\nShape of Sum of elements for each column:-\", wines.sum(axis=0).shape)\n",
    "\n",
    "print(\"\\nSum of elements for each row:-\\n\", wines.sum(axis=1))\n",
    "\n",
    "print(\"\\nShape of Sum of elements for each row:-\", wines.sum(axis=1).shape)"
   ]
  },
  {
   "cell_type": "markdown",
   "metadata": {},
   "source": [
    "- There are several other methods that behave like the sum method, including:-\n",
    "\n",
    "    1. **numpy.ndarray.mean** — finds the mean of an array.\n",
    "     \n",
    "    2. **numpy.ndarray.std** — finds the standard deviation of an array.<br>\n",
    "    \n",
    "    3. **numpy.ndarray.min** — finds the minimum value in an array.<br>\n",
    "    \n",
    "    4. **numpy.ndarray.max** — finds the maximum value in an array."
   ]
  },
  {
   "cell_type": "code",
   "execution_count": 88,
   "metadata": {},
   "outputs": [
    {
     "name": "stdout",
     "output_type": "stream",
     "text": [
      "Mean of all the elements in the file:- 15.86681301542631\n",
      "\n",
      "Mean of all the elements in quality column:- 35.68918073796122\n",
      "\n",
      "Standard deviation of all the elements in the file:- 25.256546304552028\n",
      "\n",
      "Standard deviation of all the elements in quality column:- 2.258265732659416\n",
      "\n",
      "Minimum value of all the elements in the file:- 0.0\n",
      "\n",
      "Minimum value of all the elements in the quality column:- 33.0\n",
      "\n",
      "Maxmimum value of all the elements in the file:- 289.0\n",
      "\n",
      "Maximum value of all the elements in the quality column:- 120.0\n"
     ]
    }
   ],
   "source": [
    "print(\"Mean of all the elements in the file:-\", np.mean(wines))\n",
    "\n",
    "print(\"\\nMean of all the elements in quality column:-\", np.mean(wines[:,11]))\n",
    "\n",
    "print(\"\\nStandard deviation of all the elements in the file:-\", np.std(wines))\n",
    "\n",
    "print(\"\\nStandard deviation of all the elements in quality column:-\", np.std(wines[:,11]))\n",
    "\n",
    "print(\"\\nMinimum value of all the elements in the file:-\", wines.min())\n",
    "\n",
    "print(\"\\nMinimum value of all the elements in the quality column:-\", wines[:,11].min())\n",
    "\n",
    "print(\"\\nMaxmimum value of all the elements in the file:-\", wines.max())\n",
    "\n",
    "print(\"\\nMaximum value of all the elements in the quality column:-\", wines[:,11].max())"
   ]
  },
  {
   "cell_type": "markdown",
   "metadata": {},
   "source": [
    "###### NumPy Array Comparisons"
   ]
  },
  {
   "cell_type": "markdown",
   "metadata": {},
   "source": [
    "- NumPy makes it possible to test to see, if rows match certain values<br>\n",
    "  using mathematical comparison operations like <, >, >=, <=, and ==. \n",
    "  <br>\n",
    "  \n",
    "- For example, if we want to see which wines have a quality rating higher than 5,we can do with these operaters. "
   ]
  },
  {
   "cell_type": "code",
   "execution_count": 93,
   "metadata": {},
   "outputs": [
    {
     "name": "stdout",
     "output_type": "stream",
     "text": [
      "wines having quality higher than 5:- [ True  True  True ...  True  True  True]\n",
      "\n",
      "Wines having quality score equal to 35:- [ True  True  True ... False  True False]\n"
     ]
    }
   ],
   "source": [
    "print(\"wines having quality higher than 5:-\", wines[:,11]>5)\n",
    "\n",
    "print(\"\\nWines having quality score equal to 35:-\", wines[:,11]==35)"
   ]
  },
  {
   "cell_type": "markdown",
   "metadata": {},
   "source": [
    "###### Subsetting"
   ]
  },
  {
   "cell_type": "markdown",
   "metadata": {},
   "source": [
    "- One of the powerful things, we can do with a Boolean array and <br>\n",
    "  a NumPy array is select only certain rows or columns in the NumPy array.\n",
    "  <br>\n",
    "\n",
    "- For example, the below code will only select rows in wines where the quality is over 7:"
   ]
  },
  {
   "cell_type": "code",
   "execution_count": 33,
   "metadata": {},
   "outputs": [
    {
     "data": {
      "text/plain": [
       "array([[ 7.4  ,  0.7  ,  0.   , ...,  0.56 ,  9.4  ,  5.   ],\n",
       "       [ 7.8  ,  0.88 ,  0.   , ...,  0.68 ,  9.8  ,  5.   ],\n",
       "       [ 7.8  ,  0.76 ,  0.04 , ...,  0.65 ,  9.8  ,  5.   ],\n",
       "       ...,\n",
       "       [ 6.3  ,  0.51 ,  0.13 , ...,  0.75 , 11.   ,  6.   ],\n",
       "       [ 5.9  ,  0.645,  0.12 , ...,  0.71 , 10.2  ,  5.   ],\n",
       "       [ 6.   ,  0.31 ,  0.47 , ...,  0.66 , 11.   ,  6.   ]])"
      ]
     },
     "execution_count": 33,
     "metadata": {},
     "output_type": "execute_result"
    }
   ],
   "source": [
    "wines=np.genfromtxt(\"winequality-red.csv\",delimiter=\";\",skip_header=1)\n",
    "\n",
    "wines"
   ]
  },
  {
   "cell_type": "code",
   "execution_count": 98,
   "metadata": {},
   "outputs": [
    {
     "name": "stdout",
     "output_type": "stream",
     "text": [
      "quality higher than 7:- [ True  True  True ...  True  True  True]\n",
      "\n",
      "quality less than 7:- [False False False ... False False False]\n",
      "\n",
      "alcohol higher than 10:- [ True  True  True ...  True  True  True]\n"
     ]
    }
   ],
   "source": [
    "hq=wines[:,11]>7\n",
    "print(\"quality higher than 7:-\",hq)\n",
    "\n",
    "hq=wines[:,11]<7\n",
    "print(\"\\nquality less than 7:-\",hq)\n",
    "\n",
    "Alc=wines[:,10]>10\n",
    "\n",
    "print(\"\\nalcohol higher than 10:-\",Alc)"
   ]
  },
  {
   "cell_type": "code",
   "execution_count": null,
   "metadata": {},
   "outputs": [],
   "source": [
    "We select only the rows, where high_quality contains a True value, and all of the columns. \n",
    "\n",
    "This subsetting makes it simple to filter arrays for certain criteria.\n",
    "\n",
    "For example, we can look for wines with a lot of alcohol and high quality. \n",
    "\n",
    "In order to specify multiple conditions,we have to place each condition in parentheses,\n",
    "and separate conditions with an ampersand (&):"
   ]
  },
  {
   "cell_type": "code",
   "execution_count": 112,
   "metadata": {},
   "outputs": [
    {
     "name": "stdout",
     "output_type": "stream",
     "text": [
      "More alcohol and high quality:-\n",
      "\n",
      " [[75. 35.]\n",
      " [75. 35.]\n",
      " [75. 35.]\n",
      " ...\n",
      " [75. 36.]\n",
      " [75. 35.]\n",
      " [75. 36.]]\n",
      "\n",
      "Alochol and high quality:- [ True  True  True ...  True  True  True]\n"
     ]
    }
   ],
   "source": [
    "high_quality_and_alcohol = (wines[:,10] > 10) & (wines[:,11] > 7)\n",
    "\n",
    "print(\"More alcohol and high quality:-\\n\\n\", wines[high_quality_and_alcohol,10:])\n",
    "\n",
    "print()\n",
    "\n",
    "print(\"Alochol and high quality:-\", high_quality_and_alcohol)"
   ]
  },
  {
   "cell_type": "markdown",
   "metadata": {},
   "source": [
    "###### Reshaping NumPy arrays"
   ]
  },
  {
   "cell_type": "markdown",
   "metadata": {},
   "source": [
    "- We can change the shape of arrays while still preserving all of their elements.\n",
    "  <br>\n",
    "- This often can make it easier to access array elements. \n",
    "  <br>\n",
    "- The simplest reshaping is to flip the axes, so rows become columns, and vice versa. \n",
    "  <br>\n",
    " \n",
    "- We can accomplish this with the numpy.transpose function:"
   ]
  },
  {
   "cell_type": "code",
   "execution_count": 115,
   "metadata": {},
   "outputs": [
    {
     "name": "stdout",
     "output_type": "stream",
     "text": [
      "Shape of the Wines:- (1599, 12)\n",
      "\n",
      "Reshaping using transpose :- (12, 1599)\n"
     ]
    }
   ],
   "source": [
    "print(\"Shape of the Wines:-\",wines.shape)\n",
    "\n",
    "tp = np.transpose(wines).shape\n",
    "\n",
    "print(\"\\nReshaping using transpose :-\",tp)"
   ]
  },
  {
   "cell_type": "markdown",
   "metadata": {},
   "source": [
    "###### ravel"
   ]
  },
  {
   "cell_type": "markdown",
   "metadata": {},
   "source": [
    "- We can use the numpy.ravel function to turn an array into a one-dimensional representation.\n",
    "  <br>\n",
    "  \n",
    "- It will essentially flatten an array into a long sequence of values."
   ]
  },
  {
   "cell_type": "code",
   "execution_count": 123,
   "metadata": {},
   "outputs": [
    {
     "name": "stdout",
     "output_type": "stream",
     "text": [
      "Before reshaping:-\n",
      " [ 6.7     0.58    0.08    1.8     0.097  15.     65.      0.9959  3.28\n",
      "  0.54   75.     35.    ]\n",
      "\n",
      "Reshaping using transpose :- [ 7.4   0.7   0.   ...  0.66 75.   36.  ]\n",
      "\n",
      "Displaying 10th value after reshaping:- 75.0\n"
     ]
    }
   ],
   "source": [
    "print(\"Before reshaping:-\\n\",wines[10])\n",
    "\n",
    "tp = wines.ravel()\n",
    "\n",
    "print(\"\\nReshaping using transpose :-\",tp)\n",
    "\n",
    "print(\"\\nDisplaying 10th value after reshaping:-\", tp[10])"
   ]
  },
  {
   "cell_type": "code",
   "execution_count": 48,
   "metadata": {},
   "outputs": [
    {
     "data": {
      "text/plain": [
       "array([1, 2, 3, 4, 5, 6, 7, 8])"
      ]
     },
     "execution_count": 48,
     "metadata": {},
     "output_type": "execute_result"
    }
   ],
   "source": [
    "array_one = np.array(\n",
    "    [\n",
    "        [1, 2, 3, 4],\n",
    "        [5, 6, 7, 8]\n",
    "    ]\n",
    ")\n",
    "array_one.ravel()"
   ]
  },
  {
   "cell_type": "markdown",
   "metadata": {},
   "source": [
    "###### reshape()"
   ]
  },
  {
   "cell_type": "markdown",
   "metadata": {},
   "source": [
    "- We can use the numpy.reshape function to reshape an array to a certain shape we specify. "
   ]
  },
  {
   "cell_type": "code",
   "execution_count": 130,
   "metadata": {},
   "outputs": [
    {
     "name": "stdout",
     "output_type": "stream",
     "text": [
      "Second row of wines before reshaping:-\n",
      "\n",
      " [7.800e+00 2.000e+02 0.000e+00 2.600e+00 9.800e-02 2.500e+01 6.700e+01\n",
      " 9.968e-01 3.200e+00 6.800e-01 7.500e+01 3.500e+01]\n",
      "\n",
      "Secon row of wines after reshaping:-\n",
      "\n",
      " [[7.800e+00 2.000e+02 0.000e+00 2.600e+00]\n",
      " [9.800e-02 2.500e+01 6.700e+01 9.968e-01]\n",
      " [3.200e+00 6.800e-01 7.500e+01 3.500e+01]]\n"
     ]
    }
   ],
   "source": [
    "# The below code will turn the second row of wines into a 2-dimensional array with 3 rows and 4 columns:\n",
    "\n",
    "print(\"Second row of wines before reshaping:-\\n\\n\", wines[1,:])\n",
    "\n",
    "print()\n",
    "\n",
    "print(\"Secon row of wines after reshaping:-\\n\\n\", wines[1,:].reshape((3,4)))"
   ]
  },
  {
   "cell_type": "markdown",
   "metadata": {},
   "source": [
    "###### Combining NumPy Arrays"
   ]
  },
  {
   "cell_type": "markdown",
   "metadata": {},
   "source": [
    "- With NumPy, it’s very common to combine multiple arrays into a single unified array. \n",
    "  <br>\n",
    "  \n",
    "- **vstack :-** We can use numpy.vstack to vertically stack multiple arrays. "
   ]
  },
  {
   "cell_type": "code",
   "execution_count": 133,
   "metadata": {},
   "outputs": [
    {
     "name": "stdout",
     "output_type": "stream",
     "text": [
      "Shape of white wines file:- (4898, 12)\n"
     ]
    }
   ],
   "source": [
    "# We can read in the winequality-white.csv dataset that contains information on the quality of white wines,\n",
    "# then combine it with our existing dataset, wines, which contains information on red wines.\n",
    "\n",
    "white_wines=np.genfromtxt(\"winequality-white.csv\",delimiter=\";\",skip_header=1)\n",
    "\n",
    "print(\"Shape of white wines file:-\",white_wines.shape)"
   ]
  },
  {
   "cell_type": "code",
   "execution_count": 134,
   "metadata": {},
   "outputs": [
    {
     "name": "stdout",
     "output_type": "stream",
     "text": [
      "Shape of red wines file:- (1599, 12)\n"
     ]
    }
   ],
   "source": [
    "red_wines=np.genfromtxt(\"winequality-red.csv\",delimiter=\";\",skip_header=1)\n",
    "\n",
    "print(\"Shape of red wines file:-\",red_wines.shape)"
   ]
  },
  {
   "cell_type": "code",
   "execution_count": 135,
   "metadata": {},
   "outputs": [
    {
     "name": "stdout",
     "output_type": "stream",
     "text": [
      "Shape of all wines:- (6497, 12)\n"
     ]
    }
   ],
   "source": [
    "all_wines=np.vstack((red_wines,white_wines))\n",
    "\n",
    "print(\"Shape of all wines:-\", all_wines.shape)"
   ]
  },
  {
   "cell_type": "markdown",
   "metadata": {},
   "source": [
    "**hstack**\n",
    "\n",
    "- If we want to combine arrays horizontally, where the number of rows stay constant,<br>\n",
    "  but the columns are joined, then we can use the numpy.hstack function. \n",
    "  <br>\n",
    "  \n",
    "- The arrays we combine need to have the same number of rows for this to work."
   ]
  },
  {
   "cell_type": "code",
   "execution_count": 137,
   "metadata": {
    "collapsed": true
   },
   "outputs": [
    {
     "name": "stdout",
     "output_type": "stream",
     "text": [
      "Shape of red wines file:- (1599, 12)\n",
      "\n",
      "Shape of white wines file:- (4898, 12)\n"
     ]
    },
    {
     "ename": "ValueError",
     "evalue": "all the input array dimensions except for the concatenation axis must match exactly, but along dimension 0, the array at index 0 has size 1599 and the array at index 1 has size 4898",
     "output_type": "error",
     "traceback": [
      "\u001b[1;31m---------------------------------------------------------------------------\u001b[0m",
      "\u001b[1;31mValueError\u001b[0m                                Traceback (most recent call last)",
      "Cell \u001b[1;32mIn[137], line 5\u001b[0m\n\u001b[0;32m      2\u001b[0m \u001b[38;5;28mprint\u001b[39m()\n\u001b[0;32m      3\u001b[0m \u001b[38;5;28mprint\u001b[39m(\u001b[38;5;124m\"\u001b[39m\u001b[38;5;124mShape of white wines file:-\u001b[39m\u001b[38;5;124m\"\u001b[39m,white_wines\u001b[38;5;241m.\u001b[39mshape)\n\u001b[1;32m----> 5\u001b[0m all_wines\u001b[38;5;241m=\u001b[39m\u001b[43mnp\u001b[49m\u001b[38;5;241;43m.\u001b[39;49m\u001b[43mhstack\u001b[49m\u001b[43m(\u001b[49m\u001b[43m(\u001b[49m\u001b[43mred_wines\u001b[49m\u001b[43m,\u001b[49m\u001b[43mwhite_wines\u001b[49m\u001b[43m)\u001b[49m\u001b[43m)\u001b[49m\n\u001b[0;32m      7\u001b[0m all_wines\u001b[38;5;241m.\u001b[39mshape \u001b[38;5;66;03m# Displays error as both files doesnot have same number of rows. \u001b[39;00m\n",
      "File \u001b[1;32m~\\AppData\\Local\\Programs\\Python\\Python311\\Lib\\site-packages\\numpy\\core\\shape_base.py:359\u001b[0m, in \u001b[0;36mhstack\u001b[1;34m(tup, dtype, casting)\u001b[0m\n\u001b[0;32m    357\u001b[0m     \u001b[38;5;28;01mreturn\u001b[39;00m _nx\u001b[38;5;241m.\u001b[39mconcatenate(arrs, \u001b[38;5;241m0\u001b[39m, dtype\u001b[38;5;241m=\u001b[39mdtype, casting\u001b[38;5;241m=\u001b[39mcasting)\n\u001b[0;32m    358\u001b[0m \u001b[38;5;28;01melse\u001b[39;00m:\n\u001b[1;32m--> 359\u001b[0m     \u001b[38;5;28;01mreturn\u001b[39;00m \u001b[43m_nx\u001b[49m\u001b[38;5;241;43m.\u001b[39;49m\u001b[43mconcatenate\u001b[49m\u001b[43m(\u001b[49m\u001b[43marrs\u001b[49m\u001b[43m,\u001b[49m\u001b[43m \u001b[49m\u001b[38;5;241;43m1\u001b[39;49m\u001b[43m,\u001b[49m\u001b[43m \u001b[49m\u001b[43mdtype\u001b[49m\u001b[38;5;241;43m=\u001b[39;49m\u001b[43mdtype\u001b[49m\u001b[43m,\u001b[49m\u001b[43m \u001b[49m\u001b[43mcasting\u001b[49m\u001b[38;5;241;43m=\u001b[39;49m\u001b[43mcasting\u001b[49m\u001b[43m)\u001b[49m\n",
      "\u001b[1;31mValueError\u001b[0m: all the input array dimensions except for the concatenation axis must match exactly, but along dimension 0, the array at index 0 has size 1599 and the array at index 1 has size 4898"
     ]
    }
   ],
   "source": [
    "print(\"Shape of red wines file:-\",red_wines.shape)\n",
    "print()\n",
    "print(\"Shape of white wines file:-\",white_wines.shape)\n",
    "\n",
    "all_wines=np.hstack((red_wines,white_wines))\n",
    "\n",
    "all_wines.shape # Displays error as both files doesnot have same number of rows. "
   ]
  },
  {
   "cell_type": "markdown",
   "metadata": {},
   "source": [
    "###### Concatenation"
   ]
  },
  {
   "cell_type": "markdown",
   "metadata": {},
   "source": [
    "- We can use numpy.concatenate as a general purpose version of hstack and vstack. \n",
    "  <br>\n",
    "  \n",
    "- If we want to concatenate two arrays, we pass them into concatenate, <br>\n",
    "  then specify the axis keyword argument that we want to concatenate along. \n",
    "  <br>\n",
    "  \n",
    "- Concatenating along the first axis is similar to vstack,<br>\n",
    "  and concatenating along the second axis is similar to hstack:"
   ]
  },
  {
   "cell_type": "code",
   "execution_count": 140,
   "metadata": {},
   "outputs": [
    {
     "name": "stdout",
     "output_type": "stream",
     "text": [
      "After Concatenation of files:-\n",
      "\n",
      " [[ 7.4   0.7   0.   ...  0.56  9.4   5.  ]\n",
      " [ 7.8   0.88  0.   ...  0.68  9.8   5.  ]\n",
      " [ 7.8   0.76  0.04 ...  0.65  9.8   5.  ]\n",
      " ...\n",
      " [ 6.5   0.24  0.19 ...  0.46  9.4   6.  ]\n",
      " [ 5.5   0.29  0.3  ...  0.38 12.8   7.  ]\n",
      " [ 6.    0.21  0.38 ...  0.32 11.8   6.  ]]\n",
      "\n",
      "Shape after concatenation:- (6497, 12)\n"
     ]
    }
   ],
   "source": [
    "x=np.concatenate((red_wines,white_wines),axis=0)\n",
    "\n",
    "print(\"After Concatenation of files:-\\n\\n\",x)\n",
    "\n",
    "print(\"\\nShape after concatenation:-\", x.shape)"
   ]
  },
  {
   "cell_type": "code",
   "execution_count": 144,
   "metadata": {
    "collapsed": true
   },
   "outputs": [
    {
     "ename": "ValueError",
     "evalue": "all the input array dimensions except for the concatenation axis must match exactly, but along dimension 0, the array at index 0 has size 1599 and the array at index 1 has size 4898",
     "output_type": "error",
     "traceback": [
      "\u001b[1;31m---------------------------------------------------------------------------\u001b[0m",
      "\u001b[1;31mValueError\u001b[0m                                Traceback (most recent call last)",
      "Cell \u001b[1;32mIn[144], line 1\u001b[0m\n\u001b[1;32m----> 1\u001b[0m x\u001b[38;5;241m=\u001b[39m\u001b[43mnp\u001b[49m\u001b[38;5;241;43m.\u001b[39;49m\u001b[43mconcatenate\u001b[49m\u001b[43m(\u001b[49m\u001b[43m(\u001b[49m\u001b[43mred_wines\u001b[49m\u001b[43m,\u001b[49m\u001b[43mwhite_wines\u001b[49m\u001b[43m)\u001b[49m\u001b[43m,\u001b[49m\u001b[43maxis\u001b[49m\u001b[38;5;241;43m=\u001b[39;49m\u001b[38;5;241;43m1\u001b[39;49m\u001b[43m)\u001b[49m\n\u001b[0;32m      3\u001b[0m \u001b[38;5;28mprint\u001b[39m(\u001b[38;5;124m\"\u001b[39m\u001b[38;5;124mAfter Concatenation of files:-\u001b[39m\u001b[38;5;130;01m\\n\u001b[39;00m\u001b[38;5;130;01m\\n\u001b[39;00m\u001b[38;5;124m\"\u001b[39m,x) \u001b[38;5;66;03m# Displays error as rows of both files are not matching.\u001b[39;00m\n\u001b[0;32m      5\u001b[0m \u001b[38;5;28mprint\u001b[39m(x\u001b[38;5;241m.\u001b[39mshape)\n",
      "\u001b[1;31mValueError\u001b[0m: all the input array dimensions except for the concatenation axis must match exactly, but along dimension 0, the array at index 0 has size 1599 and the array at index 1 has size 4898"
     ]
    }
   ],
   "source": [
    "x=np.concatenate((red_wines,white_wines),axis=1)\n",
    "\n",
    "print(\"After Concatenation of files:-\\n\\n\",x) # Displays error as rows of both files are not matching.\n",
    "\n",
    "print(x.shape)"
   ]
  },
  {
   "cell_type": "code",
   "execution_count": null,
   "metadata": {},
   "outputs": [],
   "source": []
  }
 ],
 "metadata": {
  "kernelspec": {
   "display_name": "Python 3 (ipykernel)",
   "language": "python",
   "name": "python3"
  },
  "language_info": {
   "codemirror_mode": {
    "name": "ipython",
    "version": 3
   },
   "file_extension": ".py",
   "mimetype": "text/x-python",
   "name": "python",
   "nbconvert_exporter": "python",
   "pygments_lexer": "ipython3",
   "version": "3.11.2"
  }
 },
 "nbformat": 4,
 "nbformat_minor": 4
}
