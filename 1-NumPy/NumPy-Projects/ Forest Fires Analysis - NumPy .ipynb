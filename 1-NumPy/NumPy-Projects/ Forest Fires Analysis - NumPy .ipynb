{
 "cells": [
  {
   "cell_type": "markdown",
   "id": "19eb5c10",
   "metadata": {},
   "source": [
    "###### Forest Fires Project"
   ]
  },
  {
   "cell_type": "markdown",
   "id": "276445b2",
   "metadata": {},
   "source": [
    "- We are using the Forest Fires dataset for this project. \n",
    "  <br>\n",
    "  \n",
    "- The dataset represents the burned area of forest fires using meteorological data."
   ]
  },
  {
   "cell_type": "markdown",
   "id": "3b5028bc",
   "metadata": {},
   "source": [
    "###### Dataset Information :-"
   ]
  },
  {
   "cell_type": "markdown",
   "id": "e2808363",
   "metadata": {},
   "source": [
    "- The dataset contains 517 instances and 13 attributes. \n",
    "\n",
    "- The attribute information is as follows:-\n",
    "\n",
    "  1. **X :-** x-axis spatial coordinate within the Montesinho park map: 1 to 9\n",
    "  <br>\n",
    "  2. **Y :-** y-axis spatial coordinate within the Montesinho park map: 2 to 9\n",
    "  <br>\n",
    "  3. **month :-** month of the year: 'jan' to 'dec'\n",
    "  <br>\n",
    "  4. **day:-** day of the week: 'mon' to 'sun'\n",
    "  <br>\n",
    "  5. **FFMC:-** FFMC index from the FWI system: 18.7 to 96.20\n",
    "  6. **DMC:-** DMC index from the FWI system: 1.1 to 291.3\n",
    "  7. **DC:-** DC index from the FWI system: 7.9 to 860.6\n",
    "  8. **ISI:-** ISI index from the FWI system: 0.0 to 56.10\n",
    "  9. **temp:-** temperature in Celsius degrees: 2.2 to 33.30\n",
    "  10. **RH:-** relative humidity in %: 15.0 to 100\n",
    "  11. **wind:-** wind speed in km/h: 0.40 to 9.40\n",
    "  12. **rain:-** outside rain in mm/m2 : 0.0 to 6.4\n",
    "  13. **area:-** the burned area of the forest (in ha): 0.00 to 1090.84"
   ]
  }
 ],
 "metadata": {
  "kernelspec": {
   "display_name": "Python 3 (ipykernel)",
   "language": "python",
   "name": "python3"
  },
  "language_info": {
   "codemirror_mode": {
    "name": "ipython",
    "version": 3
   },
   "file_extension": ".py",
   "mimetype": "text/x-python",
   "name": "python",
   "nbconvert_exporter": "python",
   "pygments_lexer": "ipython3",
   "version": "3.11.2"
  }
 },
 "nbformat": 4,
 "nbformat_minor": 5
}
