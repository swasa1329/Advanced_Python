{
 "cells": [
  {
   "cell_type": "markdown",
   "id": "989aedc7",
   "metadata": {},
   "source": [
    "###### Suicide Case Study Analysis - NumPy"
   ]
  },
  {
   "cell_type": "code",
   "execution_count": null,
   "id": "2905b663",
   "metadata": {},
   "outputs": [],
   "source": [
    "Suicide is a serious public health problem.\n",
    "\n",
    "The World Health Organization (WHO) estimates that every year close to 800 000 people take their own life,\n",
    "which is one person every 40 seconds and there are many more people who attempt suicide. \n",
    "\n",
    "Suicide occurs throughout the lifespan and was the second leading cause of death among 15-29-year-olds globally in 2016."
   ]
  },
  {
   "cell_type": "markdown",
   "id": "b21225bf",
   "metadata": {},
   "source": [
    "###### Dataset:"
   ]
  },
  {
   "cell_type": "code",
   "execution_count": null,
   "id": "36df1895",
   "metadata": {},
   "outputs": [],
   "source": [
    "This Dataset is based on suicide rates in India.\n",
    "\n",
    "There are a total of 237520 rows and 7 columns in this dataset.\n",
    "\n",
    "By using this dataset this data analysis project is created."
   ]
  },
  {
   "cell_type": "markdown",
   "id": "f548de13",
   "metadata": {},
   "source": [
    "###### 1. Extracting data from dataset"
   ]
  },
  {
   "cell_type": "code",
   "execution_count": 1,
   "id": "c637d13f",
   "metadata": {
    "collapsed": true
   },
   "outputs": [
    {
     "name": "stdout",
     "output_type": "stream",
     "text": [
      "Values in dataset:-\n",
      "\n",
      " [['State' 'Year' 'Type_code' ... 'Gender' 'Age_group' 'Total']\n",
      " ['A & N Islands' '2001' 'Causes' ... 'Female' '0-14' '0']\n",
      " ['A & N Islands' '2001' 'Causes' ... 'Female' '0-14' '0']\n",
      " ...\n",
      " ['West Bengal' '2012' 'Social_Status' ... 'Male' '0-100+' '5451']\n",
      " ['West Bengal' '2012' 'Social_Status' ... 'Male' '0-100+' '189']\n",
      " ['West Bengal' '2012' 'Social_Status' ... 'Male' '0-100+' '2658']]\n"
     ]
    }
   ],
   "source": [
    "import numpy as np\n",
    "\n",
    "data = np.genfromtxt(\"Suicides in India 2001-2012.csv\",delimiter=\",\",dtype=str)\n",
    "\n",
    "print(\"Values in dataset:-\\n\\n\",data)"
   ]
  },
  {
   "cell_type": "code",
   "execution_count": 2,
   "id": "aed42c00",
   "metadata": {
    "collapsed": true
   },
   "outputs": [
    {
     "data": {
      "text/plain": [
       "array([['A & N Islands', '2001', 'Causes', ..., 'Female', '0-14', '0'],\n",
       "       ['A & N Islands', '2001', 'Causes', ..., 'Female', '0-14', '0'],\n",
       "       ['A & N Islands', '2001', 'Causes', ..., 'Female', '0-14', '0'],\n",
       "       ...,\n",
       "       ['West Bengal', '2012', 'Social_Status', ..., 'Male', '0-100+',\n",
       "        '5451'],\n",
       "       ['West Bengal', '2012', 'Social_Status', ..., 'Male', '0-100+',\n",
       "        '189'],\n",
       "       ['West Bengal', '2012', 'Social_Status', ..., 'Male', '0-100+',\n",
       "        '2658']], dtype='<U46')"
      ]
     },
     "execution_count": 2,
     "metadata": {},
     "output_type": "execute_result"
    }
   ],
   "source": [
    "data = data[1:,:]\n",
    "\n",
    "data"
   ]
  },
  {
   "cell_type": "markdown",
   "id": "dfd81045",
   "metadata": {},
   "source": [
    "###### 2. Shape of the dataset"
   ]
  },
  {
   "cell_type": "code",
   "execution_count": 10,
   "id": "434c0300",
   "metadata": {},
   "outputs": [
    {
     "data": {
      "text/plain": [
       "(237519, 7)"
      ]
     },
     "execution_count": 10,
     "metadata": {},
     "output_type": "execute_result"
    }
   ],
   "source": [
    "data.shape"
   ]
  },
  {
   "cell_type": "markdown",
   "id": "a22781d2",
   "metadata": {},
   "source": [
    "###### 3. Extracting Unique data from columns in the dataset"
   ]
  },
  {
   "cell_type": "code",
   "execution_count": 13,
   "id": "66c5c56d",
   "metadata": {},
   "outputs": [
    {
     "data": {
      "text/plain": [
       "array(['A & N Islands', 'Andhra Pradesh', 'Arunachal Pradesh', 'Assam',\n",
       "       'Bihar', 'Chandigarh', 'Chhattisgarh', 'D & N Haveli',\n",
       "       'Daman & Diu', 'Delhi (Ut)', 'Goa', 'Gujarat', 'Haryana',\n",
       "       'Himachal Pradesh', 'Jammu & Kashmir', 'Jharkhand', 'Karnataka',\n",
       "       'Kerala', 'Lakshadweep', 'Madhya Pradesh', 'Maharashtra',\n",
       "       'Manipur', 'Meghalaya', 'Mizoram', 'Nagaland', 'Odisha',\n",
       "       'Puducherry', 'Punjab', 'Rajasthan', 'Sikkim', 'State',\n",
       "       'Tamil Nadu', 'Total (All India)', 'Total (States)', 'Total (Uts)',\n",
       "       'Tripura', 'Uttar Pradesh', 'Uttarakhand', 'West Bengal'],\n",
       "      dtype='<U46')"
      ]
     },
     "execution_count": 13,
     "metadata": {},
     "output_type": "execute_result"
    }
   ],
   "source": [
    "np.unique(data[:,0]) # Extracting unique values from column1 (State) in the dataset"
   ]
  },
  {
   "cell_type": "code",
   "execution_count": 14,
   "id": "5932b9da",
   "metadata": {},
   "outputs": [
    {
     "data": {
      "text/plain": [
       "array(['Female', 'Gender', 'Male'], dtype='<U46')"
      ]
     },
     "execution_count": 14,
     "metadata": {},
     "output_type": "execute_result"
    }
   ],
   "source": [
    "np.unique([data[:,4]]) # Extracting unique values from column5 (Gender) in the dataset"
   ]
  },
  {
   "cell_type": "code",
   "execution_count": 15,
   "id": "534d3ff1",
   "metadata": {},
   "outputs": [
    {
     "data": {
      "text/plain": [
       "array(['2001', '2002', '2003', '2004', '2005', '2006', '2007', '2008',\n",
       "       '2009', '2010', '2011', '2012', 'Year'], dtype='<U46')"
      ]
     },
     "execution_count": 15,
     "metadata": {},
     "output_type": "execute_result"
    }
   ],
   "source": [
    "np.unique(data[:,1]) # Extracting unique values from column2(Year) in the dataset"
   ]
  },
  {
   "cell_type": "code",
   "execution_count": 16,
   "id": "6e4f3779",
   "metadata": {},
   "outputs": [
    {
     "data": {
      "text/plain": [
       "array(['Causes', 'Education_Status', 'Means_adopted',\n",
       "       'Professional_Profile', 'Social_Status', 'Type_code'], dtype='<U46')"
      ]
     },
     "execution_count": 16,
     "metadata": {},
     "output_type": "execute_result"
    }
   ],
   "source": [
    "np.unique(data[:,2]) # Extracting unique values from column3 (Type_code) in the dataset"
   ]
  },
  {
   "cell_type": "markdown",
   "id": "e1e39502",
   "metadata": {},
   "source": [
    "###### 4. Data Filteration"
   ]
  },
  {
   "cell_type": "code",
   "execution_count": 17,
   "id": "8aa50ae5",
   "metadata": {},
   "outputs": [
    {
     "data": {
      "text/plain": [
       "array([['Punjab', '2001', 'Causes', ..., 'Female', '0-14', '0'],\n",
       "       ['Punjab', '2001', 'Causes', ..., 'Female', '0-14', '0'],\n",
       "       ['Punjab', '2001', 'Causes', ..., 'Female', '0-14', '0'],\n",
       "       ...,\n",
       "       ['Punjab', '2012', 'Social_Status', ..., 'Male', '0-100+', '4'],\n",
       "       ['Punjab', '2012', 'Social_Status', ..., 'Male', '0-100+', '299'],\n",
       "       ['Punjab', '2012', 'Social_Status', ..., 'Male', '0-100+', '470']],\n",
       "      dtype='<U46')"
      ]
     },
     "execution_count": 17,
     "metadata": {},
     "output_type": "execute_result"
    }
   ],
   "source": [
    "Punjab = data[data[:,0]=='Punjab'] # Extracting all rows related to punjab state from the dataset\n",
    "\n",
    "Punjab"
   ]
  },
  {
   "cell_type": "code",
   "execution_count": 18,
   "id": "db750e9d",
   "metadata": {},
   "outputs": [
    {
     "data": {
      "text/plain": [
       "array([['Punjab', '2001', 'Causes', ..., 'Female', '0-14', '0'],\n",
       "       ['Punjab', '2001', 'Causes', ..., 'Female', '0-14', '0'],\n",
       "       ['Punjab', '2001', 'Causes', ..., 'Female', '0-14', '0'],\n",
       "       ...,\n",
       "       ['Punjab', '2012', 'Social_Status', ..., 'Male', '0-100+', '4'],\n",
       "       ['Punjab', '2012', 'Social_Status', ..., 'Male', '0-100+', '299'],\n",
       "       ['Punjab', '2012', 'Social_Status', ..., 'Male', '0-100+', '470']],\n",
       "      dtype='<U46')"
      ]
     },
     "execution_count": 18,
     "metadata": {},
     "output_type": "execute_result"
    }
   ],
   "source": [
    "np.savetxt(\"Punjab.csv\",Punjab,fmt='%s',delimiter=\",\")\n",
    "\n",
    "x=np.loadtxt(\"Punjab.csv\", delimiter=\",\",dtype='str')\n",
    "\n",
    "x"
   ]
  },
  {
   "cell_type": "code",
   "execution_count": 19,
   "id": "59fabb4e",
   "metadata": {},
   "outputs": [
    {
     "name": "stdout",
     "output_type": "stream",
     "text": [
      "[['Andhra Pradesh' '2001' 'Causes' ... 'Female' '0-14' '0']\n",
      " ['Andhra Pradesh' '2001' 'Causes' ... 'Female' '0-14' '4']\n",
      " ['Andhra Pradesh' '2001' 'Causes' ... 'Female' '0-14' '0']\n",
      " ...\n",
      " ['Andhra Pradesh' '2012' 'Social_Status' ... 'Male' '0-100+' '261']\n",
      " ['Andhra Pradesh' '2012' 'Social_Status' ... 'Male' '0-100+' '1136']\n",
      " ['Andhra Pradesh' '2012' 'Social_Status' ... 'Male' '0-100+' '7813']]\n",
      "=======================================\n"
     ]
    },
    {
     "data": {
      "text/plain": [
       "array([['Andhra Pradesh', '2001', 'Causes', ..., 'Female', '0-14', '0'],\n",
       "       ['Andhra Pradesh', '2001', 'Causes', ..., 'Female', '0-14', '4'],\n",
       "       ['Andhra Pradesh', '2001', 'Causes', ..., 'Female', '0-14', '0'],\n",
       "       ...,\n",
       "       ['Andhra Pradesh', '2012', 'Social_Status', ..., 'Male', '0-100+',\n",
       "        '261'],\n",
       "       ['Andhra Pradesh', '2012', 'Social_Status', ..., 'Male', '0-100+',\n",
       "        '1136'],\n",
       "       ['Andhra Pradesh', '2012', 'Social_Status', ..., 'Male', '0-100+',\n",
       "        '7813']], dtype='<U46')"
      ]
     },
     "execution_count": 19,
     "metadata": {},
     "output_type": "execute_result"
    }
   ],
   "source": [
    "AP = data[data[:,0]=='Andhra Pradesh'] # Extracting all rows related to punjab state from the dataset\n",
    "\n",
    "print(AP)\n",
    "\n",
    "print(\"=======================================\")\n",
    "\n",
    "np.savetxt(\"Andhra_Pradesh.csv\",AP,fmt='%s',delimiter=\",\")\n",
    "\n",
    "x1=np.loadtxt(\"Andhra_Pradesh.csv\", delimiter=\",\",dtype='str')\n",
    "\n",
    "x1"
   ]
  },
  {
   "cell_type": "code",
   "execution_count": 20,
   "id": "84f64239",
   "metadata": {},
   "outputs": [
    {
     "data": {
      "text/plain": [
       "array([['Punjab', '2008', 'Causes', ..., 'Female', '0-14', '0'],\n",
       "       ['Punjab', '2008', 'Causes', ..., 'Female', '0-14', '1'],\n",
       "       ['Punjab', '2008', 'Causes', ..., 'Female', '0-14', '0'],\n",
       "       ...,\n",
       "       ['Punjab', '2008', 'Social_Status', ..., 'Male', '0-100+', '4'],\n",
       "       ['Punjab', '2008', 'Social_Status', ..., 'Male', '0-100+', '404'],\n",
       "       ['Punjab', '2008', 'Social_Status', ..., 'Male', '0-100+', '10']],\n",
       "      dtype='<U46')"
      ]
     },
     "execution_count": 20,
     "metadata": {},
     "output_type": "execute_result"
    }
   ],
   "source": [
    "# Punjab 2008 - Extracting all rows related to punjab state in 2008 year from the dataset\n",
    "\n",
    "Punjab = data[data[:,0]=='Punjab']\n",
    "\n",
    "Punjab2008 = Punjab[Punjab[:,1]=='2008']\n",
    "\n",
    "Punjab2008"
   ]
  },
  {
   "cell_type": "code",
   "execution_count": 21,
   "id": "e1d3ead1",
   "metadata": {},
   "outputs": [
    {
     "data": {
      "text/plain": [
       "array([['Punjab', '2008', 'Causes', ..., 'Female', '0-14', '0'],\n",
       "       ['Punjab', '2008', 'Causes', ..., 'Female', '0-14', '1'],\n",
       "       ['Punjab', '2008', 'Causes', ..., 'Female', '0-14', '0'],\n",
       "       ...,\n",
       "       ['Punjab', '2008', 'Social_Status', ..., 'Male', '0-100+', '4'],\n",
       "       ['Punjab', '2008', 'Social_Status', ..., 'Male', '0-100+', '404'],\n",
       "       ['Punjab', '2008', 'Social_Status', ..., 'Male', '0-100+', '10']],\n",
       "      dtype='<U46')"
      ]
     },
     "execution_count": 21,
     "metadata": {},
     "output_type": "execute_result"
    }
   ],
   "source": [
    "data[(data[:,0]=='Punjab') & (data[:,1]=='2008')] # Another way"
   ]
  },
  {
   "cell_type": "code",
   "execution_count": 22,
   "id": "82e09e35",
   "metadata": {},
   "outputs": [
    {
     "data": {
      "text/plain": [
       "array([['Punjab', '2008', 'Causes', ..., 'Male', '0-14', '1'],\n",
       "       ['Punjab', '2008', 'Causes', ..., 'Male', '0-14', '0'],\n",
       "       ['Punjab', '2008', 'Causes', ..., 'Male', '0-14', '0'],\n",
       "       ...,\n",
       "       ['Punjab', '2008', 'Social_Status', ..., 'Male', '0-100+', '4'],\n",
       "       ['Punjab', '2008', 'Social_Status', ..., 'Male', '0-100+', '404'],\n",
       "       ['Punjab', '2008', 'Social_Status', ..., 'Male', '0-100+', '10']],\n",
       "      dtype='<U46')"
      ]
     },
     "execution_count": 22,
     "metadata": {},
     "output_type": "execute_result"
    }
   ],
   "source": [
    "# Punjab 2008 Male - Extracting all rows related to gender-male of 2008 year of punjab state from the dataset\n",
    "\n",
    "\n",
    "data[(data[:,0]=='Punjab') & (data[:,1]=='2008') & (data[:,4]=='Male')]"
   ]
  },
  {
   "cell_type": "code",
   "execution_count": null,
   "id": "b956b56a",
   "metadata": {},
   "outputs": [],
   "source": [
    "# Convert Datatype"
   ]
  },
  {
   "cell_type": "code",
   "execution_count": 25,
   "id": "473eb259",
   "metadata": {},
   "outputs": [
    {
     "name": "stdout",
     "output_type": "stream",
     "text": [
      "['Total' '0' '0' ... '5451' '189' '2658']\n"
     ]
    },
    {
     "data": {
      "text/plain": [
       "array(['Total', '0', '0', ..., '5451', '189', '2658'], dtype='<U46')"
      ]
     },
     "execution_count": 25,
     "metadata": {},
     "output_type": "execute_result"
    }
   ],
   "source": [
    "print(data[:,6])\n",
    "\n",
    "data[:,6].astype('str')"
   ]
  },
  {
   "cell_type": "code",
   "execution_count": 28,
   "id": "61ebe41a",
   "metadata": {},
   "outputs": [
    {
     "ename": "ValueError",
     "evalue": "invalid literal for int() with base 10: 'Total'",
     "output_type": "error",
     "traceback": [
      "\u001b[1;31m---------------------------------------------------------------------------\u001b[0m",
      "\u001b[1;31mValueError\u001b[0m                                Traceback (most recent call last)",
      "Cell \u001b[1;32mIn[28], line 1\u001b[0m\n\u001b[1;32m----> 1\u001b[0m \u001b[43mdata\u001b[49m\u001b[43m[\u001b[49m\u001b[43m:\u001b[49m\u001b[43m,\u001b[49m\u001b[38;5;241;43m6\u001b[39;49m\u001b[43m]\u001b[49m\u001b[38;5;241;43m.\u001b[39;49m\u001b[43mastype\u001b[49m\u001b[43m(\u001b[49m\u001b[38;5;124;43m'\u001b[39;49m\u001b[38;5;124;43mint\u001b[39;49m\u001b[38;5;124;43m'\u001b[39;49m\u001b[43m)\u001b[49m\u001b[38;5;241m.\u001b[39msum()\n",
      "\u001b[1;31mValueError\u001b[0m: invalid literal for int() with base 10: 'Total'"
     ]
    }
   ],
   "source": [
    "data[:,6].astype('int').sum()"
   ]
  },
  {
   "cell_type": "markdown",
   "id": "6cbf9de2",
   "metadata": {},
   "source": [
    "https://machinelearning.org.in/suicide-case-study-numpy/"
   ]
  }
 ],
 "metadata": {
  "kernelspec": {
   "display_name": "Python 3 (ipykernel)",
   "language": "python",
   "name": "python3"
  },
  "language_info": {
   "codemirror_mode": {
    "name": "ipython",
    "version": 3
   },
   "file_extension": ".py",
   "mimetype": "text/x-python",
   "name": "python",
   "nbconvert_exporter": "python",
   "pygments_lexer": "ipython3",
   "version": "3.11.2"
  }
 },
 "nbformat": 4,
 "nbformat_minor": 5
}
