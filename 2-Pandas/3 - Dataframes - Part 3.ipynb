{
 "cells": [
  {
   "cell_type": "markdown",
   "id": "2fd58a22",
   "metadata": {},
   "source": [
    "### Pandas - Most frequently used functions"
   ]
  },
  {
   "cell_type": "markdown",
   "id": "de7811fd",
   "metadata": {},
   "source": [
    "###### 1. Sort a DataFrame - sort_values()"
   ]
  },
  {
   "cell_type": "markdown",
   "id": "60af541c",
   "metadata": {},
   "source": [
    "- We can use the pandas dataframe sort_values() function to sort a dataframe.\n",
    "<br>\n",
    "\n",
    "- It allows the flexibility to sort a dataframe by one or more columns,<br>\n",
    "  choose the sorting algorithm, how to treat NaNs during comparisons,<br> \n",
    "  using a custom key for sorting, etc. \n",
    "<br>\n",
    "\n",
    "**Syntax:-** df.sort_values(by, ascending=True, inplace=False)\n",
    "    \n",
    "- Pass the column or list of columns to sort by to the by parameter.\n",
    "<br>\n",
    "- By default, it returns a sorted dataframe and does not alter the original dataframe.\n",
    "<br>\n",
    "\n",
    "- If we wish to modify the original dataframe, pass inplace=True"
   ]
  },
  {
   "cell_type": "code",
   "execution_count": 38,
   "id": "c39a7b0b",
   "metadata": {},
   "outputs": [
    {
     "data": {
      "text/html": [
       "<div>\n",
       "<style scoped>\n",
       "    .dataframe tbody tr th:only-of-type {\n",
       "        vertical-align: middle;\n",
       "    }\n",
       "\n",
       "    .dataframe tbody tr th {\n",
       "        vertical-align: top;\n",
       "    }\n",
       "\n",
       "    .dataframe thead th {\n",
       "        text-align: right;\n",
       "    }\n",
       "</style>\n",
       "<table border=\"1\" class=\"dataframe\">\n",
       "  <thead>\n",
       "    <tr style=\"text-align: right;\">\n",
       "      <th></th>\n",
       "      <th>Name</th>\n",
       "      <th>Height</th>\n",
       "      <th>Championships</th>\n",
       "    </tr>\n",
       "  </thead>\n",
       "  <tbody>\n",
       "    <tr>\n",
       "      <th>0</th>\n",
       "      <td>Kobe Bryant</td>\n",
       "      <td>198</td>\n",
       "      <td>5</td>\n",
       "    </tr>\n",
       "    <tr>\n",
       "      <th>1</th>\n",
       "      <td>LeBron James</td>\n",
       "      <td>206</td>\n",
       "      <td>4</td>\n",
       "    </tr>\n",
       "    <tr>\n",
       "      <th>2</th>\n",
       "      <td>Michael Jordan</td>\n",
       "      <td>198</td>\n",
       "      <td>6</td>\n",
       "    </tr>\n",
       "    <tr>\n",
       "      <th>3</th>\n",
       "      <td>Larry Bird</td>\n",
       "      <td>206</td>\n",
       "      <td>3</td>\n",
       "    </tr>\n",
       "  </tbody>\n",
       "</table>\n",
       "</div>"
      ],
      "text/plain": [
       "             Name  Height  Championships\n",
       "0     Kobe Bryant     198              5\n",
       "1    LeBron James     206              4\n",
       "2  Michael Jordan     198              6\n",
       "3      Larry Bird     206              3"
      ]
     },
     "execution_count": 38,
     "metadata": {},
     "output_type": "execute_result"
    }
   ],
   "source": [
    "import numpy as np\n",
    "import pandas as pd\n",
    "\n",
    "data = {\n",
    "    'Name': ['Kobe Bryant', 'LeBron James', 'Michael Jordan', 'Larry Bird'],\n",
    "    'Height': [198,206,198,206],\n",
    "    'Championships': [5,4,6,3]\n",
    "}\n",
    "\n",
    "df = pd.DataFrame(data)\n",
    "\n",
    "df\n",
    "\n",
    "# The dataframe df contains the height in cm and the number of championship victories\n",
    "# of four of the most celebrated basketball players in the NBA."
   ]
  },
  {
   "cell_type": "markdown",
   "id": "1c4aa33b",
   "metadata": {},
   "source": [
    "**Example 1:- Sort dataframe by a single column**"
   ]
  },
  {
   "cell_type": "code",
   "execution_count": 40,
   "id": "9719ae0c",
   "metadata": {},
   "outputs": [
    {
     "data": {
      "text/html": [
       "<div>\n",
       "<style scoped>\n",
       "    .dataframe tbody tr th:only-of-type {\n",
       "        vertical-align: middle;\n",
       "    }\n",
       "\n",
       "    .dataframe tbody tr th {\n",
       "        vertical-align: top;\n",
       "    }\n",
       "\n",
       "    .dataframe thead th {\n",
       "        text-align: right;\n",
       "    }\n",
       "</style>\n",
       "<table border=\"1\" class=\"dataframe\">\n",
       "  <thead>\n",
       "    <tr style=\"text-align: right;\">\n",
       "      <th></th>\n",
       "      <th>Name</th>\n",
       "      <th>Height</th>\n",
       "      <th>Championships</th>\n",
       "    </tr>\n",
       "  </thead>\n",
       "  <tbody>\n",
       "    <tr>\n",
       "      <th>0</th>\n",
       "      <td>Kobe Bryant</td>\n",
       "      <td>198</td>\n",
       "      <td>5</td>\n",
       "    </tr>\n",
       "    <tr>\n",
       "      <th>2</th>\n",
       "      <td>Michael Jordan</td>\n",
       "      <td>198</td>\n",
       "      <td>6</td>\n",
       "    </tr>\n",
       "    <tr>\n",
       "      <th>1</th>\n",
       "      <td>LeBron James</td>\n",
       "      <td>206</td>\n",
       "      <td>4</td>\n",
       "    </tr>\n",
       "    <tr>\n",
       "      <th>3</th>\n",
       "      <td>Larry Bird</td>\n",
       "      <td>206</td>\n",
       "      <td>3</td>\n",
       "    </tr>\n",
       "  </tbody>\n",
       "</table>\n",
       "</div>"
      ],
      "text/plain": [
       "             Name  Height  Championships\n",
       "0     Kobe Bryant     198              5\n",
       "2  Michael Jordan     198              6\n",
       "1    LeBron James     206              4\n",
       "3      Larry Bird     206              3"
      ]
     },
     "execution_count": 40,
     "metadata": {},
     "output_type": "execute_result"
    }
   ],
   "source": [
    "# To sort a dataframe by a single column, pass the column name to the by parameter of the sort_values() function.\n",
    "\n",
    "# For instance, to sort the above dataframe by Height:\n",
    "\n",
    "df_sorted = df.sort_values(by='Height')\n",
    "\n",
    "df_sorted\n",
    "\n",
    "# we can see that the returned dataframe is sorted on Height. \n",
    "# Also notice that the returned dataframe retains the row indexes from the original dataframe."
   ]
  },
  {
   "cell_type": "markdown",
   "id": "1b2c9029",
   "metadata": {},
   "source": [
    "**Example 2:- Retain the indexes**"
   ]
  },
  {
   "cell_type": "code",
   "execution_count": 43,
   "id": "6ef0014c",
   "metadata": {},
   "outputs": [
    {
     "data": {
      "text/html": [
       "<div>\n",
       "<style scoped>\n",
       "    .dataframe tbody tr th:only-of-type {\n",
       "        vertical-align: middle;\n",
       "    }\n",
       "\n",
       "    .dataframe tbody tr th {\n",
       "        vertical-align: top;\n",
       "    }\n",
       "\n",
       "    .dataframe thead th {\n",
       "        text-align: right;\n",
       "    }\n",
       "</style>\n",
       "<table border=\"1\" class=\"dataframe\">\n",
       "  <thead>\n",
       "    <tr style=\"text-align: right;\">\n",
       "      <th></th>\n",
       "      <th>Name</th>\n",
       "      <th>Height</th>\n",
       "      <th>Championships</th>\n",
       "    </tr>\n",
       "  </thead>\n",
       "  <tbody>\n",
       "    <tr>\n",
       "      <th>0</th>\n",
       "      <td>Kobe Bryant</td>\n",
       "      <td>198</td>\n",
       "      <td>5</td>\n",
       "    </tr>\n",
       "    <tr>\n",
       "      <th>1</th>\n",
       "      <td>Michael Jordan</td>\n",
       "      <td>198</td>\n",
       "      <td>6</td>\n",
       "    </tr>\n",
       "    <tr>\n",
       "      <th>2</th>\n",
       "      <td>LeBron James</td>\n",
       "      <td>206</td>\n",
       "      <td>4</td>\n",
       "    </tr>\n",
       "    <tr>\n",
       "      <th>3</th>\n",
       "      <td>Larry Bird</td>\n",
       "      <td>206</td>\n",
       "      <td>3</td>\n",
       "    </tr>\n",
       "  </tbody>\n",
       "</table>\n",
       "</div>"
      ],
      "text/plain": [
       "             Name  Height  Championships\n",
       "0     Kobe Bryant     198              5\n",
       "1  Michael Jordan     198              6\n",
       "2    LeBron James     206              4\n",
       "3      Larry Bird     206              3"
      ]
     },
     "execution_count": 43,
     "metadata": {},
     "output_type": "execute_result"
    }
   ],
   "source": [
    "# If we do not want to retain the indexes, \n",
    "# pass ignore_index=True to the function or reset the index independently.\n",
    "\n",
    "df_sorted = df.sort_values(by='Height', ignore_index=True)\n",
    "\n",
    "df_sorted"
   ]
  },
  {
   "cell_type": "markdown",
   "id": "7d29ac32",
   "metadata": {},
   "source": [
    "**Example 3:- Sort dataframe by multiple columns**"
   ]
  },
  {
   "cell_type": "code",
   "execution_count": 42,
   "id": "cda57c34",
   "metadata": {},
   "outputs": [
    {
     "data": {
      "text/html": [
       "<div>\n",
       "<style scoped>\n",
       "    .dataframe tbody tr th:only-of-type {\n",
       "        vertical-align: middle;\n",
       "    }\n",
       "\n",
       "    .dataframe tbody tr th {\n",
       "        vertical-align: top;\n",
       "    }\n",
       "\n",
       "    .dataframe thead th {\n",
       "        text-align: right;\n",
       "    }\n",
       "</style>\n",
       "<table border=\"1\" class=\"dataframe\">\n",
       "  <thead>\n",
       "    <tr style=\"text-align: right;\">\n",
       "      <th></th>\n",
       "      <th>Name</th>\n",
       "      <th>Height</th>\n",
       "      <th>Championships</th>\n",
       "    </tr>\n",
       "  </thead>\n",
       "  <tbody>\n",
       "    <tr>\n",
       "      <th>0</th>\n",
       "      <td>Kobe Bryant</td>\n",
       "      <td>198</td>\n",
       "      <td>5</td>\n",
       "    </tr>\n",
       "    <tr>\n",
       "      <th>2</th>\n",
       "      <td>Michael Jordan</td>\n",
       "      <td>198</td>\n",
       "      <td>6</td>\n",
       "    </tr>\n",
       "    <tr>\n",
       "      <th>3</th>\n",
       "      <td>Larry Bird</td>\n",
       "      <td>206</td>\n",
       "      <td>3</td>\n",
       "    </tr>\n",
       "    <tr>\n",
       "      <th>1</th>\n",
       "      <td>LeBron James</td>\n",
       "      <td>206</td>\n",
       "      <td>4</td>\n",
       "    </tr>\n",
       "  </tbody>\n",
       "</table>\n",
       "</div>"
      ],
      "text/plain": [
       "             Name  Height  Championships\n",
       "0     Kobe Bryant     198              5\n",
       "2  Michael Jordan     198              6\n",
       "3      Larry Bird     206              3\n",
       "1    LeBron James     206              4"
      ]
     },
     "execution_count": 42,
     "metadata": {},
     "output_type": "execute_result"
    }
   ],
   "source": [
    "# We can also sort a pandas dataframe by multiple columns. \n",
    "\n",
    "# For this, pass the columns by which we want to sort the dataframe as a list to the by parameter.\n",
    "\n",
    "# Example, to sort the dataframe df by Height and Championships:\n",
    "\n",
    "df_sorted = df.sort_values(by=['Height','Championships'])\n",
    "\n",
    "df_sorted\n",
    "\n",
    "# In the above example, we sort the dataframe df by columns Height and Championships in the ascending order. \n",
    "# That is, first by Height and then by Championships. \n",
    "# We can see that Lebron James and Larry Bird have the same height\n",
    "# but due to lesser number of championships Larry Bird is sorted above Lebron James."
   ]
  },
  {
   "cell_type": "markdown",
   "id": "ecb75ee4",
   "metadata": {},
   "source": [
    "**Example 4:- Sort dataframe by a different sorting algorithm**"
   ]
  },
  {
   "cell_type": "code",
   "execution_count": 46,
   "id": "5f3401b6",
   "metadata": {},
   "outputs": [
    {
     "data": {
      "text/html": [
       "<div>\n",
       "<style scoped>\n",
       "    .dataframe tbody tr th:only-of-type {\n",
       "        vertical-align: middle;\n",
       "    }\n",
       "\n",
       "    .dataframe tbody tr th {\n",
       "        vertical-align: top;\n",
       "    }\n",
       "\n",
       "    .dataframe thead th {\n",
       "        text-align: right;\n",
       "    }\n",
       "</style>\n",
       "<table border=\"1\" class=\"dataframe\">\n",
       "  <thead>\n",
       "    <tr style=\"text-align: right;\">\n",
       "      <th></th>\n",
       "      <th>Name</th>\n",
       "      <th>Height</th>\n",
       "      <th>Championships</th>\n",
       "    </tr>\n",
       "  </thead>\n",
       "  <tbody>\n",
       "    <tr>\n",
       "      <th>0</th>\n",
       "      <td>Kobe Bryant</td>\n",
       "      <td>198</td>\n",
       "      <td>5</td>\n",
       "    </tr>\n",
       "    <tr>\n",
       "      <th>2</th>\n",
       "      <td>Michael Jordan</td>\n",
       "      <td>198</td>\n",
       "      <td>6</td>\n",
       "    </tr>\n",
       "    <tr>\n",
       "      <th>1</th>\n",
       "      <td>LeBron James</td>\n",
       "      <td>206</td>\n",
       "      <td>4</td>\n",
       "    </tr>\n",
       "    <tr>\n",
       "      <th>3</th>\n",
       "      <td>Larry Bird</td>\n",
       "      <td>206</td>\n",
       "      <td>3</td>\n",
       "    </tr>\n",
       "  </tbody>\n",
       "</table>\n",
       "</div>"
      ],
      "text/plain": [
       "             Name  Height  Championships\n",
       "0     Kobe Bryant     198              5\n",
       "2  Michael Jordan     198              6\n",
       "1    LeBron James     206              4\n",
       "3      Larry Bird     206              3"
      ]
     },
     "execution_count": 46,
     "metadata": {},
     "output_type": "execute_result"
    }
   ],
   "source": [
    "# The sort_values() function also allows you to choose from three different sorting algorithms.\n",
    "\n",
    "# The parameter kind controls this behavior. It takes 'quicksort', 'mergesort', and 'heapsort' as values\n",
    "# and is 'quicksort' by default. \n",
    "\n",
    "# For example, to sort a dataframe by a column using 'mergesort' as the sorting algorithm:\n",
    "\n",
    "df_sorted = df.sort_values(by='Height', kind='mergesort')\n",
    "\n",
    "df_sorted"
   ]
  },
  {
   "cell_type": "code",
   "execution_count": 47,
   "id": "54c3741f",
   "metadata": {},
   "outputs": [
    {
     "data": {
      "text/html": [
       "<div>\n",
       "<style scoped>\n",
       "    .dataframe tbody tr th:only-of-type {\n",
       "        vertical-align: middle;\n",
       "    }\n",
       "\n",
       "    .dataframe tbody tr th {\n",
       "        vertical-align: top;\n",
       "    }\n",
       "\n",
       "    .dataframe thead th {\n",
       "        text-align: right;\n",
       "    }\n",
       "</style>\n",
       "<table border=\"1\" class=\"dataframe\">\n",
       "  <thead>\n",
       "    <tr style=\"text-align: right;\">\n",
       "      <th></th>\n",
       "      <th>Name</th>\n",
       "      <th>Height</th>\n",
       "      <th>Championships</th>\n",
       "    </tr>\n",
       "  </thead>\n",
       "  <tbody>\n",
       "    <tr>\n",
       "      <th>0</th>\n",
       "      <td>Kobe Bryant</td>\n",
       "      <td>198</td>\n",
       "      <td>5</td>\n",
       "    </tr>\n",
       "    <tr>\n",
       "      <th>2</th>\n",
       "      <td>Michael Jordan</td>\n",
       "      <td>198</td>\n",
       "      <td>6</td>\n",
       "    </tr>\n",
       "    <tr>\n",
       "      <th>3</th>\n",
       "      <td>Larry Bird</td>\n",
       "      <td>206</td>\n",
       "      <td>3</td>\n",
       "    </tr>\n",
       "    <tr>\n",
       "      <th>1</th>\n",
       "      <td>LeBron James</td>\n",
       "      <td>206</td>\n",
       "      <td>4</td>\n",
       "    </tr>\n",
       "  </tbody>\n",
       "</table>\n",
       "</div>"
      ],
      "text/plain": [
       "             Name  Height  Championships\n",
       "0     Kobe Bryant     198              5\n",
       "2  Michael Jordan     198              6\n",
       "3      Larry Bird     206              3\n",
       "1    LeBron James     206              4"
      ]
     },
     "execution_count": 47,
     "metadata": {},
     "output_type": "execute_result"
    }
   ],
   "source": [
    "df_sorted = df.sort_values(by='Height', kind='heapsort')\n",
    "\n",
    "df_sorted"
   ]
  },
  {
   "cell_type": "code",
   "execution_count": 48,
   "id": "6791dc34",
   "metadata": {},
   "outputs": [
    {
     "data": {
      "text/html": [
       "<div>\n",
       "<style scoped>\n",
       "    .dataframe tbody tr th:only-of-type {\n",
       "        vertical-align: middle;\n",
       "    }\n",
       "\n",
       "    .dataframe tbody tr th {\n",
       "        vertical-align: top;\n",
       "    }\n",
       "\n",
       "    .dataframe thead th {\n",
       "        text-align: right;\n",
       "    }\n",
       "</style>\n",
       "<table border=\"1\" class=\"dataframe\">\n",
       "  <thead>\n",
       "    <tr style=\"text-align: right;\">\n",
       "      <th></th>\n",
       "      <th>Name</th>\n",
       "      <th>Height</th>\n",
       "      <th>Championships</th>\n",
       "    </tr>\n",
       "  </thead>\n",
       "  <tbody>\n",
       "    <tr>\n",
       "      <th>0</th>\n",
       "      <td>Kobe Bryant</td>\n",
       "      <td>198</td>\n",
       "      <td>5</td>\n",
       "    </tr>\n",
       "    <tr>\n",
       "      <th>2</th>\n",
       "      <td>Michael Jordan</td>\n",
       "      <td>198</td>\n",
       "      <td>6</td>\n",
       "    </tr>\n",
       "    <tr>\n",
       "      <th>1</th>\n",
       "      <td>LeBron James</td>\n",
       "      <td>206</td>\n",
       "      <td>4</td>\n",
       "    </tr>\n",
       "    <tr>\n",
       "      <th>3</th>\n",
       "      <td>Larry Bird</td>\n",
       "      <td>206</td>\n",
       "      <td>3</td>\n",
       "    </tr>\n",
       "  </tbody>\n",
       "</table>\n",
       "</div>"
      ],
      "text/plain": [
       "             Name  Height  Championships\n",
       "0     Kobe Bryant     198              5\n",
       "2  Michael Jordan     198              6\n",
       "1    LeBron James     206              4\n",
       "3      Larry Bird     206              3"
      ]
     },
     "execution_count": 48,
     "metadata": {},
     "output_type": "execute_result"
    }
   ],
   "source": [
    "df_sorted = df.sort_values(by='Height', kind='quicksort')\n",
    "\n",
    "df_sorted"
   ]
  },
  {
   "cell_type": "markdown",
   "id": "641f1e5e",
   "metadata": {},
   "source": [
    "###### 2. Change Order of Columns of a Pandas DataFrame"
   ]
  },
  {
   "cell_type": "markdown",
   "id": "1fde7de8",
   "metadata": {},
   "source": [
    "- During the data preprocessing and feature creation stage,<br>\n",
    "  it might happen that you end up with columns that may not necessarily be in the order that we'd like. \n",
    "<br>\n",
    "\n",
    "- We’ll look at how to change the order of columns of a pandas dataframe.\n",
    "<br>\n",
    "- To change the order of columns of a dataframe, we can pass a list with columns\n",
    "  in the desired order to [] (that is, indexing with []). \n",
    "  \n",
    "  **syntax:-** df_correct_order = df[[col1, col2, col3, ..., coln]] \n",
    "  <br>\n",
    "- Generally, we use [ ] in Pandas dataframes to subset a dataframe,<br>\n",
    "  but it can also be used to reorder the columns. \n",
    "<br>\n",
    "- we can also use .loc and .iloc to change the order of columns of a dataframe."
   ]
  },
  {
   "cell_type": "code",
   "execution_count": 49,
   "id": "efe928b0",
   "metadata": {},
   "outputs": [
    {
     "data": {
      "text/html": [
       "<div>\n",
       "<style scoped>\n",
       "    .dataframe tbody tr th:only-of-type {\n",
       "        vertical-align: middle;\n",
       "    }\n",
       "\n",
       "    .dataframe tbody tr th {\n",
       "        vertical-align: top;\n",
       "    }\n",
       "\n",
       "    .dataframe thead th {\n",
       "        text-align: right;\n",
       "    }\n",
       "</style>\n",
       "<table border=\"1\" class=\"dataframe\">\n",
       "  <thead>\n",
       "    <tr style=\"text-align: right;\">\n",
       "      <th></th>\n",
       "      <th>Name</th>\n",
       "      <th>Shares</th>\n",
       "      <th>Symbol</th>\n",
       "    </tr>\n",
       "  </thead>\n",
       "  <tbody>\n",
       "    <tr>\n",
       "      <th>0</th>\n",
       "      <td>Microsoft Corporation</td>\n",
       "      <td>100</td>\n",
       "      <td>MSFT</td>\n",
       "    </tr>\n",
       "    <tr>\n",
       "      <th>1</th>\n",
       "      <td>Google, LLC</td>\n",
       "      <td>50</td>\n",
       "      <td>GOOG</td>\n",
       "    </tr>\n",
       "    <tr>\n",
       "      <th>2</th>\n",
       "      <td>Tesla, Inc.</td>\n",
       "      <td>150</td>\n",
       "      <td>TSLA</td>\n",
       "    </tr>\n",
       "    <tr>\n",
       "      <th>3</th>\n",
       "      <td>Apple Inc.</td>\n",
       "      <td>200</td>\n",
       "      <td>AAPL</td>\n",
       "    </tr>\n",
       "    <tr>\n",
       "      <th>4</th>\n",
       "      <td>Netflix, Inc.</td>\n",
       "      <td>80</td>\n",
       "      <td>NFLX</td>\n",
       "    </tr>\n",
       "  </tbody>\n",
       "</table>\n",
       "</div>"
      ],
      "text/plain": [
       "                    Name  Shares Symbol\n",
       "0  Microsoft Corporation     100   MSFT\n",
       "1            Google, LLC      50   GOOG\n",
       "2            Tesla, Inc.     150   TSLA\n",
       "3             Apple Inc.     200   AAPL\n",
       "4          Netflix, Inc.      80   NFLX"
      ]
     },
     "execution_count": 49,
     "metadata": {},
     "output_type": "execute_result"
    }
   ],
   "source": [
    "import pandas as pd\n",
    "\n",
    "data = {\n",
    "    'Name': ['Microsoft Corporation', 'Google, LLC', 'Tesla, Inc.',\\\n",
    "             'Apple Inc.', 'Netflix, Inc.'],\n",
    "    'Shares': [100, 50, 150, 200, 80],\n",
    "    'Symbol': ['MSFT', 'GOOG', 'TSLA', 'AAPL', 'NFLX']\n",
    "}\n",
    "\n",
    "df = pd.DataFrame(data) # create dataframe\n",
    "\n",
    "df # display the dataframe\n",
    "\n",
    "# Here, df is a dataframe of a sample stock portfolio with columns Name, Shares, Symbol.\n",
    "\n",
    "# We want to reorder the columns such that the resulting dataframe has columns in the order Name, Symbol, Shares"
   ]
  },
  {
   "cell_type": "markdown",
   "id": "26203932",
   "metadata": {},
   "source": [
    "**Example 1:- Change column order using [ ]**"
   ]
  },
  {
   "cell_type": "code",
   "execution_count": 50,
   "id": "b58f152f",
   "metadata": {
    "collapsed": true
   },
   "outputs": [
    {
     "data": {
      "text/html": [
       "<div>\n",
       "<style scoped>\n",
       "    .dataframe tbody tr th:only-of-type {\n",
       "        vertical-align: middle;\n",
       "    }\n",
       "\n",
       "    .dataframe tbody tr th {\n",
       "        vertical-align: top;\n",
       "    }\n",
       "\n",
       "    .dataframe thead th {\n",
       "        text-align: right;\n",
       "    }\n",
       "</style>\n",
       "<table border=\"1\" class=\"dataframe\">\n",
       "  <thead>\n",
       "    <tr style=\"text-align: right;\">\n",
       "      <th></th>\n",
       "      <th>Name</th>\n",
       "      <th>Symbol</th>\n",
       "      <th>Shares</th>\n",
       "    </tr>\n",
       "  </thead>\n",
       "  <tbody>\n",
       "    <tr>\n",
       "      <th>0</th>\n",
       "      <td>Microsoft Corporation</td>\n",
       "      <td>MSFT</td>\n",
       "      <td>100</td>\n",
       "    </tr>\n",
       "    <tr>\n",
       "      <th>1</th>\n",
       "      <td>Google, LLC</td>\n",
       "      <td>GOOG</td>\n",
       "      <td>50</td>\n",
       "    </tr>\n",
       "    <tr>\n",
       "      <th>2</th>\n",
       "      <td>Tesla, Inc.</td>\n",
       "      <td>TSLA</td>\n",
       "      <td>150</td>\n",
       "    </tr>\n",
       "    <tr>\n",
       "      <th>3</th>\n",
       "      <td>Apple Inc.</td>\n",
       "      <td>AAPL</td>\n",
       "      <td>200</td>\n",
       "    </tr>\n",
       "    <tr>\n",
       "      <th>4</th>\n",
       "      <td>Netflix, Inc.</td>\n",
       "      <td>NFLX</td>\n",
       "      <td>80</td>\n",
       "    </tr>\n",
       "  </tbody>\n",
       "</table>\n",
       "</div>"
      ],
      "text/plain": [
       "                    Name Symbol  Shares\n",
       "0  Microsoft Corporation   MSFT     100\n",
       "1            Google, LLC   GOOG      50\n",
       "2            Tesla, Inc.   TSLA     150\n",
       "3             Apple Inc.   AAPL     200\n",
       "4          Netflix, Inc.   NFLX      80"
      ]
     },
     "execution_count": 50,
     "metadata": {},
     "output_type": "execute_result"
    }
   ],
   "source": [
    "# We can pass the columns in the order which we like as a list.\n",
    "\n",
    "# New dataframe with different column order\n",
    "\n",
    "df_new = df[['Name', 'Symbol', 'Shares']]\n",
    "\n",
    "df_new # display the dataframe"
   ]
  },
  {
   "cell_type": "markdown",
   "id": "571b0a8e",
   "metadata": {},
   "source": [
    "**Example 2:- Change column order using .loc**"
   ]
  },
  {
   "cell_type": "code",
   "execution_count": 51,
   "id": "6d890fc1",
   "metadata": {},
   "outputs": [
    {
     "data": {
      "text/html": [
       "<div>\n",
       "<style scoped>\n",
       "    .dataframe tbody tr th:only-of-type {\n",
       "        vertical-align: middle;\n",
       "    }\n",
       "\n",
       "    .dataframe tbody tr th {\n",
       "        vertical-align: top;\n",
       "    }\n",
       "\n",
       "    .dataframe thead th {\n",
       "        text-align: right;\n",
       "    }\n",
       "</style>\n",
       "<table border=\"1\" class=\"dataframe\">\n",
       "  <thead>\n",
       "    <tr style=\"text-align: right;\">\n",
       "      <th></th>\n",
       "      <th>Name</th>\n",
       "      <th>Symbol</th>\n",
       "      <th>Shares</th>\n",
       "    </tr>\n",
       "  </thead>\n",
       "  <tbody>\n",
       "    <tr>\n",
       "      <th>0</th>\n",
       "      <td>Microsoft Corporation</td>\n",
       "      <td>MSFT</td>\n",
       "      <td>100</td>\n",
       "    </tr>\n",
       "    <tr>\n",
       "      <th>1</th>\n",
       "      <td>Google, LLC</td>\n",
       "      <td>GOOG</td>\n",
       "      <td>50</td>\n",
       "    </tr>\n",
       "    <tr>\n",
       "      <th>2</th>\n",
       "      <td>Tesla, Inc.</td>\n",
       "      <td>TSLA</td>\n",
       "      <td>150</td>\n",
       "    </tr>\n",
       "    <tr>\n",
       "      <th>3</th>\n",
       "      <td>Apple Inc.</td>\n",
       "      <td>AAPL</td>\n",
       "      <td>200</td>\n",
       "    </tr>\n",
       "    <tr>\n",
       "      <th>4</th>\n",
       "      <td>Netflix, Inc.</td>\n",
       "      <td>NFLX</td>\n",
       "      <td>80</td>\n",
       "    </tr>\n",
       "  </tbody>\n",
       "</table>\n",
       "</div>"
      ],
      "text/plain": [
       "                    Name Symbol  Shares\n",
       "0  Microsoft Corporation   MSFT     100\n",
       "1            Google, LLC   GOOG      50\n",
       "2            Tesla, Inc.   TSLA     150\n",
       "3             Apple Inc.   AAPL     200\n",
       "4          Netflix, Inc.   NFLX      80"
      ]
     },
     "execution_count": 51,
     "metadata": {},
     "output_type": "execute_result"
    }
   ],
   "source": [
    "# We can also reorder a pandas dataframe by indexing it using .loc. \n",
    "\n",
    "# This way, we can reorder columns using their names as we did in the previous example.\n",
    "\n",
    "# New dataframe with different column order\n",
    "\n",
    "df_new = df.loc[:, ['Name', 'Symbol', 'Shares']]\n",
    "\n",
    "df_new # display the dataframe"
   ]
  },
  {
   "cell_type": "markdown",
   "id": "c602ece0",
   "metadata": {},
   "source": [
    "**Example 3:- Change column order using .iloc**"
   ]
  },
  {
   "cell_type": "code",
   "execution_count": 52,
   "id": "025cef87",
   "metadata": {},
   "outputs": [
    {
     "data": {
      "text/html": [
       "<div>\n",
       "<style scoped>\n",
       "    .dataframe tbody tr th:only-of-type {\n",
       "        vertical-align: middle;\n",
       "    }\n",
       "\n",
       "    .dataframe tbody tr th {\n",
       "        vertical-align: top;\n",
       "    }\n",
       "\n",
       "    .dataframe thead th {\n",
       "        text-align: right;\n",
       "    }\n",
       "</style>\n",
       "<table border=\"1\" class=\"dataframe\">\n",
       "  <thead>\n",
       "    <tr style=\"text-align: right;\">\n",
       "      <th></th>\n",
       "      <th>Name</th>\n",
       "      <th>Symbol</th>\n",
       "      <th>Shares</th>\n",
       "    </tr>\n",
       "  </thead>\n",
       "  <tbody>\n",
       "    <tr>\n",
       "      <th>0</th>\n",
       "      <td>Microsoft Corporation</td>\n",
       "      <td>MSFT</td>\n",
       "      <td>100</td>\n",
       "    </tr>\n",
       "    <tr>\n",
       "      <th>1</th>\n",
       "      <td>Google, LLC</td>\n",
       "      <td>GOOG</td>\n",
       "      <td>50</td>\n",
       "    </tr>\n",
       "    <tr>\n",
       "      <th>2</th>\n",
       "      <td>Tesla, Inc.</td>\n",
       "      <td>TSLA</td>\n",
       "      <td>150</td>\n",
       "    </tr>\n",
       "    <tr>\n",
       "      <th>3</th>\n",
       "      <td>Apple Inc.</td>\n",
       "      <td>AAPL</td>\n",
       "      <td>200</td>\n",
       "    </tr>\n",
       "    <tr>\n",
       "      <th>4</th>\n",
       "      <td>Netflix, Inc.</td>\n",
       "      <td>NFLX</td>\n",
       "      <td>80</td>\n",
       "    </tr>\n",
       "  </tbody>\n",
       "</table>\n",
       "</div>"
      ],
      "text/plain": [
       "                    Name Symbol  Shares\n",
       "0  Microsoft Corporation   MSFT     100\n",
       "1            Google, LLC   GOOG      50\n",
       "2            Tesla, Inc.   TSLA     150\n",
       "3             Apple Inc.   AAPL     200\n",
       "4          Netflix, Inc.   NFLX      80"
      ]
     },
     "execution_count": 52,
     "metadata": {},
     "output_type": "execute_result"
    }
   ],
   "source": [
    "# We can also change the column order of a dataframe by indexing it using .iloc.\n",
    "\n",
    "# Here, we pass the column indexes instead of their names in the order that we want.\n",
    "\n",
    "# new dataframe with different column order\n",
    "\n",
    "df_new = df.iloc[:, [0, 2, 1]]\n",
    "\n",
    "df_new"
   ]
  },
  {
   "cell_type": "markdown",
   "id": "eaa260b0",
   "metadata": {},
   "source": [
    "###### 3. Count of Unique Values in Each Column"
   ]
  },
  {
   "cell_type": "markdown",
   "id": "3e33a9da",
   "metadata": {},
   "source": [
    "- Generally, the data in each column represents a different feature of a pandas dataframe. \n",
    "<br>\n",
    "- It may be continuous, categorical, or something totally different like distinct texts. \n",
    "<br>\n",
    "- If you’re not sure about the nature of the values you’re dealing with, \n",
    "<br>\n",
    "- it might be a good exploratory step to know about the count of distinct values. \n",
    "<br>\n",
    "\n",
    "- Here, we’ll look at how to get the count of unique values in each column of a pandas dataframe.\n",
    "\n",
    "**nunique() function:-**\n",
    "    \n",
    "  - To count the unique values of each column of a dataframe, we can use the pandas dataframe nunique() function. \n",
    "<br>\n",
    "\n",
    "**Syntax:-** counts = df.nunique()\n",
    "    \n",
    "  - Here, df is the dataframe for which you want to know the unique counts. \n",
    "  - It returns a pandas Series of counts. \n",
    "  - By default,the pandas dataframe nunique() function counts the distinct values along axis=0,\n",
    "    that is, row-wise which gives you the count of distinct values in each column."
   ]
  },
  {
   "cell_type": "code",
   "execution_count": 53,
   "id": "76a28e63",
   "metadata": {},
   "outputs": [
    {
     "data": {
      "text/html": [
       "<div>\n",
       "<style scoped>\n",
       "    .dataframe tbody tr th:only-of-type {\n",
       "        vertical-align: middle;\n",
       "    }\n",
       "\n",
       "    .dataframe tbody tr th {\n",
       "        vertical-align: top;\n",
       "    }\n",
       "\n",
       "    .dataframe thead th {\n",
       "        text-align: right;\n",
       "    }\n",
       "</style>\n",
       "<table border=\"1\" class=\"dataframe\">\n",
       "  <thead>\n",
       "    <tr style=\"text-align: right;\">\n",
       "      <th></th>\n",
       "      <th>EmpCode</th>\n",
       "      <th>Gender</th>\n",
       "      <th>Age</th>\n",
       "      <th>Department</th>\n",
       "    </tr>\n",
       "  </thead>\n",
       "  <tbody>\n",
       "    <tr>\n",
       "      <th>0</th>\n",
       "      <td>E1</td>\n",
       "      <td>Male</td>\n",
       "      <td>27</td>\n",
       "      <td>Accounting</td>\n",
       "    </tr>\n",
       "    <tr>\n",
       "      <th>1</th>\n",
       "      <td>E2</td>\n",
       "      <td>Female</td>\n",
       "      <td>24</td>\n",
       "      <td>Sales</td>\n",
       "    </tr>\n",
       "    <tr>\n",
       "      <th>2</th>\n",
       "      <td>E3</td>\n",
       "      <td>Female</td>\n",
       "      <td>29</td>\n",
       "      <td>Accounting</td>\n",
       "    </tr>\n",
       "    <tr>\n",
       "      <th>3</th>\n",
       "      <td>E4</td>\n",
       "      <td>Male</td>\n",
       "      <td>24</td>\n",
       "      <td>NaN</td>\n",
       "    </tr>\n",
       "    <tr>\n",
       "      <th>4</th>\n",
       "      <td>E5</td>\n",
       "      <td>Male</td>\n",
       "      <td>25</td>\n",
       "      <td>Sales</td>\n",
       "    </tr>\n",
       "  </tbody>\n",
       "</table>\n",
       "</div>"
      ],
      "text/plain": [
       "  EmpCode  Gender  Age  Department\n",
       "0      E1    Male   27  Accounting\n",
       "1      E2  Female   24       Sales\n",
       "2      E3  Female   29  Accounting\n",
       "3      E4    Male   24         NaN\n",
       "4      E5    Male   25       Sales"
      ]
     },
     "execution_count": 53,
     "metadata": {},
     "output_type": "execute_result"
    }
   ],
   "source": [
    "import pandas as pd\n",
    "import numpy as np\n",
    "\n",
    "# create a sample dataframe\n",
    "data = {\n",
    "    'EmpCode': ['E1', 'E2', 'E3', 'E4', 'E5'],\n",
    "    'Gender': ['Male', 'Female', 'Female', 'Male', 'Male'],\n",
    "    'Age': [27, 24, 29, 24, 25],\n",
    "    'Department': ['Accounting', 'Sales', 'Accounting', np.nan, 'Sales']\n",
    "}\n",
    "\n",
    "df = pd.DataFrame(data)\n",
    "\n",
    "df"
   ]
  },
  {
   "cell_type": "markdown",
   "id": "ac79d8d1",
   "metadata": {},
   "source": [
    "**Example 1:- Count of unique values in each column**"
   ]
  },
  {
   "cell_type": "code",
   "execution_count": 54,
   "id": "dc38a37b",
   "metadata": {},
   "outputs": [
    {
     "name": "stdout",
     "output_type": "stream",
     "text": [
      "EmpCode       5\n",
      "Gender        2\n",
      "Age           4\n",
      "Department    2\n",
      "dtype: int64\n"
     ]
    }
   ],
   "source": [
    "# Using the pandas dataframe nunique() function with default parameters\n",
    "# gives a count of all the distinct values in each column.\n",
    "\n",
    "print(df.nunique()) # count of unique values in each column"
   ]
  },
  {
   "cell_type": "code",
   "execution_count": null,
   "id": "658589d9",
   "metadata": {},
   "outputs": [],
   "source": [
    "# In the above example, the nunique() function returns a \n",
    "# pandas Series with counts of distinct values in each column. \n",
    "\n",
    "# Note that, for the Department column we only have two distinct values as the nunique() function, \n",
    "# by default, ignores all NaN values."
   ]
  },
  {
   "cell_type": "markdown",
   "id": "f032ba77",
   "metadata": {},
   "source": [
    "**Example 2:- Count of unique values in each row**"
   ]
  },
  {
   "cell_type": "code",
   "execution_count": null,
   "id": "d7a3f57c",
   "metadata": {},
   "outputs": [],
   "source": [
    "# We can also get the count of distinct values in each row\n",
    "# by setting the axis parameter to 1 or 'columns' in the nunique() function.\n",
    "\n",
    "print(df.nunique(axis=1))  # count of unique values in each row\n",
    "\n",
    "# In the above example, we can see that we have 4 distinct values in each row \n",
    "# except for the row with index 3 which has 3 unique values due to the presence of a NaN value."
   ]
  },
  {
   "cell_type": "markdown",
   "id": "f9e61508",
   "metadata": {},
   "source": [
    "**Example 3:- Value_counts()**"
   ]
  },
  {
   "cell_type": "code",
   "execution_count": 57,
   "id": "9bb580ed",
   "metadata": {},
   "outputs": [
    {
     "name": "stdout",
     "output_type": "stream",
     "text": [
      "Gender\n",
      "Male      3\n",
      "Female    2\n",
      "Name: count, dtype: int64\n"
     ]
    }
   ],
   "source": [
    "# In case, if we want to know the count of each of the distinct values of a specific column, \n",
    "#  can use the pandas value_counts() function.\n",
    "\n",
    "# In the above dataframe df, if we want to know the count of each distinct value in the column Gender,\n",
    "\n",
    "# We can use –\n",
    "\n",
    "print(df['Gender'].value_counts())\n",
    "\n",
    "# In the above example, the pandas series value_counts() function \n",
    "# is used to get the counts of 'Male' and 'Female', \n",
    "# the distinct values in the column B of the dataframe df."
   ]
  },
  {
   "cell_type": "markdown",
   "id": "5a6a4736",
   "metadata": {},
   "source": [
    "###### 4. Replace Values in a DataFrame"
   ]
  },
  {
   "attachments": {
    "image-2.png": {
     "image/png": "[encoded data removed]"
    }
   },
   "cell_type": "markdown",
   "id": "33c9b3f3",
   "metadata": {},
   "source": [
    "- When working with pandas dataframes, it might be handy to know how to quickly replace values.\n",
    "<br>\n",
    "- The pandas dataframe replace() function is used to replace values in a pandas dataframe. \n",
    "<br>\n",
    "- It allows you the flexibility to replace a single value, multiple values,<br>\n",
    "  or even use regular expressions for regex substitutions.\n",
    "\n",
    "  **Syntax:-** df_rep = df.replace(to_replace, value)\n",
    "  <br>\n",
    "\n",
    "  - Here, **to_replace** is the value or values to be replaced and value is the value to replace with.<br> \n",
    "\n",
    "  - By default, the pandas dataframe replace() function returns a copy of the dataframe with the values replaced.<br>\n",
    "\n",
    "  - If we want to replace the values in-place pass inplace=True\n",
    "\n",
    "![image-2.png](attachment:image-2.png)"
   ]
  },
  {
   "cell_type": "markdown",
   "id": "724a0844",
   "metadata": {},
   "source": [
    "**Example 1:- Replace values throughout the dataframe**"
   ]
  },
  {
   "cell_type": "code",
   "execution_count": 58,
   "id": "a44f3b38",
   "metadata": {},
   "outputs": [
    {
     "name": "stdout",
     "output_type": "stream",
     "text": [
      "Original DataFrame:\n",
      "    A  B\n",
      "0  a  b\n",
      "1  b  c\n",
      "2  c  d\n",
      "\n",
      "After replacing:\n",
      "    A  B\n",
      "0  a  e\n",
      "1  e  c\n",
      "2  c  d\n"
     ]
    }
   ],
   "source": [
    "# The replace() function replaces all occurrences of the value with the desired value.\n",
    "\n",
    "import pandas as pd\n",
    "\n",
    "df = pd.DataFrame({'A': ['a','b','c'], 'B':['b','c','d']})\n",
    "\n",
    "print(\"Original DataFrame:\\n\", df)\n",
    "\n",
    "df_rep = df.replace('b', 'e')  # replace b with e\n",
    "\n",
    "print(\"\\nAfter replacing:\\n\", df_rep)"
   ]
  },
  {
   "cell_type": "markdown",
   "id": "ecde1933",
   "metadata": {},
   "source": [
    "**Example 2:- Replace values in a particular column**"
   ]
  },
  {
   "cell_type": "code",
   "execution_count": 59,
   "id": "2964897a",
   "metadata": {},
   "outputs": [
    {
     "name": "stdout",
     "output_type": "stream",
     "text": [
      "Original DataFrame:\n",
      "    A  B\n",
      "0  a  b\n",
      "1  b  c\n",
      "2  c  d\n",
      "\n",
      "After replacing:\n",
      "    A  B\n",
      "0  a  b\n",
      "1  e  c\n",
      "2  c  d\n"
     ]
    }
   ],
   "source": [
    "# The pandas dataframe replace() function allows us the flexibility \n",
    "# to replace values in specific columns without affecting values in other columns.\n",
    "\n",
    "import pandas as pd\n",
    "\n",
    "df = pd.DataFrame({'A': ['a','b','c'], 'B':['b','c','d']})\n",
    "\n",
    "print(\"Original DataFrame:\\n\", df)\n",
    "\n",
    "df_rep = df.replace({'A': 'b'}, 'e') # replace b with e\n",
    "\n",
    "print(\"\\nAfter replacing:\\n\", df_rep)\n",
    "\n",
    "# In the above example, we replace the occurrences of b in just the column A of the dataframe. \n",
    "# For this, we pass a dictionary to the to_replace parameter. \n",
    "# Here the dictionary {'A': 'b'} tells the replace function that \n",
    "# we want to replace the value b in the column A. \n",
    "# And the 'e' passed to the value parameter use is used to replace all relevant matches."
   ]
  },
  {
   "cell_type": "markdown",
   "id": "4d3b4f70",
   "metadata": {},
   "source": [
    "**Example 3:- Replace multiple values together**"
   ]
  },
  {
   "cell_type": "code",
   "execution_count": 61,
   "id": "f0a1d0c1",
   "metadata": {},
   "outputs": [
    {
     "name": "stdout",
     "output_type": "stream",
     "text": [
      "Original DataFrame:\n",
      "    A  B\n",
      "0  a  b\n",
      "1  b  c\n",
      "2  c  d\n",
      "\n",
      "After replacing:\n",
      "    A  B\n",
      "0  b  c\n",
      "1  c  d\n",
      "2  d  d\n"
     ]
    }
   ],
   "source": [
    "# We can also have multiple replacements together. \n",
    "# For example, if we want to replace a with b, b with c and c with d in the above dataframe,\n",
    "# We can pass just a single dictionary to the replace function.\n",
    "\n",
    "import pandas as pd\n",
    "\n",
    "df = pd.DataFrame({'A': ['a','b','c'], 'B':['b','c','d']})\n",
    "print(\"Original DataFrame:\\n\", df)\n",
    "\n",
    "df_rep = df.replace({'a':'b', 'b':'c', 'c':'d'}) # replace a with b, b with c, and c with d\n",
    "\n",
    "print(\"\\nAfter replacing:\\n\", df_rep)"
   ]
  },
  {
   "cell_type": "markdown",
   "id": "840ed986",
   "metadata": {},
   "source": [
    "**Example 4 :- Replace using Regex match**"
   ]
  },
  {
   "cell_type": "markdown",
   "id": "40989c36",
   "metadata": {},
   "source": [
    "- To replace values within a dataframe via a regular expression match,**pass regex=True** to the replace function. \n",
    "<br>\n",
    "- Keep in mind that, we pass the regular expression string to the **to_replace** parameter and<br>\n",
    "  the value to replace the matches to the value parameter. \n",
    "<br>\n",
    "\n",
    "- Also, note that regular expressions will only substitute for strings."
   ]
  },
  {
   "cell_type": "code",
   "execution_count": 62,
   "id": "56abe8f4",
   "metadata": {},
   "outputs": [
    {
     "name": "stdout",
     "output_type": "stream",
     "text": [
      "Original DataFrame:\n",
      "      A    B\n",
      "0  tap  cap\n",
      "1  cap  map\n",
      "2  map  tap\n",
      "\n",
      "After replacing:\n",
      "      A    B\n",
      "0  top  cop\n",
      "1  cop  mop\n",
      "2  mop  top\n"
     ]
    }
   ],
   "source": [
    "import pandas as pd\n",
    "\n",
    "df = pd.DataFrame({'A': ['tap','cap','map'], 'B':['cap','map', 'tap']})\n",
    "\n",
    "print(\"Original DataFrame:\\n\", df)\n",
    "\n",
    "df_rep = df.replace(to_replace='ap', value='op', regex=True) # replace ap with op\n",
    "\n",
    "print(\"\\nAfter replacing:\\n\", df_rep)"
   ]
  },
  {
   "cell_type": "markdown",
   "id": "f4dd4674",
   "metadata": {},
   "source": [
    "#### 5. Filter DataFrame for multiple conditions"
   ]
  },
  {
   "attachments": {
    "image-2.png": {
     "image/png": "[encoded data removed]"
    }
   },
   "cell_type": "markdown",
   "id": "86dd7bf8",
   "metadata": {},
   "source": [
    "- Filtering is one of the most common dataframe manipulations in pandas. \n",
    "<br>\n",
    "\n",
    "- When working with data in pandas dataframes, we’ll often encounter situations<br> \n",
    "  where we need to filter the dataframe to get a specific selection of rows<br>\n",
    "  based on our criteria which may even involve multiple conditions.\n",
    "\n",
    "![image-2.png](attachment:image-2.png)"
   ]
  },
  {
   "cell_type": "code",
   "execution_count": 63,
   "id": "e72c45dc",
   "metadata": {},
   "outputs": [
    {
     "data": {
      "text/html": [
       "<div>\n",
       "<style scoped>\n",
       "    .dataframe tbody tr th:only-of-type {\n",
       "        vertical-align: middle;\n",
       "    }\n",
       "\n",
       "    .dataframe tbody tr th {\n",
       "        vertical-align: top;\n",
       "    }\n",
       "\n",
       "    .dataframe thead th {\n",
       "        text-align: right;\n",
       "    }\n",
       "</style>\n",
       "<table border=\"1\" class=\"dataframe\">\n",
       "  <thead>\n",
       "    <tr style=\"text-align: right;\">\n",
       "      <th></th>\n",
       "      <th>Name</th>\n",
       "      <th>Symbol</th>\n",
       "      <th>Industry</th>\n",
       "      <th>Shares</th>\n",
       "    </tr>\n",
       "  </thead>\n",
       "  <tbody>\n",
       "    <tr>\n",
       "      <th>0</th>\n",
       "      <td>Microsoft Corporation</td>\n",
       "      <td>MSFT</td>\n",
       "      <td>Tech</td>\n",
       "      <td>100</td>\n",
       "    </tr>\n",
       "    <tr>\n",
       "      <th>1</th>\n",
       "      <td>Google, LLC</td>\n",
       "      <td>GOOG</td>\n",
       "      <td>Tech</td>\n",
       "      <td>50</td>\n",
       "    </tr>\n",
       "    <tr>\n",
       "      <th>2</th>\n",
       "      <td>Tesla, Inc.</td>\n",
       "      <td>TSLA</td>\n",
       "      <td>Automotive</td>\n",
       "      <td>150</td>\n",
       "    </tr>\n",
       "    <tr>\n",
       "      <th>3</th>\n",
       "      <td>Apple Inc.</td>\n",
       "      <td>AAPL</td>\n",
       "      <td>Tech</td>\n",
       "      <td>200</td>\n",
       "    </tr>\n",
       "    <tr>\n",
       "      <th>4</th>\n",
       "      <td>Netflix, Inc.</td>\n",
       "      <td>NFLX</td>\n",
       "      <td>Entertainment</td>\n",
       "      <td>80</td>\n",
       "    </tr>\n",
       "  </tbody>\n",
       "</table>\n",
       "</div>"
      ],
      "text/plain": [
       "                    Name Symbol       Industry  Shares\n",
       "0  Microsoft Corporation   MSFT           Tech     100\n",
       "1            Google, LLC   GOOG           Tech      50\n",
       "2            Tesla, Inc.   TSLA     Automotive     150\n",
       "3             Apple Inc.   AAPL           Tech     200\n",
       "4          Netflix, Inc.   NFLX  Entertainment      80"
      ]
     },
     "execution_count": 63,
     "metadata": {},
     "output_type": "execute_result"
    }
   ],
   "source": [
    "import pandas as pd\n",
    "\n",
    "data = {\n",
    "    'Name': ['Microsoft Corporation', 'Google, LLC', 'Tesla, Inc.',\\\n",
    "             'Apple Inc.', 'Netflix, Inc.'],\n",
    "    'Symbol': ['MSFT', 'GOOG', 'TSLA', 'AAPL', 'NFLX'],\n",
    "    'Industry': ['Tech', 'Tech', 'Automotive', 'Tech', 'Entertainment'],\n",
    "    'Shares': [100, 50, 150, 200, 80]\n",
    "}\n",
    "\n",
    "df = pd.DataFrame(data)\n",
    "\n",
    "df"
   ]
  },
  {
   "cell_type": "markdown",
   "id": "34b3d936",
   "metadata": {},
   "source": [
    "**Example 1:- How to filter a dataframe for multiple conditions?**"
   ]
  },
  {
   "cell_type": "markdown",
   "id": "228447aa",
   "metadata": {},
   "source": [
    "- Pandas dataframes allow for boolean indexing which is quite an efficient way to filter\n",
    "  a dataframe for multiple conditions.\n",
    "<br>\n",
    "- In boolean indexing, boolean vectors generated based on the conditions are used to filter the data. \n",
    "<br>\n",
    "\n",
    "- Multiple conditions involving the operators | (for or operation), & (for and operation), \n",
    "  and ~ (for not operation) can be grouped using parenthesis ()."
   ]
  },
  {
   "cell_type": "code",
   "execution_count": 64,
   "id": "699cf579",
   "metadata": {},
   "outputs": [
    {
     "data": {
      "text/html": [
       "<div>\n",
       "<style scoped>\n",
       "    .dataframe tbody tr th:only-of-type {\n",
       "        vertical-align: middle;\n",
       "    }\n",
       "\n",
       "    .dataframe tbody tr th {\n",
       "        vertical-align: top;\n",
       "    }\n",
       "\n",
       "    .dataframe thead th {\n",
       "        text-align: right;\n",
       "    }\n",
       "</style>\n",
       "<table border=\"1\" class=\"dataframe\">\n",
       "  <thead>\n",
       "    <tr style=\"text-align: right;\">\n",
       "      <th></th>\n",
       "      <th>Name</th>\n",
       "      <th>Symbol</th>\n",
       "      <th>Industry</th>\n",
       "      <th>Shares</th>\n",
       "    </tr>\n",
       "  </thead>\n",
       "  <tbody>\n",
       "    <tr>\n",
       "      <th>0</th>\n",
       "      <td>Microsoft Corporation</td>\n",
       "      <td>MSFT</td>\n",
       "      <td>Tech</td>\n",
       "      <td>100</td>\n",
       "    </tr>\n",
       "    <tr>\n",
       "      <th>3</th>\n",
       "      <td>Apple Inc.</td>\n",
       "      <td>AAPL</td>\n",
       "      <td>Tech</td>\n",
       "      <td>200</td>\n",
       "    </tr>\n",
       "  </tbody>\n",
       "</table>\n",
       "</div>"
      ],
      "text/plain": [
       "                    Name Symbol Industry  Shares\n",
       "0  Microsoft Corporation   MSFT     Tech     100\n",
       "3             Apple Inc.   AAPL     Tech     200"
      ]
     },
     "execution_count": 64,
     "metadata": {},
     "output_type": "execute_result"
    }
   ],
   "source": [
    "# In the sample dataframe created, let’s filter for all the stocks that are in the Tech industry and\n",
    "# have 100 or more shares in the portfolio.\n",
    "\n",
    "df_filtered = df[(df['Industry']=='Tech')&(df['Shares']>=100)]\n",
    "\n",
    "df_filtered"
   ]
  },
  {
   "cell_type": "markdown",
   "id": "7124af15",
   "metadata": {},
   "source": [
    "**Things to remember**\n",
    "\n",
    "- We should keep in mind the following two things,\n",
    "  when using boolean indexing to filter dataframes for multiple conditions:"
   ]
  },
  {
   "cell_type": "markdown",
   "id": "ebb7008b",
   "metadata": {},
   "source": [
    "**1) Use the operators &, |, ~ instead of and, or, not respectively**"
   ]
  },
  {
   "cell_type": "code",
   "execution_count": 65,
   "id": "09e78c43",
   "metadata": {
    "collapsed": true
   },
   "outputs": [
    {
     "ename": "ValueError",
     "evalue": "The truth value of a Series is ambiguous. Use a.empty, a.bool(), a.item(), a.any() or a.all().",
     "output_type": "error",
     "traceback": [
      "\u001b[1;31m---------------------------------------------------------------------------\u001b[0m",
      "\u001b[1;31mValueError\u001b[0m                                Traceback (most recent call last)",
      "Cell \u001b[1;32mIn[65], line 8\u001b[0m\n\u001b[0;32m      1\u001b[0m \u001b[38;5;66;03m# Pandas provides operators & (for and), | (for or), and ~ (for not) to \u001b[39;00m\n\u001b[0;32m      2\u001b[0m \u001b[38;5;66;03m# apply logical operations on series and to chain multiple conditions together when filtering a pandas dataframe. \u001b[39;00m\n\u001b[0;32m      3\u001b[0m \n\u001b[0;32m      4\u001b[0m \u001b[38;5;66;03m# If we instead use the python logical operators, it results in an error.\u001b[39;00m\n\u001b[0;32m      5\u001b[0m \n\u001b[0;32m      6\u001b[0m \u001b[38;5;66;03m# For example, if we filter for stocks having shares in the range of 100 to 150 using and we get an error:\u001b[39;00m\n\u001b[1;32m----> 8\u001b[0m df_filtered \u001b[38;5;241m=\u001b[39m df[\u001b[43m(\u001b[49m\u001b[43mdf\u001b[49m\u001b[43m[\u001b[49m\u001b[38;5;124;43m'\u001b[39;49m\u001b[38;5;124;43mShares\u001b[39;49m\u001b[38;5;124;43m'\u001b[39;49m\u001b[43m]\u001b[49m\u001b[38;5;241;43m>\u001b[39;49m\u001b[38;5;241;43m=\u001b[39;49m\u001b[38;5;241;43m100\u001b[39;49m\u001b[43m)\u001b[49m\u001b[43m \u001b[49m\u001b[38;5;129;43;01mand\u001b[39;49;00m\u001b[43m \u001b[49m\u001b[43m(\u001b[49m\u001b[43mdf\u001b[49m\u001b[43m[\u001b[49m\u001b[38;5;124;43m'\u001b[39;49m\u001b[38;5;124;43mShares\u001b[39;49m\u001b[38;5;124;43m'\u001b[39;49m\u001b[43m]\u001b[49m\u001b[38;5;241;43m<\u001b[39;49m\u001b[38;5;241;43m=\u001b[39;49m\u001b[38;5;241;43m150\u001b[39;49m\u001b[43m)\u001b[49m]\n\u001b[0;32m     10\u001b[0m \u001b[38;5;28mprint\u001b[39m(df_filtered)\n",
      "File \u001b[1;32m~\\AppData\\Local\\Programs\\Python\\Python311\\Lib\\site-packages\\pandas\\core\\generic.py:1519\u001b[0m, in \u001b[0;36mNDFrame.__nonzero__\u001b[1;34m(self)\u001b[0m\n\u001b[0;32m   1517\u001b[0m \u001b[38;5;129m@final\u001b[39m\n\u001b[0;32m   1518\u001b[0m \u001b[38;5;28;01mdef\u001b[39;00m \u001b[38;5;21m__nonzero__\u001b[39m(\u001b[38;5;28mself\u001b[39m) \u001b[38;5;241m-\u001b[39m\u001b[38;5;241m>\u001b[39m NoReturn:\n\u001b[1;32m-> 1519\u001b[0m     \u001b[38;5;28;01mraise\u001b[39;00m \u001b[38;5;167;01mValueError\u001b[39;00m(\n\u001b[0;32m   1520\u001b[0m         \u001b[38;5;124mf\u001b[39m\u001b[38;5;124m\"\u001b[39m\u001b[38;5;124mThe truth value of a \u001b[39m\u001b[38;5;132;01m{\u001b[39;00m\u001b[38;5;28mtype\u001b[39m(\u001b[38;5;28mself\u001b[39m)\u001b[38;5;241m.\u001b[39m\u001b[38;5;18m__name__\u001b[39m\u001b[38;5;132;01m}\u001b[39;00m\u001b[38;5;124m is ambiguous. \u001b[39m\u001b[38;5;124m\"\u001b[39m\n\u001b[0;32m   1521\u001b[0m         \u001b[38;5;124m\"\u001b[39m\u001b[38;5;124mUse a.empty, a.bool(), a.item(), a.any() or a.all().\u001b[39m\u001b[38;5;124m\"\u001b[39m\n\u001b[0;32m   1522\u001b[0m     )\n",
      "\u001b[1;31mValueError\u001b[0m: The truth value of a Series is ambiguous. Use a.empty, a.bool(), a.item(), a.any() or a.all()."
     ]
    }
   ],
   "source": [
    "# Pandas provides operators & (for and), | (for or), and ~ (for not) to \n",
    "# apply logical operations on series and to chain multiple conditions together when filtering a pandas dataframe. \n",
    "\n",
    "# If we instead use the python logical operators, it results in an error.\n",
    "\n",
    "# For example, if we filter for stocks having shares in the range of 100 to 150 using and we get an error:\n",
    "\n",
    "df_filtered = df[(df['Shares']>=100) and (df['Shares']<=150)]\n",
    "\n",
    "print(df_filtered)"
   ]
  },
  {
   "cell_type": "code",
   "execution_count": null,
   "id": "01299d13",
   "metadata": {},
   "outputs": [],
   "source": [
    "# The error occurred because python’s logical operators (and, or, not) are meant to be used with boolean values\n",
    "# so when you try to use them with a series or an array,\n",
    "# it’s not clear how to determine whether it’s True or False and hence it results in a ValueError."
   ]
  },
  {
   "cell_type": "markdown",
   "id": "5929fdd8",
   "metadata": {},
   "source": [
    "**2) Use parenthesis () to group multiple conditions**"
   ]
  },
  {
   "cell_type": "code",
   "execution_count": 66,
   "id": "6c57e76b",
   "metadata": {
    "collapsed": true
   },
   "outputs": [
    {
     "ename": "ValueError",
     "evalue": "The truth value of a Series is ambiguous. Use a.empty, a.bool(), a.item(), a.any() or a.all().",
     "output_type": "error",
     "traceback": [
      "\u001b[1;31m---------------------------------------------------------------------------\u001b[0m",
      "\u001b[1;31mValueError\u001b[0m                                Traceback (most recent call last)",
      "Cell \u001b[1;32mIn[66], line 7\u001b[0m\n\u001b[0;32m      1\u001b[0m \u001b[38;5;66;03m# If we do not use parenthesis () to group your conditions, \u001b[39;00m\n\u001b[0;32m      2\u001b[0m \u001b[38;5;66;03m# python evaluates the expression based on operator precedence\u001b[39;00m\n\u001b[0;32m      3\u001b[0m \u001b[38;5;66;03m# which can give unintended results with operators &, | and ~.\u001b[39;00m\n\u001b[0;32m      4\u001b[0m \n\u001b[0;32m      5\u001b[0m \u001b[38;5;66;03m# For example, if we filter for stocks having shares in the range 100 to 150 without using parenthesis we get an error:\u001b[39;00m\n\u001b[1;32m----> 7\u001b[0m df_filtered \u001b[38;5;241m=\u001b[39m df[df[\u001b[38;5;124m'\u001b[39m\u001b[38;5;124mShares\u001b[39m\u001b[38;5;124m'\u001b[39m]\u001b[38;5;241m>\u001b[39m\u001b[38;5;241m=\u001b[39m\u001b[38;5;241m100\u001b[39m \u001b[38;5;241m&\u001b[39m df[\u001b[38;5;124m'\u001b[39m\u001b[38;5;124mShares\u001b[39m\u001b[38;5;124m'\u001b[39m]\u001b[38;5;241m<\u001b[39m\u001b[38;5;241m=\u001b[39m\u001b[38;5;241m150\u001b[39m]\n\u001b[0;32m      9\u001b[0m \u001b[38;5;28mprint\u001b[39m(df_filtered)\n",
      "File \u001b[1;32m~\\AppData\\Local\\Programs\\Python\\Python311\\Lib\\site-packages\\pandas\\core\\generic.py:1519\u001b[0m, in \u001b[0;36mNDFrame.__nonzero__\u001b[1;34m(self)\u001b[0m\n\u001b[0;32m   1517\u001b[0m \u001b[38;5;129m@final\u001b[39m\n\u001b[0;32m   1518\u001b[0m \u001b[38;5;28;01mdef\u001b[39;00m \u001b[38;5;21m__nonzero__\u001b[39m(\u001b[38;5;28mself\u001b[39m) \u001b[38;5;241m-\u001b[39m\u001b[38;5;241m>\u001b[39m NoReturn:\n\u001b[1;32m-> 1519\u001b[0m     \u001b[38;5;28;01mraise\u001b[39;00m \u001b[38;5;167;01mValueError\u001b[39;00m(\n\u001b[0;32m   1520\u001b[0m         \u001b[38;5;124mf\u001b[39m\u001b[38;5;124m\"\u001b[39m\u001b[38;5;124mThe truth value of a \u001b[39m\u001b[38;5;132;01m{\u001b[39;00m\u001b[38;5;28mtype\u001b[39m(\u001b[38;5;28mself\u001b[39m)\u001b[38;5;241m.\u001b[39m\u001b[38;5;18m__name__\u001b[39m\u001b[38;5;132;01m}\u001b[39;00m\u001b[38;5;124m is ambiguous. \u001b[39m\u001b[38;5;124m\"\u001b[39m\n\u001b[0;32m   1521\u001b[0m         \u001b[38;5;124m\"\u001b[39m\u001b[38;5;124mUse a.empty, a.bool(), a.item(), a.any() or a.all().\u001b[39m\u001b[38;5;124m\"\u001b[39m\n\u001b[0;32m   1522\u001b[0m     )\n",
      "\u001b[1;31mValueError\u001b[0m: The truth value of a Series is ambiguous. Use a.empty, a.bool(), a.item(), a.any() or a.all()."
     ]
    }
   ],
   "source": [
    "# If we do not use parenthesis () to group your conditions, \n",
    "# python evaluates the expression based on operator precedence\n",
    "# which can give unintended results with operators &, | and ~.\n",
    "\n",
    "# For example, if we filter for stocks having shares in the range 100 to 150 without using parenthesis we get an error:\n",
    "\n",
    "df_filtered = df[df['Shares']>=100 & df['Shares']<=150]\n",
    "\n",
    "print(df_filtered)"
   ]
  },
  {
   "cell_type": "code",
   "execution_count": null,
   "id": "1a14b4f5",
   "metadata": {},
   "outputs": [],
   "source": [
    "# In the above example, the error because in the absence of parenthesis (), \n",
    "# the expression df['Shares']>=100 & df['Shares']<=150 is evaluated as\n",
    "\n",
    "# df['Shares'] >= (100 & df['Shares']) <= 150\n",
    "\n",
    "# since the bitwise & operator has higher precedence\n",
    "# than the comparison operators >= and <= and is evaluated first."
   ]
  },
  {
   "cell_type": "markdown",
   "id": "d5f21496",
   "metadata": {},
   "source": [
    "**Conclusion**"
   ]
  },
  {
   "cell_type": "code",
   "execution_count": 68,
   "id": "5a1907c8",
   "metadata": {},
   "outputs": [
    {
     "data": {
      "text/html": [
       "<div>\n",
       "<style scoped>\n",
       "    .dataframe tbody tr th:only-of-type {\n",
       "        vertical-align: middle;\n",
       "    }\n",
       "\n",
       "    .dataframe tbody tr th {\n",
       "        vertical-align: top;\n",
       "    }\n",
       "\n",
       "    .dataframe thead th {\n",
       "        text-align: right;\n",
       "    }\n",
       "</style>\n",
       "<table border=\"1\" class=\"dataframe\">\n",
       "  <thead>\n",
       "    <tr style=\"text-align: right;\">\n",
       "      <th></th>\n",
       "      <th>Name</th>\n",
       "      <th>Symbol</th>\n",
       "      <th>Industry</th>\n",
       "      <th>Shares</th>\n",
       "    </tr>\n",
       "  </thead>\n",
       "  <tbody>\n",
       "    <tr>\n",
       "      <th>0</th>\n",
       "      <td>Microsoft Corporation</td>\n",
       "      <td>MSFT</td>\n",
       "      <td>Tech</td>\n",
       "      <td>100</td>\n",
       "    </tr>\n",
       "    <tr>\n",
       "      <th>2</th>\n",
       "      <td>Tesla, Inc.</td>\n",
       "      <td>TSLA</td>\n",
       "      <td>Automotive</td>\n",
       "      <td>150</td>\n",
       "    </tr>\n",
       "  </tbody>\n",
       "</table>\n",
       "</div>"
      ],
      "text/plain": [
       "                    Name Symbol    Industry  Shares\n",
       "0  Microsoft Corporation   MSFT        Tech     100\n",
       "2            Tesla, Inc.   TSLA  Automotive     150"
      ]
     },
     "execution_count": 68,
     "metadata": {},
     "output_type": "execute_result"
    }
   ],
   "source": [
    "# Boolean indexing is an effective way to filter a pandas dataframe based on multiple conditions.\n",
    "\n",
    "# But remember to use parenthesis to group conditions together and use operators &, |, and ~ \n",
    "# for performing logical operations on series.\n",
    "\n",
    "# If we want to filter for stocks having shares in the range of 100 to 150, the correct usage would be:\n",
    "    \n",
    "df_filtered = df[(df['Shares']>=100) & (df['Shares']<=150)]\n",
    "\n",
    "df_filtered"
   ]
  },
  {
   "cell_type": "markdown",
   "id": "2ae00b20",
   "metadata": {},
   "source": [
    "###### 6. Drop Duplicates"
   ]
  },
  {
   "attachments": {
    "image.png": {
     "image/png": "[encoded data removed]"
    }
   },
   "cell_type": "markdown",
   "id": "78d043d1",
   "metadata": {},
   "source": [
    "- drop_duplicates() function can be used to remove duplicate rows from a dataframe/dataset. \n",
    "<br>\n",
    "\n",
    "- It also gives us the flexibility to identify duplicates based on certain columns through the subset parameter. \n",
    "<br>\n",
    "\n",
    "  **syntax:-** df.drop_duplicates()\n",
    "\n",
    "  - It returns a dataframe with the duplicate rows removed.<br> \n",
    "  - It drops the duplicates except for the first occurrence by default.<br>\n",
    "  - We can change this behavior through the parameter keep which takes in 'first', 'last', or False.<br>\n",
    " \n",
    "  - To modify the dataframe in-place pass the argument inplace=True.\n",
    "\n",
    "\n",
    "![image.png](attachment:image.png)"
   ]
  },
  {
   "cell_type": "markdown",
   "id": "ae0e2667",
   "metadata": {},
   "source": [
    "**Example 1:- Drop duplicate rows based on all columns**"
   ]
  },
  {
   "cell_type": "code",
   "execution_count": 69,
   "id": "105df811",
   "metadata": {},
   "outputs": [
    {
     "name": "stdout",
     "output_type": "stream",
     "text": [
      "The original dataframe:\n",
      "\n"
     ]
    },
    {
     "data": {
      "text/html": [
       "<div>\n",
       "<style scoped>\n",
       "    .dataframe tbody tr th:only-of-type {\n",
       "        vertical-align: middle;\n",
       "    }\n",
       "\n",
       "    .dataframe tbody tr th {\n",
       "        vertical-align: top;\n",
       "    }\n",
       "\n",
       "    .dataframe thead th {\n",
       "        text-align: right;\n",
       "    }\n",
       "</style>\n",
       "<table border=\"1\" class=\"dataframe\">\n",
       "  <thead>\n",
       "    <tr style=\"text-align: right;\">\n",
       "      <th></th>\n",
       "      <th>Pet</th>\n",
       "      <th>Color</th>\n",
       "      <th>Eyes</th>\n",
       "    </tr>\n",
       "  </thead>\n",
       "  <tbody>\n",
       "    <tr>\n",
       "      <th>0</th>\n",
       "      <td>Cat</td>\n",
       "      <td>Brown</td>\n",
       "      <td>Black</td>\n",
       "    </tr>\n",
       "    <tr>\n",
       "      <th>1</th>\n",
       "      <td>Dog</td>\n",
       "      <td>Golden</td>\n",
       "      <td>Black</td>\n",
       "    </tr>\n",
       "    <tr>\n",
       "      <th>2</th>\n",
       "      <td>Dog</td>\n",
       "      <td>Golden</td>\n",
       "      <td>Black</td>\n",
       "    </tr>\n",
       "    <tr>\n",
       "      <th>3</th>\n",
       "      <td>Dog</td>\n",
       "      <td>Golden</td>\n",
       "      <td>Brown</td>\n",
       "    </tr>\n",
       "    <tr>\n",
       "      <th>4</th>\n",
       "      <td>Cat</td>\n",
       "      <td>Black</td>\n",
       "      <td>Green</td>\n",
       "    </tr>\n",
       "  </tbody>\n",
       "</table>\n",
       "</div>"
      ],
      "text/plain": [
       "   Pet   Color   Eyes\n",
       "0  Cat   Brown  Black\n",
       "1  Dog  Golden  Black\n",
       "2  Dog  Golden  Black\n",
       "3  Dog  Golden  Brown\n",
       "4  Cat   Black  Green"
      ]
     },
     "execution_count": 69,
     "metadata": {},
     "output_type": "execute_result"
    }
   ],
   "source": [
    "# By default, the drop_duplicates() function identifies the duplicates taking all the columns into consideration.\n",
    "\n",
    "# It then, drops the duplicate rows and just keeps their first occurrence.\n",
    "\n",
    "import pandas as pd\n",
    "\n",
    "# create a sample dataframe with duplicate rows\n",
    "\n",
    "data = {\n",
    "    'Pet': ['Cat', 'Dog', 'Dog', 'Dog', 'Cat'],\n",
    "    'Color': ['Brown', 'Golden', 'Golden', 'Golden', 'Black'],\n",
    "    'Eyes': ['Black', 'Black', 'Black', 'Brown', 'Green']\n",
    "}\n",
    "\n",
    "df = pd.DataFrame(data)\n",
    "\n",
    "# print the dataframe\n",
    "print(\"The original dataframe:\\n\")\n",
    "\n",
    "df"
   ]
  },
  {
   "cell_type": "code",
   "execution_count": 72,
   "id": "238f3ed2",
   "metadata": {},
   "outputs": [
    {
     "name": "stdout",
     "output_type": "stream",
     "text": [
      "After dropping duplicates:\n"
     ]
    },
    {
     "data": {
      "text/html": [
       "<div>\n",
       "<style scoped>\n",
       "    .dataframe tbody tr th:only-of-type {\n",
       "        vertical-align: middle;\n",
       "    }\n",
       "\n",
       "    .dataframe tbody tr th {\n",
       "        vertical-align: top;\n",
       "    }\n",
       "\n",
       "    .dataframe thead th {\n",
       "        text-align: right;\n",
       "    }\n",
       "</style>\n",
       "<table border=\"1\" class=\"dataframe\">\n",
       "  <thead>\n",
       "    <tr style=\"text-align: right;\">\n",
       "      <th></th>\n",
       "      <th>Pet</th>\n",
       "      <th>Color</th>\n",
       "      <th>Eyes</th>\n",
       "    </tr>\n",
       "  </thead>\n",
       "  <tbody>\n",
       "    <tr>\n",
       "      <th>0</th>\n",
       "      <td>Cat</td>\n",
       "      <td>Brown</td>\n",
       "      <td>Black</td>\n",
       "    </tr>\n",
       "    <tr>\n",
       "      <th>1</th>\n",
       "      <td>Dog</td>\n",
       "      <td>Golden</td>\n",
       "      <td>Black</td>\n",
       "    </tr>\n",
       "    <tr>\n",
       "      <th>3</th>\n",
       "      <td>Dog</td>\n",
       "      <td>Golden</td>\n",
       "      <td>Brown</td>\n",
       "    </tr>\n",
       "    <tr>\n",
       "      <th>4</th>\n",
       "      <td>Cat</td>\n",
       "      <td>Black</td>\n",
       "      <td>Green</td>\n",
       "    </tr>\n",
       "  </tbody>\n",
       "</table>\n",
       "</div>"
      ],
      "text/plain": [
       "   Pet   Color   Eyes\n",
       "0  Cat   Brown  Black\n",
       "1  Dog  Golden  Black\n",
       "3  Dog  Golden  Brown\n",
       "4  Cat   Black  Green"
      ]
     },
     "execution_count": 72,
     "metadata": {},
     "output_type": "execute_result"
    }
   ],
   "source": [
    "# drop duplicates\n",
    "\n",
    "df1 = df.drop_duplicates()\n",
    "\n",
    "print(\"After dropping duplicates:\")\n",
    "\n",
    "df1\n",
    "\n",
    "# In the above example, you can see that the rows with\n",
    "# index 1 and 2 have the same values for all the three columns.\n",
    "\n",
    "# On applying the drop_duplicates() function, \n",
    "# the first row is retained and the remaining duplicate rows are dropped. \n",
    "\n",
    "# As a result, the dataframe returned does not have a continuous index."
   ]
  },
  {
   "cell_type": "markdown",
   "id": "c2214c30",
   "metadata": {},
   "source": [
    "**Example 2:- Having continuous index-(ignore_index=True)**"
   ]
  },
  {
   "cell_type": "code",
   "execution_count": 75,
   "id": "13b59466",
   "metadata": {},
   "outputs": [
    {
     "name": "stdout",
     "output_type": "stream",
     "text": [
      "After dropping duplicates:\n"
     ]
    },
    {
     "data": {
      "text/html": [
       "<div>\n",
       "<style scoped>\n",
       "    .dataframe tbody tr th:only-of-type {\n",
       "        vertical-align: middle;\n",
       "    }\n",
       "\n",
       "    .dataframe tbody tr th {\n",
       "        vertical-align: top;\n",
       "    }\n",
       "\n",
       "    .dataframe thead th {\n",
       "        text-align: right;\n",
       "    }\n",
       "</style>\n",
       "<table border=\"1\" class=\"dataframe\">\n",
       "  <thead>\n",
       "    <tr style=\"text-align: right;\">\n",
       "      <th></th>\n",
       "      <th>Pet</th>\n",
       "      <th>Color</th>\n",
       "      <th>Eyes</th>\n",
       "    </tr>\n",
       "  </thead>\n",
       "  <tbody>\n",
       "    <tr>\n",
       "      <th>0</th>\n",
       "      <td>Cat</td>\n",
       "      <td>Brown</td>\n",
       "      <td>Black</td>\n",
       "    </tr>\n",
       "    <tr>\n",
       "      <th>1</th>\n",
       "      <td>Dog</td>\n",
       "      <td>Golden</td>\n",
       "      <td>Black</td>\n",
       "    </tr>\n",
       "    <tr>\n",
       "      <th>2</th>\n",
       "      <td>Dog</td>\n",
       "      <td>Golden</td>\n",
       "      <td>Brown</td>\n",
       "    </tr>\n",
       "    <tr>\n",
       "      <th>3</th>\n",
       "      <td>Cat</td>\n",
       "      <td>Black</td>\n",
       "      <td>Green</td>\n",
       "    </tr>\n",
       "  </tbody>\n",
       "</table>\n",
       "</div>"
      ],
      "text/plain": [
       "   Pet   Color   Eyes\n",
       "0  Cat   Brown  Black\n",
       "1  Dog  Golden  Black\n",
       "2  Dog  Golden  Brown\n",
       "3  Cat   Black  Green"
      ]
     },
     "execution_count": 75,
     "metadata": {},
     "output_type": "execute_result"
    }
   ],
   "source": [
    "# If we want the returned dataframe to have a continuous index \n",
    "# pass ignore_index=True to the drop_duplicates() function \n",
    "# or reset the index of the returned dataframe.\n",
    "\n",
    "df1 = df.drop_duplicates(ignore_index=True)\n",
    "\n",
    "print(\"After dropping duplicates:\")\n",
    "\n",
    "df1"
   ]
  },
  {
   "cell_type": "markdown",
   "id": "5e346f12",
   "metadata": {},
   "source": [
    "###### 7. equals() function"
   ]
  },
  {
   "cell_type": "markdown",
   "id": "b443e3be",
   "metadata": {},
   "source": [
    "- The pandas dataframe function equals() is used to compare two dataframes for equality. \n",
    "<br>\n",
    "\n",
    "- It returns True if the two dataframes have the same shape and elements.\n",
    "\n",
    " **Syntax :-** df1.equals(df2)\n",
    "\n",
    "  - Here, df1 and df2 are the two dataframes you want to compare. \n",
    "<br>\n",
    "\n",
    "  - Note that NaNs in the same location are considered equal."
   ]
  },
  {
   "cell_type": "markdown",
   "id": "0d5ebce3",
   "metadata": {},
   "source": [
    "**Example 1:- Compare two exactly similar dataframes**"
   ]
  },
  {
   "cell_type": "code",
   "execution_count": 84,
   "id": "81da33a2",
   "metadata": {
    "collapsed": true
   },
   "outputs": [
    {
     "name": "stdout",
     "output_type": "stream",
     "text": [
      "DataFrame df1:\n",
      "   A  B\n",
      "0  1  x\n",
      "1  2  y\n",
      "\n",
      "DataFrame df2:\n",
      "   A  B\n",
      "0  1  x\n",
      "1  2  y\n",
      "\n",
      "Two dataframes are equal:- True\n"
     ]
    }
   ],
   "source": [
    "import pandas as pd\n",
    "\n",
    "# two identical dataframes\n",
    "\n",
    "df1 = pd.DataFrame({'A': [1,2], 'B': ['x', 'y']})\n",
    "\n",
    "df2 = pd.DataFrame({'A': [1,2], 'B': ['x', 'y']})\n",
    "\n",
    "# print the two dataframes\n",
    "\n",
    "print(\"DataFrame df1:\")\n",
    "\n",
    "print(df1)\n",
    "\n",
    "print(\"\\nDataFrame df2:\")\n",
    "\n",
    "print(df2)\n",
    "\n",
    "print()\n",
    "\n",
    "# check if both are equal\n",
    "\n",
    "print(\"Two dataframes are equal:-\", df1.equals(df2))"
   ]
  },
  {
   "cell_type": "markdown",
   "id": "238b5f38",
   "metadata": {},
   "source": [
    "**Example 2:- Compare two exactly similar dataframes with NaNs**"
   ]
  },
  {
   "cell_type": "code",
   "execution_count": 87,
   "id": "dc31a222",
   "metadata": {},
   "outputs": [
    {
     "name": "stdout",
     "output_type": "stream",
     "text": [
      "DataFrame df1:\n",
      "     A     B\n",
      "0  1.0     x\n",
      "1  NaN  None\n",
      "\n",
      "DataFrame df2:\n",
      "     A     B\n",
      "0  1.0     x\n",
      "1  NaN  None\n",
      "\n",
      "Are both equal?:- True\n"
     ]
    }
   ],
   "source": [
    "import pandas as pd\n",
    "import numpy as np\n",
    "\n",
    "# two identical dataframes\n",
    "\n",
    "df1 = pd.DataFrame({'A': [1,np.nan], 'B': ['x', None]})\n",
    "\n",
    "df2 = pd.DataFrame({'A': [1,np.nan], 'B': ['x', None]})\n",
    "\n",
    "print(\"DataFrame df1:\")\n",
    "\n",
    "print(df1)\n",
    "\n",
    "print(\"\\nDataFrame df2:\")\n",
    "\n",
    "print(df2)\n",
    "\n",
    "# check if both are equal\n",
    "\n",
    "print(\"\\nAre both equal?:-\",df1.equals(df2))\n",
    "\n",
    "# Here, we can see that NaNs and None are considered equal if they occur at the same location."
   ]
  },
  {
   "cell_type": "markdown",
   "id": "c241b3f7",
   "metadata": {},
   "source": [
    "**Example 3:- Compare two dataframes with equal values but different dtypes**"
   ]
  },
  {
   "cell_type": "code",
   "execution_count": 88,
   "id": "ee5f65e9",
   "metadata": {
    "collapsed": true
   },
   "outputs": [
    {
     "name": "stdout",
     "output_type": "stream",
     "text": [
      "DataFrame df1:\n",
      "   A  B\n",
      "0  1  x\n",
      "1  2  y\n",
      "\n",
      "DataFrame df2:\n",
      "     A  B\n",
      "0  1.0  x\n",
      "1  2.0  y\n",
      "\n",
      "Are both equal?:- False\n"
     ]
    }
   ],
   "source": [
    "import pandas as pd\n",
    "import numpy as np\n",
    "\n",
    "# two identical dataframes\n",
    "\n",
    "df1 = pd.DataFrame({'A': [1,2], 'B': ['x', 'y']})\n",
    "\n",
    "df2 = pd.DataFrame({'A': [1.0,2.0], 'B': ['x', 'y']})\n",
    "\n",
    "# print the two dataframes\n",
    "\n",
    "print(\"DataFrame df1:\")\n",
    "print(df1)\n",
    "\n",
    "print(\"\\nDataFrame df2:\")\n",
    "print(df2)\n",
    "\n",
    "# check if both are equal\n",
    "\n",
    "print(\"\\nAre both equal?:-\",df1.equals(df2))"
   ]
  },
  {
   "cell_type": "markdown",
   "id": "b0513928",
   "metadata": {},
   "source": [
    "**Example 4:- Compare dataframes with same elements but different column names**"
   ]
  },
  {
   "cell_type": "code",
   "execution_count": 89,
   "id": "0a298dd1",
   "metadata": {},
   "outputs": [
    {
     "name": "stdout",
     "output_type": "stream",
     "text": [
      "DataFrame df1:\n",
      "   A  B\n",
      "0  1  x\n",
      "1  2  y\n",
      "\n",
      "DataFrame df2:\n",
      "   C  D\n",
      "0  1  x\n",
      "1  2  y\n",
      "\n",
      "Are both equal?:- False\n"
     ]
    }
   ],
   "source": [
    "# What will the equals() function return if two dataframes have the same elements but different column names?\n",
    "\n",
    "import pandas as pd\n",
    "import numpy as np\n",
    "\n",
    "# two identical dataframes\n",
    "\n",
    "df1 = pd.DataFrame({'A': [1,2], 'B': ['x', 'y']})\n",
    "df2 = pd.DataFrame({'C': [1,2], 'D': ['x', 'y']})\n",
    "\n",
    "# print the two dataframes\n",
    "\n",
    "print(\"DataFrame df1:\")\n",
    "print(df1)\n",
    "\n",
    "print(\"\\nDataFrame df2:\")\n",
    "print(df2)\n",
    "\n",
    "# check if both are equal\n",
    "\n",
    "print(\"\\nAre both equal?:-\",df1.equals(df2))"
   ]
  },
  {
   "cell_type": "markdown",
   "id": "6b2c8f42",
   "metadata": {},
   "source": [
    "#### 8. Get Column Names"
   ]
  },
  {
   "cell_type": "markdown",
   "id": "9094a7af",
   "metadata": {},
   "source": [
    "- While working with pandas dataframes, it may happen that\n",
    "  we require a list of all the column names present in a dataframe. \n",
    "  <br>\n",
    "  \n",
    "- We can use **df.columns** to get the column names but it returns them as an Index object."
   ]
  },
  {
   "cell_type": "code",
   "execution_count": 90,
   "id": "8684844d",
   "metadata": {},
   "outputs": [
    {
     "data": {
      "text/html": [
       "<div>\n",
       "<style scoped>\n",
       "    .dataframe tbody tr th:only-of-type {\n",
       "        vertical-align: middle;\n",
       "    }\n",
       "\n",
       "    .dataframe tbody tr th {\n",
       "        vertical-align: top;\n",
       "    }\n",
       "\n",
       "    .dataframe thead th {\n",
       "        text-align: right;\n",
       "    }\n",
       "</style>\n",
       "<table border=\"1\" class=\"dataframe\">\n",
       "  <thead>\n",
       "    <tr style=\"text-align: right;\">\n",
       "      <th></th>\n",
       "      <th>Name</th>\n",
       "      <th>Symbol</th>\n",
       "      <th>Shares</th>\n",
       "    </tr>\n",
       "  </thead>\n",
       "  <tbody>\n",
       "    <tr>\n",
       "      <th>0</th>\n",
       "      <td>Google, LLC</td>\n",
       "      <td>GOOG</td>\n",
       "      <td>100</td>\n",
       "    </tr>\n",
       "    <tr>\n",
       "      <th>1</th>\n",
       "      <td>Microsoft Corporation</td>\n",
       "      <td>MSFT</td>\n",
       "      <td>50</td>\n",
       "    </tr>\n",
       "    <tr>\n",
       "      <th>2</th>\n",
       "      <td>Tesla, Inc.</td>\n",
       "      <td>TSLA</td>\n",
       "      <td>80</td>\n",
       "    </tr>\n",
       "  </tbody>\n",
       "</table>\n",
       "</div>"
      ],
      "text/plain": [
       "                    Name Symbol  Shares\n",
       "0            Google, LLC   GOOG     100\n",
       "1  Microsoft Corporation   MSFT      50\n",
       "2            Tesla, Inc.   TSLA      80"
      ]
     },
     "execution_count": 90,
     "metadata": {},
     "output_type": "execute_result"
    }
   ],
   "source": [
    "import pandas as pd\n",
    "\n",
    "data = {\n",
    "    \"Name\": [\"Google, LLC\", \"Microsoft Corporation\", \"Tesla, Inc.\"],\n",
    "    \"Symbol\": [\"GOOG\", \"MSFT\", \"TSLA\"],\n",
    "    \"Shares\": [100, 50, 80],\n",
    "}\n",
    "\n",
    "df = pd.DataFrame(data) # create dataframe\n",
    "\n",
    "df  # display dataframe"
   ]
  },
  {
   "cell_type": "markdown",
   "id": "0fcdb975",
   "metadata": {},
   "source": [
    "**Example 1:- Get column names**"
   ]
  },
  {
   "cell_type": "code",
   "execution_count": 92,
   "id": "2b5de74b",
   "metadata": {},
   "outputs": [
    {
     "data": {
      "text/plain": [
       "Index(['Name', 'Symbol', 'Shares'], dtype='object')"
      ]
     },
     "execution_count": 92,
     "metadata": {},
     "output_type": "execute_result"
    }
   ],
   "source": [
    "df.columns"
   ]
  },
  {
   "cell_type": "markdown",
   "id": "3b3622fa",
   "metadata": {},
   "source": [
    "**Example 2:- Using the list() function**"
   ]
  },
  {
   "cell_type": "code",
   "execution_count": 94,
   "id": "3610d498",
   "metadata": {},
   "outputs": [
    {
     "data": {
      "text/plain": [
       "['Name', 'Symbol', 'Shares']"
      ]
     },
     "execution_count": 94,
     "metadata": {},
     "output_type": "execute_result"
    }
   ],
   "source": [
    "# Pass the dataframe to the list() function to get the list of column names.\n",
    "\n",
    "list(df)"
   ]
  },
  {
   "cell_type": "markdown",
   "id": "ac052a0f",
   "metadata": {},
   "source": [
    "#### 9. Select One or More Columns"
   ]
  },
  {
   "cell_type": "markdown",
   "id": "0b18df2d",
   "metadata": {},
   "source": [
    "- There are a number of ways in which you can select a subset of columns in pandas. \n",
    "<br>\n",
    "\n",
    "- We can select them by their names or their indexes."
   ]
  },
  {
   "cell_type": "markdown",
   "id": "436d28ad",
   "metadata": {},
   "source": [
    "**Example 1:- By passing columns names as list to the indexing operator [ ]**"
   ]
  },
  {
   "cell_type": "code",
   "execution_count": 98,
   "id": "e7b362cb",
   "metadata": {},
   "outputs": [
    {
     "name": "stdout",
     "output_type": "stream",
     "text": [
      "The original dataframe:-\n"
     ]
    },
    {
     "data": {
      "text/html": [
       "<div>\n",
       "<style scoped>\n",
       "    .dataframe tbody tr th:only-of-type {\n",
       "        vertical-align: middle;\n",
       "    }\n",
       "\n",
       "    .dataframe tbody tr th {\n",
       "        vertical-align: top;\n",
       "    }\n",
       "\n",
       "    .dataframe thead th {\n",
       "        text-align: right;\n",
       "    }\n",
       "</style>\n",
       "<table border=\"1\" class=\"dataframe\">\n",
       "  <thead>\n",
       "    <tr style=\"text-align: right;\">\n",
       "      <th></th>\n",
       "      <th>Name</th>\n",
       "      <th>Age</th>\n",
       "      <th>Department</th>\n",
       "    </tr>\n",
       "  </thead>\n",
       "  <tbody>\n",
       "    <tr>\n",
       "      <th>0</th>\n",
       "      <td>Jim</td>\n",
       "      <td>26</td>\n",
       "      <td>Sales</td>\n",
       "    </tr>\n",
       "    <tr>\n",
       "      <th>1</th>\n",
       "      <td>Dwight</td>\n",
       "      <td>28</td>\n",
       "      <td>Sales</td>\n",
       "    </tr>\n",
       "    <tr>\n",
       "      <th>2</th>\n",
       "      <td>Angela</td>\n",
       "      <td>27</td>\n",
       "      <td>Accounting</td>\n",
       "    </tr>\n",
       "    <tr>\n",
       "      <th>3</th>\n",
       "      <td>Tobi</td>\n",
       "      <td>32</td>\n",
       "      <td>Human Resources</td>\n",
       "    </tr>\n",
       "  </tbody>\n",
       "</table>\n",
       "</div>"
      ],
      "text/plain": [
       "     Name  Age       Department\n",
       "0     Jim   26            Sales\n",
       "1  Dwight   28            Sales\n",
       "2  Angela   27       Accounting\n",
       "3    Tobi   32  Human Resources"
      ]
     },
     "execution_count": 98,
     "metadata": {},
     "output_type": "execute_result"
    }
   ],
   "source": [
    "import pandas as pd\n",
    "\n",
    "# create a sample dataframe\n",
    "\n",
    "data = {\n",
    "    'Name': ['Jim', 'Dwight', 'Angela', 'Tobi'],\n",
    "    'Age': [26, 28, 27, 32],\n",
    "    'Department': ['Sales', 'Sales', 'Accounting', 'Human Resources']\n",
    "}\n",
    "\n",
    "df = pd.DataFrame(data)\n",
    "\n",
    "print(\"The original dataframe:-\") # print the dataframe\n",
    "\n",
    "df"
   ]
  },
  {
   "cell_type": "code",
   "execution_count": 100,
   "id": "a5921f2d",
   "metadata": {},
   "outputs": [
    {
     "name": "stdout",
     "output_type": "stream",
     "text": [
      "Dataframe with the selected columns:-\n"
     ]
    },
    {
     "data": {
      "text/html": [
       "<div>\n",
       "<style scoped>\n",
       "    .dataframe tbody tr th:only-of-type {\n",
       "        vertical-align: middle;\n",
       "    }\n",
       "\n",
       "    .dataframe tbody tr th {\n",
       "        vertical-align: top;\n",
       "    }\n",
       "\n",
       "    .dataframe thead th {\n",
       "        text-align: right;\n",
       "    }\n",
       "</style>\n",
       "<table border=\"1\" class=\"dataframe\">\n",
       "  <thead>\n",
       "    <tr style=\"text-align: right;\">\n",
       "      <th></th>\n",
       "      <th>Name</th>\n",
       "      <th>Department</th>\n",
       "    </tr>\n",
       "  </thead>\n",
       "  <tbody>\n",
       "    <tr>\n",
       "      <th>0</th>\n",
       "      <td>Jim</td>\n",
       "      <td>Sales</td>\n",
       "    </tr>\n",
       "    <tr>\n",
       "      <th>1</th>\n",
       "      <td>Dwight</td>\n",
       "      <td>Sales</td>\n",
       "    </tr>\n",
       "    <tr>\n",
       "      <th>2</th>\n",
       "      <td>Angela</td>\n",
       "      <td>Accounting</td>\n",
       "    </tr>\n",
       "    <tr>\n",
       "      <th>3</th>\n",
       "      <td>Tobi</td>\n",
       "      <td>Human Resources</td>\n",
       "    </tr>\n",
       "  </tbody>\n",
       "</table>\n",
       "</div>"
      ],
      "text/plain": [
       "     Name       Department\n",
       "0     Jim            Sales\n",
       "1  Dwight            Sales\n",
       "2  Angela       Accounting\n",
       "3    Tobi  Human Resources"
      ]
     },
     "execution_count": 100,
     "metadata": {},
     "output_type": "execute_result"
    }
   ],
   "source": [
    "df_selected = df[['Name', 'Department']] # select columns 'Name' and 'Department'\n",
    "\n",
    "print(\"Dataframe with the selected columns:-\")\n",
    "\n",
    "df_selected\n",
    "\n",
    "# In the above example, we select the columns Name and Department from the dataframe df\n",
    "# by passing them as a list to the indexing operator [].\n",
    "\n",
    "# We can see that the returned dataframe just has those two columns."
   ]
  },
  {
   "cell_type": "markdown",
   "id": "7b6f6483",
   "metadata": {},
   "source": [
    "**Example 2:- Using the .loc property**"
   ]
  },
  {
   "cell_type": "markdown",
   "id": "5aaab8f2",
   "metadata": {},
   "source": [
    "- .loc is a pandas dataframe property used for accessing rows or columns of a dataframe by their labels. \n",
    "<br>\n",
    "\n",
    "- We can use it to select a subset of columns of a dataframe by their names."
   ]
  },
  {
   "cell_type": "code",
   "execution_count": 102,
   "id": "383d3c03",
   "metadata": {},
   "outputs": [
    {
     "name": "stdout",
     "output_type": "stream",
     "text": [
      "The original dataframe:-\n"
     ]
    },
    {
     "data": {
      "text/html": [
       "<div>\n",
       "<style scoped>\n",
       "    .dataframe tbody tr th:only-of-type {\n",
       "        vertical-align: middle;\n",
       "    }\n",
       "\n",
       "    .dataframe tbody tr th {\n",
       "        vertical-align: top;\n",
       "    }\n",
       "\n",
       "    .dataframe thead th {\n",
       "        text-align: right;\n",
       "    }\n",
       "</style>\n",
       "<table border=\"1\" class=\"dataframe\">\n",
       "  <thead>\n",
       "    <tr style=\"text-align: right;\">\n",
       "      <th></th>\n",
       "      <th>Name</th>\n",
       "      <th>Age</th>\n",
       "      <th>Department</th>\n",
       "    </tr>\n",
       "  </thead>\n",
       "  <tbody>\n",
       "    <tr>\n",
       "      <th>0</th>\n",
       "      <td>Jim</td>\n",
       "      <td>26</td>\n",
       "      <td>Sales</td>\n",
       "    </tr>\n",
       "    <tr>\n",
       "      <th>1</th>\n",
       "      <td>Dwight</td>\n",
       "      <td>28</td>\n",
       "      <td>Sales</td>\n",
       "    </tr>\n",
       "    <tr>\n",
       "      <th>2</th>\n",
       "      <td>Angela</td>\n",
       "      <td>27</td>\n",
       "      <td>Accounting</td>\n",
       "    </tr>\n",
       "    <tr>\n",
       "      <th>3</th>\n",
       "      <td>Tobi</td>\n",
       "      <td>32</td>\n",
       "      <td>Human Resources</td>\n",
       "    </tr>\n",
       "  </tbody>\n",
       "</table>\n",
       "</div>"
      ],
      "text/plain": [
       "     Name  Age       Department\n",
       "0     Jim   26            Sales\n",
       "1  Dwight   28            Sales\n",
       "2  Angela   27       Accounting\n",
       "3    Tobi   32  Human Resources"
      ]
     },
     "execution_count": 102,
     "metadata": {},
     "output_type": "execute_result"
    }
   ],
   "source": [
    "import pandas as pd\n",
    "\n",
    "# create a sample dataframe\n",
    "\n",
    "data = {\n",
    "    'Name': ['Jim', 'Dwight', 'Angela', 'Tobi'],\n",
    "    'Age': [26, 28, 27, 32],\n",
    "    'Department': ['Sales', 'Sales', 'Accounting', 'Human Resources']\n",
    "}\n",
    "\n",
    "df = pd.DataFrame(data)\n",
    "\n",
    "print(\"The original dataframe:-\") # print the dataframe\n",
    "\n",
    "df"
   ]
  },
  {
   "cell_type": "code",
   "execution_count": 103,
   "id": "9b5f7d65",
   "metadata": {},
   "outputs": [
    {
     "name": "stdout",
     "output_type": "stream",
     "text": [
      "\n",
      "Dataframe with the selected columns:-\n"
     ]
    },
    {
     "data": {
      "text/html": [
       "<div>\n",
       "<style scoped>\n",
       "    .dataframe tbody tr th:only-of-type {\n",
       "        vertical-align: middle;\n",
       "    }\n",
       "\n",
       "    .dataframe tbody tr th {\n",
       "        vertical-align: top;\n",
       "    }\n",
       "\n",
       "    .dataframe thead th {\n",
       "        text-align: right;\n",
       "    }\n",
       "</style>\n",
       "<table border=\"1\" class=\"dataframe\">\n",
       "  <thead>\n",
       "    <tr style=\"text-align: right;\">\n",
       "      <th></th>\n",
       "      <th>Name</th>\n",
       "      <th>Department</th>\n",
       "    </tr>\n",
       "  </thead>\n",
       "  <tbody>\n",
       "    <tr>\n",
       "      <th>0</th>\n",
       "      <td>Jim</td>\n",
       "      <td>Sales</td>\n",
       "    </tr>\n",
       "    <tr>\n",
       "      <th>1</th>\n",
       "      <td>Dwight</td>\n",
       "      <td>Sales</td>\n",
       "    </tr>\n",
       "    <tr>\n",
       "      <th>2</th>\n",
       "      <td>Angela</td>\n",
       "      <td>Accounting</td>\n",
       "    </tr>\n",
       "    <tr>\n",
       "      <th>3</th>\n",
       "      <td>Tobi</td>\n",
       "      <td>Human Resources</td>\n",
       "    </tr>\n",
       "  </tbody>\n",
       "</table>\n",
       "</div>"
      ],
      "text/plain": [
       "     Name       Department\n",
       "0     Jim            Sales\n",
       "1  Dwight            Sales\n",
       "2  Angela       Accounting\n",
       "3    Tobi  Human Resources"
      ]
     },
     "execution_count": 103,
     "metadata": {},
     "output_type": "execute_result"
    }
   ],
   "source": [
    "df_selected = df.loc[:,['Name', 'Department']] # select columns 'Name' and 'Department'\n",
    "\n",
    "print(\"\\nDataframe with the selected columns:-\")\n",
    "\n",
    "df_selected\n",
    "\n",
    "# In the above example, we use df.loc[:,['Name', 'Department']] to select columns Name and Department. \n",
    "\n",
    "# Note that the : before the , is used so that we get all the rows for the two columns. \n",
    "\n",
    "# We can give your specific slices based on what rows you require."
   ]
  },
  {
   "cell_type": "markdown",
   "id": "89d0d2f4",
   "metadata": {},
   "source": [
    "**Example 3:- Select columns by index in pandas - iloc()**"
   ]
  },
  {
   "cell_type": "code",
   "execution_count": 105,
   "id": "bc2cc311",
   "metadata": {},
   "outputs": [
    {
     "name": "stdout",
     "output_type": "stream",
     "text": [
      "The original dataframe:-\n"
     ]
    },
    {
     "data": {
      "text/html": [
       "<div>\n",
       "<style scoped>\n",
       "    .dataframe tbody tr th:only-of-type {\n",
       "        vertical-align: middle;\n",
       "    }\n",
       "\n",
       "    .dataframe tbody tr th {\n",
       "        vertical-align: top;\n",
       "    }\n",
       "\n",
       "    .dataframe thead th {\n",
       "        text-align: right;\n",
       "    }\n",
       "</style>\n",
       "<table border=\"1\" class=\"dataframe\">\n",
       "  <thead>\n",
       "    <tr style=\"text-align: right;\">\n",
       "      <th></th>\n",
       "      <th>Name</th>\n",
       "      <th>Age</th>\n",
       "      <th>Department</th>\n",
       "    </tr>\n",
       "  </thead>\n",
       "  <tbody>\n",
       "    <tr>\n",
       "      <th>0</th>\n",
       "      <td>Jim</td>\n",
       "      <td>26</td>\n",
       "      <td>Sales</td>\n",
       "    </tr>\n",
       "    <tr>\n",
       "      <th>1</th>\n",
       "      <td>Dwight</td>\n",
       "      <td>28</td>\n",
       "      <td>Sales</td>\n",
       "    </tr>\n",
       "    <tr>\n",
       "      <th>2</th>\n",
       "      <td>Angela</td>\n",
       "      <td>27</td>\n",
       "      <td>Accounting</td>\n",
       "    </tr>\n",
       "    <tr>\n",
       "      <th>3</th>\n",
       "      <td>Tobi</td>\n",
       "      <td>32</td>\n",
       "      <td>Human Resources</td>\n",
       "    </tr>\n",
       "  </tbody>\n",
       "</table>\n",
       "</div>"
      ],
      "text/plain": [
       "     Name  Age       Department\n",
       "0     Jim   26            Sales\n",
       "1  Dwight   28            Sales\n",
       "2  Angela   27       Accounting\n",
       "3    Tobi   32  Human Resources"
      ]
     },
     "execution_count": 105,
     "metadata": {},
     "output_type": "execute_result"
    }
   ],
   "source": [
    "# We can also select columns by giving their indexes using the .iloc property of the dataframe.\n",
    "\n",
    "import pandas as pd\n",
    "\n",
    "# create a sample dataframe\n",
    "\n",
    "data = {\n",
    "    'Name': ['Jim', 'Dwight', 'Angela', 'Tobi'],\n",
    "    'Age': [26, 28, 27, 32],\n",
    "    'Department': ['Sales', 'Sales', 'Accounting', 'Human Resources']\n",
    "}\n",
    "\n",
    "df = pd.DataFrame(data)\n",
    "\n",
    "print(\"The original dataframe:-\")\n",
    "\n",
    "df"
   ]
  },
  {
   "cell_type": "code",
   "execution_count": 106,
   "id": "4144f89f",
   "metadata": {},
   "outputs": [
    {
     "name": "stdout",
     "output_type": "stream",
     "text": [
      "Dataframe with the selected columns:-\n"
     ]
    },
    {
     "data": {
      "text/html": [
       "<div>\n",
       "<style scoped>\n",
       "    .dataframe tbody tr th:only-of-type {\n",
       "        vertical-align: middle;\n",
       "    }\n",
       "\n",
       "    .dataframe tbody tr th {\n",
       "        vertical-align: top;\n",
       "    }\n",
       "\n",
       "    .dataframe thead th {\n",
       "        text-align: right;\n",
       "    }\n",
       "</style>\n",
       "<table border=\"1\" class=\"dataframe\">\n",
       "  <thead>\n",
       "    <tr style=\"text-align: right;\">\n",
       "      <th></th>\n",
       "      <th>Name</th>\n",
       "      <th>Department</th>\n",
       "    </tr>\n",
       "  </thead>\n",
       "  <tbody>\n",
       "    <tr>\n",
       "      <th>0</th>\n",
       "      <td>Jim</td>\n",
       "      <td>Sales</td>\n",
       "    </tr>\n",
       "    <tr>\n",
       "      <th>1</th>\n",
       "      <td>Dwight</td>\n",
       "      <td>Sales</td>\n",
       "    </tr>\n",
       "    <tr>\n",
       "      <th>2</th>\n",
       "      <td>Angela</td>\n",
       "      <td>Accounting</td>\n",
       "    </tr>\n",
       "    <tr>\n",
       "      <th>3</th>\n",
       "      <td>Tobi</td>\n",
       "      <td>Human Resources</td>\n",
       "    </tr>\n",
       "  </tbody>\n",
       "</table>\n",
       "</div>"
      ],
      "text/plain": [
       "     Name       Department\n",
       "0     Jim            Sales\n",
       "1  Dwight            Sales\n",
       "2  Angela       Accounting\n",
       "3    Tobi  Human Resources"
      ]
     },
     "execution_count": 106,
     "metadata": {},
     "output_type": "execute_result"
    }
   ],
   "source": [
    "df_selected = df.iloc[:,[0, 2]] # select columns 'Name' and 'Department'\n",
    "\n",
    "print(\"Dataframe with the selected columns:-\")\n",
    "\n",
    "df_selected\n",
    "\n",
    "# In the above example, we use the column indexes 0 and 2 to select columns Name and Department respectively\n",
    "# from the dataframe df."
   ]
  },
  {
   "cell_type": "markdown",
   "id": "d9a553f3",
   "metadata": {},
   "source": [
    "#### 10. Rename Column Names"
   ]
  },
  {
   "attachments": {
    "image.png": {
     "image/png": "[encoded data removed]"
    }
   },
   "cell_type": "markdown",
   "id": "a75f43ff",
   "metadata": {},
   "source": [
    "- While working with data, we may require to change the names of some or all the columns of a dataframe.\n",
    "<br>\n",
    "\n",
    "- We can use the Pandas dataframe rename() function to rename column names in Pandas.\n",
    "\n",
    "![image.png](attachment:image.png)\n",
    "\n",
    "**Top 3 Methods to Rename Column Names in Pandas**\n",
    "\n",
    "- **Method 1:-** Use the Pandas dataframe rename() function to modify specific column names.\n",
    "<br>\n",
    "- **Method 2:-** Use the Pandas dataframe set_axis() method to change all your column names.\n",
    "<br>\n",
    "\n",
    "- **Method 3:-** Set the dataframe’s columns attribute to your new list of column names."
   ]
  },
  {
   "cell_type": "markdown",
   "id": "132de4cc",
   "metadata": {},
   "source": [
    "###### Method 1: Use Pandas rename() function to rename columns"
   ]
  },
  {
   "cell_type": "markdown",
   "id": "81306673",
   "metadata": {},
   "source": [
    "- The Pandas dataframe rename() function is a quite versatile function\n",
    "  used not only to rename column names but also row indices.\n",
    "<br>\n",
    "- We can use this function to rename specific columns. \n",
    "<br>\n",
    "- Note that we can also rename a single column or multiple columns. \n",
    "<br>\n",
    "- The following is the syntax to change column names using the Pandas rename() function.\n",
    "\n",
    "  **df.rename(columns={\"OldName\":\"NewName\"})** <br>\n",
    "\n",
    "- The rename() function returns a new dataframe with \n",
    "  renamed axis labels (i.e. the renamed columns or rows depending on usage).\n",
    "<br>\n",
    "\n",
    "- To modify the dataframe in place set the argument inplace to True."
   ]
  },
  {
   "cell_type": "markdown",
   "id": "902e5ce0",
   "metadata": {},
   "source": [
    "**Example :- Change the name of a specific column**"
   ]
  },
  {
   "cell_type": "code",
   "execution_count": 107,
   "id": "7f9a4eed",
   "metadata": {},
   "outputs": [
    {
     "data": {
      "text/html": [
       "<div>\n",
       "<style scoped>\n",
       "    .dataframe tbody tr th:only-of-type {\n",
       "        vertical-align: middle;\n",
       "    }\n",
       "\n",
       "    .dataframe tbody tr th {\n",
       "        vertical-align: top;\n",
       "    }\n",
       "\n",
       "    .dataframe thead th {\n",
       "        text-align: right;\n",
       "    }\n",
       "</style>\n",
       "<table border=\"1\" class=\"dataframe\">\n",
       "  <thead>\n",
       "    <tr style=\"text-align: right;\">\n",
       "      <th></th>\n",
       "      <th>Category</th>\n",
       "      <th>Color</th>\n",
       "    </tr>\n",
       "  </thead>\n",
       "  <tbody>\n",
       "    <tr>\n",
       "      <th>0</th>\n",
       "      <td>Dog</td>\n",
       "      <td>brown</td>\n",
       "    </tr>\n",
       "    <tr>\n",
       "      <th>1</th>\n",
       "      <td>Cat</td>\n",
       "      <td>black</td>\n",
       "    </tr>\n",
       "    <tr>\n",
       "      <th>2</th>\n",
       "      <td>Rabbit</td>\n",
       "      <td>white</td>\n",
       "    </tr>\n",
       "    <tr>\n",
       "      <th>3</th>\n",
       "      <td>Parrot</td>\n",
       "      <td>green</td>\n",
       "    </tr>\n",
       "  </tbody>\n",
       "</table>\n",
       "</div>"
      ],
      "text/plain": [
       "  Category  Color\n",
       "0      Dog  brown\n",
       "1      Cat  black\n",
       "2   Rabbit  white\n",
       "3   Parrot  green"
      ]
     },
     "execution_count": 107,
     "metadata": {},
     "output_type": "execute_result"
    }
   ],
   "source": [
    "# Here, we will create a dataframe storing the category and color information \n",
    "# of some pets in the columns “Category” and “Color” respectively.\n",
    "\n",
    "import pandas as pd\n",
    "\n",
    "# data of pets\n",
    "data = {'Category': ['Dog', 'Cat', 'Rabbit', 'Parrot'],\n",
    "       'Color': ['brown', 'black', 'white', 'green']}\n",
    "\n",
    "df = pd.DataFrame(data)\n",
    "\n",
    "df # display the dataframe"
   ]
  },
  {
   "cell_type": "code",
   "execution_count": 108,
   "id": "19caab41",
   "metadata": {},
   "outputs": [
    {
     "data": {
      "text/html": [
       "<div>\n",
       "<style scoped>\n",
       "    .dataframe tbody tr th:only-of-type {\n",
       "        vertical-align: middle;\n",
       "    }\n",
       "\n",
       "    .dataframe tbody tr th {\n",
       "        vertical-align: top;\n",
       "    }\n",
       "\n",
       "    .dataframe thead th {\n",
       "        text-align: right;\n",
       "    }\n",
       "</style>\n",
       "<table border=\"1\" class=\"dataframe\">\n",
       "  <thead>\n",
       "    <tr style=\"text-align: right;\">\n",
       "      <th></th>\n",
       "      <th>Pet</th>\n",
       "      <th>Color</th>\n",
       "    </tr>\n",
       "  </thead>\n",
       "  <tbody>\n",
       "    <tr>\n",
       "      <th>0</th>\n",
       "      <td>Dog</td>\n",
       "      <td>brown</td>\n",
       "    </tr>\n",
       "    <tr>\n",
       "      <th>1</th>\n",
       "      <td>Cat</td>\n",
       "      <td>black</td>\n",
       "    </tr>\n",
       "    <tr>\n",
       "      <th>2</th>\n",
       "      <td>Rabbit</td>\n",
       "      <td>white</td>\n",
       "    </tr>\n",
       "    <tr>\n",
       "      <th>3</th>\n",
       "      <td>Parrot</td>\n",
       "      <td>green</td>\n",
       "    </tr>\n",
       "  </tbody>\n",
       "</table>\n",
       "</div>"
      ],
      "text/plain": [
       "      Pet  Color\n",
       "0     Dog  brown\n",
       "1     Cat  black\n",
       "2  Rabbit  white\n",
       "3  Parrot  green"
      ]
     },
     "execution_count": 108,
     "metadata": {},
     "output_type": "execute_result"
    }
   ],
   "source": [
    "# change column name \"Category\" to \"Pet\"\n",
    "\n",
    "df = df.rename(columns={\"Category\":\"Pet\"})\n",
    "\n",
    "df  # display the dataframe"
   ]
  },
  {
   "cell_type": "markdown",
   "id": "5a655f68",
   "metadata": {},
   "source": [
    "###### Method 2: Use Pandas set_axis() function to rename column names"
   ]
  },
  {
   "cell_type": "markdown",
   "id": "eea258da",
   "metadata": {},
   "source": [
    "- The Pandas dataframe set_axis() method can be used to rename a dataframe’s columns\n",
    "  by passing a list of all columns with their new names.\n",
    "<br>\n",
    "- Note that the length of this list must be equal to the number of columns in the dataframe. \n",
    "<br>\n",
    "- The following is the syntax: **df.set_axis(new_column_list, axis=1)**\n",
    "<br>\n",
    "- We have to explicitly specify the axis as 1 or 'columns' to update column names \n",
    "  since its default is 0 (which modifies the axis for rows).\n",
    "<br>\n",
    "\n",
    "- It returns a new dataframe with the updated axis. \n",
    "  To modify the dataframe in place, set the argument inplace to True."
   ]
  },
  {
   "cell_type": "markdown",
   "id": "4bdbd168",
   "metadata": {},
   "source": [
    "**Example :- Change the name of a column using set_axis()**"
   ]
  },
  {
   "cell_type": "code",
   "execution_count": 111,
   "id": "07253aa8",
   "metadata": {
    "collapsed": true
   },
   "outputs": [
    {
     "name": "stdout",
     "output_type": "stream",
     "text": [
      "Dataframe columns: Index(['Category', 'Color'], dtype='object')\n"
     ]
    },
    {
     "data": {
      "text/html": [
       "<div>\n",
       "<style scoped>\n",
       "    .dataframe tbody tr th:only-of-type {\n",
       "        vertical-align: middle;\n",
       "    }\n",
       "\n",
       "    .dataframe tbody tr th {\n",
       "        vertical-align: top;\n",
       "    }\n",
       "\n",
       "    .dataframe thead th {\n",
       "        text-align: right;\n",
       "    }\n",
       "</style>\n",
       "<table border=\"1\" class=\"dataframe\">\n",
       "  <thead>\n",
       "    <tr style=\"text-align: right;\">\n",
       "      <th></th>\n",
       "      <th>Category</th>\n",
       "      <th>Color</th>\n",
       "    </tr>\n",
       "  </thead>\n",
       "  <tbody>\n",
       "    <tr>\n",
       "      <th>0</th>\n",
       "      <td>Dog</td>\n",
       "      <td>brown</td>\n",
       "    </tr>\n",
       "    <tr>\n",
       "      <th>1</th>\n",
       "      <td>Cat</td>\n",
       "      <td>black</td>\n",
       "    </tr>\n",
       "    <tr>\n",
       "      <th>2</th>\n",
       "      <td>Rabbit</td>\n",
       "      <td>white</td>\n",
       "    </tr>\n",
       "    <tr>\n",
       "      <th>3</th>\n",
       "      <td>Parrot</td>\n",
       "      <td>green</td>\n",
       "    </tr>\n",
       "  </tbody>\n",
       "</table>\n",
       "</div>"
      ],
      "text/plain": [
       "  Category  Color\n",
       "0      Dog  brown\n",
       "1      Cat  black\n",
       "2   Rabbit  white\n",
       "3   Parrot  green"
      ]
     },
     "execution_count": 111,
     "metadata": {},
     "output_type": "execute_result"
    }
   ],
   "source": [
    "# We’ll take the same use case as above, and change the column name “Category” to “Pet” \n",
    "# in a dataframe but this time we will be using the set_axis() method.\n",
    "\n",
    "import pandas as pd\n",
    "\n",
    "# data of pets\n",
    "data = {'Category': ['Dog', 'Cat', 'Rabbit', 'Parrot'],\n",
    "       'Color': ['brown', 'black', 'white', 'green']}\n",
    "\n",
    "df = pd.DataFrame(data) # create pandas dataframe\n",
    "\n",
    "print(\"Dataframe columns:\", df.columns) # print dataframe columns\n",
    "\n",
    "df"
   ]
  },
  {
   "cell_type": "code",
   "execution_count": 110,
   "id": "8f2651b6",
   "metadata": {
    "collapsed": true
   },
   "outputs": [
    {
     "name": "stdout",
     "output_type": "stream",
     "text": [
      "Dataframe columns: Index(['Pet', 'Color'], dtype='object')\n"
     ]
    },
    {
     "data": {
      "text/html": [
       "<div>\n",
       "<style scoped>\n",
       "    .dataframe tbody tr th:only-of-type {\n",
       "        vertical-align: middle;\n",
       "    }\n",
       "\n",
       "    .dataframe tbody tr th {\n",
       "        vertical-align: top;\n",
       "    }\n",
       "\n",
       "    .dataframe thead th {\n",
       "        text-align: right;\n",
       "    }\n",
       "</style>\n",
       "<table border=\"1\" class=\"dataframe\">\n",
       "  <thead>\n",
       "    <tr style=\"text-align: right;\">\n",
       "      <th></th>\n",
       "      <th>Pet</th>\n",
       "      <th>Color</th>\n",
       "    </tr>\n",
       "  </thead>\n",
       "  <tbody>\n",
       "    <tr>\n",
       "      <th>0</th>\n",
       "      <td>Dog</td>\n",
       "      <td>brown</td>\n",
       "    </tr>\n",
       "    <tr>\n",
       "      <th>1</th>\n",
       "      <td>Cat</td>\n",
       "      <td>black</td>\n",
       "    </tr>\n",
       "    <tr>\n",
       "      <th>2</th>\n",
       "      <td>Rabbit</td>\n",
       "      <td>white</td>\n",
       "    </tr>\n",
       "    <tr>\n",
       "      <th>3</th>\n",
       "      <td>Parrot</td>\n",
       "      <td>green</td>\n",
       "    </tr>\n",
       "  </tbody>\n",
       "</table>\n",
       "</div>"
      ],
      "text/plain": [
       "      Pet  Color\n",
       "0     Dog  brown\n",
       "1     Cat  black\n",
       "2  Rabbit  white\n",
       "3  Parrot  green"
      ]
     },
     "execution_count": 110,
     "metadata": {},
     "output_type": "execute_result"
    }
   ],
   "source": [
    "# change column name Category to Pet\n",
    "\n",
    "df = df.set_axis([\"Pet\", \"Color\"], axis=1)\n",
    "\n",
    "print(\"Dataframe columns:\", df.columns) # print dataframe columns\n",
    "\n",
    "df\n",
    "\n",
    "# In the above example, the set_axis() function is used to rename the column Category to Pet in the dataframe df. \n",
    "\n",
    "# Note that we had to provide the list of all the columns for the dataframe\n",
    "# even if we had to change just one column name."
   ]
  },
  {
   "cell_type": "markdown",
   "id": "62b0f7e0",
   "metadata": {},
   "source": [
    "###### Method 3: Rename columns in Pandas by changing its attribute"
   ]
  },
  {
   "cell_type": "markdown",
   "id": "d08bd892",
   "metadata": {},
   "source": [
    "- We can also update a dataframe’s column by setting its columns attribute to your new list of columns.\n",
    "<br>\n",
    "- The following is the syntax:- **df.columns = new_column_list**\n",
    "<br>\n",
    "\n",
    "- Note that new_column_list must be of the same length as the number of columns in our dataframe."
   ]
  },
  {
   "cell_type": "markdown",
   "id": "c38e302e",
   "metadata": {},
   "source": [
    "Example: Update columns attribute to change column names"
   ]
  },
  {
   "cell_type": "code",
   "execution_count": 112,
   "id": "d7394191",
   "metadata": {},
   "outputs": [
    {
     "name": "stdout",
     "output_type": "stream",
     "text": [
      "Dataframe columns: Index(['Category', 'Color'], dtype='object')\n"
     ]
    }
   ],
   "source": [
    "# Create a dataframe with “Category” ad “Color” columns and \n",
    "# then change the column name “Category” to “Pet”, but this time we’ll do it by updating the columns attribute.\n",
    "\n",
    "import pandas as pd\n",
    "\n",
    "# data of pets\n",
    "data = {'Category': ['Dog', 'Cat', 'Rabbit', 'Parrot'],\n",
    "       'Color': ['brown', 'black', 'white', 'green']}\n",
    "\n",
    "df = pd.DataFrame(data) # create pandas dataframe\n",
    "\n",
    "print(\"Dataframe columns:\", df.columns) # print dataframe columns"
   ]
  },
  {
   "cell_type": "code",
   "execution_count": 113,
   "id": "e5554f82",
   "metadata": {},
   "outputs": [
    {
     "name": "stdout",
     "output_type": "stream",
     "text": [
      "Dataframe columns: Index(['Pet', 'Color'], dtype='object')\n"
     ]
    }
   ],
   "source": [
    "df.columns = [\"Pet\", \"Color\"]  # change column name Category to Pet\n",
    "\n",
    "print(\"Dataframe columns:\", df.columns)\n",
    "\n",
    "# In the above example, we change the column names of the dataframe df by setting df.columns to a new column list. \n",
    "# Like the set_index() function, we had to provide the list of all the columns for the dataframe\n",
    "# even if we had to change just one column name."
   ]
  },
  {
   "cell_type": "markdown",
   "id": "592a0e0d",
   "metadata": {},
   "source": [
    "###### 11. Drop one or more Columns"
   ]
  },
  {
   "cell_type": "markdown",
   "id": "a381ac8b",
   "metadata": {},
   "source": [
    "- Pandas dataframes are quite powerful for manipulating data.\n",
    "  Often while working with data particularly during EDA (Exploratory Data Analysis) and data preprocessing,\n",
    "  We may require to remove one or more columns. \n",
    "<br>\n",
    "- To drop columns from a pandas dataframe, we can use the pandas dataframe drop() function with axis set to 1 \n",
    "  to remove one or more columns from a dataframe. \n",
    "<br>\n",
    "- The following is the syntax: **df.drop(cols_to_drop, axis=1)**\n",
    "<br>  \n",
    "- Here, cols_to_drop the is index or column labels to drop,\n",
    "  if more than one columns are to be dropped it should be a list. \n",
    "<br>\n",
    "- The axis represents the axis to remove the labels from,\n",
    "  it defaults to 0 but if you want to drop columns pass the axis as 1 (i.e. 0 for rows and 1 for columns).\n",
    "<br>\n",
    "- Also note that the drop() function does not modify the dataframe in-place by default. \n",
    "  It returns a copy of the dataframe with the labels dropped.\n",
    "<br>\n",
    "\n",
    "- If you want to modify the dataframe in-place pass the argument inplace=True to the function."
   ]
  },
  {
   "cell_type": "markdown",
   "id": "4f69769b",
   "metadata": {},
   "source": [
    "**Example 1:- Drop a single column by name**"
   ]
  },
  {
   "cell_type": "code",
   "execution_count": 117,
   "id": "5f283d61",
   "metadata": {
    "collapsed": true
   },
   "outputs": [
    {
     "name": "stdout",
     "output_type": "stream",
     "text": [
      "Original Dataframe:\n",
      "\n"
     ]
    },
    {
     "data": {
      "text/html": [
       "<div>\n",
       "<style scoped>\n",
       "    .dataframe tbody tr th:only-of-type {\n",
       "        vertical-align: middle;\n",
       "    }\n",
       "\n",
       "    .dataframe tbody tr th {\n",
       "        vertical-align: top;\n",
       "    }\n",
       "\n",
       "    .dataframe thead th {\n",
       "        text-align: right;\n",
       "    }\n",
       "</style>\n",
       "<table border=\"1\" class=\"dataframe\">\n",
       "  <thead>\n",
       "    <tr style=\"text-align: right;\">\n",
       "      <th></th>\n",
       "      <th>A</th>\n",
       "      <th>B</th>\n",
       "      <th>C</th>\n",
       "      <th>D</th>\n",
       "    </tr>\n",
       "  </thead>\n",
       "  <tbody>\n",
       "    <tr>\n",
       "      <th>0</th>\n",
       "      <td>a1</td>\n",
       "      <td>b1</td>\n",
       "      <td>c1</td>\n",
       "      <td>d1</td>\n",
       "    </tr>\n",
       "    <tr>\n",
       "      <th>1</th>\n",
       "      <td>a2</td>\n",
       "      <td>b2</td>\n",
       "      <td>c2</td>\n",
       "      <td>d2</td>\n",
       "    </tr>\n",
       "    <tr>\n",
       "      <th>2</th>\n",
       "      <td>a3</td>\n",
       "      <td>b3</td>\n",
       "      <td>c3</td>\n",
       "      <td>d3</td>\n",
       "    </tr>\n",
       "  </tbody>\n",
       "</table>\n",
       "</div>"
      ],
      "text/plain": [
       "    A   B   C   D\n",
       "0  a1  b1  c1  d1\n",
       "1  a2  b2  c2  d2\n",
       "2  a3  b3  c3  d3"
      ]
     },
     "execution_count": 117,
     "metadata": {},
     "output_type": "execute_result"
    }
   ],
   "source": [
    "import pandas as pd\n",
    "\n",
    "# create a sample dataframe\n",
    "data = {\n",
    "    'A': ['a1', 'a2', 'a3'],\n",
    "    'B': ['b1', 'b2', 'b3'],\n",
    "    'C': ['c1', 'c2', 'c3'],\n",
    "    'D': ['d1', 'd2', 'd3']\n",
    "}\n",
    "\n",
    "df = pd.DataFrame(data)\n",
    "\n",
    "\n",
    "print(\"Original Dataframe:\\n\")\n",
    "\n",
    "df"
   ]
  },
  {
   "cell_type": "code",
   "execution_count": 118,
   "id": "9867c2c5",
   "metadata": {
    "collapsed": true
   },
   "outputs": [
    {
     "name": "stdout",
     "output_type": "stream",
     "text": [
      "After dropping C:-\n"
     ]
    },
    {
     "data": {
      "text/html": [
       "<div>\n",
       "<style scoped>\n",
       "    .dataframe tbody tr th:only-of-type {\n",
       "        vertical-align: middle;\n",
       "    }\n",
       "\n",
       "    .dataframe tbody tr th {\n",
       "        vertical-align: top;\n",
       "    }\n",
       "\n",
       "    .dataframe thead th {\n",
       "        text-align: right;\n",
       "    }\n",
       "</style>\n",
       "<table border=\"1\" class=\"dataframe\">\n",
       "  <thead>\n",
       "    <tr style=\"text-align: right;\">\n",
       "      <th></th>\n",
       "      <th>A</th>\n",
       "      <th>B</th>\n",
       "      <th>D</th>\n",
       "    </tr>\n",
       "  </thead>\n",
       "  <tbody>\n",
       "    <tr>\n",
       "      <th>0</th>\n",
       "      <td>a1</td>\n",
       "      <td>b1</td>\n",
       "      <td>d1</td>\n",
       "    </tr>\n",
       "    <tr>\n",
       "      <th>1</th>\n",
       "      <td>a2</td>\n",
       "      <td>b2</td>\n",
       "      <td>d2</td>\n",
       "    </tr>\n",
       "    <tr>\n",
       "      <th>2</th>\n",
       "      <td>a3</td>\n",
       "      <td>b3</td>\n",
       "      <td>d3</td>\n",
       "    </tr>\n",
       "  </tbody>\n",
       "</table>\n",
       "</div>"
      ],
      "text/plain": [
       "    A   B   D\n",
       "0  a1  b1  d1\n",
       "1  a2  b2  d2\n",
       "2  a3  b3  d3"
      ]
     },
     "execution_count": 118,
     "metadata": {},
     "output_type": "execute_result"
    }
   ],
   "source": [
    "# remove column C\n",
    "\n",
    "df = df.drop('C', axis=1)\n",
    "\n",
    "print(\"After dropping C:-\")\n",
    "\n",
    "df\n",
    "\n",
    "# In the above example, a sample dataframe df is created with four columns A, B, C, and D. \n",
    "\n",
    "# Then, the column C is dropped using the drop() function. \n",
    "\n",
    "# Notice that since we had to drop just a single column we didn’t need to pass a list."
   ]
  },
  {
   "cell_type": "markdown",
   "id": "a8283657",
   "metadata": {},
   "source": [
    "**Example 2: Drop multiple columns by name**"
   ]
  },
  {
   "cell_type": "code",
   "execution_count": 119,
   "id": "d62aef5d",
   "metadata": {},
   "outputs": [
    {
     "name": "stdout",
     "output_type": "stream",
     "text": [
      "Original Dataframe:-\n"
     ]
    },
    {
     "data": {
      "text/html": [
       "<div>\n",
       "<style scoped>\n",
       "    .dataframe tbody tr th:only-of-type {\n",
       "        vertical-align: middle;\n",
       "    }\n",
       "\n",
       "    .dataframe tbody tr th {\n",
       "        vertical-align: top;\n",
       "    }\n",
       "\n",
       "    .dataframe thead th {\n",
       "        text-align: right;\n",
       "    }\n",
       "</style>\n",
       "<table border=\"1\" class=\"dataframe\">\n",
       "  <thead>\n",
       "    <tr style=\"text-align: right;\">\n",
       "      <th></th>\n",
       "      <th>A</th>\n",
       "      <th>B</th>\n",
       "      <th>C</th>\n",
       "      <th>D</th>\n",
       "    </tr>\n",
       "  </thead>\n",
       "  <tbody>\n",
       "    <tr>\n",
       "      <th>0</th>\n",
       "      <td>a1</td>\n",
       "      <td>b1</td>\n",
       "      <td>c1</td>\n",
       "      <td>d1</td>\n",
       "    </tr>\n",
       "    <tr>\n",
       "      <th>1</th>\n",
       "      <td>a2</td>\n",
       "      <td>b2</td>\n",
       "      <td>c2</td>\n",
       "      <td>d2</td>\n",
       "    </tr>\n",
       "    <tr>\n",
       "      <th>2</th>\n",
       "      <td>a3</td>\n",
       "      <td>b3</td>\n",
       "      <td>c3</td>\n",
       "      <td>d3</td>\n",
       "    </tr>\n",
       "  </tbody>\n",
       "</table>\n",
       "</div>"
      ],
      "text/plain": [
       "    A   B   C   D\n",
       "0  a1  b1  c1  d1\n",
       "1  a2  b2  c2  d2\n",
       "2  a3  b3  c3  d3"
      ]
     },
     "execution_count": 119,
     "metadata": {},
     "output_type": "execute_result"
    }
   ],
   "source": [
    "import pandas as pd\n",
    "\n",
    "# create a sample dataframe\n",
    "data = {\n",
    "    'A': ['a1', 'a2', 'a3'],\n",
    "    'B': ['b1', 'b2', 'b3'],\n",
    "    'C': ['c1', 'c2', 'c3'],\n",
    "    'D': ['d1', 'd2', 'd3']\n",
    "}\n",
    "\n",
    "df = pd.DataFrame(data)\n",
    "\n",
    "# print the dataframe\n",
    "\n",
    "print(\"Original Dataframe:-\")\n",
    "\n",
    "df"
   ]
  },
  {
   "cell_type": "code",
   "execution_count": 120,
   "id": "3795d52f",
   "metadata": {},
   "outputs": [
    {
     "name": "stdout",
     "output_type": "stream",
     "text": [
      "After dropping columns C and D:-\n"
     ]
    },
    {
     "data": {
      "text/html": [
       "<div>\n",
       "<style scoped>\n",
       "    .dataframe tbody tr th:only-of-type {\n",
       "        vertical-align: middle;\n",
       "    }\n",
       "\n",
       "    .dataframe tbody tr th {\n",
       "        vertical-align: top;\n",
       "    }\n",
       "\n",
       "    .dataframe thead th {\n",
       "        text-align: right;\n",
       "    }\n",
       "</style>\n",
       "<table border=\"1\" class=\"dataframe\">\n",
       "  <thead>\n",
       "    <tr style=\"text-align: right;\">\n",
       "      <th></th>\n",
       "      <th>A</th>\n",
       "      <th>B</th>\n",
       "    </tr>\n",
       "  </thead>\n",
       "  <tbody>\n",
       "    <tr>\n",
       "      <th>0</th>\n",
       "      <td>a1</td>\n",
       "      <td>b1</td>\n",
       "    </tr>\n",
       "    <tr>\n",
       "      <th>1</th>\n",
       "      <td>a2</td>\n",
       "      <td>b2</td>\n",
       "    </tr>\n",
       "    <tr>\n",
       "      <th>2</th>\n",
       "      <td>a3</td>\n",
       "      <td>b3</td>\n",
       "    </tr>\n",
       "  </tbody>\n",
       "</table>\n",
       "</div>"
      ],
      "text/plain": [
       "    A   B\n",
       "0  a1  b1\n",
       "1  a2  b2\n",
       "2  a3  b3"
      ]
     },
     "execution_count": 120,
     "metadata": {},
     "output_type": "execute_result"
    }
   ],
   "source": [
    "# remove columns C and D\n",
    "\n",
    "df = df.drop(['C', 'D'], axis=1)\n",
    "\n",
    "print(\"After dropping columns C and D:-\")\n",
    "\n",
    "df\n",
    "\n",
    "# In the above example, the columns C and D are dropped from the dataframe df. \n",
    "# Note that we had to provide the list of column names to drop since we were dropping multiple columns together."
   ]
  },
  {
   "cell_type": "markdown",
   "id": "a82f0cf4",
   "metadata": {},
   "source": [
    "**Drop columns by index**"
   ]
  },
  {
   "cell_type": "markdown",
   "id": "c839c3c8",
   "metadata": {},
   "source": [
    "- To drop columns by column number, pass df.columns[i] to the drop() function \n",
    "  where i is the column index of the column you want to drop. \n",
    "<br>\n",
    "\n",
    "- To drop multiple columns by their indices pass df.columns[[i, j, k]]\n",
    "  where i, j, k are the column indices of the columns you want to drop."
   ]
  },
  {
   "cell_type": "markdown",
   "id": "7a7d1e40",
   "metadata": {},
   "source": [
    "**Example 3:- Drop a single column by index**"
   ]
  },
  {
   "cell_type": "code",
   "execution_count": 121,
   "id": "4f81dbcb",
   "metadata": {},
   "outputs": [
    {
     "name": "stdout",
     "output_type": "stream",
     "text": [
      "Original Dataframe:-\n"
     ]
    },
    {
     "data": {
      "text/html": [
       "<div>\n",
       "<style scoped>\n",
       "    .dataframe tbody tr th:only-of-type {\n",
       "        vertical-align: middle;\n",
       "    }\n",
       "\n",
       "    .dataframe tbody tr th {\n",
       "        vertical-align: top;\n",
       "    }\n",
       "\n",
       "    .dataframe thead th {\n",
       "        text-align: right;\n",
       "    }\n",
       "</style>\n",
       "<table border=\"1\" class=\"dataframe\">\n",
       "  <thead>\n",
       "    <tr style=\"text-align: right;\">\n",
       "      <th></th>\n",
       "      <th>A</th>\n",
       "      <th>B</th>\n",
       "      <th>C</th>\n",
       "      <th>D</th>\n",
       "    </tr>\n",
       "  </thead>\n",
       "  <tbody>\n",
       "    <tr>\n",
       "      <th>0</th>\n",
       "      <td>a1</td>\n",
       "      <td>b1</td>\n",
       "      <td>c1</td>\n",
       "      <td>d1</td>\n",
       "    </tr>\n",
       "    <tr>\n",
       "      <th>1</th>\n",
       "      <td>a2</td>\n",
       "      <td>b2</td>\n",
       "      <td>c2</td>\n",
       "      <td>d2</td>\n",
       "    </tr>\n",
       "    <tr>\n",
       "      <th>2</th>\n",
       "      <td>a3</td>\n",
       "      <td>b3</td>\n",
       "      <td>c3</td>\n",
       "      <td>d3</td>\n",
       "    </tr>\n",
       "  </tbody>\n",
       "</table>\n",
       "</div>"
      ],
      "text/plain": [
       "    A   B   C   D\n",
       "0  a1  b1  c1  d1\n",
       "1  a2  b2  c2  d2\n",
       "2  a3  b3  c3  d3"
      ]
     },
     "execution_count": 121,
     "metadata": {},
     "output_type": "execute_result"
    }
   ],
   "source": [
    "import pandas as pd\n",
    "\n",
    "# create a sample dataframe\n",
    "\n",
    "data = {\n",
    "    'A': ['a1', 'a2', 'a3'],\n",
    "    'B': ['b1', 'b2', 'b3'],\n",
    "    'C': ['c1', 'c2', 'c3'],\n",
    "    'D': ['d1', 'd2', 'd3']\n",
    "}\n",
    "\n",
    "df = pd.DataFrame(data)\n",
    "\n",
    "print(\"Original Dataframe:-\")\n",
    "\n",
    "df"
   ]
  },
  {
   "cell_type": "code",
   "execution_count": 122,
   "id": "5d746d80",
   "metadata": {},
   "outputs": [
    {
     "name": "stdout",
     "output_type": "stream",
     "text": [
      "After dropping C:-\n"
     ]
    },
    {
     "data": {
      "text/html": [
       "<div>\n",
       "<style scoped>\n",
       "    .dataframe tbody tr th:only-of-type {\n",
       "        vertical-align: middle;\n",
       "    }\n",
       "\n",
       "    .dataframe tbody tr th {\n",
       "        vertical-align: top;\n",
       "    }\n",
       "\n",
       "    .dataframe thead th {\n",
       "        text-align: right;\n",
       "    }\n",
       "</style>\n",
       "<table border=\"1\" class=\"dataframe\">\n",
       "  <thead>\n",
       "    <tr style=\"text-align: right;\">\n",
       "      <th></th>\n",
       "      <th>A</th>\n",
       "      <th>B</th>\n",
       "      <th>D</th>\n",
       "    </tr>\n",
       "  </thead>\n",
       "  <tbody>\n",
       "    <tr>\n",
       "      <th>0</th>\n",
       "      <td>a1</td>\n",
       "      <td>b1</td>\n",
       "      <td>d1</td>\n",
       "    </tr>\n",
       "    <tr>\n",
       "      <th>1</th>\n",
       "      <td>a2</td>\n",
       "      <td>b2</td>\n",
       "      <td>d2</td>\n",
       "    </tr>\n",
       "    <tr>\n",
       "      <th>2</th>\n",
       "      <td>a3</td>\n",
       "      <td>b3</td>\n",
       "      <td>d3</td>\n",
       "    </tr>\n",
       "  </tbody>\n",
       "</table>\n",
       "</div>"
      ],
      "text/plain": [
       "    A   B   D\n",
       "0  a1  b1  d1\n",
       "1  a2  b2  d2\n",
       "2  a3  b3  d3"
      ]
     },
     "execution_count": 122,
     "metadata": {},
     "output_type": "execute_result"
    }
   ],
   "source": [
    "# remove column by index\n",
    "\n",
    "df = df.drop(df.columns[2], axis=1)\n",
    "\n",
    "print(\"After dropping C:-\")\n",
    "\n",
    "df\n",
    "\n",
    "# In the above example, the column C is dropped using its index 2 from the dataframe df."
   ]
  },
  {
   "cell_type": "markdown",
   "id": "17eaffbe",
   "metadata": {},
   "source": [
    "**Example 4:- Drop multiple columns with their index**"
   ]
  },
  {
   "cell_type": "code",
   "execution_count": 124,
   "id": "f95ae2ad",
   "metadata": {},
   "outputs": [
    {
     "name": "stdout",
     "output_type": "stream",
     "text": [
      "Original Dataframe:-\n"
     ]
    },
    {
     "data": {
      "text/html": [
       "<div>\n",
       "<style scoped>\n",
       "    .dataframe tbody tr th:only-of-type {\n",
       "        vertical-align: middle;\n",
       "    }\n",
       "\n",
       "    .dataframe tbody tr th {\n",
       "        vertical-align: top;\n",
       "    }\n",
       "\n",
       "    .dataframe thead th {\n",
       "        text-align: right;\n",
       "    }\n",
       "</style>\n",
       "<table border=\"1\" class=\"dataframe\">\n",
       "  <thead>\n",
       "    <tr style=\"text-align: right;\">\n",
       "      <th></th>\n",
       "      <th>A</th>\n",
       "      <th>B</th>\n",
       "      <th>C</th>\n",
       "      <th>D</th>\n",
       "    </tr>\n",
       "  </thead>\n",
       "  <tbody>\n",
       "    <tr>\n",
       "      <th>0</th>\n",
       "      <td>a1</td>\n",
       "      <td>b1</td>\n",
       "      <td>c1</td>\n",
       "      <td>d1</td>\n",
       "    </tr>\n",
       "    <tr>\n",
       "      <th>1</th>\n",
       "      <td>a2</td>\n",
       "      <td>b2</td>\n",
       "      <td>c2</td>\n",
       "      <td>d2</td>\n",
       "    </tr>\n",
       "    <tr>\n",
       "      <th>2</th>\n",
       "      <td>a3</td>\n",
       "      <td>b3</td>\n",
       "      <td>c3</td>\n",
       "      <td>d3</td>\n",
       "    </tr>\n",
       "  </tbody>\n",
       "</table>\n",
       "</div>"
      ],
      "text/plain": [
       "    A   B   C   D\n",
       "0  a1  b1  c1  d1\n",
       "1  a2  b2  c2  d2\n",
       "2  a3  b3  c3  d3"
      ]
     },
     "execution_count": 124,
     "metadata": {},
     "output_type": "execute_result"
    }
   ],
   "source": [
    "import pandas as pd\n",
    "\n",
    "data = {\n",
    "    'A': ['a1', 'a2', 'a3'],\n",
    "    'B': ['b1', 'b2', 'b3'],\n",
    "    'C': ['c1', 'c2', 'c3'],\n",
    "    'D': ['d1', 'd2', 'd3']\n",
    "}\n",
    "\n",
    "df = pd.DataFrame(data)\n",
    "\n",
    "print(\"Original Dataframe:-\")\n",
    "\n",
    "df"
   ]
  },
  {
   "cell_type": "code",
   "execution_count": 125,
   "id": "3e005a76",
   "metadata": {},
   "outputs": [
    {
     "name": "stdout",
     "output_type": "stream",
     "text": [
      "After dropping columns C and D:-\n"
     ]
    },
    {
     "data": {
      "text/html": [
       "<div>\n",
       "<style scoped>\n",
       "    .dataframe tbody tr th:only-of-type {\n",
       "        vertical-align: middle;\n",
       "    }\n",
       "\n",
       "    .dataframe tbody tr th {\n",
       "        vertical-align: top;\n",
       "    }\n",
       "\n",
       "    .dataframe thead th {\n",
       "        text-align: right;\n",
       "    }\n",
       "</style>\n",
       "<table border=\"1\" class=\"dataframe\">\n",
       "  <thead>\n",
       "    <tr style=\"text-align: right;\">\n",
       "      <th></th>\n",
       "      <th>A</th>\n",
       "      <th>B</th>\n",
       "    </tr>\n",
       "  </thead>\n",
       "  <tbody>\n",
       "    <tr>\n",
       "      <th>0</th>\n",
       "      <td>a1</td>\n",
       "      <td>b1</td>\n",
       "    </tr>\n",
       "    <tr>\n",
       "      <th>1</th>\n",
       "      <td>a2</td>\n",
       "      <td>b2</td>\n",
       "    </tr>\n",
       "    <tr>\n",
       "      <th>2</th>\n",
       "      <td>a3</td>\n",
       "      <td>b3</td>\n",
       "    </tr>\n",
       "  </tbody>\n",
       "</table>\n",
       "</div>"
      ],
      "text/plain": [
       "    A   B\n",
       "0  a1  b1\n",
       "1  a2  b2\n",
       "2  a3  b3"
      ]
     },
     "execution_count": 125,
     "metadata": {},
     "output_type": "execute_result"
    }
   ],
   "source": [
    "# remove columns C and D\n",
    "\n",
    "df = df.drop(df.columns[[2, 3]], axis=1)\n",
    "\n",
    "print(\"After dropping columns C and D:-\")\n",
    "\n",
    "df\n",
    "\n",
    "# In the above example, columns with index 2 and 3 are dropped from the dataframe df."
   ]
  },
  {
   "cell_type": "markdown",
   "id": "74780829",
   "metadata": {},
   "source": [
    "#### 12. Reset Index "
   ]
  },
  {
   "attachments": {
    "image.png": {
     "image/png": "[encoded data removed]"
    }
   },
   "cell_type": "markdown",
   "id": "79ef24da",
   "metadata": {},
   "source": [
    "- Pandas dataframes are quite powerful for manipulating data.<br>\n",
    "  Often we may require to re-index our dataframe to the default index.\n",
    "\n",
    " **Why reset the index of a dataframe?**\n",
    " - As we apply common operations such as filtering, removing NaNs, etc,<br>\n",
    "   it may happen that you end up with possibly a smaller dataframe whose indices are not continuous.\n",
    "\n",
    "![image.png](attachment:image.png)\n",
    "\n",
    "- Having a dataframe with non-continuous indices may not be an issue by itself<br>\n",
    "  but performing operations on such dataframes along with dataframes with continuous or<br>\n",
    "  a different index scheme could give some unintended results.\n",
    "\n",
    " **syntax:-** df.reset_index()\n",
    "\n",
    "- The above function returns a copy of your dataframe with its old index \n",
    "  as a new column and having a continuous integer index from 0.\n",
    "<br>\n",
    "- **Pass drop=True** to the above function if you don’t want the old index as a new column in your dataframe.\n",
    "<br>\n",
    "\n",
    "- **Pass inplace=True** if you want to modify the dataframe in-place."
   ]
  },
  {
   "cell_type": "markdown",
   "id": "522177c1",
   "metadata": {},
   "source": [
    "**Example 1: reset_index() with default parameters**"
   ]
  },
  {
   "cell_type": "code",
   "execution_count": 127,
   "id": "8190b635",
   "metadata": {},
   "outputs": [
    {
     "name": "stdout",
     "output_type": "stream",
     "text": [
      "Before reset index:-\n"
     ]
    },
    {
     "data": {
      "text/html": [
       "<div>\n",
       "<style scoped>\n",
       "    .dataframe tbody tr th:only-of-type {\n",
       "        vertical-align: middle;\n",
       "    }\n",
       "\n",
       "    .dataframe tbody tr th {\n",
       "        vertical-align: top;\n",
       "    }\n",
       "\n",
       "    .dataframe thead th {\n",
       "        text-align: right;\n",
       "    }\n",
       "</style>\n",
       "<table border=\"1\" class=\"dataframe\">\n",
       "  <thead>\n",
       "    <tr style=\"text-align: right;\">\n",
       "      <th></th>\n",
       "      <th>Name</th>\n",
       "      <th>Age</th>\n",
       "      <th>Country</th>\n",
       "      <th>Language</th>\n",
       "    </tr>\n",
       "  </thead>\n",
       "  <tbody>\n",
       "    <tr>\n",
       "      <th>1</th>\n",
       "      <td>Sam</td>\n",
       "      <td>14</td>\n",
       "      <td>UK</td>\n",
       "      <td>English</td>\n",
       "    </tr>\n",
       "    <tr>\n",
       "      <th>3</th>\n",
       "      <td>Tim</td>\n",
       "      <td>21</td>\n",
       "      <td>India</td>\n",
       "      <td>Hindi</td>\n",
       "    </tr>\n",
       "    <tr>\n",
       "      <th>5</th>\n",
       "      <td>Rahul</td>\n",
       "      <td>16</td>\n",
       "      <td>USA</td>\n",
       "      <td>English</td>\n",
       "    </tr>\n",
       "    <tr>\n",
       "      <th>7</th>\n",
       "      <td>Emma</td>\n",
       "      <td>18</td>\n",
       "      <td>Germany</td>\n",
       "      <td>German</td>\n",
       "    </tr>\n",
       "    <tr>\n",
       "      <th>9</th>\n",
       "      <td>Kyle</td>\n",
       "      <td>23</td>\n",
       "      <td>France</td>\n",
       "      <td>French</td>\n",
       "    </tr>\n",
       "  </tbody>\n",
       "</table>\n",
       "</div>"
      ],
      "text/plain": [
       "    Name  Age  Country Language\n",
       "1    Sam   14       UK  English\n",
       "3    Tim   21    India    Hindi\n",
       "5  Rahul   16      USA  English\n",
       "7   Emma   18  Germany   German\n",
       "9   Kyle   23   France   French"
      ]
     },
     "execution_count": 127,
     "metadata": {},
     "output_type": "execute_result"
    }
   ],
   "source": [
    "import pandas as pd\n",
    "\n",
    "data = {\n",
    "    'Name': ['Sam', 'Tim', 'Rahul', 'Emma', 'Kyle'],\n",
    "    'Age': [14, 21, 16, 18, 23],\n",
    "    'Country': ['UK', 'India', 'USA', 'Germany', 'France'],\n",
    "    'Language': ['English', 'Hindi', 'English', 'German', 'French']\n",
    "}\n",
    "\n",
    "df = pd.DataFrame(data, index=[1,3,5,7,9])\n",
    "\n",
    "print(\"Before reset index:-\")\n",
    "\n",
    "df"
   ]
  },
  {
   "cell_type": "code",
   "execution_count": 128,
   "id": "24ac4e03",
   "metadata": {},
   "outputs": [
    {
     "name": "stdout",
     "output_type": "stream",
     "text": [
      "After reset index:-\n"
     ]
    },
    {
     "data": {
      "text/html": [
       "<div>\n",
       "<style scoped>\n",
       "    .dataframe tbody tr th:only-of-type {\n",
       "        vertical-align: middle;\n",
       "    }\n",
       "\n",
       "    .dataframe tbody tr th {\n",
       "        vertical-align: top;\n",
       "    }\n",
       "\n",
       "    .dataframe thead th {\n",
       "        text-align: right;\n",
       "    }\n",
       "</style>\n",
       "<table border=\"1\" class=\"dataframe\">\n",
       "  <thead>\n",
       "    <tr style=\"text-align: right;\">\n",
       "      <th></th>\n",
       "      <th>index</th>\n",
       "      <th>Name</th>\n",
       "      <th>Age</th>\n",
       "      <th>Country</th>\n",
       "      <th>Language</th>\n",
       "    </tr>\n",
       "  </thead>\n",
       "  <tbody>\n",
       "    <tr>\n",
       "      <th>0</th>\n",
       "      <td>1</td>\n",
       "      <td>Sam</td>\n",
       "      <td>14</td>\n",
       "      <td>UK</td>\n",
       "      <td>English</td>\n",
       "    </tr>\n",
       "    <tr>\n",
       "      <th>1</th>\n",
       "      <td>3</td>\n",
       "      <td>Tim</td>\n",
       "      <td>21</td>\n",
       "      <td>India</td>\n",
       "      <td>Hindi</td>\n",
       "    </tr>\n",
       "    <tr>\n",
       "      <th>2</th>\n",
       "      <td>5</td>\n",
       "      <td>Rahul</td>\n",
       "      <td>16</td>\n",
       "      <td>USA</td>\n",
       "      <td>English</td>\n",
       "    </tr>\n",
       "    <tr>\n",
       "      <th>3</th>\n",
       "      <td>7</td>\n",
       "      <td>Emma</td>\n",
       "      <td>18</td>\n",
       "      <td>Germany</td>\n",
       "      <td>German</td>\n",
       "    </tr>\n",
       "    <tr>\n",
       "      <th>4</th>\n",
       "      <td>9</td>\n",
       "      <td>Kyle</td>\n",
       "      <td>23</td>\n",
       "      <td>France</td>\n",
       "      <td>French</td>\n",
       "    </tr>\n",
       "  </tbody>\n",
       "</table>\n",
       "</div>"
      ],
      "text/plain": [
       "   index   Name  Age  Country Language\n",
       "0      1    Sam   14       UK  English\n",
       "1      3    Tim   21    India    Hindi\n",
       "2      5  Rahul   16      USA  English\n",
       "3      7   Emma   18  Germany   German\n",
       "4      9   Kyle   23   France   French"
      ]
     },
     "execution_count": 128,
     "metadata": {},
     "output_type": "execute_result"
    }
   ],
   "source": [
    "# reset the index with default parameters\n",
    "\n",
    "df = df.reset_index()\n",
    "\n",
    "print(\"After reset index:-\")\n",
    "\n",
    "df\n",
    "\n",
    "# In the above example, we reset the index of the dataframe df using reset_index() with default parameters.\n",
    "# We can see that a new column by the name index has been created storing the values of the old index \n",
    "# and the dataframe’s index is reset to continuous integers from 0."
   ]
  },
  {
   "cell_type": "markdown",
   "id": "eec7cb59",
   "metadata": {},
   "source": [
    "**Example 2: With drop=True parameter**"
   ]
  },
  {
   "cell_type": "code",
   "execution_count": 130,
   "id": "566534ec",
   "metadata": {},
   "outputs": [
    {
     "name": "stdout",
     "output_type": "stream",
     "text": [
      "Before reset index:-\n"
     ]
    },
    {
     "data": {
      "text/html": [
       "<div>\n",
       "<style scoped>\n",
       "    .dataframe tbody tr th:only-of-type {\n",
       "        vertical-align: middle;\n",
       "    }\n",
       "\n",
       "    .dataframe tbody tr th {\n",
       "        vertical-align: top;\n",
       "    }\n",
       "\n",
       "    .dataframe thead th {\n",
       "        text-align: right;\n",
       "    }\n",
       "</style>\n",
       "<table border=\"1\" class=\"dataframe\">\n",
       "  <thead>\n",
       "    <tr style=\"text-align: right;\">\n",
       "      <th></th>\n",
       "      <th>Name</th>\n",
       "      <th>Age</th>\n",
       "      <th>Country</th>\n",
       "      <th>Language</th>\n",
       "    </tr>\n",
       "  </thead>\n",
       "  <tbody>\n",
       "    <tr>\n",
       "      <th>1</th>\n",
       "      <td>Sam</td>\n",
       "      <td>14</td>\n",
       "      <td>UK</td>\n",
       "      <td>English</td>\n",
       "    </tr>\n",
       "    <tr>\n",
       "      <th>3</th>\n",
       "      <td>Tim</td>\n",
       "      <td>21</td>\n",
       "      <td>India</td>\n",
       "      <td>Hindi</td>\n",
       "    </tr>\n",
       "    <tr>\n",
       "      <th>5</th>\n",
       "      <td>Rahul</td>\n",
       "      <td>16</td>\n",
       "      <td>USA</td>\n",
       "      <td>English</td>\n",
       "    </tr>\n",
       "    <tr>\n",
       "      <th>7</th>\n",
       "      <td>Emma</td>\n",
       "      <td>18</td>\n",
       "      <td>Germany</td>\n",
       "      <td>German</td>\n",
       "    </tr>\n",
       "    <tr>\n",
       "      <th>9</th>\n",
       "      <td>Kyle</td>\n",
       "      <td>23</td>\n",
       "      <td>France</td>\n",
       "      <td>French</td>\n",
       "    </tr>\n",
       "  </tbody>\n",
       "</table>\n",
       "</div>"
      ],
      "text/plain": [
       "    Name  Age  Country Language\n",
       "1    Sam   14       UK  English\n",
       "3    Tim   21    India    Hindi\n",
       "5  Rahul   16      USA  English\n",
       "7   Emma   18  Germany   German\n",
       "9   Kyle   23   France   French"
      ]
     },
     "execution_count": 130,
     "metadata": {},
     "output_type": "execute_result"
    }
   ],
   "source": [
    "import pandas as pd\n",
    "\n",
    "data = {\n",
    "    'Name': ['Sam', 'Tim', 'Rahul', 'Emma', 'Kyle'],\n",
    "    'Age': [14, 21, 16, 18, 23],\n",
    "    'Country': ['UK', 'India', 'USA', 'Germany', 'France'],\n",
    "    'Language': ['English', 'Hindi', 'English', 'German', 'French']\n",
    "}\n",
    "\n",
    "df = pd.DataFrame(data, index=[1,3,5,7,9])\n",
    "\n",
    "print(\"Before reset index:-\")\n",
    "\n",
    "df"
   ]
  },
  {
   "cell_type": "code",
   "execution_count": 131,
   "id": "14dfca05",
   "metadata": {},
   "outputs": [
    {
     "name": "stdout",
     "output_type": "stream",
     "text": [
      "After reset index:-\n"
     ]
    },
    {
     "data": {
      "text/html": [
       "<div>\n",
       "<style scoped>\n",
       "    .dataframe tbody tr th:only-of-type {\n",
       "        vertical-align: middle;\n",
       "    }\n",
       "\n",
       "    .dataframe tbody tr th {\n",
       "        vertical-align: top;\n",
       "    }\n",
       "\n",
       "    .dataframe thead th {\n",
       "        text-align: right;\n",
       "    }\n",
       "</style>\n",
       "<table border=\"1\" class=\"dataframe\">\n",
       "  <thead>\n",
       "    <tr style=\"text-align: right;\">\n",
       "      <th></th>\n",
       "      <th>Name</th>\n",
       "      <th>Age</th>\n",
       "      <th>Country</th>\n",
       "      <th>Language</th>\n",
       "    </tr>\n",
       "  </thead>\n",
       "  <tbody>\n",
       "    <tr>\n",
       "      <th>0</th>\n",
       "      <td>Sam</td>\n",
       "      <td>14</td>\n",
       "      <td>UK</td>\n",
       "      <td>English</td>\n",
       "    </tr>\n",
       "    <tr>\n",
       "      <th>1</th>\n",
       "      <td>Tim</td>\n",
       "      <td>21</td>\n",
       "      <td>India</td>\n",
       "      <td>Hindi</td>\n",
       "    </tr>\n",
       "    <tr>\n",
       "      <th>2</th>\n",
       "      <td>Rahul</td>\n",
       "      <td>16</td>\n",
       "      <td>USA</td>\n",
       "      <td>English</td>\n",
       "    </tr>\n",
       "    <tr>\n",
       "      <th>3</th>\n",
       "      <td>Emma</td>\n",
       "      <td>18</td>\n",
       "      <td>Germany</td>\n",
       "      <td>German</td>\n",
       "    </tr>\n",
       "    <tr>\n",
       "      <th>4</th>\n",
       "      <td>Kyle</td>\n",
       "      <td>23</td>\n",
       "      <td>France</td>\n",
       "      <td>French</td>\n",
       "    </tr>\n",
       "  </tbody>\n",
       "</table>\n",
       "</div>"
      ],
      "text/plain": [
       "    Name  Age  Country Language\n",
       "0    Sam   14       UK  English\n",
       "1    Tim   21    India    Hindi\n",
       "2  Rahul   16      USA  English\n",
       "3   Emma   18  Germany   German\n",
       "4   Kyle   23   France   French"
      ]
     },
     "execution_count": 131,
     "metadata": {},
     "output_type": "execute_result"
    }
   ],
   "source": [
    "# reset the index with drop=True\n",
    "\n",
    "df = df.reset_index(drop=True)\n",
    "\n",
    "print(\"After reset index:-\")\n",
    "\n",
    "df\n",
    "\n",
    "# We can see that using the drop=True gave a dataframe without the old index as an additional column."
   ]
  },
  {
   "cell_type": "markdown",
   "id": "3af345e0",
   "metadata": {},
   "source": [
    "#### 13. min()"
   ]
  },
  {
   "cell_type": "markdown",
   "id": "88337e05",
   "metadata": {},
   "source": [
    "- Get min value in one or more columns.\n",
    "<br>\n",
    "- Pandas dataframe.min() function returns the minimum of the values in the given object.\n",
    "<br>\n",
    "- If the input is a series, the method will return a scalar which will be the minimum of the values in the series.\n",
    "<br>\n",
    "- If the input is a dataframe, then the method will return a series with minimum of values\n",
    "  over the specified axis in the dataframe.\n",
    "<br>\n",
    "\n",
    "- By default the axis is the index axis.\n",
    "<br>"
   ]
  },
  {
   "attachments": {
    "image.png": {
     "image/png": "[encoded data removed]"
    }
   },
   "cell_type": "markdown",
   "id": "e39f5420",
   "metadata": {},
   "source": [
    "![image.png](attachment:image.png)"
   ]
  },
  {
   "cell_type": "code",
   "execution_count": 2,
   "id": "7ee3311f",
   "metadata": {},
   "outputs": [
    {
     "data": {
      "text/html": [
       "<div>\n",
       "<style scoped>\n",
       "    .dataframe tbody tr th:only-of-type {\n",
       "        vertical-align: middle;\n",
       "    }\n",
       "\n",
       "    .dataframe tbody tr th {\n",
       "        vertical-align: top;\n",
       "    }\n",
       "\n",
       "    .dataframe thead th {\n",
       "        text-align: right;\n",
       "    }\n",
       "</style>\n",
       "<table border=\"1\" class=\"dataframe\">\n",
       "  <thead>\n",
       "    <tr style=\"text-align: right;\">\n",
       "      <th></th>\n",
       "      <th>Name</th>\n",
       "      <th>Country</th>\n",
       "      <th>Attempt1</th>\n",
       "      <th>Attempt2</th>\n",
       "      <th>Attempt3</th>\n",
       "      <th>Attempt4</th>\n",
       "      <th>Attempt5</th>\n",
       "      <th>Attempt6</th>\n",
       "    </tr>\n",
       "  </thead>\n",
       "  <tbody>\n",
       "    <tr>\n",
       "      <th>0</th>\n",
       "      <td>Neeraj Chopra</td>\n",
       "      <td>India</td>\n",
       "      <td>87.03</td>\n",
       "      <td>87.58</td>\n",
       "      <td>76.79</td>\n",
       "      <td>NaN</td>\n",
       "      <td>NaN</td>\n",
       "      <td>84.24</td>\n",
       "    </tr>\n",
       "    <tr>\n",
       "      <th>1</th>\n",
       "      <td>Jakub Vadlejch</td>\n",
       "      <td>Czech Republic</td>\n",
       "      <td>83.98</td>\n",
       "      <td>NaN</td>\n",
       "      <td>NaN</td>\n",
       "      <td>82.86</td>\n",
       "      <td>86.67</td>\n",
       "      <td>NaN</td>\n",
       "    </tr>\n",
       "    <tr>\n",
       "      <th>2</th>\n",
       "      <td>Vitezslav Vesely</td>\n",
       "      <td>Czech Republic</td>\n",
       "      <td>79.79</td>\n",
       "      <td>80.30</td>\n",
       "      <td>85.44</td>\n",
       "      <td>NaN</td>\n",
       "      <td>84.98</td>\n",
       "      <td>NaN</td>\n",
       "    </tr>\n",
       "    <tr>\n",
       "      <th>3</th>\n",
       "      <td>Julian Weber</td>\n",
       "      <td>Germany</td>\n",
       "      <td>85.30</td>\n",
       "      <td>77.90</td>\n",
       "      <td>78.00</td>\n",
       "      <td>83.10</td>\n",
       "      <td>85.15</td>\n",
       "      <td>75.72</td>\n",
       "    </tr>\n",
       "    <tr>\n",
       "      <th>4</th>\n",
       "      <td>Arshad Nadeem</td>\n",
       "      <td>Pakistan</td>\n",
       "      <td>82.40</td>\n",
       "      <td>NaN</td>\n",
       "      <td>84.62</td>\n",
       "      <td>82.91</td>\n",
       "      <td>81.98</td>\n",
       "      <td>NaN</td>\n",
       "    </tr>\n",
       "  </tbody>\n",
       "</table>\n",
       "</div>"
      ],
      "text/plain": [
       "               Name         Country  Attempt1  Attempt2  Attempt3  Attempt4  \\\n",
       "0     Neeraj Chopra           India     87.03     87.58     76.79       NaN   \n",
       "1    Jakub Vadlejch  Czech Republic     83.98       NaN       NaN     82.86   \n",
       "2  Vitezslav Vesely  Czech Republic     79.79     80.30     85.44       NaN   \n",
       "3      Julian Weber         Germany     85.30     77.90     78.00     83.10   \n",
       "4     Arshad Nadeem        Pakistan     82.40       NaN     84.62     82.91   \n",
       "\n",
       "   Attempt5  Attempt6  \n",
       "0       NaN     84.24  \n",
       "1     86.67       NaN  \n",
       "2     84.98       NaN  \n",
       "3     85.15     75.72  \n",
       "4     81.98       NaN  "
      ]
     },
     "execution_count": 2,
     "metadata": {},
     "output_type": "execute_result"
    }
   ],
   "source": [
    "import numpy as np\n",
    "import pandas as pd\n",
    "\n",
    "# create a pandas dataframe\n",
    "\n",
    "df = pd.DataFrame({\n",
    "    'Name': ['Neeraj Chopra', 'Jakub Vadlejch', 'Vitezslav Vesely', 'Julian Weber', 'Arshad Nadeem'],\n",
    "    'Country': ['India', 'Czech Republic', 'Czech Republic', 'Germany', 'Pakistan'],\n",
    "    'Attempt1': [87.03, 83.98, 79.79, 85.30, 82.40],\n",
    "    'Attempt2': [87.58, np.nan, 80.30, 77.90, np.nan],\n",
    "    'Attempt3': [76.79, np.nan, 85.44, 78.00, 84.62],\n",
    "    'Attempt4': [np.nan, 82.86, np.nan, 83.10, 82.91],\n",
    "    'Attempt5': [np.nan, 86.67, 84.98, 85.15, 81.98],\n",
    "    'Attempt6': [84.24, np.nan, np.nan, 75.72, np.nan]\n",
    "})\n",
    "\n",
    "# display the dataframe\n",
    "df"
   ]
  },
  {
   "cell_type": "markdown",
   "id": "cd23b9ef",
   "metadata": {},
   "source": [
    "**Example 1:- Min value in a single pandas column**"
   ]
  },
  {
   "cell_type": "code",
   "execution_count": 5,
   "id": "0d45d997",
   "metadata": {},
   "outputs": [
    {
     "name": "stdout",
     "output_type": "stream",
     "text": [
      "Minimum value in column 'Attempt1:- 79.79\n"
     ]
    }
   ],
   "source": [
    "# To get the minimum value in a pandas column, use the min() function as follows. \n",
    "\n",
    "# For example, let’s get the minimum distance the javelin was thrown in the first attempt.\n",
    "\n",
    "# min value in Attempt1\n",
    "\n",
    "print(\"Minimum value in column 'Attempt1:-\", df['Attempt1'].min())"
   ]
  },
  {
   "cell_type": "markdown",
   "id": "77612481",
   "metadata": {},
   "source": [
    "**Example 2:- To get the index corresponding to the min value with the pandas idxmin() function.**"
   ]
  },
  {
   "cell_type": "code",
   "execution_count": 8,
   "id": "ee7909f9",
   "metadata": {},
   "outputs": [
    {
     "name": "stdout",
     "output_type": "stream",
     "text": [
      "Index of Minimum value in column 'Attempt1:- 2\n",
      "\n",
      "Name of the athelete who has minimum vaiue :- Vitezslav Vesely\n"
     ]
    }
   ],
   "source": [
    "# Note that we can get the index corresponding to the min value with the pandas idxmin() function. \n",
    "\n",
    "# Let’s get the name of the athlete who threw the shortest in the first attempt with this index.\n",
    "\n",
    "# index corresponding min value\n",
    "\n",
    "i = df['Attempt1'].idxmin()\n",
    "\n",
    "print(\"Index of Minimum value in column 'Attempt1:-\",i)\n",
    "\n",
    "print()\n",
    "\n",
    "# display the name corresponding this index\n",
    "\n",
    "print(\"Name of the athelete who has minimum vaiue :-\",df['Name'][i])"
   ]
  },
  {
   "cell_type": "markdown",
   "id": "d6b6a311",
   "metadata": {},
   "source": [
    "**Example 3:- Min value in two pandas columns**"
   ]
  },
  {
   "cell_type": "code",
   "execution_count": 10,
   "id": "6c52108c",
   "metadata": {},
   "outputs": [
    {
     "name": "stdout",
     "output_type": "stream",
     "text": [
      "Minimum value of multple columns:-\n",
      "\n",
      " Attempt1    79.79\n",
      "Attempt2    77.90\n",
      "dtype: float64\n"
     ]
    }
   ],
   "source": [
    "# We can also get the min value of multiple pandas columns with the pandas min() function. \n",
    "# For example, let’s find the minimum values in “Attempt1” and “Attempt2” respectively.\n",
    "\n",
    "# get min values in columns \"Attempt1\" and \"Attempt2\"\n",
    "\n",
    "print(\"Minimum value of multple columns:-\\n\\n\", df[['Attempt1', 'Attempt2']].min())"
   ]
  },
  {
   "cell_type": "markdown",
   "id": "3928479d",
   "metadata": {},
   "source": [
    "**Example 4:- Min value for each column in the dataframe**"
   ]
  },
  {
   "cell_type": "code",
   "execution_count": 14,
   "id": "ab54562c",
   "metadata": {},
   "outputs": [
    {
     "name": "stdout",
     "output_type": "stream",
     "text": [
      "Name         Arshad Nadeem\n",
      "Country     Czech Republic\n",
      "Attempt1             79.79\n",
      "Attempt2              77.9\n",
      "Attempt3             76.79\n",
      "Attempt4             82.86\n",
      "Attempt5             81.98\n",
      "Attempt6             75.72\n",
      "dtype: object\n"
     ]
    }
   ],
   "source": [
    "# Similarly, we can get the min value for each column in the dataframe. \n",
    "\n",
    "# Apply the min() function over the entire dataframe instead of a single column or a selection of columns.\n",
    "\n",
    "# get min values in each column of the dataframe\n",
    "\n",
    "print(df.min())\n",
    "\n",
    "# We get the minimum values in each column of the dataframe df.\n",
    "\n",
    "# Note that we also get min values for text columns based on their string comparisons in python."
   ]
  },
  {
   "cell_type": "markdown",
   "id": "fbce1a49",
   "metadata": {},
   "source": [
    "**Example 5:- Min value for only numerical columns**"
   ]
  },
  {
   "cell_type": "code",
   "execution_count": 13,
   "id": "1c427fe1",
   "metadata": {},
   "outputs": [
    {
     "name": "stdout",
     "output_type": "stream",
     "text": [
      "Attempt1    79.79\n",
      "Attempt2    77.90\n",
      "Attempt3    76.79\n",
      "Attempt4    82.86\n",
      "Attempt5    81.98\n",
      "Attempt6    75.72\n",
      "dtype: float64\n"
     ]
    }
   ],
   "source": [
    "# If you only want the min values for all the numerical columns in the dataframe, \n",
    "# pass numeric_only=True to the min() function.\n",
    "\n",
    "print(df.min(numeric_only=True))"
   ]
  },
  {
   "cell_type": "markdown",
   "id": "4f49d80f",
   "metadata": {},
   "source": [
    "**Example 6:- Min value between two pandas columns**"
   ]
  },
  {
   "cell_type": "code",
   "execution_count": 20,
   "id": "072619f3",
   "metadata": {},
   "outputs": [
    {
     "name": "stdout",
     "output_type": "stream",
     "text": [
      "Attempt1    79.79\n",
      "Attempt2    77.90\n",
      "dtype: float64\n",
      "\n",
      "Minimum values between two columns:- 77.9\n"
     ]
    }
   ],
   "source": [
    "# What if you want to get the minimum value between two columns?\n",
    "\n",
    "# We can do so by using the pandas min() function twice. \n",
    "\n",
    "# For example, let’s get the minimum value considering both “Attempt1” and “Attempt2”.\n",
    "\n",
    "# min value over two columns\n",
    "\n",
    "print(df[['Attempt1', 'Attempt2']].min())\n",
    "\n",
    "print()\n",
    "\n",
    "print(\"Minimum values between two columns:-\", df[['Attempt1', 'Attempt2']].min().min())"
   ]
  },
  {
   "cell_type": "markdown",
   "id": "96da4202",
   "metadata": {},
   "source": [
    "**Example 7:- Min value in the entire dataframe**"
   ]
  },
  {
   "cell_type": "code",
   "execution_count": 24,
   "id": "e48d44dd",
   "metadata": {},
   "outputs": [
    {
     "name": "stdout",
     "output_type": "stream",
     "text": [
      "Attempt1    79.79\n",
      "Attempt2    77.90\n",
      "Attempt3    76.79\n",
      "Attempt4    82.86\n",
      "Attempt5    81.98\n",
      "Attempt6    75.72\n",
      "dtype: float64\n",
      "\n",
      "Minimum value of entire dataframe:- 75.72\n"
     ]
    }
   ],
   "source": [
    "# We can also get the single smallest value in the entire dataframe. \n",
    "\n",
    "# For example, let’s get the smallest value in the dataframe df irrespective of the column.\n",
    "\n",
    "# min value over the entire dataframe\n",
    "\n",
    "print(df.min(numeric_only=True))\n",
    "\n",
    "print()\n",
    "\n",
    "print(\"Minimum value of entire dataframe:-\", df.min(numeric_only=True).min())"
   ]
  },
  {
   "cell_type": "markdown",
   "id": "27fe8f1e",
   "metadata": {},
   "source": [
    "#### 14. max()"
   ]
  },
  {
   "attachments": {
    "image.png": {
     "image/png": "[encoded data removed]"
    }
   },
   "cell_type": "markdown",
   "id": "9f72c1f0",
   "metadata": {},
   "source": [
    "- To get the max value in one or more columns of a pandas dataframe.\n",
    "<br>\n",
    "- The max() function is used to get the maximum of the values for the requested axis.\n",
    "<br>\n",
    "- Pandas dataframe.max() method finds the maximum of the values in the object and returns it.\n",
    "<br>\n",
    "- If the input is a series, the method will return a scalar which will be the maximum of the values in the series.\n",
    "<br>\n",
    "- If the input is a Dataframe, then the method will return a series with a maximum of values over the specified axis\n",
    "  in the Dataframe. \n",
    " <br>\n",
    " - The index axis is the default axis taken by this method.\n",
    "<br>\n",
    "\n",
    "- If we want the index of the maximum, use idxmax.\n",
    "<br>\n",
    "\n",
    "![image.png](attachment:image.png)"
   ]
  },
  {
   "cell_type": "code",
   "execution_count": 25,
   "id": "c78d9534",
   "metadata": {},
   "outputs": [
    {
     "data": {
      "text/html": [
       "<div>\n",
       "<style scoped>\n",
       "    .dataframe tbody tr th:only-of-type {\n",
       "        vertical-align: middle;\n",
       "    }\n",
       "\n",
       "    .dataframe tbody tr th {\n",
       "        vertical-align: top;\n",
       "    }\n",
       "\n",
       "    .dataframe thead th {\n",
       "        text-align: right;\n",
       "    }\n",
       "</style>\n",
       "<table border=\"1\" class=\"dataframe\">\n",
       "  <thead>\n",
       "    <tr style=\"text-align: right;\">\n",
       "      <th></th>\n",
       "      <th>Name</th>\n",
       "      <th>Country</th>\n",
       "      <th>Attempt1</th>\n",
       "      <th>Attempt2</th>\n",
       "      <th>Attempt3</th>\n",
       "      <th>Attempt4</th>\n",
       "      <th>Attempt5</th>\n",
       "      <th>Attempt6</th>\n",
       "    </tr>\n",
       "  </thead>\n",
       "  <tbody>\n",
       "    <tr>\n",
       "      <th>0</th>\n",
       "      <td>Neeraj Chopra</td>\n",
       "      <td>India</td>\n",
       "      <td>87.03</td>\n",
       "      <td>87.58</td>\n",
       "      <td>76.79</td>\n",
       "      <td>NaN</td>\n",
       "      <td>NaN</td>\n",
       "      <td>84.24</td>\n",
       "    </tr>\n",
       "    <tr>\n",
       "      <th>1</th>\n",
       "      <td>Jakub Vadlejch</td>\n",
       "      <td>Czech Republic</td>\n",
       "      <td>83.98</td>\n",
       "      <td>NaN</td>\n",
       "      <td>NaN</td>\n",
       "      <td>82.86</td>\n",
       "      <td>86.67</td>\n",
       "      <td>NaN</td>\n",
       "    </tr>\n",
       "    <tr>\n",
       "      <th>2</th>\n",
       "      <td>Vitezslav Vesely</td>\n",
       "      <td>Czech Republic</td>\n",
       "      <td>79.79</td>\n",
       "      <td>80.30</td>\n",
       "      <td>85.44</td>\n",
       "      <td>NaN</td>\n",
       "      <td>84.98</td>\n",
       "      <td>NaN</td>\n",
       "    </tr>\n",
       "    <tr>\n",
       "      <th>3</th>\n",
       "      <td>Julian Weber</td>\n",
       "      <td>Germany</td>\n",
       "      <td>85.30</td>\n",
       "      <td>77.90</td>\n",
       "      <td>78.00</td>\n",
       "      <td>83.10</td>\n",
       "      <td>85.15</td>\n",
       "      <td>75.72</td>\n",
       "    </tr>\n",
       "    <tr>\n",
       "      <th>4</th>\n",
       "      <td>Arshad Nadeem</td>\n",
       "      <td>Pakistan</td>\n",
       "      <td>82.40</td>\n",
       "      <td>NaN</td>\n",
       "      <td>84.62</td>\n",
       "      <td>82.91</td>\n",
       "      <td>81.98</td>\n",
       "      <td>NaN</td>\n",
       "    </tr>\n",
       "  </tbody>\n",
       "</table>\n",
       "</div>"
      ],
      "text/plain": [
       "               Name         Country  Attempt1  Attempt2  Attempt3  Attempt4  \\\n",
       "0     Neeraj Chopra           India     87.03     87.58     76.79       NaN   \n",
       "1    Jakub Vadlejch  Czech Republic     83.98       NaN       NaN     82.86   \n",
       "2  Vitezslav Vesely  Czech Republic     79.79     80.30     85.44       NaN   \n",
       "3      Julian Weber         Germany     85.30     77.90     78.00     83.10   \n",
       "4     Arshad Nadeem        Pakistan     82.40       NaN     84.62     82.91   \n",
       "\n",
       "   Attempt5  Attempt6  \n",
       "0       NaN     84.24  \n",
       "1     86.67       NaN  \n",
       "2     84.98       NaN  \n",
       "3     85.15     75.72  \n",
       "4     81.98       NaN  "
      ]
     },
     "execution_count": 25,
     "metadata": {},
     "output_type": "execute_result"
    }
   ],
   "source": [
    "import numpy as np\n",
    "import pandas as pd\n",
    "\n",
    "# create a pandas dataframe\n",
    "\n",
    "df = pd.DataFrame({\n",
    "    'Name': ['Neeraj Chopra', 'Jakub Vadlejch', 'Vitezslav Vesely', 'Julian Weber', 'Arshad Nadeem'],\n",
    "    'Country': ['India', 'Czech Republic', 'Czech Republic', 'Germany', 'Pakistan'],\n",
    "    'Attempt1': [87.03, 83.98, 79.79, 85.30, 82.40],\n",
    "    'Attempt2': [87.58, np.nan, 80.30, 77.90, np.nan],\n",
    "    'Attempt3': [76.79, np.nan, 85.44, 78.00, 84.62],\n",
    "    'Attempt4': [np.nan, 82.86, np.nan, 83.10, 82.91],\n",
    "    'Attempt5': [np.nan, 86.67, 84.98, 85.15, 81.98],\n",
    "    'Attempt6': [84.24, np.nan, np.nan, 75.72, np.nan]\n",
    "})\n",
    "\n",
    "# display the dataframe\n",
    "df"
   ]
  },
  {
   "cell_type": "markdown",
   "id": "5382f97f",
   "metadata": {},
   "source": [
    "**Example 1:- Maximum value in a single pandas column**"
   ]
  },
  {
   "cell_type": "code",
   "execution_count": 27,
   "id": "908edbda",
   "metadata": {},
   "outputs": [
    {
     "name": "stdout",
     "output_type": "stream",
     "text": [
      "Minimum value in column 'Attempt1:- 87.03\n"
     ]
    }
   ],
   "source": [
    "# To get the maximum value in a pandas column, use the max() function as follows. \n",
    "\n",
    "# For example, let’s get the maximum value achieved in the first attempt.\n",
    "\n",
    "# max value in Attempt1\n",
    "\n",
    "print(\"Minimum value in column 'Attempt1:-\", df['Attempt1'].max())"
   ]
  },
  {
   "cell_type": "markdown",
   "id": "f3647c65",
   "metadata": {},
   "source": [
    "**Example 2:- To get the index corresponding to the max value with the pandas idxmin() function.**"
   ]
  },
  {
   "cell_type": "code",
   "execution_count": 28,
   "id": "9578a635",
   "metadata": {},
   "outputs": [
    {
     "name": "stdout",
     "output_type": "stream",
     "text": [
      "Index of Maximum value in column 'Attempt1:- 0\n",
      "\n",
      "Name of the athelete who has maximum vaiue :- Neeraj Chopra\n"
     ]
    }
   ],
   "source": [
    "# Note that you can get the index corresponding to the max value with the pandas idxmax() function.\n",
    "\n",
    "# Let’s get the name of the athlete who threw the longest in the first attempt with this index.\n",
    "\n",
    "# index corresponding max value\n",
    "\n",
    "i = df['Attempt1'].idxmax()\n",
    "\n",
    "print(\"Index of Maximum value in column 'Attempt1:-\",i)\n",
    "\n",
    "print()\n",
    "\n",
    "# display the name corresponding this index\n",
    "\n",
    "print(\"Name of the athelete who has maximum vaiue :-\",df['Name'][i])"
   ]
  },
  {
   "cell_type": "markdown",
   "id": "b979b0be",
   "metadata": {},
   "source": [
    "**Example 3:- Maximum value in two pandas columns**"
   ]
  },
  {
   "cell_type": "code",
   "execution_count": 30,
   "id": "c66cf06c",
   "metadata": {},
   "outputs": [
    {
     "name": "stdout",
     "output_type": "stream",
     "text": [
      "Maximum value of multple columns:-\n",
      "\n",
      " Attempt1    87.03\n",
      "Attempt2    87.58\n",
      "dtype: float64\n"
     ]
    }
   ],
   "source": [
    "# We can also get the max value of multiple pandas columns with the pandas min() function. \n",
    "\n",
    "# For example, let’s find the maximum values in “Attempt1” and “Attempt2” respectively.\n",
    "\n",
    "# get max values in columns \"Attempt1\" and \"Attempt2\"\n",
    "\n",
    "print(\"Maximum value of multple columns:-\\n\\n\", df[['Attempt1', 'Attempt2']].max())"
   ]
  },
  {
   "cell_type": "markdown",
   "id": "e69adfa2",
   "metadata": {},
   "source": [
    "**Example 4:- Maximum value for each column in the dataframe**"
   ]
  },
  {
   "cell_type": "code",
   "execution_count": 32,
   "id": "da4afe29",
   "metadata": {},
   "outputs": [
    {
     "name": "stdout",
     "output_type": "stream",
     "text": [
      "Name        Vitezslav Vesely\n",
      "Country             Pakistan\n",
      "Attempt1               87.03\n",
      "Attempt2               87.58\n",
      "Attempt3               85.44\n",
      "Attempt4                83.1\n",
      "Attempt5               86.67\n",
      "Attempt6               84.24\n",
      "dtype: object\n"
     ]
    }
   ],
   "source": [
    "# Similarly, we can get the max value for each column in the dataframe. \n",
    "# Apply the max function over the entire dataframe instead of a single column or a selection of columns.\n",
    "\n",
    "# get max values in each column of the dataframe\n",
    "\n",
    "print(df.max())\n",
    "\n",
    "# We get the maximum values in each column of the dataframe df. \n",
    "# Note that we also get max values for text columns based on their string comparisons in python."
   ]
  },
  {
   "cell_type": "markdown",
   "id": "9bb55977",
   "metadata": {},
   "source": [
    "**Example 5:- Maximum value for only numerical columns**"
   ]
  },
  {
   "cell_type": "code",
   "execution_count": 33,
   "id": "56e7a534",
   "metadata": {},
   "outputs": [
    {
     "name": "stdout",
     "output_type": "stream",
     "text": [
      "Attempt1    87.03\n",
      "Attempt2    87.58\n",
      "Attempt3    85.44\n",
      "Attempt4    83.10\n",
      "Attempt5    86.67\n",
      "Attempt6    84.24\n",
      "dtype: float64\n"
     ]
    }
   ],
   "source": [
    "# If we only want the max values for all the numerical columns in the dataframe, \n",
    "# pass numeric_only=True to the max() function.\n",
    "\n",
    "# get max values of only numerical columns\n",
    "\n",
    "print(df.max(numeric_only=True))"
   ]
  },
  {
   "cell_type": "markdown",
   "id": "5b1205ca",
   "metadata": {},
   "source": [
    "**Example 6:- Maximum value between two pandas columns**"
   ]
  },
  {
   "cell_type": "code",
   "execution_count": 35,
   "id": "e4f922d5",
   "metadata": {},
   "outputs": [
    {
     "name": "stdout",
     "output_type": "stream",
     "text": [
      "Attempt1    87.03\n",
      "Attempt2    87.58\n",
      "dtype: float64\n",
      "\n",
      "Maximum values between two columns:- 87.58\n"
     ]
    }
   ],
   "source": [
    "# What if we want to get the maximum value between two columns?\n",
    "# we can do so by using the pandas max() function twice. \n",
    "\n",
    "# For example, let’s get the maximum value considering both “Attempt1” and “Attempt2”.\n",
    "\n",
    "print(df[['Attempt1', 'Attempt2']].max())\n",
    "\n",
    "print()\n",
    "\n",
    "print(\"Maximum values between two columns:-\", df[['Attempt1', 'Attempt2']].max().max())"
   ]
  },
  {
   "cell_type": "markdown",
   "id": "721a43c8",
   "metadata": {},
   "source": [
    "**Example 7:- Maximum value in the entire dataframe**"
   ]
  },
  {
   "cell_type": "code",
   "execution_count": 36,
   "id": "b063fb35",
   "metadata": {},
   "outputs": [
    {
     "name": "stdout",
     "output_type": "stream",
     "text": [
      "Attempt1    87.03\n",
      "Attempt2    87.58\n",
      "Attempt3    85.44\n",
      "Attempt4    83.10\n",
      "Attempt5    86.67\n",
      "Attempt6    84.24\n",
      "dtype: float64\n",
      "\n",
      "Maximum value of entire dataframe:- 87.58\n"
     ]
    }
   ],
   "source": [
    "# we can also get the single biggest value in the entire dataframe. \n",
    "\n",
    "# For example, let’s get the biggest value in the dataframe df irrespective of the column.\n",
    "\n",
    "print(df.max(numeric_only=True))\n",
    "\n",
    "print()\n",
    "\n",
    "print(\"Maximum value of entire dataframe:-\", df.max(numeric_only=True).max())"
   ]
  },
  {
   "cell_type": "code",
   "execution_count": null,
   "id": "ca5b48d5",
   "metadata": {},
   "outputs": [],
   "source": []
  }
 ],
 "metadata": {
  "kernelspec": {
   "display_name": "Python 3 (ipykernel)",
   "language": "python",
   "name": "python3"
  },
  "language_info": {
   "codemirror_mode": {
    "name": "ipython",
    "version": 3
   },
   "file_extension": ".py",
   "mimetype": "text/x-python",
   "name": "python",
   "nbconvert_exporter": "python",
   "pygments_lexer": "ipython3",
   "version": "3.11.2"
  }
 },
 "nbformat": 4,
 "nbformat_minor": 5
}
