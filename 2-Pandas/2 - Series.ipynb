{
 "cells": [
  {
   "cell_type": "markdown",
   "metadata": {},
   "source": [
    "###### Pandas series"
   ]
  },
  {
   "attachments": {
    "image.png": {
     "image/png": "[encoded data removed]"
    }
   },
   "cell_type": "markdown",
   "metadata": {},
   "source": [
    "- Pandas series is used to handle 1-dimensional data such as \n",
    "  integers, floats, complex numbers, strings and other Python Objects\n",
    "\n",
    "- Series is a 1D array that can handle data of any type.\n",
    "\n",
    "- Just like a coloumn in a table.\n",
    "\n",
    "![image.png](attachment:image.png)"
   ]
  },
  {
   "cell_type": "markdown",
   "metadata": {},
   "source": [
    "##### Syntax:-"
   ]
  },
  {
   "cell_type": "markdown",
   "metadata": {},
   "source": [
    "- **pandas.Series(data, index)**\n",
    "    <br>\n",
    "    \n",
    "    1. **data**  ==> int, float,  complext numbers, list, tuple, dictionary, etc\n",
    "      <br>\n",
    "  \n",
    "    2. **index** ==> axis labels\n",
    "\n",
    "**Note**:- if data is an ndarray, then index must be of same length as data"
   ]
  },
  {
   "cell_type": "markdown",
   "metadata": {},
   "source": [
    "##### 1. Empty Series"
   ]
  },
  {
   "cell_type": "code",
   "execution_count": null,
   "metadata": {},
   "outputs": [],
   "source": [
    "import numpy as np\n",
    "import pandas as pd\n",
    "\n",
    "x=pd.Series()\n",
    "\n",
    "print(\"Generating Empty Series: - \", x)"
   ]
  },
  {
   "cell_type": "markdown",
   "metadata": {},
   "source": [
    "###### 2. Create a Series from ndarray"
   ]
  },
  {
   "cell_type": "markdown",
   "metadata": {},
   "source": [
    "- If data is an ndarray, then index passed must be of the same length.\n",
    "<br>\n",
    "- If no index is passed, then by default index will be range(n)\n",
    "  where n is array length, i.e., [0,1,2,3…. range(len(array))-1].\n",
    "<br>\n",
    "\n",
    "- In the below given example, We did not pass any index, so by default, \n",
    "  it assigned the indexes ranging from 0 to len(data)-1, i.e., 0 to 5."
   ]
  },
  {
   "cell_type": "code",
   "execution_count": null,
   "metadata": {},
   "outputs": [],
   "source": [
    "import numpy as np\n",
    "import pandas as pd\n",
    "\n",
    "d1=np.array(['a','b','c','d','e','f'])\n",
    "\n",
    "x=pd.Series(d1)\n",
    "\n",
    "print(\"Generating series from an array with default index:-\\n\")\n",
    "print(x)"
   ]
  },
  {
   "cell_type": "markdown",
   "metadata": {},
   "source": [
    "###### 3. Generating Pandas Series from list"
   ]
  },
  {
   "cell_type": "code",
   "execution_count": null,
   "metadata": {},
   "outputs": [],
   "source": [
    "import numpy as np\n",
    "import pandas as pd\n",
    "\n",
    "data = [1,2,3,4,5]\n",
    "\n",
    "print(\"List Values:-\", data,\"\\n\")\n",
    "\n",
    "ser = pd.Series(data)\n",
    "\n",
    "print(\"Generating Pandas Series from the given list:-\\n\")\n",
    "print(ser)"
   ]
  },
  {
   "cell_type": "markdown",
   "metadata": {},
   "source": [
    "###### 4. Passing the Indexing Values"
   ]
  },
  {
   "cell_type": "code",
   "execution_count": null,
   "metadata": {},
   "outputs": [],
   "source": [
    "import numpy as np\n",
    "import pandas as pd\n",
    "\n",
    "data=np.array(['a','b','c','d','e','f'])\n",
    "\n",
    "x1=pd.Series(data,index=[1,2,3,4,5,6])\n",
    "\n",
    "print(\"Generating series from array with given Index:-\\n\")\n",
    "\n",
    "print(x1)"
   ]
  },
  {
   "cell_type": "markdown",
   "metadata": {},
   "source": [
    "###### 5. To get indexes of a Series"
   ]
  },
  {
   "cell_type": "code",
   "execution_count": null,
   "metadata": {},
   "outputs": [],
   "source": [
    "x1.index"
   ]
  },
  {
   "cell_type": "markdown",
   "metadata": {},
   "source": [
    "###### 6. Passing the indexing values through arange() method"
   ]
  },
  {
   "cell_type": "code",
   "execution_count": null,
   "metadata": {},
   "outputs": [],
   "source": [
    "d1=np.array(['a','b','c','d','e','f'])\n",
    "\n",
    "x=pd.Series(d1, index=np.arange(10,16))\n",
    "\n",
    "print(\"Series from an array with default index:-\\n\")\n",
    "\n",
    "print(x)"
   ]
  },
  {
   "cell_type": "markdown",
   "metadata": {},
   "source": [
    "###### 7. To see first few elements of a Series, we'll use head() function from pandas"
   ]
  },
  {
   "cell_type": "code",
   "execution_count": null,
   "metadata": {},
   "outputs": [],
   "source": [
    "import numpy as np\n",
    "import pandas as pd\n",
    "\n",
    "data=np.array(['Pandas','NumPy','ML','DP','NLP','Stats','Python','DS'])\n",
    "\n",
    "x1=pd.Series(data,index=[1,2,3,4,5,6,7,8])\n",
    "\n",
    "print(\"Generating series from array with given Index:-\\n\")\n",
    "\n",
    "print(x1)\n",
    "\n",
    "print()\n",
    "\n",
    "print(\"Displays first 2 values from series:-\")\n",
    "\n",
    "x1.head(2)   # here 2 shows, we want to see the first 2 values from our series "
   ]
  },
  {
   "cell_type": "markdown",
   "metadata": {},
   "source": [
    "###### 8. Accessing values using indexing"
   ]
  },
  {
   "cell_type": "code",
   "execution_count": null,
   "metadata": {},
   "outputs": [],
   "source": [
    "import numpy as np\n",
    "import pandas as pd\n",
    "\n",
    "data=np.array(['Pandas','NumPy','ML','DP','NLP','Stats','Python','DS'])\n",
    "\n",
    "x1=pd.Series(data,index=[0,1,2,3,4,5,6,7])\n",
    "\n",
    "print(\"Generating series from array with given Index:-\\n\")\n",
    "\n",
    "print(x1)\n",
    "\n",
    "print(\"--------------------------------------------\")\n",
    "\n",
    "print(\"Accessing first value of the series:-\", x1[1])\n",
    "\n",
    "print(\"\\nAccessing first two values of the series:-\\n\\n\",x1[0:2])\n",
    "\n",
    "print(\"\\nAccessing 3rd & 4th values of the series:-\\n\\n\", x1[3:5])\n",
    "\n",
    "print(\"\\nAccessing 4th & 7th values of the series:-\\n\\n\", x1[4:7])\n",
    "\n",
    "print(\"\\nAccessing First 3 element of series:- \\n\", x1[:3])\n",
    "\n",
    "print(\"\\nAccessing Last 3 element of series:- \\n\", x1[3:])"
   ]
  },
  {
   "cell_type": "code",
   "execution_count": null,
   "metadata": {},
   "outputs": [],
   "source": [
    "# Retrieving data using label(index)\n",
    "\n",
    "s1 = pd.Series([25,35,45,55,65],index=['a','b','c','d','e'])\n",
    "\n",
    "print(\"Series values:\\n\",s1)\n",
    "print()\n",
    "print(\"First value of the series:-\",s1['a']) #will give the first element\n",
    "print()\n",
    "print(\"Retrieve the first three values:-\", s1[['a','c','e']]) #reteieve the first three elements\n",
    "print()\n",
    "print(\"Retrieve the last three values:-\",s1['f']) # #if label is not there, exception will be raised."
   ]
  },
  {
   "cell_type": "code",
   "execution_count": null,
   "metadata": {},
   "outputs": [],
   "source": [
    "s2=pd.Series([15,25,30,35,40,35], index=['a','b','c','d','e','f'])\n",
    "\n",
    "print(\"Series values:-\\n \", s2)\n",
    "print()\n",
    "print(\"First element of the series:- \\n\", s2['a'])\n",
    "print()\n",
    "print(\"Fourth element of the series:- \\n\", s2['d'])\n",
    "print()\n",
    "print(\"Third & Fourth elements of the series:- \\n\", s2[['c','d']])"
   ]
  },
  {
   "cell_type": "code",
   "execution_count": null,
   "metadata": {},
   "outputs": [],
   "source": [
    "# Retrieve the values in the series with out index\n",
    "\n",
    "s3=pd.Series([15,25,30,35,40,35])\n",
    "\n",
    "print(\"Series values:-\\n\",s3)\n",
    "print()\n",
    "print(\"Third element in the series:-\",s3[3])\n",
    "print()\n",
    "print(\"Third & Fourth element in the series:- \\n\",s3[[3,4]])\n",
    "print()\n",
    "print(\"First two elements in the series:-\\n\",s3[[0,1]])"
   ]
  },
  {
   "cell_type": "markdown",
   "metadata": {},
   "source": [
    "#### 9. Creating a Series from Dictionary"
   ]
  },
  {
   "cell_type": "markdown",
   "metadata": {},
   "source": [
    "1. A dict can be passed as input and if no index is specified, \n",
    "   then the dictionary keys are taken in a sorted order to construct index.\n",
    "<br>\n",
    "2. If index is passed, the values in data corresponding to the labels in the index will be pulled out.\n",
    "<br>\n",
    "\n",
    "3. Dictionary keys are used to construct index."
   ]
  },
  {
   "cell_type": "markdown",
   "metadata": {},
   "source": [
    "**1. Creating a Series from dictionary**"
   ]
  },
  {
   "cell_type": "code",
   "execution_count": null,
   "metadata": {},
   "outputs": [],
   "source": [
    "dict={'a':0,'b':1,'c':2}\n",
    "\n",
    "print(\"Dictionaty values:-\",dict)\n",
    "print()\n",
    "\n",
    "s1=pd.Series(dict)\n",
    "\n",
    "print(\"Series from Dictionary: -\\n \")\n",
    "print(s1)"
   ]
  },
  {
   "cell_type": "markdown",
   "metadata": {},
   "source": [
    "**2. Index Order with Dictionary**"
   ]
  },
  {
   "cell_type": "code",
   "execution_count": null,
   "metadata": {},
   "outputs": [],
   "source": [
    "d11={'a':0,'b':1,'c':2}\n",
    "\n",
    "s1=pd.Series(d11, index=['c','b','a'])\n",
    "\n",
    "print(\"Series from Dictionary: -\\n \")\n",
    "print(s1)"
   ]
  },
  {
   "cell_type": "markdown",
   "metadata": {},
   "source": [
    "**3. Pandas Series is like Python's dictionary**"
   ]
  },
  {
   "cell_type": "code",
   "execution_count": null,
   "metadata": {},
   "outputs": [],
   "source": [
    "dict = {'Name' : 'Elon', \n",
    "              'F/Name' : 'Musk', \n",
    "              '1st Company' : 'Tesla', \n",
    "              '2nd Company': 'Space X',\n",
    "              '3rd Company':  'The Boring Company',\n",
    "              '4th Company': 'Twitter',\n",
    "              'Net Worth': '264.6 billion USD'}\n",
    "dict"
   ]
  },
  {
   "cell_type": "code",
   "execution_count": null,
   "metadata": {},
   "outputs": [],
   "source": [
    "ps = pd.Series(dict)\n",
    "\n",
    "ps"
   ]
  },
  {
   "cell_type": "markdown",
   "metadata": {},
   "source": [
    "**4. Print the index of all the values in our series**"
   ]
  },
  {
   "cell_type": "code",
   "execution_count": null,
   "metadata": {},
   "outputs": [],
   "source": [
    "for i in ps:\n",
    "    print(i)"
   ]
  },
  {
   "cell_type": "markdown",
   "metadata": {},
   "source": [
    "**5. Print the keys along with their respective values**"
   ]
  },
  {
   "cell_type": "code",
   "execution_count": null,
   "metadata": {},
   "outputs": [],
   "source": [
    "for k, v in ps.items():\n",
    "    print(f'Index : {k}','   ',  f'value : {v}')"
   ]
  },
  {
   "cell_type": "markdown",
   "metadata": {},
   "source": [
    "**6. Getting the value from series using get() function**"
   ]
  },
  {
   "cell_type": "code",
   "execution_count": null,
   "metadata": {},
   "outputs": [],
   "source": [
    "print(\"Getting the Name:-\", ps.get('Name'))\n",
    "\n",
    "print(\"\\nGetting the 1st Company name:-\",ps.get('1st Company'))\n",
    "\n",
    "print(\"\\nGetting the 3rd Company name:-\",ps.get('3rd Company'))"
   ]
  },
  {
   "cell_type": "markdown",
   "metadata": {},
   "source": [
    "**7. What if we change the number of index?**"
   ]
  },
  {
   "cell_type": "markdown",
   "metadata": {},
   "source": [
    "****If index < len(dictionary), then only the mentioned index values will be converted into pandas series****"
   ]
  },
  {
   "cell_type": "code",
   "execution_count": null,
   "metadata": {},
   "outputs": [],
   "source": [
    "dict = {'a': 'apple', 'b': 'ball', 'k': 'Kobob'}\n",
    "\n",
    "di = pd.Series(dict, index = {'a', 'b'})\n",
    "\n",
    "print(di)"
   ]
  },
  {
   "cell_type": "markdown",
   "metadata": {},
   "source": [
    "****If index > len(dictionary), then 'NaN' value will be added infront of the new key****"
   ]
  },
  {
   "cell_type": "code",
   "execution_count": null,
   "metadata": {},
   "outputs": [],
   "source": [
    "dict = {'a': 'apple', 'b': 'ball', 'k': 'Kobob'}\n",
    "\n",
    "di = pd.Series(dict, index = {'a', 'b', 'c', 'd'})\n",
    "\n",
    "print(di)"
   ]
  },
  {
   "cell_type": "markdown",
   "metadata": {},
   "source": [
    "****NaN means 'not a number', and is the mostly used by the pandas to show missing values****"
   ]
  },
  {
   "cell_type": "code",
   "execution_count": null,
   "metadata": {},
   "outputs": [],
   "source": [
    "# Index order is persisted and the missing element is filled with NaN (Not a Number).\n",
    "\n",
    "import pandas as pd\n",
    "import numpy as np\n",
    "\n",
    "data = {'a': 0., 'b': 1., 'c': 2.}\n",
    "\n",
    "s3 = pd.Series(data, index=['b', 'c', 'd', 'a'])\n",
    "\n",
    "print(\"Series from dictionary with given index:- \\n\\n\", s3)"
   ]
  },
  {
   "cell_type": "markdown",
   "metadata": {},
   "source": [
    "###### 10. Generating Series from Scaler (int, float)"
   ]
  },
  {
   "cell_type": "markdown",
   "metadata": {},
   "source": [
    "- If data is a scalar value, an index must be provided. \n",
    "<br>\n",
    "\n",
    "- The value will be repeated to match the length of index."
   ]
  },
  {
   "cell_type": "code",
   "execution_count": null,
   "metadata": {},
   "outputs": [],
   "source": [
    "s1 = pd.Series(15, index=[0, 1, 2, 3])\n",
    "\n",
    "print(\"Series from Scalar:-\")\n",
    "print(s1)"
   ]
  },
  {
   "cell_type": "code",
   "execution_count": null,
   "metadata": {},
   "outputs": [],
   "source": [
    "s2=pd.Series(152.5, index=[0,1,2,3])\n",
    "\n",
    "print(\"Series from Scalar(float):-\")\n",
    "print(s2)"
   ]
  },
  {
   "cell_type": "markdown",
   "metadata": {},
   "source": [
    "###### 11. Name Attribute & Rename"
   ]
  },
  {
   "cell_type": "code",
   "execution_count": null,
   "metadata": {},
   "outputs": [],
   "source": [
    "# We can also give name to our series using 'name' parameter from Pandas Series.\n",
    "\n",
    "name_ser = pd.Series(150.0, index = ['a', 'b', 'c', 'd', 'e'], name = 'PANDAS-SERIES')\n",
    "\n",
    "name_ser"
   ]
  },
  {
   "cell_type": "code",
   "execution_count": null,
   "metadata": {},
   "outputs": [],
   "source": [
    "# We can also rename our Series by using Series.rename() function.\n",
    "\n",
    "name_ser.rename('Fizza')"
   ]
  },
  {
   "cell_type": "markdown",
   "metadata": {},
   "source": [
    "#### 12. Operation on Pandas Series"
   ]
  },
  {
   "cell_type": "code",
   "execution_count": null,
   "metadata": {},
   "outputs": [],
   "source": [
    "data = [2,4,6,8,10,12,14,16]\n",
    "\n",
    "ps1 = pd.Series(data)\n",
    "\n",
    "ps1"
   ]
  },
  {
   "cell_type": "markdown",
   "metadata": {},
   "source": [
    "****1. Adding all the elements of a series****"
   ]
  },
  {
   "cell_type": "code",
   "execution_count": null,
   "metadata": {},
   "outputs": [],
   "source": [
    "new_ps1 = sum(ps1)\n",
    "\n",
    "print(\"Addition of all elements of a series:-\", new_ps1)"
   ]
  },
  {
   "cell_type": "markdown",
   "metadata": {},
   "source": [
    "****2. Adding a series with itself****"
   ]
  },
  {
   "cell_type": "code",
   "execution_count": null,
   "metadata": {},
   "outputs": [],
   "source": [
    "new_ps2 = ps1 + ps1\n",
    "\n",
    "print(\"Addition of series with itself:-\")\n",
    "\n",
    "new_ps2"
   ]
  },
  {
   "cell_type": "markdown",
   "metadata": {},
   "source": [
    "****3. Multplying a series with itself****"
   ]
  },
  {
   "cell_type": "code",
   "execution_count": null,
   "metadata": {},
   "outputs": [],
   "source": [
    "new_ps3 = ps1 * ps1\n",
    "\n",
    "print(\"Multiplication of series with itself:-\")\n",
    "\n",
    "new_ps3"
   ]
  },
  {
   "cell_type": "markdown",
   "metadata": {},
   "source": [
    "****4. Multplying a certain number with all the values of series****"
   ]
  },
  {
   "cell_type": "code",
   "execution_count": null,
   "metadata": {},
   "outputs": [],
   "source": [
    "import math\n",
    "\n",
    "pi = math.pi\n",
    "\n",
    "ps4 = pi * ps1\n",
    "\n",
    "ps4"
   ]
  },
  {
   "cell_type": "markdown",
   "metadata": {},
   "source": [
    "##### 13. Data Manipulation in Pandas Series"
   ]
  },
  {
   "cell_type": "markdown",
   "metadata": {},
   "source": [
    "**1. Adding an element in Pandas Series**"
   ]
  },
  {
   "cell_type": "code",
   "execution_count": null,
   "metadata": {},
   "outputs": [],
   "source": [
    "dict1 = {'a': 'Alugon', 'b': 'bazor', 'c': 'chitrol', 'd': 'Deendor'}\n",
    "\n",
    "di = pd.Series(dict1)\n",
    "print(di)\n",
    "print(\"---------------------\")\n",
    "\n",
    "print('Before')\n",
    "print(di)\n",
    "print(\"---------------------\")\n",
    "\n",
    "di['k'] = 'Kobob'\n",
    "\n",
    "print('After')\n",
    "print(di)"
   ]
  },
  {
   "cell_type": "markdown",
   "metadata": {},
   "source": [
    "#### 2. Replace an item"
   ]
  },
  {
   "cell_type": "code",
   "execution_count": null,
   "metadata": {},
   "outputs": [],
   "source": [
    "print('Before')\n",
    "print(\"---------------------\")\n",
    "print(di)\n",
    "print(\"---------------------\")\n",
    "\n",
    "di['d'] = 'diyanotdor'\n",
    "\n",
    "print('After')\n",
    "print(\"---------------------\")\n",
    "print(di)"
   ]
  },
  {
   "cell_type": "code",
   "execution_count": null,
   "metadata": {},
   "outputs": [],
   "source": []
  }
 ],
 "metadata": {
  "kernelspec": {
   "display_name": "Python 3 (ipykernel)",
   "language": "python",
   "name": "python3"
  },
  "language_info": {
   "codemirror_mode": {
    "name": "ipython",
    "version": 3
   },
   "file_extension": ".py",
   "mimetype": "text/x-python",
   "name": "python",
   "nbconvert_exporter": "python",
   "pygments_lexer": "ipython3",
   "version": "3.11.2"
  }
 },
 "nbformat": 4,
 "nbformat_minor": 4
}
