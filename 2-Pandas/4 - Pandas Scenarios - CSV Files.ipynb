{
 "cells": [
  {
   "cell_type": "markdown",
   "id": "19da3e6e",
   "metadata": {},
   "source": [
    "#### 1. Saving DataFrame to a CSV file"
   ]
  },
  {
   "cell_type": "markdown",
   "id": "3648c5ea",
   "metadata": {},
   "source": [
    "- Pandas dataframes are used to store and manipulate two-dimensional tabular data in python.\n",
    "<br>\n",
    "- After having performed our pre-processing or analysis with our data,<br>\n",
    "  we may want to save it as a separate CSV (Comma Separated Values) file for future use or reference. \n",
    "<br>\n",
    "\n",
    "- The pandas **to_csv()** function is used to save a dataframe as a CSV file."
   ]
  },
  {
   "cell_type": "markdown",
   "id": "441324b6",
   "metadata": {},
   "source": [
    "###### to_csv() function"
   ]
  },
  {
   "cell_type": "markdown",
   "id": "0446c8b5",
   "metadata": {},
   "source": [
    "- It is a pandas dataframe function used to save a dataframe as a CSV file. \n",
    "\n",
    "  **syntax:-** df.to_csv(path)\n",
    "\n",
    "   - The above syntax, by default saves the index of the dataframe as a separate column.\n",
    "\n",
    "   - If we do not want to include the index, pass index=False to the above function."
   ]
  },
  {
   "cell_type": "code",
   "execution_count": 1,
   "id": "b1352ec0",
   "metadata": {},
   "outputs": [
    {
     "data": {
      "text/html": [
       "<div>\n",
       "<style scoped>\n",
       "    .dataframe tbody tr th:only-of-type {\n",
       "        vertical-align: middle;\n",
       "    }\n",
       "\n",
       "    .dataframe tbody tr th {\n",
       "        vertical-align: top;\n",
       "    }\n",
       "\n",
       "    .dataframe thead th {\n",
       "        text-align: right;\n",
       "    }\n",
       "</style>\n",
       "<table border=\"1\" class=\"dataframe\">\n",
       "  <thead>\n",
       "    <tr style=\"text-align: right;\">\n",
       "      <th></th>\n",
       "      <th>Name</th>\n",
       "      <th>Symbol</th>\n",
       "      <th>Shares</th>\n",
       "    </tr>\n",
       "  </thead>\n",
       "  <tbody>\n",
       "    <tr>\n",
       "      <th>0</th>\n",
       "      <td>Microsoft Corporation</td>\n",
       "      <td>MSFT</td>\n",
       "      <td>100</td>\n",
       "    </tr>\n",
       "    <tr>\n",
       "      <th>1</th>\n",
       "      <td>Google, LLC</td>\n",
       "      <td>GOOG</td>\n",
       "      <td>50</td>\n",
       "    </tr>\n",
       "    <tr>\n",
       "      <th>2</th>\n",
       "      <td>Tesla, Inc.</td>\n",
       "      <td>TSLA</td>\n",
       "      <td>150</td>\n",
       "    </tr>\n",
       "    <tr>\n",
       "      <th>3</th>\n",
       "      <td>Apple Inc.</td>\n",
       "      <td>AAPL</td>\n",
       "      <td>200</td>\n",
       "    </tr>\n",
       "    <tr>\n",
       "      <th>4</th>\n",
       "      <td>Netflix, Inc.</td>\n",
       "      <td>NFLX</td>\n",
       "      <td>80</td>\n",
       "    </tr>\n",
       "  </tbody>\n",
       "</table>\n",
       "</div>"
      ],
      "text/plain": [
       "                    Name Symbol  Shares\n",
       "0  Microsoft Corporation   MSFT     100\n",
       "1            Google, LLC   GOOG      50\n",
       "2            Tesla, Inc.   TSLA     150\n",
       "3             Apple Inc.   AAPL     200\n",
       "4          Netflix, Inc.   NFLX      80"
      ]
     },
     "execution_count": 1,
     "metadata": {},
     "output_type": "execute_result"
    }
   ],
   "source": [
    "import pandas as pd\n",
    "\n",
    "data = {\n",
    "    'Name': ['Microsoft Corporation', 'Google, LLC', 'Tesla, Inc.',\\\n",
    "             'Apple Inc.', 'Netflix, Inc.'],\n",
    "    'Symbol': ['MSFT', 'GOOG', 'TSLA', 'AAPL', 'NFLX'],\n",
    "    'Shares': [100, 50, 150, 200, 80]\n",
    "}\n",
    "\n",
    "df = pd.DataFrame(data)\n",
    "\n",
    "df\n",
    "\n",
    "# A dataframe with name, stock symbol, and the respective shares count of companies in a sample portfolio:"
   ]
  },
  {
   "cell_type": "markdown",
   "id": "333c66cb",
   "metadata": {},
   "source": [
    "**Example 1: to_csv() with default parameters**"
   ]
  },
  {
   "cell_type": "code",
   "execution_count": 16,
   "id": "178f94b7",
   "metadata": {},
   "outputs": [],
   "source": [
    "df.to_csv(\"shares.csv\")"
   ]
  },
  {
   "attachments": {
    "image.png": {
     "image/png": "[encoded data removed]"
    }
   },
   "cell_type": "markdown",
   "id": "029f9d3b",
   "metadata": {},
   "source": [
    "- This is how the saved CSV file looks if we open it up in Excel:\n",
    "\n",
    "![image.png](attachment:image.png)\n",
    "\n",
    "- We can see in the above snapshot that using the to_csv() function<br>\n",
    "  with default parameters saves it along with an additional column for index."
   ]
  },
  {
   "cell_type": "markdown",
   "id": "33251282",
   "metadata": {},
   "source": [
    "**Example 2: to_csv() with index=False**"
   ]
  },
  {
   "cell_type": "code",
   "execution_count": 13,
   "id": "42ca5834",
   "metadata": {},
   "outputs": [],
   "source": [
    "# Generally, we may not want to include the index of the dataframe as a separate column. \n",
    "# Particularly when they’re just continuous numbers providing no additional information. \n",
    "\n",
    "# For this, we can pass the parameter index=False to the to_csv() function.\n",
    "\n",
    "df.to_csv(\"shares-1.csv\", index=False)"
   ]
  },
  {
   "attachments": {
    "image.png": {
     "image/png": "[encoded data removed]"
    }
   },
   "cell_type": "markdown",
   "id": "6a0c69d6",
   "metadata": {},
   "source": [
    "- This is how the saved CSV file looks if we open it up in Excel:\n",
    "\n",
    "![image.png](attachment:image.png)\n",
    "\n",
    "- We can see in the above snapshot that the saved CSV<br>\n",
    "  does not have an additional column for index."
   ]
  },
  {
   "cell_type": "markdown",
   "id": "01a9c9a4",
   "metadata": {},
   "source": [
    "**Example 3: to_csv() with header=False**"
   ]
  },
  {
   "cell_type": "code",
   "execution_count": 14,
   "id": "d493948a",
   "metadata": {},
   "outputs": [],
   "source": [
    "# If we do not want to include column names in our saved CSV file pass header=False to the to_csv() function.\n",
    "\n",
    "df.to_csv(\"shares-2.csv\", index=False, header=False)"
   ]
  },
  {
   "attachments": {
    "image.png": {
     "image/png": "[encoded data removed]"
    }
   },
   "cell_type": "markdown",
   "id": "830d1966",
   "metadata": {},
   "source": [
    "- This is how the saved CSV file looks if we open it up in Excel:\n",
    "\n",
    "![image.png](attachment:image.png)\n",
    "\n",
    "- Since we passed **header=False** the saved CSV file doesn’t have the column headers.<br>\n",
    "  we can also pass a custom list of column names to the header argument,<br>\n",
    "  if we want columns to have different names. \n",
    "<br>\n",
    "\n",
    "- Note that, we also passed index=False."
   ]
  },
  {
   "cell_type": "markdown",
   "id": "136647f1",
   "metadata": {},
   "source": [
    "**Example 4: to_csv() with a subset of columns**"
   ]
  },
  {
   "cell_type": "code",
   "execution_count": 15,
   "id": "0db7f8d3",
   "metadata": {},
   "outputs": [],
   "source": [
    "# The to_csv() function also allows you the flexibility to choose the columns \n",
    "# We want from the dataframe to be saved to the CSV file. \n",
    "\n",
    "# We can pass the column names you want to include as a list to the columns argument.\n",
    "\n",
    "df.to_csv(\"shares-3.csv\", index=False, columns=['Symbol', 'Shares'])"
   ]
  },
  {
   "attachments": {
    "image.png": {
     "image/png": "[encoded data removed]"
    }
   },
   "cell_type": "markdown",
   "id": "2c2a15da",
   "metadata": {},
   "source": [
    "- This is how the saved CSV file looks if we open it up Excel.\n",
    "\n",
    "![image.png](attachment:image.png)\n",
    "\n",
    "- In the above example, we passed the list of columns to be included in the CSV file\n",
    "  as a list to the columns argument of the to_csv() function. \n",
    "<br>\n",
    "- We can see that only the columns passed: Symbol and Shares are present in the saved CSV file. \n",
    "<br>\n",
    "\n",
    "- Note that, we also passed index=False."
   ]
  },
  {
   "cell_type": "markdown",
   "id": "501c719f",
   "metadata": {},
   "source": [
    "#### 2. Saving DataFrame to an Excel file"
   ]
  },
  {
   "cell_type": "markdown",
   "id": "c12fef10",
   "metadata": {},
   "source": [
    "- Excel files can be a great way of saving our tabular data particularly \n",
    "  when we want to display it (and even perform some formatting to it) in a nice GUI like Microsoft Excel.\n",
    "<br>\n",
    "\n",
    "**to_excel() function**\n",
    "\n",
    "- The pandas DataFrame to_excel() function is used to save a pandas dataframe to an excel file. \n",
    "  It’s like the to_csv() function but instead of a CSV, it writes the dataframe to a .xlsx file. \n",
    "<br>\n",
    "\n",
    "**Syntax:-** df.to_excel(\"path\\file_name.xlsx\")\n",
    "    \n",
    "- Here, df is a pandas dataframe and is written to the excel file file_name.xlsx present at the location path. \n",
    "<br>\n",
    "- By default, the dataframe is written to Sheet1 but you can also give custom sheet names.\n",
    "<br>\n",
    "- We can also write to multiple sheets in the same excel workbook as well (See the examples below).\n",
    "<br>\n",
    "\n",
    "- Note that once the excel workbook is saved, we cannot write further data without rewriting the whole workbook."
   ]
  },
  {
   "cell_type": "code",
   "execution_count": 2,
   "id": "6a30fdf4",
   "metadata": {
    "collapsed": true
   },
   "outputs": [
    {
     "data": {
      "text/html": [
       "<div>\n",
       "<style scoped>\n",
       "    .dataframe tbody tr th:only-of-type {\n",
       "        vertical-align: middle;\n",
       "    }\n",
       "\n",
       "    .dataframe tbody tr th {\n",
       "        vertical-align: top;\n",
       "    }\n",
       "\n",
       "    .dataframe thead th {\n",
       "        text-align: right;\n",
       "    }\n",
       "</style>\n",
       "<table border=\"1\" class=\"dataframe\">\n",
       "  <thead>\n",
       "    <tr style=\"text-align: right;\">\n",
       "      <th></th>\n",
       "      <th>Name</th>\n",
       "      <th>Symbol</th>\n",
       "      <th>Shares</th>\n",
       "    </tr>\n",
       "  </thead>\n",
       "  <tbody>\n",
       "    <tr>\n",
       "      <th>0</th>\n",
       "      <td>Microsoft Corporation</td>\n",
       "      <td>MSFT</td>\n",
       "      <td>100</td>\n",
       "    </tr>\n",
       "    <tr>\n",
       "      <th>1</th>\n",
       "      <td>Google, LLC</td>\n",
       "      <td>GOOG</td>\n",
       "      <td>50</td>\n",
       "    </tr>\n",
       "    <tr>\n",
       "      <th>2</th>\n",
       "      <td>Tesla, Inc.</td>\n",
       "      <td>TSLA</td>\n",
       "      <td>150</td>\n",
       "    </tr>\n",
       "    <tr>\n",
       "      <th>3</th>\n",
       "      <td>Apple Inc.</td>\n",
       "      <td>AAPL</td>\n",
       "      <td>200</td>\n",
       "    </tr>\n",
       "    <tr>\n",
       "      <th>4</th>\n",
       "      <td>Netflix, Inc.</td>\n",
       "      <td>NFLX</td>\n",
       "      <td>80</td>\n",
       "    </tr>\n",
       "  </tbody>\n",
       "</table>\n",
       "</div>"
      ],
      "text/plain": [
       "                    Name Symbol  Shares\n",
       "0  Microsoft Corporation   MSFT     100\n",
       "1            Google, LLC   GOOG      50\n",
       "2            Tesla, Inc.   TSLA     150\n",
       "3             Apple Inc.   AAPL     200\n",
       "4          Netflix, Inc.   NFLX      80"
      ]
     },
     "execution_count": 2,
     "metadata": {},
     "output_type": "execute_result"
    }
   ],
   "source": [
    "import pandas as pd\n",
    "\n",
    "data = {\n",
    "    'Name': ['Microsoft Corporation', 'Google, LLC', 'Tesla, Inc.',\\\n",
    "             'Apple Inc.', 'Netflix, Inc.'],\n",
    "    'Symbol': ['MSFT', 'GOOG', 'TSLA', 'AAPL', 'NFLX'],\n",
    "    'Shares': [100, 50, 150, 200, 80]\n",
    "}\n",
    "\n",
    "df = pd.DataFrame(data)\n",
    "\n",
    "df"
   ]
  },
  {
   "cell_type": "code",
   "execution_count": 20,
   "id": "6e1ec7aa",
   "metadata": {
    "collapsed": true
   },
   "outputs": [
    {
     "name": "stdout",
     "output_type": "stream",
     "text": [
      "Collecting openpyxlNote: you may need to restart the kernel to use updated packages.\n"
     ]
    },
    {
     "name": "stderr",
     "output_type": "stream",
     "text": [
      "\n",
      "[notice] A new release of pip available: 22.3.1 -> 23.2.1\n",
      "[notice] To update, run: python.exe -m pip install --upgrade pip\n"
     ]
    },
    {
     "name": "stdout",
     "output_type": "stream",
     "text": [
      "\n",
      "  Downloading openpyxl-3.1.2-py2.py3-none-any.whl (249 kB)\n",
      "     -------------------------------------- 250.0/250.0 kB 2.6 MB/s eta 0:00:00\n",
      "Collecting et-xmlfile\n",
      "  Downloading et_xmlfile-1.1.0-py3-none-any.whl (4.7 kB)\n",
      "Installing collected packages: et-xmlfile, openpyxl\n",
      "Successfully installed et-xmlfile-1.1.0 openpyxl-3.1.2\n"
     ]
    }
   ],
   "source": [
    "pip install openpyxl  # To work on excel, we need to install 'openpyxl' package. "
   ]
  },
  {
   "cell_type": "markdown",
   "id": "8cfb252c",
   "metadata": {},
   "source": [
    "**Example 1:- Saving dataframe to an excel file with default parameters**"
   ]
  },
  {
   "cell_type": "code",
   "execution_count": 21,
   "id": "b27bbda7",
   "metadata": {},
   "outputs": [],
   "source": [
    "df.to_excel(\"portfolio.xlsx\")"
   ]
  },
  {
   "cell_type": "markdown",
   "id": "0311236c",
   "metadata": {},
   "source": [
    "**Example 2:- Save dataframe to an excel file with custom sheet name**"
   ]
  },
  {
   "cell_type": "code",
   "execution_count": 3,
   "id": "9d59cf87",
   "metadata": {},
   "outputs": [],
   "source": [
    "# We can specify the name of the worksheet using the sheet_name parameter.\n",
    "\n",
    "# with custom sheet name\n",
    "\n",
    "df.to_excel(\"portfolio-sheetname.xlsx\", sheet_name=\"stocks\")"
   ]
  },
  {
   "cell_type": "markdown",
   "id": "760c8260",
   "metadata": {},
   "source": [
    "#### 3. Read data from CSV files "
   ]
  },
  {
   "cell_type": "markdown",
   "id": "dfce1740",
   "metadata": {},
   "source": [
    "- The pandas read_csv() function is used to read a CSV file into a dataframe.\n",
    "<br>\n",
    "- It comes with a number of different parameters to customize how we’d like to read the file. \n",
    "\n",
    "  **Syntax for loading a csv file to a dataframe:-** df = pd.read_csv(path_to_file)\n",
    "  <br>\n",
    "\n",
    "   - Here, path_to_file is the path to the CSV file you want to load.\n",
    "     <br>\n",
    "   - It can be any valid string path or a URL.\n",
    "     <br>\n",
    "   - It returns a pandas dataframe. "
   ]
  },
  {
   "cell_type": "markdown",
   "id": "1a759cb0",
   "metadata": {},
   "source": [
    "**Example 1:- Read CSV from its location on our machine**"
   ]
  },
  {
   "cell_type": "code",
   "execution_count": 2,
   "id": "44fd8f13",
   "metadata": {},
   "outputs": [
    {
     "data": {
      "text/html": [
       "<div>\n",
       "<style scoped>\n",
       "    .dataframe tbody tr th:only-of-type {\n",
       "        vertical-align: middle;\n",
       "    }\n",
       "\n",
       "    .dataframe tbody tr th {\n",
       "        vertical-align: top;\n",
       "    }\n",
       "\n",
       "    .dataframe thead th {\n",
       "        text-align: right;\n",
       "    }\n",
       "</style>\n",
       "<table border=\"1\" class=\"dataframe\">\n",
       "  <thead>\n",
       "    <tr style=\"text-align: right;\">\n",
       "      <th></th>\n",
       "      <th>Id</th>\n",
       "      <th>SepalLengthCm</th>\n",
       "      <th>SepalWidthCm</th>\n",
       "      <th>PetalLengthCm</th>\n",
       "      <th>PetalWidthCm</th>\n",
       "      <th>Species</th>\n",
       "    </tr>\n",
       "  </thead>\n",
       "  <tbody>\n",
       "    <tr>\n",
       "      <th>0</th>\n",
       "      <td>1</td>\n",
       "      <td>5.1</td>\n",
       "      <td>3.5</td>\n",
       "      <td>1.4</td>\n",
       "      <td>0.2</td>\n",
       "      <td>Iris-setosa</td>\n",
       "    </tr>\n",
       "    <tr>\n",
       "      <th>1</th>\n",
       "      <td>2</td>\n",
       "      <td>4.9</td>\n",
       "      <td>3.0</td>\n",
       "      <td>1.4</td>\n",
       "      <td>0.2</td>\n",
       "      <td>Iris-setosa</td>\n",
       "    </tr>\n",
       "    <tr>\n",
       "      <th>2</th>\n",
       "      <td>3</td>\n",
       "      <td>4.7</td>\n",
       "      <td>3.2</td>\n",
       "      <td>1.3</td>\n",
       "      <td>0.2</td>\n",
       "      <td>Iris-setosa</td>\n",
       "    </tr>\n",
       "    <tr>\n",
       "      <th>3</th>\n",
       "      <td>4</td>\n",
       "      <td>4.6</td>\n",
       "      <td>3.1</td>\n",
       "      <td>1.5</td>\n",
       "      <td>0.2</td>\n",
       "      <td>Iris-setosa</td>\n",
       "    </tr>\n",
       "    <tr>\n",
       "      <th>4</th>\n",
       "      <td>5</td>\n",
       "      <td>5.0</td>\n",
       "      <td>3.6</td>\n",
       "      <td>1.4</td>\n",
       "      <td>0.2</td>\n",
       "      <td>Iris-setosa</td>\n",
       "    </tr>\n",
       "  </tbody>\n",
       "</table>\n",
       "</div>"
      ],
      "text/plain": [
       "   Id  SepalLengthCm  SepalWidthCm  PetalLengthCm  PetalWidthCm      Species\n",
       "0   1            5.1           3.5            1.4           0.2  Iris-setosa\n",
       "1   2            4.9           3.0            1.4           0.2  Iris-setosa\n",
       "2   3            4.7           3.2            1.3           0.2  Iris-setosa\n",
       "3   4            4.6           3.1            1.5           0.2  Iris-setosa\n",
       "4   5            5.0           3.6            1.4           0.2  Iris-setosa"
      ]
     },
     "execution_count": 2,
     "metadata": {},
     "output_type": "execute_result"
    }
   ],
   "source": [
    "# To read a CSV file locally stored on our machine pass,\n",
    "# the path to the file to the read_csv() function. \n",
    "# We can pass a relative path, that is, the path with respect to our current working directory \n",
    "# or we can pass an absolute path.\n",
    "\n",
    "# read csv using relative path\n",
    "\n",
    "import pandas as pd\n",
    "\n",
    "df = pd.read_csv('Iris.csv')\n",
    "\n",
    "df.head()\n",
    "\n",
    "# In the above example, the CSV file Iris.csv is loaded from its location using a relative path. \n",
    "# Here, the file is present in the current working directory."
   ]
  },
  {
   "cell_type": "code",
   "execution_count": 5,
   "id": "6fbf1ac5",
   "metadata": {
    "collapsed": true
   },
   "outputs": [
    {
     "data": {
      "text/html": [
       "<div>\n",
       "<style scoped>\n",
       "    .dataframe tbody tr th:only-of-type {\n",
       "        vertical-align: middle;\n",
       "    }\n",
       "\n",
       "    .dataframe tbody tr th {\n",
       "        vertical-align: top;\n",
       "    }\n",
       "\n",
       "    .dataframe thead th {\n",
       "        text-align: right;\n",
       "    }\n",
       "</style>\n",
       "<table border=\"1\" class=\"dataframe\">\n",
       "  <thead>\n",
       "    <tr style=\"text-align: right;\">\n",
       "      <th></th>\n",
       "      <th>Id</th>\n",
       "      <th>SepalLengthCm</th>\n",
       "      <th>SepalWidthCm</th>\n",
       "      <th>PetalLengthCm</th>\n",
       "      <th>PetalWidthCm</th>\n",
       "      <th>Species</th>\n",
       "    </tr>\n",
       "  </thead>\n",
       "  <tbody>\n",
       "    <tr>\n",
       "      <th>0</th>\n",
       "      <td>1</td>\n",
       "      <td>5.1</td>\n",
       "      <td>3.5</td>\n",
       "      <td>1.4</td>\n",
       "      <td>0.2</td>\n",
       "      <td>Iris-setosa</td>\n",
       "    </tr>\n",
       "    <tr>\n",
       "      <th>1</th>\n",
       "      <td>2</td>\n",
       "      <td>4.9</td>\n",
       "      <td>3.0</td>\n",
       "      <td>1.4</td>\n",
       "      <td>0.2</td>\n",
       "      <td>Iris-setosa</td>\n",
       "    </tr>\n",
       "    <tr>\n",
       "      <th>2</th>\n",
       "      <td>3</td>\n",
       "      <td>4.7</td>\n",
       "      <td>3.2</td>\n",
       "      <td>1.3</td>\n",
       "      <td>0.2</td>\n",
       "      <td>Iris-setosa</td>\n",
       "    </tr>\n",
       "    <tr>\n",
       "      <th>3</th>\n",
       "      <td>4</td>\n",
       "      <td>4.6</td>\n",
       "      <td>3.1</td>\n",
       "      <td>1.5</td>\n",
       "      <td>0.2</td>\n",
       "      <td>Iris-setosa</td>\n",
       "    </tr>\n",
       "    <tr>\n",
       "      <th>4</th>\n",
       "      <td>5</td>\n",
       "      <td>5.0</td>\n",
       "      <td>3.6</td>\n",
       "      <td>1.4</td>\n",
       "      <td>0.2</td>\n",
       "      <td>Iris-setosa</td>\n",
       "    </tr>\n",
       "  </tbody>\n",
       "</table>\n",
       "</div>"
      ],
      "text/plain": [
       "   Id  SepalLengthCm  SepalWidthCm  PetalLengthCm  PetalWidthCm      Species\n",
       "0   1            5.1           3.5            1.4           0.2  Iris-setosa\n",
       "1   2            4.9           3.0            1.4           0.2  Iris-setosa\n",
       "2   3            4.7           3.2            1.3           0.2  Iris-setosa\n",
       "3   4            4.6           3.1            1.5           0.2  Iris-setosa\n",
       "4   5            5.0           3.6            1.4           0.2  Iris-setosa"
      ]
     },
     "execution_count": 5,
     "metadata": {},
     "output_type": "execute_result"
    }
   ],
   "source": [
    "# We can also read a CSV file from its absolute path. \n",
    "\n",
    "# read csv using absolute path\n",
    "\n",
    "import pandas as pd\n",
    "\n",
    "\n",
    "df = pd.read_csv(r\"C:\\Users\\HP\\DATA SCIENCES-NEW\\2-ADVANCED PYTHON\\2-Pandas\\Iris.csv\")\n",
    "\n",
    "df.head()"
   ]
  },
  {
   "cell_type": "markdown",
   "id": "a44f2bed",
   "metadata": {},
   "source": [
    "**Example 2:- Read CSV from a URL**"
   ]
  },
  {
   "cell_type": "code",
   "execution_count": 6,
   "id": "2c8187a9",
   "metadata": {
    "collapsed": true
   },
   "outputs": [
    {
     "data": {
      "text/html": [
       "<div>\n",
       "<style scoped>\n",
       "    .dataframe tbody tr th:only-of-type {\n",
       "        vertical-align: middle;\n",
       "    }\n",
       "\n",
       "    .dataframe tbody tr th {\n",
       "        vertical-align: top;\n",
       "    }\n",
       "\n",
       "    .dataframe thead th {\n",
       "        text-align: right;\n",
       "    }\n",
       "</style>\n",
       "<table border=\"1\" class=\"dataframe\">\n",
       "  <thead>\n",
       "    <tr style=\"text-align: right;\">\n",
       "      <th></th>\n",
       "      <th>5.1</th>\n",
       "      <th>3.5</th>\n",
       "      <th>1.4</th>\n",
       "      <th>0.2</th>\n",
       "      <th>Iris-setosa</th>\n",
       "    </tr>\n",
       "  </thead>\n",
       "  <tbody>\n",
       "    <tr>\n",
       "      <th>0</th>\n",
       "      <td>4.9</td>\n",
       "      <td>3.0</td>\n",
       "      <td>1.4</td>\n",
       "      <td>0.2</td>\n",
       "      <td>Iris-setosa</td>\n",
       "    </tr>\n",
       "    <tr>\n",
       "      <th>1</th>\n",
       "      <td>4.7</td>\n",
       "      <td>3.2</td>\n",
       "      <td>1.3</td>\n",
       "      <td>0.2</td>\n",
       "      <td>Iris-setosa</td>\n",
       "    </tr>\n",
       "    <tr>\n",
       "      <th>2</th>\n",
       "      <td>4.6</td>\n",
       "      <td>3.1</td>\n",
       "      <td>1.5</td>\n",
       "      <td>0.2</td>\n",
       "      <td>Iris-setosa</td>\n",
       "    </tr>\n",
       "    <tr>\n",
       "      <th>3</th>\n",
       "      <td>5.0</td>\n",
       "      <td>3.6</td>\n",
       "      <td>1.4</td>\n",
       "      <td>0.2</td>\n",
       "      <td>Iris-setosa</td>\n",
       "    </tr>\n",
       "    <tr>\n",
       "      <th>4</th>\n",
       "      <td>5.4</td>\n",
       "      <td>3.9</td>\n",
       "      <td>1.7</td>\n",
       "      <td>0.4</td>\n",
       "      <td>Iris-setosa</td>\n",
       "    </tr>\n",
       "  </tbody>\n",
       "</table>\n",
       "</div>"
      ],
      "text/plain": [
       "   5.1  3.5  1.4  0.2  Iris-setosa\n",
       "0  4.9  3.0  1.4  0.2  Iris-setosa\n",
       "1  4.7  3.2  1.3  0.2  Iris-setosa\n",
       "2  4.6  3.1  1.5  0.2  Iris-setosa\n",
       "3  5.0  3.6  1.4  0.2  Iris-setosa\n",
       "4  5.4  3.9  1.7  0.4  Iris-setosa"
      ]
     },
     "execution_count": 6,
     "metadata": {},
     "output_type": "execute_result"
    }
   ],
   "source": [
    "# We can also read a CSV file from its URL. \n",
    "# Pass the URL to the read_csv() function and it’ll read the corresponding file to a dataframe. \n",
    "# The Iris dataset can also be downloaded from the UCI Machine Learning Repository. \n",
    "# Let’s use their dataset download URL to read it as a dataframe.\n",
    "\n",
    "import pandas as pd\n",
    "\n",
    "df = pd.read_csv(\"https://archive.ics.uci.edu/ml/machine-learning-databases/iris/iris.data\")\n",
    "\n",
    "df.head()"
   ]
  },
  {
   "cell_type": "markdown",
   "id": "a71dd4bd",
   "metadata": {},
   "source": [
    "- We can see that the read_csv() function is able to read a dataset from its URL. \n",
    "\n",
    "- It is interesting to note that in this particular data source, we do not have headers. \n",
    "\n",
    "- The read_csv() function infers the header by default and here uses the first row of the dataset as the header."
   ]
  },
  {
   "cell_type": "markdown",
   "id": "f7aa1090",
   "metadata": {},
   "source": [
    "**Example 3:- Read a CSV file without a header**"
   ]
  },
  {
   "cell_type": "code",
   "execution_count": 7,
   "id": "fd7d863d",
   "metadata": {},
   "outputs": [
    {
     "data": {
      "text/html": [
       "<div>\n",
       "<style scoped>\n",
       "    .dataframe tbody tr th:only-of-type {\n",
       "        vertical-align: middle;\n",
       "    }\n",
       "\n",
       "    .dataframe tbody tr th {\n",
       "        vertical-align: top;\n",
       "    }\n",
       "\n",
       "    .dataframe thead th {\n",
       "        text-align: right;\n",
       "    }\n",
       "</style>\n",
       "<table border=\"1\" class=\"dataframe\">\n",
       "  <thead>\n",
       "    <tr style=\"text-align: right;\">\n",
       "      <th></th>\n",
       "      <th>0</th>\n",
       "      <th>1</th>\n",
       "      <th>2</th>\n",
       "      <th>3</th>\n",
       "      <th>4</th>\n",
       "    </tr>\n",
       "  </thead>\n",
       "  <tbody>\n",
       "    <tr>\n",
       "      <th>0</th>\n",
       "      <td>5.1</td>\n",
       "      <td>3.5</td>\n",
       "      <td>1.4</td>\n",
       "      <td>0.2</td>\n",
       "      <td>Iris-setosa</td>\n",
       "    </tr>\n",
       "    <tr>\n",
       "      <th>1</th>\n",
       "      <td>4.9</td>\n",
       "      <td>3.0</td>\n",
       "      <td>1.4</td>\n",
       "      <td>0.2</td>\n",
       "      <td>Iris-setosa</td>\n",
       "    </tr>\n",
       "    <tr>\n",
       "      <th>2</th>\n",
       "      <td>4.7</td>\n",
       "      <td>3.2</td>\n",
       "      <td>1.3</td>\n",
       "      <td>0.2</td>\n",
       "      <td>Iris-setosa</td>\n",
       "    </tr>\n",
       "    <tr>\n",
       "      <th>3</th>\n",
       "      <td>4.6</td>\n",
       "      <td>3.1</td>\n",
       "      <td>1.5</td>\n",
       "      <td>0.2</td>\n",
       "      <td>Iris-setosa</td>\n",
       "    </tr>\n",
       "    <tr>\n",
       "      <th>4</th>\n",
       "      <td>5.0</td>\n",
       "      <td>3.6</td>\n",
       "      <td>1.4</td>\n",
       "      <td>0.2</td>\n",
       "      <td>Iris-setosa</td>\n",
       "    </tr>\n",
       "  </tbody>\n",
       "</table>\n",
       "</div>"
      ],
      "text/plain": [
       "     0    1    2    3            4\n",
       "0  5.1  3.5  1.4  0.2  Iris-setosa\n",
       "1  4.9  3.0  1.4  0.2  Iris-setosa\n",
       "2  4.7  3.2  1.3  0.2  Iris-setosa\n",
       "3  4.6  3.1  1.5  0.2  Iris-setosa\n",
       "4  5.0  3.6  1.4  0.2  Iris-setosa"
      ]
     },
     "execution_count": 7,
     "metadata": {},
     "output_type": "execute_result"
    }
   ],
   "source": [
    "# In the above example, we saw that if the dataset does not have a header, \n",
    "# the read_csv() function infers it by itself and uses the first row of the dataset as the header.\n",
    "# We can change this behavior through the header parameter,\n",
    "# pass None if your dataset does not have a header.\n",
    "# We can also pass a custom list of integers as a header.\n",
    "\n",
    "import pandas as pd\n",
    "\n",
    "df = pd.read_csv(\"https://archive.ics.uci.edu/ml/machine-learning-databases/iris/iris.data\", header=None)\n",
    "\n",
    "df.head()\n",
    "\n",
    "# In the above example, we pass header=None to the read_csv() function since the dataset did not have a header."
   ]
  },
  {
   "cell_type": "markdown",
   "id": "e498b2be",
   "metadata": {},
   "source": [
    "**Example 4:- Read a CSV file and give custom column names**"
   ]
  },
  {
   "cell_type": "code",
   "execution_count": 8,
   "id": "9ad03b1a",
   "metadata": {},
   "outputs": [
    {
     "data": {
      "text/html": [
       "<div>\n",
       "<style scoped>\n",
       "    .dataframe tbody tr th:only-of-type {\n",
       "        vertical-align: middle;\n",
       "    }\n",
       "\n",
       "    .dataframe tbody tr th {\n",
       "        vertical-align: top;\n",
       "    }\n",
       "\n",
       "    .dataframe thead th {\n",
       "        text-align: right;\n",
       "    }\n",
       "</style>\n",
       "<table border=\"1\" class=\"dataframe\">\n",
       "  <thead>\n",
       "    <tr style=\"text-align: right;\">\n",
       "      <th></th>\n",
       "      <th>SepalLengthCm</th>\n",
       "      <th>SepalWidthCm</th>\n",
       "      <th>PetalLengthCm</th>\n",
       "      <th>PetalWidthCm</th>\n",
       "      <th>Species</th>\n",
       "    </tr>\n",
       "  </thead>\n",
       "  <tbody>\n",
       "    <tr>\n",
       "      <th>0</th>\n",
       "      <td>5.1</td>\n",
       "      <td>3.5</td>\n",
       "      <td>1.4</td>\n",
       "      <td>0.2</td>\n",
       "      <td>Iris-setosa</td>\n",
       "    </tr>\n",
       "    <tr>\n",
       "      <th>1</th>\n",
       "      <td>4.9</td>\n",
       "      <td>3.0</td>\n",
       "      <td>1.4</td>\n",
       "      <td>0.2</td>\n",
       "      <td>Iris-setosa</td>\n",
       "    </tr>\n",
       "    <tr>\n",
       "      <th>2</th>\n",
       "      <td>4.7</td>\n",
       "      <td>3.2</td>\n",
       "      <td>1.3</td>\n",
       "      <td>0.2</td>\n",
       "      <td>Iris-setosa</td>\n",
       "    </tr>\n",
       "    <tr>\n",
       "      <th>3</th>\n",
       "      <td>4.6</td>\n",
       "      <td>3.1</td>\n",
       "      <td>1.5</td>\n",
       "      <td>0.2</td>\n",
       "      <td>Iris-setosa</td>\n",
       "    </tr>\n",
       "    <tr>\n",
       "      <th>4</th>\n",
       "      <td>5.0</td>\n",
       "      <td>3.6</td>\n",
       "      <td>1.4</td>\n",
       "      <td>0.2</td>\n",
       "      <td>Iris-setosa</td>\n",
       "    </tr>\n",
       "  </tbody>\n",
       "</table>\n",
       "</div>"
      ],
      "text/plain": [
       "   SepalLengthCm  SepalWidthCm  PetalLengthCm  PetalWidthCm      Species\n",
       "0            5.1           3.5            1.4           0.2  Iris-setosa\n",
       "1            4.9           3.0            1.4           0.2  Iris-setosa\n",
       "2            4.7           3.2            1.3           0.2  Iris-setosa\n",
       "3            4.6           3.1            1.5           0.2  Iris-setosa\n",
       "4            5.0           3.6            1.4           0.2  Iris-setosa"
      ]
     },
     "execution_count": 8,
     "metadata": {},
     "output_type": "execute_result"
    }
   ],
   "source": [
    "# We can give custom column names to your dataframe when reading a CSV file using the read_csv() function.\n",
    "# Pass your custom column names as a list to the names parameter.\n",
    "\n",
    "import pandas as pd\n",
    "\n",
    "df = pd.read_csv(\"https://archive.ics.uci.edu/ml/machine-learning-databases/iris/iris.data\",\n",
    "                 names = ['SepalLengthCm', 'SepalWidthCm', 'PetalLengthCm', 'PetalWidthCm', 'Species'])\n",
    "\n",
    "df.head()"
   ]
  },
  {
   "cell_type": "markdown",
   "id": "eab1b065",
   "metadata": {},
   "source": [
    "**Example 5:- Read CSV with a column as index**"
   ]
  },
  {
   "cell_type": "code",
   "execution_count": 9,
   "id": "db593eef",
   "metadata": {},
   "outputs": [
    {
     "data": {
      "text/html": [
       "<div>\n",
       "<style scoped>\n",
       "    .dataframe tbody tr th:only-of-type {\n",
       "        vertical-align: middle;\n",
       "    }\n",
       "\n",
       "    .dataframe tbody tr th {\n",
       "        vertical-align: top;\n",
       "    }\n",
       "\n",
       "    .dataframe thead th {\n",
       "        text-align: right;\n",
       "    }\n",
       "</style>\n",
       "<table border=\"1\" class=\"dataframe\">\n",
       "  <thead>\n",
       "    <tr style=\"text-align: right;\">\n",
       "      <th></th>\n",
       "      <th>SepalLengthCm</th>\n",
       "      <th>SepalWidthCm</th>\n",
       "      <th>PetalLengthCm</th>\n",
       "      <th>PetalWidthCm</th>\n",
       "      <th>Species</th>\n",
       "    </tr>\n",
       "    <tr>\n",
       "      <th>Id</th>\n",
       "      <th></th>\n",
       "      <th></th>\n",
       "      <th></th>\n",
       "      <th></th>\n",
       "      <th></th>\n",
       "    </tr>\n",
       "  </thead>\n",
       "  <tbody>\n",
       "    <tr>\n",
       "      <th>1</th>\n",
       "      <td>5.1</td>\n",
       "      <td>3.5</td>\n",
       "      <td>1.4</td>\n",
       "      <td>0.2</td>\n",
       "      <td>Iris-setosa</td>\n",
       "    </tr>\n",
       "    <tr>\n",
       "      <th>2</th>\n",
       "      <td>4.9</td>\n",
       "      <td>3.0</td>\n",
       "      <td>1.4</td>\n",
       "      <td>0.2</td>\n",
       "      <td>Iris-setosa</td>\n",
       "    </tr>\n",
       "    <tr>\n",
       "      <th>3</th>\n",
       "      <td>4.7</td>\n",
       "      <td>3.2</td>\n",
       "      <td>1.3</td>\n",
       "      <td>0.2</td>\n",
       "      <td>Iris-setosa</td>\n",
       "    </tr>\n",
       "    <tr>\n",
       "      <th>4</th>\n",
       "      <td>4.6</td>\n",
       "      <td>3.1</td>\n",
       "      <td>1.5</td>\n",
       "      <td>0.2</td>\n",
       "      <td>Iris-setosa</td>\n",
       "    </tr>\n",
       "    <tr>\n",
       "      <th>5</th>\n",
       "      <td>5.0</td>\n",
       "      <td>3.6</td>\n",
       "      <td>1.4</td>\n",
       "      <td>0.2</td>\n",
       "      <td>Iris-setosa</td>\n",
       "    </tr>\n",
       "  </tbody>\n",
       "</table>\n",
       "</div>"
      ],
      "text/plain": [
       "    SepalLengthCm  SepalWidthCm  PetalLengthCm  PetalWidthCm      Species\n",
       "Id                                                                       \n",
       "1             5.1           3.5            1.4           0.2  Iris-setosa\n",
       "2             4.9           3.0            1.4           0.2  Iris-setosa\n",
       "3             4.7           3.2            1.3           0.2  Iris-setosa\n",
       "4             4.6           3.1            1.5           0.2  Iris-setosa\n",
       "5             5.0           3.6            1.4           0.2  Iris-setosa"
      ]
     },
     "execution_count": 9,
     "metadata": {},
     "output_type": "execute_result"
    }
   ],
   "source": [
    "# We can also use a column as the row labels of the dataframe.\n",
    "\n",
    "# Pass the column name to the index_col parameter. \n",
    "\n",
    "# read csv with a column as index\n",
    "\n",
    "import pandas as pd\n",
    "\n",
    "df = pd.read_csv('Iris.csv', index_col='Id')\n",
    "\n",
    "df.head()\n",
    "\n",
    "# In the above example, we can see that the Id column is used as the row index of the dataframe df. \n",
    "\n",
    "# We can also pass multiple columns as list to the index_col parameter to be used as row index."
   ]
  },
  {
   "cell_type": "markdown",
   "id": "a66b1794",
   "metadata": {},
   "source": [
    "**Example 6:- Read only a subset of columns of a CSV**"
   ]
  },
  {
   "cell_type": "code",
   "execution_count": 10,
   "id": "fb4fb1b4",
   "metadata": {},
   "outputs": [
    {
     "data": {
      "text/html": [
       "<div>\n",
       "<style scoped>\n",
       "    .dataframe tbody tr th:only-of-type {\n",
       "        vertical-align: middle;\n",
       "    }\n",
       "\n",
       "    .dataframe tbody tr th {\n",
       "        vertical-align: top;\n",
       "    }\n",
       "\n",
       "    .dataframe thead th {\n",
       "        text-align: right;\n",
       "    }\n",
       "</style>\n",
       "<table border=\"1\" class=\"dataframe\">\n",
       "  <thead>\n",
       "    <tr style=\"text-align: right;\">\n",
       "      <th></th>\n",
       "      <th>SepalLengthCm</th>\n",
       "      <th>SepalWidthCm</th>\n",
       "      <th>PetalLengthCm</th>\n",
       "      <th>PetalWidthCm</th>\n",
       "      <th>Species</th>\n",
       "    </tr>\n",
       "  </thead>\n",
       "  <tbody>\n",
       "    <tr>\n",
       "      <th>0</th>\n",
       "      <td>5.1</td>\n",
       "      <td>3.5</td>\n",
       "      <td>1.4</td>\n",
       "      <td>0.2</td>\n",
       "      <td>Iris-setosa</td>\n",
       "    </tr>\n",
       "    <tr>\n",
       "      <th>1</th>\n",
       "      <td>4.9</td>\n",
       "      <td>3.0</td>\n",
       "      <td>1.4</td>\n",
       "      <td>0.2</td>\n",
       "      <td>Iris-setosa</td>\n",
       "    </tr>\n",
       "    <tr>\n",
       "      <th>2</th>\n",
       "      <td>4.7</td>\n",
       "      <td>3.2</td>\n",
       "      <td>1.3</td>\n",
       "      <td>0.2</td>\n",
       "      <td>Iris-setosa</td>\n",
       "    </tr>\n",
       "    <tr>\n",
       "      <th>3</th>\n",
       "      <td>4.6</td>\n",
       "      <td>3.1</td>\n",
       "      <td>1.5</td>\n",
       "      <td>0.2</td>\n",
       "      <td>Iris-setosa</td>\n",
       "    </tr>\n",
       "    <tr>\n",
       "      <th>4</th>\n",
       "      <td>5.0</td>\n",
       "      <td>3.6</td>\n",
       "      <td>1.4</td>\n",
       "      <td>0.2</td>\n",
       "      <td>Iris-setosa</td>\n",
       "    </tr>\n",
       "  </tbody>\n",
       "</table>\n",
       "</div>"
      ],
      "text/plain": [
       "   SepalLengthCm  SepalWidthCm  PetalLengthCm  PetalWidthCm      Species\n",
       "0            5.1           3.5            1.4           0.2  Iris-setosa\n",
       "1            4.9           3.0            1.4           0.2  Iris-setosa\n",
       "2            4.7           3.2            1.3           0.2  Iris-setosa\n",
       "3            4.6           3.1            1.5           0.2  Iris-setosa\n",
       "4            5.0           3.6            1.4           0.2  Iris-setosa"
      ]
     },
     "execution_count": 10,
     "metadata": {},
     "output_type": "execute_result"
    }
   ],
   "source": [
    "# We can also specify the subset of columns to read from the dataset.\n",
    "# Pass the subset of columns you want as a list to the usecols parameter. \n",
    "\n",
    "# For example, let’s read all the columns from Iris.csv except Id.\n",
    "\n",
    "# read csv with a column as index\n",
    "\n",
    "import pandas as pd\n",
    "\n",
    "df = pd.read_csv('Iris.csv', usecols=['SepalLengthCm', 'SepalWidthCm', 'PetalLengthCm', 'PetalWidthCm', 'Species'])\n",
    "\n",
    "df.head()"
   ]
  },
  {
   "cell_type": "markdown",
   "id": "fd98e929",
   "metadata": {},
   "source": [
    "**Example 7:- Read only the first n rows of a CSV**"
   ]
  },
  {
   "cell_type": "code",
   "execution_count": 11,
   "id": "1728d9a8",
   "metadata": {},
   "outputs": [
    {
     "data": {
      "text/html": [
       "<div>\n",
       "<style scoped>\n",
       "    .dataframe tbody tr th:only-of-type {\n",
       "        vertical-align: middle;\n",
       "    }\n",
       "\n",
       "    .dataframe tbody tr th {\n",
       "        vertical-align: top;\n",
       "    }\n",
       "\n",
       "    .dataframe thead th {\n",
       "        text-align: right;\n",
       "    }\n",
       "</style>\n",
       "<table border=\"1\" class=\"dataframe\">\n",
       "  <thead>\n",
       "    <tr style=\"text-align: right;\">\n",
       "      <th></th>\n",
       "      <th>Id</th>\n",
       "      <th>SepalLengthCm</th>\n",
       "      <th>SepalWidthCm</th>\n",
       "      <th>PetalLengthCm</th>\n",
       "      <th>PetalWidthCm</th>\n",
       "      <th>Species</th>\n",
       "    </tr>\n",
       "  </thead>\n",
       "  <tbody>\n",
       "    <tr>\n",
       "      <th>0</th>\n",
       "      <td>1</td>\n",
       "      <td>5.1</td>\n",
       "      <td>3.5</td>\n",
       "      <td>1.4</td>\n",
       "      <td>0.2</td>\n",
       "      <td>Iris-setosa</td>\n",
       "    </tr>\n",
       "    <tr>\n",
       "      <th>1</th>\n",
       "      <td>2</td>\n",
       "      <td>4.9</td>\n",
       "      <td>3.0</td>\n",
       "      <td>1.4</td>\n",
       "      <td>0.2</td>\n",
       "      <td>Iris-setosa</td>\n",
       "    </tr>\n",
       "    <tr>\n",
       "      <th>2</th>\n",
       "      <td>3</td>\n",
       "      <td>4.7</td>\n",
       "      <td>3.2</td>\n",
       "      <td>1.3</td>\n",
       "      <td>0.2</td>\n",
       "      <td>Iris-setosa</td>\n",
       "    </tr>\n",
       "  </tbody>\n",
       "</table>\n",
       "</div>"
      ],
      "text/plain": [
       "   Id  SepalLengthCm  SepalWidthCm  PetalLengthCm  PetalWidthCm      Species\n",
       "0   1            5.1           3.5            1.4           0.2  Iris-setosa\n",
       "1   2            4.9           3.0            1.4           0.2  Iris-setosa\n",
       "2   3            4.7           3.2            1.3           0.2  Iris-setosa"
      ]
     },
     "execution_count": 11,
     "metadata": {},
     "output_type": "execute_result"
    }
   ],
   "source": [
    "# We can also specify the number of rows of a file to read using the nrows parameter to the read_csv() function. \n",
    "# Particularly useful when you want to read a small segment of a large file.\n",
    "\n",
    "# read csv with a column as index\n",
    "\n",
    "import pandas as pd\n",
    "\n",
    "df = pd.read_csv('Iris.csv', nrows=3)\n",
    "\n",
    "df.head()"
   ]
  },
  {
   "cell_type": "markdown",
   "id": "d22dea2e",
   "metadata": {},
   "source": [
    "#### 4.Get Row Count"
   ]
  },
  {
   "cell_type": "code",
   "execution_count": null,
   "id": "35eb4c57",
   "metadata": {},
   "outputs": [],
   "source": [
    "The size of the dataframe is a very important factor to determine\n",
    "the kind of manipulations and processes that can be applied to it. \n",
    "\n",
    "For example, if we have limited resources and working with large datasets, \n",
    "it is important to use processes that are not compute-heavy.\n",
    "\n",
    "There are a number of ways to get the number of rows of a pandas dataframe. \n",
    "You can determine it using the shape of the dataframe. Or, \n",
    "you can use the len() function."
   ]
  },
  {
   "cell_type": "code",
   "execution_count": 4,
   "id": "a5e2fbcc",
   "metadata": {},
   "outputs": [
    {
     "data": {
      "text/html": [
       "<div>\n",
       "<style scoped>\n",
       "    .dataframe tbody tr th:only-of-type {\n",
       "        vertical-align: middle;\n",
       "    }\n",
       "\n",
       "    .dataframe tbody tr th {\n",
       "        vertical-align: top;\n",
       "    }\n",
       "\n",
       "    .dataframe thead th {\n",
       "        text-align: right;\n",
       "    }\n",
       "</style>\n",
       "<table border=\"1\" class=\"dataframe\">\n",
       "  <thead>\n",
       "    <tr style=\"text-align: right;\">\n",
       "      <th></th>\n",
       "      <th>Date</th>\n",
       "      <th>Location</th>\n",
       "      <th>MinTemp</th>\n",
       "      <th>MaxTemp</th>\n",
       "      <th>Rainfall</th>\n",
       "      <th>Evaporation</th>\n",
       "      <th>Sunshine</th>\n",
       "      <th>WindGustDir</th>\n",
       "      <th>WindGustSpeed</th>\n",
       "      <th>WindDir9am</th>\n",
       "      <th>...</th>\n",
       "      <th>Humidity9am</th>\n",
       "      <th>Humidity3pm</th>\n",
       "      <th>Pressure9am</th>\n",
       "      <th>Pressure3pm</th>\n",
       "      <th>Cloud9am</th>\n",
       "      <th>Cloud3pm</th>\n",
       "      <th>Temp9am</th>\n",
       "      <th>Temp3pm</th>\n",
       "      <th>RainToday</th>\n",
       "      <th>RainTomorrow</th>\n",
       "    </tr>\n",
       "  </thead>\n",
       "  <tbody>\n",
       "    <tr>\n",
       "      <th>0</th>\n",
       "      <td>2008-12-01</td>\n",
       "      <td>Albury</td>\n",
       "      <td>13.4</td>\n",
       "      <td>22.9</td>\n",
       "      <td>0.6</td>\n",
       "      <td>NaN</td>\n",
       "      <td>NaN</td>\n",
       "      <td>W</td>\n",
       "      <td>44.0</td>\n",
       "      <td>W</td>\n",
       "      <td>...</td>\n",
       "      <td>71.0</td>\n",
       "      <td>22.0</td>\n",
       "      <td>1007.7</td>\n",
       "      <td>1007.1</td>\n",
       "      <td>8.0</td>\n",
       "      <td>NaN</td>\n",
       "      <td>16.9</td>\n",
       "      <td>21.8</td>\n",
       "      <td>No</td>\n",
       "      <td>No</td>\n",
       "    </tr>\n",
       "    <tr>\n",
       "      <th>1</th>\n",
       "      <td>2008-12-02</td>\n",
       "      <td>Albury</td>\n",
       "      <td>7.4</td>\n",
       "      <td>25.1</td>\n",
       "      <td>0.0</td>\n",
       "      <td>NaN</td>\n",
       "      <td>NaN</td>\n",
       "      <td>WNW</td>\n",
       "      <td>44.0</td>\n",
       "      <td>NNW</td>\n",
       "      <td>...</td>\n",
       "      <td>44.0</td>\n",
       "      <td>25.0</td>\n",
       "      <td>1010.6</td>\n",
       "      <td>1007.8</td>\n",
       "      <td>NaN</td>\n",
       "      <td>NaN</td>\n",
       "      <td>17.2</td>\n",
       "      <td>24.3</td>\n",
       "      <td>No</td>\n",
       "      <td>No</td>\n",
       "    </tr>\n",
       "    <tr>\n",
       "      <th>2</th>\n",
       "      <td>2008-12-03</td>\n",
       "      <td>Albury</td>\n",
       "      <td>12.9</td>\n",
       "      <td>25.7</td>\n",
       "      <td>0.0</td>\n",
       "      <td>NaN</td>\n",
       "      <td>NaN</td>\n",
       "      <td>WSW</td>\n",
       "      <td>46.0</td>\n",
       "      <td>W</td>\n",
       "      <td>...</td>\n",
       "      <td>38.0</td>\n",
       "      <td>30.0</td>\n",
       "      <td>1007.6</td>\n",
       "      <td>1008.7</td>\n",
       "      <td>NaN</td>\n",
       "      <td>2.0</td>\n",
       "      <td>21.0</td>\n",
       "      <td>23.2</td>\n",
       "      <td>No</td>\n",
       "      <td>No</td>\n",
       "    </tr>\n",
       "    <tr>\n",
       "      <th>3</th>\n",
       "      <td>2008-12-04</td>\n",
       "      <td>Albury</td>\n",
       "      <td>9.2</td>\n",
       "      <td>28.0</td>\n",
       "      <td>0.0</td>\n",
       "      <td>NaN</td>\n",
       "      <td>NaN</td>\n",
       "      <td>NE</td>\n",
       "      <td>24.0</td>\n",
       "      <td>SE</td>\n",
       "      <td>...</td>\n",
       "      <td>45.0</td>\n",
       "      <td>16.0</td>\n",
       "      <td>1017.6</td>\n",
       "      <td>1012.8</td>\n",
       "      <td>NaN</td>\n",
       "      <td>NaN</td>\n",
       "      <td>18.1</td>\n",
       "      <td>26.5</td>\n",
       "      <td>No</td>\n",
       "      <td>No</td>\n",
       "    </tr>\n",
       "    <tr>\n",
       "      <th>4</th>\n",
       "      <td>2008-12-05</td>\n",
       "      <td>Albury</td>\n",
       "      <td>17.5</td>\n",
       "      <td>32.3</td>\n",
       "      <td>1.0</td>\n",
       "      <td>NaN</td>\n",
       "      <td>NaN</td>\n",
       "      <td>W</td>\n",
       "      <td>41.0</td>\n",
       "      <td>ENE</td>\n",
       "      <td>...</td>\n",
       "      <td>82.0</td>\n",
       "      <td>33.0</td>\n",
       "      <td>1010.8</td>\n",
       "      <td>1006.0</td>\n",
       "      <td>7.0</td>\n",
       "      <td>8.0</td>\n",
       "      <td>17.8</td>\n",
       "      <td>29.7</td>\n",
       "      <td>No</td>\n",
       "      <td>No</td>\n",
       "    </tr>\n",
       "  </tbody>\n",
       "</table>\n",
       "<p>5 rows × 23 columns</p>\n",
       "</div>"
      ],
      "text/plain": [
       "         Date Location  MinTemp  MaxTemp  Rainfall  Evaporation  Sunshine  \\\n",
       "0  2008-12-01   Albury     13.4     22.9       0.6          NaN       NaN   \n",
       "1  2008-12-02   Albury      7.4     25.1       0.0          NaN       NaN   \n",
       "2  2008-12-03   Albury     12.9     25.7       0.0          NaN       NaN   \n",
       "3  2008-12-04   Albury      9.2     28.0       0.0          NaN       NaN   \n",
       "4  2008-12-05   Albury     17.5     32.3       1.0          NaN       NaN   \n",
       "\n",
       "  WindGustDir  WindGustSpeed WindDir9am  ... Humidity9am  Humidity3pm  \\\n",
       "0           W           44.0          W  ...        71.0         22.0   \n",
       "1         WNW           44.0        NNW  ...        44.0         25.0   \n",
       "2         WSW           46.0          W  ...        38.0         30.0   \n",
       "3          NE           24.0         SE  ...        45.0         16.0   \n",
       "4           W           41.0        ENE  ...        82.0         33.0   \n",
       "\n",
       "   Pressure9am  Pressure3pm  Cloud9am  Cloud3pm  Temp9am  Temp3pm  RainToday  \\\n",
       "0       1007.7       1007.1       8.0       NaN     16.9     21.8         No   \n",
       "1       1010.6       1007.8       NaN       NaN     17.2     24.3         No   \n",
       "2       1007.6       1008.7       NaN       2.0     21.0     23.2         No   \n",
       "3       1017.6       1012.8       NaN       NaN     18.1     26.5         No   \n",
       "4       1010.8       1006.0       7.0       8.0     17.8     29.7         No   \n",
       "\n",
       "   RainTomorrow  \n",
       "0            No  \n",
       "1            No  \n",
       "2            No  \n",
       "3            No  \n",
       "4            No  \n",
       "\n",
       "[5 rows x 23 columns]"
      ]
     },
     "execution_count": 4,
     "metadata": {},
     "output_type": "execute_result"
    }
   ],
   "source": [
    "import pandas as pd\n",
    "\n",
    "df = pd.read_csv('weatherAUS.csv')\n",
    "\n",
    "df.head()"
   ]
  },
  {
   "cell_type": "markdown",
   "id": "fc1ecaae",
   "metadata": {},
   "source": [
    "###### Get row count using .shape[0]"
   ]
  },
  {
   "cell_type": "code",
   "execution_count": 7,
   "id": "fd67463d",
   "metadata": {},
   "outputs": [
    {
     "name": "stdout",
     "output_type": "stream",
     "text": [
      "Shape of the dataframe:- (145460, 23)\n",
      "\n",
      "No of rows in the dataframe:- 145460\n"
     ]
    }
   ],
   "source": [
    "# The .shape property gives us the shape of the dataframe in form of a (row_count, column_count) tuple. \n",
    "# That is, the first element of the tuple gives you the row count of the dataframe. \n",
    "\n",
    "# Let’s get the shape of the above dataframe:\n",
    "\n",
    "# number of rows using .shape[0]\n",
    "\n",
    "print(\"Shape of the dataframe:-\", df.shape)\n",
    "\n",
    "print()\n",
    "\n",
    "print(\"No of rows in the dataframe:-\", df.shape[0])\n",
    "\n",
    "# We can see that df.shape gives the tuple (145460, 23) denoting that \n",
    "# the dataframe df has 145460 rows and 23 columns. \n",
    "\n",
    "# If we specifically want just the number of rows, use df.shape[0]"
   ]
  },
  {
   "cell_type": "markdown",
   "id": "0bc2868b",
   "metadata": {},
   "source": [
    "###### Get row count using the len() function"
   ]
  },
  {
   "cell_type": "code",
   "execution_count": 8,
   "id": "e93246cc",
   "metadata": {},
   "outputs": [
    {
     "name": "stdout",
     "output_type": "stream",
     "text": [
      "Number of rows using len() function:- 145460\n"
     ]
    }
   ],
   "source": [
    "# We can also use the built-in python len() function to determine the number of rows. \n",
    "\n",
    "# This function is used to get the length of iterable objects. \n",
    "\n",
    "print(\"Number of rows using len() function:-\", len(df))"
   ]
  },
  {
   "cell_type": "markdown",
   "id": "6de6c013",
   "metadata": {},
   "source": [
    "#### 5. Get Value of a Cell in Dataframe"
   ]
  },
  {
   "attachments": {
    "image.png": {
     "image/png": "[encoded data removed]"
    }
   },
   "cell_type": "markdown",
   "id": "fd767f76",
   "metadata": {},
   "source": [
    "![image.png](attachment:image.png)"
   ]
  },
  {
   "cell_type": "markdown",
   "id": "2c015449",
   "metadata": {},
   "source": [
    "###### 1. iat property"
   ]
  },
  {
   "cell_type": "markdown",
   "id": "515b7061",
   "metadata": {},
   "source": [
    "- Use the Pandas dataframe **iat** property to get the cell value of a dataframe<br>\n",
    "  using its row and column indices (integer positions). \n",
    "<br>\n",
    "\n",
    "- Alternatively, if we want to access the value of a cell using its row and column labels, use the **at** property.\n",
    "\n",
    "  **Syntax:-**\n",
    "  <br>\n",
    "  \n",
    "  - get cell value using row and column indices (integer positions):- **df.iat[row_position, column_position]**\n",
    "  <br>\n",
    "\n",
    "  - get cell value using row and column labels:- **df.at[row_label, column_label]**\n",
    "<br>\n",
    "- It returns the single cell value for the given row/column pair.\n",
    "<br>\n",
    "\n",
    "- Note that, we use the **iat** or the **at** property to specifically access a single value\n",
    "  for the given row and column indices (or labels). \n",
    "<br>\n",
    "\n",
    "- We can also use the iloc and the loc property to access the value of a single (and multiple cells) in a Pandas dataframe."
   ]
  },
  {
   "cell_type": "code",
   "execution_count": 9,
   "id": "f6aecb12",
   "metadata": {},
   "outputs": [
    {
     "data": {
      "text/html": [
       "<div>\n",
       "<style scoped>\n",
       "    .dataframe tbody tr th:only-of-type {\n",
       "        vertical-align: middle;\n",
       "    }\n",
       "\n",
       "    .dataframe tbody tr th {\n",
       "        vertical-align: top;\n",
       "    }\n",
       "\n",
       "    .dataframe thead th {\n",
       "        text-align: right;\n",
       "    }\n",
       "</style>\n",
       "<table border=\"1\" class=\"dataframe\">\n",
       "  <thead>\n",
       "    <tr style=\"text-align: right;\">\n",
       "      <th></th>\n",
       "      <th>Name</th>\n",
       "      <th>Age</th>\n",
       "      <th>Department</th>\n",
       "    </tr>\n",
       "  </thead>\n",
       "  <tbody>\n",
       "    <tr>\n",
       "      <th>0</th>\n",
       "      <td>Jim</td>\n",
       "      <td>26</td>\n",
       "      <td>Sales</td>\n",
       "    </tr>\n",
       "    <tr>\n",
       "      <th>1</th>\n",
       "      <td>Dwight</td>\n",
       "      <td>28</td>\n",
       "      <td>Sales</td>\n",
       "    </tr>\n",
       "    <tr>\n",
       "      <th>2</th>\n",
       "      <td>Angela</td>\n",
       "      <td>27</td>\n",
       "      <td>Accounting</td>\n",
       "    </tr>\n",
       "    <tr>\n",
       "      <th>3</th>\n",
       "      <td>Tobi</td>\n",
       "      <td>32</td>\n",
       "      <td>HR</td>\n",
       "    </tr>\n",
       "  </tbody>\n",
       "</table>\n",
       "</div>"
      ],
      "text/plain": [
       "     Name  Age  Department\n",
       "0     Jim   26       Sales\n",
       "1  Dwight   28       Sales\n",
       "2  Angela   27  Accounting\n",
       "3    Tobi   32          HR"
      ]
     },
     "execution_count": 9,
     "metadata": {},
     "output_type": "execute_result"
    }
   ],
   "source": [
    "import pandas as pd\n",
    "\n",
    "# employee data\n",
    "data = {\n",
    "    \"Name\": [\"Jim\", \"Dwight\", \"Angela\", \"Tobi\"],\n",
    "    \"Age\": [26, 28, 27, 32],\n",
    "    \"Department\": [\"Sales\", \"Sales\", \"Accounting\", \"HR\"]\n",
    "}\n",
    "\n",
    "df = pd.DataFrame(data)\n",
    "\n",
    "df\n",
    "\n",
    "# Here, we created a dataframe containing information about some employees in an office. \n",
    "# The dataframe has 4 rows and 3 columns (“Name”, “Age”, and “Department”)."
   ]
  },
  {
   "cell_type": "markdown",
   "id": "ad282771",
   "metadata": {},
   "source": [
    "**Example 1 – Access dataframe cell value using **iat** property**"
   ]
  },
  {
   "cell_type": "code",
   "execution_count": 10,
   "id": "dd7ca1b9",
   "metadata": {},
   "outputs": [
    {
     "data": {
      "text/plain": [
       "'Sales'"
      ]
     },
     "execution_count": 10,
     "metadata": {},
     "output_type": "execute_result"
    }
   ],
   "source": [
    "# Let’s get the department of the employee “Dwight”.\n",
    "\n",
    "# To access a cell value using the iat property, we need to provide its row and column indices. \n",
    "\n",
    "# Note that rows and columns in a Pandas dataframe are indexed starting from 0 by default.\n",
    "\n",
    "# get cell value using row and column indices (integer position)\n",
    "\n",
    "df.iat[1, 2]"
   ]
  },
  {
   "cell_type": "markdown",
   "id": "33ac8990",
   "metadata": {},
   "source": [
    "**Example 2 – Access the dataframe cell value using the at property**"
   ]
  },
  {
   "cell_type": "code",
   "execution_count": 11,
   "id": "f416f056",
   "metadata": {},
   "outputs": [
    {
     "data": {
      "text/plain": [
       "'Sales'"
      ]
     },
     "execution_count": 11,
     "metadata": {},
     "output_type": "execute_result"
    }
   ],
   "source": [
    "# Using the row and column labels with the at property this time.\n",
    "\n",
    "# The column label is the column name itself and since the above dataframe does not have explicitly defined row labels,\n",
    "# we will use its row indices as the row label.\n",
    "\n",
    "# get cell value using row and column labels\n",
    "\n",
    "df.at[1, \"Department\"]\n",
    "\n",
    "# We get the “Department” value in the row 1 (which represents the department of the employee “Dwight”)."
   ]
  },
  {
   "cell_type": "markdown",
   "id": "e0e5e942",
   "metadata": {},
   "source": [
    "###### 2. Using iloc and loc to access a cell value in Pandas dataframe"
   ]
  },
  {
   "cell_type": "markdown",
   "id": "819a7826",
   "metadata": {},
   "source": [
    "- The iloc and loc properties of a Pandas dataframe are used to access<br>\n",
    "  a group of rows and columns,but we can also use them to access the value for a single cell.      "
   ]
  },
  {
   "cell_type": "code",
   "execution_count": 12,
   "id": "672091ab",
   "metadata": {},
   "outputs": [
    {
     "data": {
      "text/plain": [
       "'Sales'"
      ]
     },
     "execution_count": 12,
     "metadata": {},
     "output_type": "execute_result"
    }
   ],
   "source": [
    "# get cell value using row and column indices (integer position)\n",
    "\n",
    "df.iloc[1, 2]\n",
    "\n",
    "# Here, we get the value of the cell represented by row index 1 and column index 2 using the iloc property."
   ]
  },
  {
   "cell_type": "code",
   "execution_count": 13,
   "id": "62cd27dc",
   "metadata": {},
   "outputs": [
    {
     "data": {
      "text/plain": [
       "'Sales'"
      ]
     },
     "execution_count": 13,
     "metadata": {},
     "output_type": "execute_result"
    }
   ],
   "source": [
    "# get cell value using row and column labels\n",
    "\n",
    "df.loc[1, \"Department\"]\n",
    "\n",
    "# Here, we get the value of the cell represented by the row label 1 \n",
    "# and the column label “Department” using the loc property."
   ]
  },
  {
   "cell_type": "code",
   "execution_count": null,
   "id": "3d9d39d5",
   "metadata": {},
   "outputs": [],
   "source": []
  }
 ],
 "metadata": {
  "kernelspec": {
   "display_name": "Python 3 (ipykernel)",
   "language": "python",
   "name": "python3"
  },
  "language_info": {
   "codemirror_mode": {
    "name": "ipython",
    "version": 3
   },
   "file_extension": ".py",
   "mimetype": "text/x-python",
   "name": "python",
   "nbconvert_exporter": "python",
   "pygments_lexer": "ipython3",
   "version": "3.11.2"
  }
 },
 "nbformat": 4,
 "nbformat_minor": 5
}
